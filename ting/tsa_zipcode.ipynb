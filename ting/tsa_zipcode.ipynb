{
 "cells": [
  {
   "cell_type": "markdown",
   "metadata": {},
   "source": [
    "# Libraies and Settings"
   ]
  },
  {
   "cell_type": "code",
   "execution_count": 19,
   "metadata": {},
   "outputs": [],
   "source": [
    "import numpy as np\n",
    "import pandas as pd\n",
    "import matplotlib.pyplot as plt\n",
    "%matplotlib inline\n",
    "import seaborn as sns\n",
    "import statsmodels.api as sm"
   ]
  },
  {
   "cell_type": "markdown",
   "metadata": {},
   "source": [
    "# Import Data"
   ]
  },
  {
   "cell_type": "code",
   "execution_count": 2,
   "metadata": {},
   "outputs": [],
   "source": [
    "raw = pd.read_csv('../data/Zip_Zri_AllHomesPlusMultifamily.csv')\n",
    "raw.columns = raw.columns.str.replace('RegionName', 'zip')"
   ]
  },
  {
   "cell_type": "code",
   "execution_count": 3,
   "metadata": {},
   "outputs": [],
   "source": [
    "region = raw.iloc[:,:7].set_index('zip')"
   ]
  },
  {
   "cell_type": "code",
   "execution_count": 4,
   "metadata": {},
   "outputs": [
    {
     "data": {
      "text/html": [
       "<div>\n",
       "<style scoped>\n",
       "    .dataframe tbody tr th:only-of-type {\n",
       "        vertical-align: middle;\n",
       "    }\n",
       "\n",
       "    .dataframe tbody tr th {\n",
       "        vertical-align: top;\n",
       "    }\n",
       "\n",
       "    .dataframe thead th {\n",
       "        text-align: right;\n",
       "    }\n",
       "</style>\n",
       "<table border=\"1\" class=\"dataframe\">\n",
       "  <thead>\n",
       "    <tr style=\"text-align: right;\">\n",
       "      <th></th>\n",
       "      <th>RegionID</th>\n",
       "      <th>City</th>\n",
       "      <th>State</th>\n",
       "      <th>Metro</th>\n",
       "      <th>CountyName</th>\n",
       "      <th>SizeRank</th>\n",
       "    </tr>\n",
       "    <tr>\n",
       "      <th>zip</th>\n",
       "      <th></th>\n",
       "      <th></th>\n",
       "      <th></th>\n",
       "      <th></th>\n",
       "      <th></th>\n",
       "      <th></th>\n",
       "    </tr>\n",
       "  </thead>\n",
       "  <tbody>\n",
       "    <tr>\n",
       "      <th>10025</th>\n",
       "      <td>61639</td>\n",
       "      <td>New York</td>\n",
       "      <td>NY</td>\n",
       "      <td>New York-Newark-Jersey City</td>\n",
       "      <td>New York County</td>\n",
       "      <td>1</td>\n",
       "    </tr>\n",
       "    <tr>\n",
       "      <th>60657</th>\n",
       "      <td>84654</td>\n",
       "      <td>Chicago</td>\n",
       "      <td>IL</td>\n",
       "      <td>Chicago-Naperville-Elgin</td>\n",
       "      <td>Cook County</td>\n",
       "      <td>2</td>\n",
       "    </tr>\n",
       "    <tr>\n",
       "      <th>10023</th>\n",
       "      <td>61637</td>\n",
       "      <td>New York</td>\n",
       "      <td>NY</td>\n",
       "      <td>New York-Newark-Jersey City</td>\n",
       "      <td>New York County</td>\n",
       "      <td>3</td>\n",
       "    </tr>\n",
       "    <tr>\n",
       "      <th>77494</th>\n",
       "      <td>91982</td>\n",
       "      <td>Katy</td>\n",
       "      <td>TX</td>\n",
       "      <td>Houston-The Woodlands-Sugar Land</td>\n",
       "      <td>Harris County</td>\n",
       "      <td>4</td>\n",
       "    </tr>\n",
       "    <tr>\n",
       "      <th>60614</th>\n",
       "      <td>84616</td>\n",
       "      <td>Chicago</td>\n",
       "      <td>IL</td>\n",
       "      <td>Chicago-Naperville-Elgin</td>\n",
       "      <td>Cook County</td>\n",
       "      <td>5</td>\n",
       "    </tr>\n",
       "    <tr>\n",
       "      <th>...</th>\n",
       "      <td>...</td>\n",
       "      <td>...</td>\n",
       "      <td>...</td>\n",
       "      <td>...</td>\n",
       "      <td>...</td>\n",
       "      <td>...</td>\n",
       "    </tr>\n",
       "    <tr>\n",
       "      <th>26291</th>\n",
       "      <td>68966</td>\n",
       "      <td>Snowshoe</td>\n",
       "      <td>WV</td>\n",
       "      <td>NaN</td>\n",
       "      <td>Pocahontas County</td>\n",
       "      <td>13177</td>\n",
       "    </tr>\n",
       "    <tr>\n",
       "      <th>12720</th>\n",
       "      <td>62697</td>\n",
       "      <td>Bethel</td>\n",
       "      <td>NY</td>\n",
       "      <td>NaN</td>\n",
       "      <td>Sullivan County</td>\n",
       "      <td>13178</td>\n",
       "    </tr>\n",
       "    <tr>\n",
       "      <th>26209</th>\n",
       "      <td>68924</td>\n",
       "      <td>Snowshoe</td>\n",
       "      <td>WV</td>\n",
       "      <td>NaN</td>\n",
       "      <td>Pocahontas County</td>\n",
       "      <td>13179</td>\n",
       "    </tr>\n",
       "    <tr>\n",
       "      <th>41101</th>\n",
       "      <td>75924</td>\n",
       "      <td>Ashland</td>\n",
       "      <td>KY</td>\n",
       "      <td>Huntington-Ashland</td>\n",
       "      <td>Boyd County</td>\n",
       "      <td>13180</td>\n",
       "    </tr>\n",
       "    <tr>\n",
       "      <th>89155</th>\n",
       "      <td>95851</td>\n",
       "      <td>Las Vegas</td>\n",
       "      <td>NV</td>\n",
       "      <td>Las Vegas-Henderson-Paradise</td>\n",
       "      <td>Clark County</td>\n",
       "      <td>13181</td>\n",
       "    </tr>\n",
       "  </tbody>\n",
       "</table>\n",
       "<p>13181 rows × 6 columns</p>\n",
       "</div>"
      ],
      "text/plain": [
       "       RegionID       City State                             Metro  \\\n",
       "zip                                                                  \n",
       "10025     61639   New York    NY       New York-Newark-Jersey City   \n",
       "60657     84654    Chicago    IL          Chicago-Naperville-Elgin   \n",
       "10023     61637   New York    NY       New York-Newark-Jersey City   \n",
       "77494     91982       Katy    TX  Houston-The Woodlands-Sugar Land   \n",
       "60614     84616    Chicago    IL          Chicago-Naperville-Elgin   \n",
       "...         ...        ...   ...                               ...   \n",
       "26291     68966   Snowshoe    WV                               NaN   \n",
       "12720     62697     Bethel    NY                               NaN   \n",
       "26209     68924   Snowshoe    WV                               NaN   \n",
       "41101     75924    Ashland    KY                Huntington-Ashland   \n",
       "89155     95851  Las Vegas    NV      Las Vegas-Henderson-Paradise   \n",
       "\n",
       "              CountyName  SizeRank  \n",
       "zip                                 \n",
       "10025    New York County         1  \n",
       "60657        Cook County         2  \n",
       "10023    New York County         3  \n",
       "77494      Harris County         4  \n",
       "60614        Cook County         5  \n",
       "...                  ...       ...  \n",
       "26291  Pocahontas County     13177  \n",
       "12720    Sullivan County     13178  \n",
       "26209  Pocahontas County     13179  \n",
       "41101        Boyd County     13180  \n",
       "89155       Clark County     13181  \n",
       "\n",
       "[13181 rows x 6 columns]"
      ]
     },
     "execution_count": 4,
     "metadata": {},
     "output_type": "execute_result"
    }
   ],
   "source": [
    "region"
   ]
  },
  {
   "cell_type": "code",
   "execution_count": 5,
   "metadata": {},
   "outputs": [],
   "source": [
    "data = pd.concat([raw['zip'],raw.iloc[:,11:-1]],axis=1).set_index('zip')"
   ]
  },
  {
   "cell_type": "markdown",
   "metadata": {},
   "source": [
    "# Data Cleaning"
   ]
  },
  {
   "cell_type": "code",
   "execution_count": 6,
   "metadata": {},
   "outputs": [
    {
     "ename": "ModuleNotFoundError",
     "evalue": "No module named 'numpy.core._multiarray_umath'",
     "output_type": "error",
     "traceback": [
      "\u001b[0;31m---------------------------------------------------------------------------\u001b[0m",
      "\u001b[0;31mModuleNotFoundError\u001b[0m                       Traceback (most recent call last)",
      "\u001b[0;31mModuleNotFoundError\u001b[0m: No module named 'numpy.core._multiarray_umath'"
     ]
    },
    {
     "data": {
      "text/plain": [
       "<matplotlib.axes._subplots.AxesSubplot at 0x1234fb610>"
      ]
     },
     "execution_count": 6,
     "metadata": {},
     "output_type": "execute_result"
    },
    {
     "data": {
      "image/png": "[encoded data removed]",
      "text/plain": [
       "<Figure size 432x288 with 1 Axes>"
      ]
     },
     "metadata": {
      "needs_background": "light"
     },
     "output_type": "display_data"
    }
   ],
   "source": [
    "sns.heatmap(data.isnull(), cbar=False)"
   ]
  },
  {
   "cell_type": "code",
   "execution_count": 7,
   "metadata": {},
   "outputs": [
    {
     "data": {
      "text/plain": [
       "<matplotlib.collections.PathCollection at 0x11fc65d50>"
      ]
     },
     "execution_count": 7,
     "metadata": {},
     "output_type": "execute_result"
    },
    {
     "data": {
      "image/png": "[encoded data removed]",
      "text/plain": [
       "<Figure size 432x288 with 1 Axes>"
      ]
     },
     "metadata": {
      "needs_background": "light"
     },
     "output_type": "display_data"
    }
   ],
   "source": [
    "missingness = [np.mean(data.isna().sum(axis=1) < i) for i in range(12*9+1)]\n",
    "plt.scatter(range(12*9+1),missingness)"
   ]
  },
  {
   "cell_type": "code",
   "execution_count": 8,
   "metadata": {},
   "outputs": [],
   "source": [
    "data = data[data.isna().sum(axis=1) < 20]"
   ]
  },
  {
   "cell_type": "markdown",
   "metadata": {},
   "source": [
    "# Train/Test Split"
   ]
  },
  {
   "cell_type": "code",
   "execution_count": 9,
   "metadata": {},
   "outputs": [],
   "source": [
    "train = data.iloc[:,:-12]\n",
    "test = data.iloc[:,-12:]"
   ]
  },
  {
   "cell_type": "markdown",
   "metadata": {},
   "source": [
    "# Impute"
   ]
  },
  {
   "cell_type": "code",
   "execution_count": 10,
   "metadata": {},
   "outputs": [],
   "source": [
    "train = train.interpolate(method='linear',limit_direction='both', axis=1)\n",
    "test = test.interpolate(method='linear',limit_direction='both', axis=1)"
   ]
  },
  {
   "cell_type": "markdown",
   "metadata": {},
   "source": [
    "# Build a Time Series Model for Each Zip Code"
   ]
  },
  {
   "cell_type": "code",
   "execution_count": 91,
   "metadata": {
    "scrolled": true
   },
   "outputs": [],
   "source": [
    "# one = train.iloc[0,:]\n",
    "# mod = sm.tsa.statespace.SARIMAX(one, order=(1,1,0), seasonal_order=(1,1,0,12),freq='MS')\n",
    "# %time res = mod.fit(disp=False)\n",
    "# # print(res.summary())\n",
    "# print(res.arparams[0])\n",
    "# print(res.seasonalarparams[0])\n",
    "# print(res.pvalues[:2])"
   ]
  },
  {
   "cell_type": "code",
   "execution_count": 67,
   "metadata": {},
   "outputs": [],
   "source": [
    "stat = pd.DataFrame(np.zeros(shape=(train.shape[0],4)),index=train.index,columns=['ar','p(ar)','s','p(s)'])\n",
    "predict = pd.DataFrame(np.zeros(shape=(train.shape[0],12)),index=train.index,columns=[str(i) for i in range(1,13)])"
   ]
  },
  {
   "cell_type": "code",
   "execution_count": 161,
   "metadata": {
    "scrolled": true
   },
   "outputs": [],
   "source": [
    "# About 40 minutes\n",
    "import warnings\n",
    "warnings.filterwarnings('ignore')\n",
    "nzip = train.shape[0]\n",
    "for i in range(nzip):\n",
    "    one = train.iloc[i,:]\n",
    "    mod = sm.tsa.statespace.SARIMAX(one, order=(1,1,0), seasonal_order=(1,1,0,12),freq='MS')\n",
    "    res = mod.fit(disp=False)\n",
    "    stat.iloc[i,:] = [res.arparams[0],res.pvalues[0],res.seasonalarparams[0],res.pvalues[1]]\n",
    "    predict.iloc[i,:] = res.predict('2019-01','2019-12').to_list()\n",
    "#     print(i,' out of ', nzip)\n",
    "#     print(stat.iloc[i,:])\n",
    "#     print(predict.iloc[i,:])"
   ]
  },
  {
   "cell_type": "code",
   "execution_count": 174,
   "metadata": {},
   "outputs": [],
   "source": [
    "pe = pd.DataFrame(np.zeros(shape=(train.shape[0],1)),index=train.index,columns=['Percentage Error'])\n",
    "for i in range(nzip):\n",
    "    testone = test.iloc[i,:].to_numpy()\n",
    "    predictone = predict.iloc[i,:].to_numpy()\n",
    "    pe.iloc[i,:] = np.sum(abs(predictone-testone)/testone)/12."
   ]
  },
  {
   "cell_type": "code",
   "execution_count": 175,
   "metadata": {
    "scrolled": true
   },
   "outputs": [
    {
     "data": {
      "text/plain": [
       "array([[<matplotlib.axes._subplots.AxesSubplot object at 0x144dba3d0>]],\n",
       "      dtype=object)"
      ]
     },
     "execution_count": 175,
     "metadata": {},
     "output_type": "execute_result"
    },
    {
     "data": {
      "image/png": "[encoded data removed]",
      "text/plain": [
       "<Figure size 432x288 with 1 Axes>"
      ]
     },
     "metadata": {
      "needs_background": "light"
     },
     "output_type": "display_data"
    }
   ],
   "source": [
    "pe.hist(bins=100)"
   ]
  },
  {
   "cell_type": "code",
   "execution_count": 176,
   "metadata": {},
   "outputs": [
    {
     "data": {
      "text/plain": [
       "Percentage Error    0.031226\n",
       "dtype: float64"
      ]
     },
     "execution_count": 176,
     "metadata": {},
     "output_type": "execute_result"
    }
   ],
   "source": [
    "np.mean(pe)"
   ]
  },
  {
   "cell_type": "code",
   "execution_count": 164,
   "metadata": {},
   "outputs": [
    {
     "data": {
      "text/plain": [
       "<matplotlib.axes._subplots.AxesSubplot at 0x132457dd0>"
      ]
     },
     "execution_count": 164,
     "metadata": {},
     "output_type": "execute_result"
    },
    {
     "data": {
      "image/png": "[encoded data removed]",
      "text/plain": [
       "<Figure size 1000x300 with 2 Axes>"
      ]
     },
     "metadata": {
      "needs_background": "light"
     },
     "output_type": "display_data"
    }
   ],
   "source": [
    "fig, axes = plt.subplots(1, 2, figsize=(10,3), dpi=100)\n",
    "stat['ar'].hist(bins=100,ax=axes[0])\n",
    "stat['s'].hist(bins=100,ax=axes[1])"
   ]
  },
  {
   "cell_type": "code",
   "execution_count": 184,
   "metadata": {},
   "outputs": [
    {
     "data": {
      "text/plain": [
       "Text(0.5, 1.0, 'Seasonal Autoregression')"
      ]
     },
     "execution_count": 184,
     "metadata": {},
     "output_type": "execute_result"
    },
    {
     "data": {
      "image/png": "[encoded data removed]",
      "text/plain": [
       "<Figure size 576x288 with 1 Axes>"
      ]
     },
     "metadata": {
      "needs_background": "light"
     },
     "output_type": "display_data"
    }
   ],
   "source": [
    "plt.figure(figsize=(8,4))\n",
    "plt.scatter(test.mean(axis=1),predict.mean(axis=1)-test.mean(axis=1))\n",
    "plt.xlabel('Zillow Rent Index in 2019')\n",
    "plt.ylabel('Residual')\n",
    "plt.title('Seasonal Autoregression')"
   ]
  },
  {
   "cell_type": "code",
   "execution_count": 201,
   "metadata": {
    "scrolled": true
   },
   "outputs": [
    {
     "data": {
      "text/plain": [
       "Text(0.5, 1.0, 'Seasonal Autoregression')"
      ]
     },
     "execution_count": 201,
     "metadata": {},
     "output_type": "execute_result"
    },
    {
     "data": {
      "image/png": "[encoded data removed]",
      "text/plain": [
       "<Figure size 576x288 with 1 Axes>"
      ]
     },
     "metadata": {
      "needs_background": "light"
     },
     "output_type": "display_data"
    }
   ],
   "source": [
    "plt.figure(figsize=(8,4))\n",
    "plt.scatter(test.mean(axis=1),pe)\n",
    "plt.xlabel('Zillow Rent Index in 2019')\n",
    "plt.ylabel('Mean Percentage Error')\n",
    "plt.title('Seasonal Autoregression')"
   ]
  },
  {
   "cell_type": "code",
   "execution_count": 208,
   "metadata": {},
   "outputs": [],
   "source": [
    "res = pd.concat([test.mean(axis=1),predict.mean(axis=1),pe],axis=1)\n",
    "res.columns = ['ZRI','Predict','Percentage Error']"
   ]
  },
  {
   "cell_type": "code",
   "execution_count": 213,
   "metadata": {},
   "outputs": [],
   "source": [
    "outlier = pe['Percentage Error'] > 0.2"
   ]
  },
  {
   "cell_type": "code",
   "execution_count": 214,
   "metadata": {},
   "outputs": [
    {
     "data": {
      "text/html": [
       "<div>\n",
       "<style scoped>\n",
       "    .dataframe tbody tr th:only-of-type {\n",
       "        vertical-align: middle;\n",
       "    }\n",
       "\n",
       "    .dataframe tbody tr th {\n",
       "        vertical-align: top;\n",
       "    }\n",
       "\n",
       "    .dataframe thead th {\n",
       "        text-align: right;\n",
       "    }\n",
       "</style>\n",
       "<table border=\"1\" class=\"dataframe\">\n",
       "  <thead>\n",
       "    <tr style=\"text-align: right;\">\n",
       "      <th></th>\n",
       "      <th>RegionID</th>\n",
       "      <th>City</th>\n",
       "      <th>State</th>\n",
       "      <th>Metro</th>\n",
       "      <th>CountyName</th>\n",
       "      <th>SizeRank</th>\n",
       "      <th>ZRI</th>\n",
       "      <th>Predict</th>\n",
       "      <th>Percentage Error</th>\n",
       "    </tr>\n",
       "    <tr>\n",
       "      <th>zip</th>\n",
       "      <th></th>\n",
       "      <th></th>\n",
       "      <th></th>\n",
       "      <th></th>\n",
       "      <th></th>\n",
       "      <th></th>\n",
       "      <th></th>\n",
       "      <th></th>\n",
       "      <th></th>\n",
       "    </tr>\n",
       "  </thead>\n",
       "  <tbody>\n",
       "    <tr>\n",
       "      <th>7738</th>\n",
       "      <td>60784</td>\n",
       "      <td>Middletown Township</td>\n",
       "      <td>NJ</td>\n",
       "      <td>New York-Newark-Jersey City</td>\n",
       "      <td>Monmouth County</td>\n",
       "      <td>10634</td>\n",
       "      <td>2639.750000</td>\n",
       "      <td>2094.778005</td>\n",
       "      <td>0.206001</td>\n",
       "    </tr>\n",
       "    <tr>\n",
       "      <th>66064</th>\n",
       "      <td>87076</td>\n",
       "      <td>Osawatomie</td>\n",
       "      <td>KS</td>\n",
       "      <td>Kansas City</td>\n",
       "      <td>Miami County</td>\n",
       "      <td>10786</td>\n",
       "      <td>819.833333</td>\n",
       "      <td>991.145812</td>\n",
       "      <td>0.209110</td>\n",
       "    </tr>\n",
       "    <tr>\n",
       "      <th>27557</th>\n",
       "      <td>69410</td>\n",
       "      <td>Middlesex</td>\n",
       "      <td>NC</td>\n",
       "      <td>Rocky Mount</td>\n",
       "      <td>Nash County</td>\n",
       "      <td>9502</td>\n",
       "      <td>906.083333</td>\n",
       "      <td>1098.555957</td>\n",
       "      <td>0.212178</td>\n",
       "    </tr>\n",
       "    <tr>\n",
       "      <th>49097</th>\n",
       "      <td>79583</td>\n",
       "      <td>Vicksburg</td>\n",
       "      <td>MI</td>\n",
       "      <td>Kalamazoo-Portage</td>\n",
       "      <td>Kalamazoo County</td>\n",
       "      <td>8277</td>\n",
       "      <td>924.000000</td>\n",
       "      <td>1117.588140</td>\n",
       "      <td>0.212179</td>\n",
       "    </tr>\n",
       "    <tr>\n",
       "      <th>46952</th>\n",
       "      <td>78364</td>\n",
       "      <td>Marion</td>\n",
       "      <td>IN</td>\n",
       "      <td>Marion</td>\n",
       "      <td>Grant County</td>\n",
       "      <td>5036</td>\n",
       "      <td>725.541667</td>\n",
       "      <td>894.347661</td>\n",
       "      <td>0.239449</td>\n",
       "    </tr>\n",
       "    <tr>\n",
       "      <th>12828</th>\n",
       "      <td>62775</td>\n",
       "      <td>Town of Fort Edward</td>\n",
       "      <td>NY</td>\n",
       "      <td>Glens Falls</td>\n",
       "      <td>Washington County</td>\n",
       "      <td>8689</td>\n",
       "      <td>1283.416667</td>\n",
       "      <td>1606.695055</td>\n",
       "      <td>0.252379</td>\n",
       "    </tr>\n",
       "    <tr>\n",
       "      <th>85365</th>\n",
       "      <td>94941</td>\n",
       "      <td>Yuma</td>\n",
       "      <td>AZ</td>\n",
       "      <td>Yuma</td>\n",
       "      <td>Yuma County</td>\n",
       "      <td>1051</td>\n",
       "      <td>976.666667</td>\n",
       "      <td>708.606252</td>\n",
       "      <td>0.274175</td>\n",
       "    </tr>\n",
       "    <tr>\n",
       "      <th>36323</th>\n",
       "      <td>73832</td>\n",
       "      <td>Elba</td>\n",
       "      <td>AL</td>\n",
       "      <td>Enterprise</td>\n",
       "      <td>Coffee County</td>\n",
       "      <td>9633</td>\n",
       "      <td>947.458333</td>\n",
       "      <td>1217.674966</td>\n",
       "      <td>0.286714</td>\n",
       "    </tr>\n",
       "    <tr>\n",
       "      <th>80238</th>\n",
       "      <td>93314</td>\n",
       "      <td>Denver</td>\n",
       "      <td>CO</td>\n",
       "      <td>Denver-Aurora-Lakewood</td>\n",
       "      <td>Denver County</td>\n",
       "      <td>4711</td>\n",
       "      <td>2109.833333</td>\n",
       "      <td>1479.624076</td>\n",
       "      <td>0.298668</td>\n",
       "    </tr>\n",
       "    <tr>\n",
       "      <th>85364</th>\n",
       "      <td>94940</td>\n",
       "      <td>Yuma</td>\n",
       "      <td>AZ</td>\n",
       "      <td>Yuma</td>\n",
       "      <td>Yuma County</td>\n",
       "      <td>159</td>\n",
       "      <td>909.666667</td>\n",
       "      <td>637.511203</td>\n",
       "      <td>0.299017</td>\n",
       "    </tr>\n",
       "    <tr>\n",
       "      <th>16242</th>\n",
       "      <td>64513</td>\n",
       "      <td>Mahoning Township</td>\n",
       "      <td>PA</td>\n",
       "      <td>Pittsburgh</td>\n",
       "      <td>Armstrong County</td>\n",
       "      <td>11350</td>\n",
       "      <td>782.916667</td>\n",
       "      <td>1017.017442</td>\n",
       "      <td>0.302980</td>\n",
       "    </tr>\n",
       "    <tr>\n",
       "      <th>85350</th>\n",
       "      <td>94926</td>\n",
       "      <td>Somerton</td>\n",
       "      <td>AZ</td>\n",
       "      <td>Yuma</td>\n",
       "      <td>Yuma County</td>\n",
       "      <td>7394</td>\n",
       "      <td>874.416667</td>\n",
       "      <td>608.747466</td>\n",
       "      <td>0.303598</td>\n",
       "    </tr>\n",
       "    <tr>\n",
       "      <th>46989</th>\n",
       "      <td>78389</td>\n",
       "      <td>Upland</td>\n",
       "      <td>IN</td>\n",
       "      <td>Marion</td>\n",
       "      <td>Grant County</td>\n",
       "      <td>12424</td>\n",
       "      <td>739.750000</td>\n",
       "      <td>960.909257</td>\n",
       "      <td>0.304885</td>\n",
       "    </tr>\n",
       "    <tr>\n",
       "      <th>35674</th>\n",
       "      <td>73576</td>\n",
       "      <td>Tuscumbia</td>\n",
       "      <td>AL</td>\n",
       "      <td>Florence-Muscle Shoals</td>\n",
       "      <td>Colbert County</td>\n",
       "      <td>5238</td>\n",
       "      <td>832.750000</td>\n",
       "      <td>554.570025</td>\n",
       "      <td>0.334040</td>\n",
       "    </tr>\n",
       "    <tr>\n",
       "      <th>12809</th>\n",
       "      <td>62760</td>\n",
       "      <td>Town of Argyle</td>\n",
       "      <td>NY</td>\n",
       "      <td>Glens Falls</td>\n",
       "      <td>Washington County</td>\n",
       "      <td>12285</td>\n",
       "      <td>1320.958333</td>\n",
       "      <td>1789.115861</td>\n",
       "      <td>0.357015</td>\n",
       "    </tr>\n",
       "    <tr>\n",
       "      <th>11934</th>\n",
       "      <td>62285</td>\n",
       "      <td>Center Moriches</td>\n",
       "      <td>NY</td>\n",
       "      <td>New York-Newark-Jersey City</td>\n",
       "      <td>Suffolk County</td>\n",
       "      <td>9829</td>\n",
       "      <td>2457.000000</td>\n",
       "      <td>3410.495187</td>\n",
       "      <td>0.388073</td>\n",
       "    </tr>\n",
       "  </tbody>\n",
       "</table>\n",
       "</div>"
      ],
      "text/plain": [
       "       RegionID                 City State                        Metro  \\\n",
       "zip                                                                       \n",
       "7738      60784  Middletown Township    NJ  New York-Newark-Jersey City   \n",
       "66064     87076           Osawatomie    KS                  Kansas City   \n",
       "27557     69410            Middlesex    NC                  Rocky Mount   \n",
       "49097     79583            Vicksburg    MI            Kalamazoo-Portage   \n",
       "46952     78364               Marion    IN                       Marion   \n",
       "12828     62775  Town of Fort Edward    NY                  Glens Falls   \n",
       "85365     94941                 Yuma    AZ                         Yuma   \n",
       "36323     73832                 Elba    AL                   Enterprise   \n",
       "80238     93314               Denver    CO       Denver-Aurora-Lakewood   \n",
       "85364     94940                 Yuma    AZ                         Yuma   \n",
       "16242     64513    Mahoning Township    PA                   Pittsburgh   \n",
       "85350     94926             Somerton    AZ                         Yuma   \n",
       "46989     78389               Upland    IN                       Marion   \n",
       "35674     73576            Tuscumbia    AL       Florence-Muscle Shoals   \n",
       "12809     62760       Town of Argyle    NY                  Glens Falls   \n",
       "11934     62285      Center Moriches    NY  New York-Newark-Jersey City   \n",
       "\n",
       "              CountyName  SizeRank          ZRI      Predict  Percentage Error  \n",
       "zip                                                                             \n",
       "7738     Monmouth County     10634  2639.750000  2094.778005          0.206001  \n",
       "66064       Miami County     10786   819.833333   991.145812          0.209110  \n",
       "27557        Nash County      9502   906.083333  1098.555957          0.212178  \n",
       "49097   Kalamazoo County      8277   924.000000  1117.588140          0.212179  \n",
       "46952       Grant County      5036   725.541667   894.347661          0.239449  \n",
       "12828  Washington County      8689  1283.416667  1606.695055          0.252379  \n",
       "85365        Yuma County      1051   976.666667   708.606252          0.274175  \n",
       "36323      Coffee County      9633   947.458333  1217.674966          0.286714  \n",
       "80238      Denver County      4711  2109.833333  1479.624076          0.298668  \n",
       "85364        Yuma County       159   909.666667   637.511203          0.299017  \n",
       "16242   Armstrong County     11350   782.916667  1017.017442          0.302980  \n",
       "85350        Yuma County      7394   874.416667   608.747466          0.303598  \n",
       "46989       Grant County     12424   739.750000   960.909257          0.304885  \n",
       "35674     Colbert County      5238   832.750000   554.570025          0.334040  \n",
       "12809  Washington County     12285  1320.958333  1789.115861          0.357015  \n",
       "11934     Suffolk County      9829  2457.000000  3410.495187          0.388073  "
      ]
     },
     "execution_count": 214,
     "metadata": {},
     "output_type": "execute_result"
    }
   ],
   "source": [
    "region.merge(res[outlier],on='zip').sort_values('Percentage Error')"
   ]
  },
  {
   "cell_type": "code",
   "execution_count": 218,
   "metadata": {},
   "outputs": [],
   "source": [
    "# train[outlier].T.plot(figsize=(12,12))"
   ]
  },
  {
   "cell_type": "code",
   "execution_count": null,
   "metadata": {},
   "outputs": [],
   "source": []
  }
 ],
 "metadata": {
  "kernelspec": {
   "display_name": "Python 3",
   "language": "python",
   "name": "python3"
  },
  "language_info": {
   "codemirror_mode": {
    "name": "ipython",
    "version": 3
   },
   "file_extension": ".py",
   "mimetype": "text/x-python",
   "name": "python",
   "nbconvert_exporter": "python",
   "pygments_lexer": "ipython3",
   "version": "3.7.6"
  }
 },
 "nbformat": 4,
 "nbformat_minor": 4
}
