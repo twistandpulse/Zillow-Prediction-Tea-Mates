{
 "cells": [
  {
   "cell_type": "markdown",
   "metadata": {},
   "source": [
    "### Imputing and Cleaning Zillow Rent Index Table"
   ]
  },
  {
   "cell_type": "code",
   "execution_count": 182,
   "metadata": {},
   "outputs": [],
   "source": [
    "import pandas as pd\n",
    "import numpy as np\n",
    "from matplotlib import pyplot as plt\n",
    "%matplotlib inline\n",
    "import seaborn as sns\n",
    "import re"
   ]
  },
  {
   "cell_type": "code",
   "execution_count": 183,
   "metadata": {},
   "outputs": [],
   "source": [
    "x2011 = pd.read_csv('zip_codes_2011.csv').drop(['do_date'], axis = 1).dropna(how = 'all', axis = 1)\n",
    "x2012 = pd.read_csv('zip_codes_2012.csv').drop(['do_date'], axis = 1).dropna(how = 'all', axis = 1)\n",
    "x2013 = pd.read_csv('zip_codes_2013.csv').drop(['do_date'], axis = 1).dropna(how = 'all', axis = 1)\n",
    "x2014 = pd.read_csv('zip_codes_2014.csv').drop(['do_date'], axis = 1).dropna(how = 'all', axis = 1)\n",
    "x2015 = pd.read_csv('zip_codes_2015.csv').drop(['do_date'], axis = 1).dropna(how = 'all', axis = 1)\n",
    "x2016 = pd.read_csv('zip_codes_2016.csv').drop(['do_date'], axis = 1).dropna(how = 'all', axis = 1)\n",
    "x2017 = pd.read_csv('zip_codes_2017.csv').drop(['do_date'], axis = 1).dropna(how = 'all', axis = 1)\n",
    "\n",
    "x2011.columns = x2011.columns.str.replace('geo_id', 'zip')\n",
    "x2012.columns = x2012.columns.str.replace('geo_id', 'zip')\n",
    "x2013.columns = x2013.columns.str.replace('geo_id', 'zip')\n",
    "x2014.columns = x2014.columns.str.replace('geo_id', 'zip')\n",
    "x2015.columns = x2015.columns.str.replace('geo_id', 'zip')\n",
    "x2016.columns = x2016.columns.str.replace('geo_id', 'zip')\n",
    "x2017.columns = x2017.columns.str.replace('geo_id', 'zip')"
   ]
  },
  {
   "cell_type": "markdown",
   "metadata": {},
   "source": [
    "# Select only the columns that appear in all years"
   ]
  },
  {
   "cell_type": "code",
   "execution_count": 184,
   "metadata": {},
   "outputs": [],
   "source": [
    "mutual_columns = set(x2011.columns).intersection(set(x2012.columns)).intersection(set(x2013.columns)).\\\n",
    "intersection(set(x2014.columns)).intersection(set(x2015.columns)).intersection(set(x2016.columns)).\\\n",
    "intersection(set(x2017.columns))"
   ]
  },
  {
   "cell_type": "code",
   "execution_count": 185,
   "metadata": {},
   "outputs": [],
   "source": [
    "x2011 = x2011[mutual_columns]\n",
    "x2012 = x2012[mutual_columns]\n",
    "x2013 = x2013[mutual_columns]\n",
    "x2014 = x2014[mutual_columns]\n",
    "x2015 = x2015[mutual_columns]\n",
    "x2016 = x2016[mutual_columns]\n",
    "x2017 = x2017[mutual_columns]"
   ]
  },
  {
   "cell_type": "markdown",
   "metadata": {},
   "source": [
    "# Join years 2011-2017 into one dataframe"
   ]
  },
  {
   "cell_type": "code",
   "execution_count": 186,
   "metadata": {},
   "outputs": [
    {
     "data": {
      "text/html": [
       "<div>\n",
       "<style scoped>\n",
       "    .dataframe tbody tr th:only-of-type {\n",
       "        vertical-align: middle;\n",
       "    }\n",
       "\n",
       "    .dataframe tbody tr th {\n",
       "        vertical-align: top;\n",
       "    }\n",
       "\n",
       "    .dataframe thead th {\n",
       "        text-align: right;\n",
       "    }\n",
       "</style>\n",
       "<table border=\"1\" class=\"dataframe\">\n",
       "  <thead>\n",
       "    <tr style=\"text-align: right;\">\n",
       "      <th></th>\n",
       "      <th>two_parents_mother_in_labor_force_families_with_young_children_2011</th>\n",
       "      <th>family_households_2011</th>\n",
       "      <th>commuters_drove_alone_2011</th>\n",
       "      <th>in_grades_1_to_4_2011</th>\n",
       "      <th>income_45000_49999_2011</th>\n",
       "      <th>income_50000_59999_2011</th>\n",
       "      <th>vacant_housing_units_for_sale_2011</th>\n",
       "      <th>male_21_2011</th>\n",
       "      <th>male_45_64_less_than_9_grade_2011</th>\n",
       "      <th>mortgaged_housing_units_2011</th>\n",
       "      <th>...</th>\n",
       "      <th>male_22_to_24_2016</th>\n",
       "      <th>graduate_professional_degree_2016</th>\n",
       "      <th>rent_burden_not_computed_2016</th>\n",
       "      <th>rent_under_10_percent_2016</th>\n",
       "      <th>unemployed_pop_2016</th>\n",
       "      <th>occupation_natural_resources_construction_maintenance_2016</th>\n",
       "      <th>mobile_homes_2016</th>\n",
       "      <th>male_45_64_high_school_2016</th>\n",
       "      <th>female_30_to_34_2016</th>\n",
       "      <th>income_less_10000_2016</th>\n",
       "    </tr>\n",
       "    <tr>\n",
       "      <th>zip</th>\n",
       "      <th></th>\n",
       "      <th></th>\n",
       "      <th></th>\n",
       "      <th></th>\n",
       "      <th></th>\n",
       "      <th></th>\n",
       "      <th></th>\n",
       "      <th></th>\n",
       "      <th></th>\n",
       "      <th></th>\n",
       "      <th></th>\n",
       "      <th></th>\n",
       "      <th></th>\n",
       "      <th></th>\n",
       "      <th></th>\n",
       "      <th></th>\n",
       "      <th></th>\n",
       "      <th></th>\n",
       "      <th></th>\n",
       "      <th></th>\n",
       "      <th></th>\n",
       "    </tr>\n",
       "  </thead>\n",
       "  <tbody>\n",
       "    <tr>\n",
       "      <td>99363</td>\n",
       "      <td>0</td>\n",
       "      <td>0</td>\n",
       "      <td>0</td>\n",
       "      <td>0</td>\n",
       "      <td>0</td>\n",
       "      <td>0</td>\n",
       "      <td>0</td>\n",
       "      <td>0</td>\n",
       "      <td>0</td>\n",
       "      <td>0</td>\n",
       "      <td>...</td>\n",
       "      <td>0</td>\n",
       "      <td>0.0</td>\n",
       "      <td>0</td>\n",
       "      <td>0</td>\n",
       "      <td>26</td>\n",
       "      <td>29</td>\n",
       "      <td>11</td>\n",
       "      <td>0</td>\n",
       "      <td>26</td>\n",
       "      <td>0</td>\n",
       "    </tr>\n",
       "    <tr>\n",
       "      <td>14881</td>\n",
       "      <td>0</td>\n",
       "      <td>0</td>\n",
       "      <td>0</td>\n",
       "      <td>0</td>\n",
       "      <td>0</td>\n",
       "      <td>0</td>\n",
       "      <td>0</td>\n",
       "      <td>0</td>\n",
       "      <td>0</td>\n",
       "      <td>0</td>\n",
       "      <td>...</td>\n",
       "      <td>0</td>\n",
       "      <td>14.0</td>\n",
       "      <td>0</td>\n",
       "      <td>0</td>\n",
       "      <td>23</td>\n",
       "      <td>0</td>\n",
       "      <td>77</td>\n",
       "      <td>0</td>\n",
       "      <td>0</td>\n",
       "      <td>0</td>\n",
       "    </tr>\n",
       "    <tr>\n",
       "      <td>91046</td>\n",
       "      <td>0</td>\n",
       "      <td>15</td>\n",
       "      <td>0</td>\n",
       "      <td>0</td>\n",
       "      <td>0</td>\n",
       "      <td>0</td>\n",
       "      <td>0</td>\n",
       "      <td>0</td>\n",
       "      <td>0</td>\n",
       "      <td>0</td>\n",
       "      <td>...</td>\n",
       "      <td>0</td>\n",
       "      <td>0.0</td>\n",
       "      <td>0</td>\n",
       "      <td>0</td>\n",
       "      <td>0</td>\n",
       "      <td>0</td>\n",
       "      <td>0</td>\n",
       "      <td>0</td>\n",
       "      <td>0</td>\n",
       "      <td>0</td>\n",
       "    </tr>\n",
       "    <tr>\n",
       "      <td>35052</td>\n",
       "      <td>0</td>\n",
       "      <td>0</td>\n",
       "      <td>0</td>\n",
       "      <td>0</td>\n",
       "      <td>0</td>\n",
       "      <td>0</td>\n",
       "      <td>0</td>\n",
       "      <td>0</td>\n",
       "      <td>0</td>\n",
       "      <td>0</td>\n",
       "      <td>...</td>\n",
       "      <td>0</td>\n",
       "      <td>7.0</td>\n",
       "      <td>0</td>\n",
       "      <td>0</td>\n",
       "      <td>0</td>\n",
       "      <td>0</td>\n",
       "      <td>0</td>\n",
       "      <td>0</td>\n",
       "      <td>0</td>\n",
       "      <td>0</td>\n",
       "    </tr>\n",
       "    <tr>\n",
       "      <td>20317</td>\n",
       "      <td>0</td>\n",
       "      <td>0</td>\n",
       "      <td>0</td>\n",
       "      <td>0</td>\n",
       "      <td>0</td>\n",
       "      <td>13</td>\n",
       "      <td>0</td>\n",
       "      <td>0</td>\n",
       "      <td>0</td>\n",
       "      <td>0</td>\n",
       "      <td>...</td>\n",
       "      <td>0</td>\n",
       "      <td>92.0</td>\n",
       "      <td>27</td>\n",
       "      <td>29</td>\n",
       "      <td>0</td>\n",
       "      <td>0</td>\n",
       "      <td>0</td>\n",
       "      <td>5</td>\n",
       "      <td>0</td>\n",
       "      <td>81</td>\n",
       "    </tr>\n",
       "  </tbody>\n",
       "</table>\n",
       "<p>5 rows × 1398 columns</p>\n",
       "</div>"
      ],
      "text/plain": [
       "       two_parents_mother_in_labor_force_families_with_young_children_2011  \\\n",
       "zip                                                                          \n",
       "99363                                                  0                     \n",
       "14881                                                  0                     \n",
       "91046                                                  0                     \n",
       "35052                                                  0                     \n",
       "20317                                                  0                     \n",
       "\n",
       "       family_households_2011  commuters_drove_alone_2011  \\\n",
       "zip                                                         \n",
       "99363                       0                           0   \n",
       "14881                       0                           0   \n",
       "91046                      15                           0   \n",
       "35052                       0                           0   \n",
       "20317                       0                           0   \n",
       "\n",
       "       in_grades_1_to_4_2011  income_45000_49999_2011  \\\n",
       "zip                                                     \n",
       "99363                      0                        0   \n",
       "14881                      0                        0   \n",
       "91046                      0                        0   \n",
       "35052                      0                        0   \n",
       "20317                      0                        0   \n",
       "\n",
       "       income_50000_59999_2011  vacant_housing_units_for_sale_2011  \\\n",
       "zip                                                                  \n",
       "99363                        0                                   0   \n",
       "14881                        0                                   0   \n",
       "91046                        0                                   0   \n",
       "35052                        0                                   0   \n",
       "20317                       13                                   0   \n",
       "\n",
       "       male_21_2011  male_45_64_less_than_9_grade_2011  \\\n",
       "zip                                                      \n",
       "99363             0                                  0   \n",
       "14881             0                                  0   \n",
       "91046             0                                  0   \n",
       "35052             0                                  0   \n",
       "20317             0                                  0   \n",
       "\n",
       "       mortgaged_housing_units_2011  ...  male_22_to_24_2016  \\\n",
       "zip                                  ...                       \n",
       "99363                             0  ...                   0   \n",
       "14881                             0  ...                   0   \n",
       "91046                             0  ...                   0   \n",
       "35052                             0  ...                   0   \n",
       "20317                             0  ...                   0   \n",
       "\n",
       "       graduate_professional_degree_2016  rent_burden_not_computed_2016  \\\n",
       "zip                                                                       \n",
       "99363                                0.0                              0   \n",
       "14881                               14.0                              0   \n",
       "91046                                0.0                              0   \n",
       "35052                                7.0                              0   \n",
       "20317                               92.0                             27   \n",
       "\n",
       "       rent_under_10_percent_2016  unemployed_pop_2016  \\\n",
       "zip                                                      \n",
       "99363                           0                   26   \n",
       "14881                           0                   23   \n",
       "91046                           0                    0   \n",
       "35052                           0                    0   \n",
       "20317                          29                    0   \n",
       "\n",
       "       occupation_natural_resources_construction_maintenance_2016  \\\n",
       "zip                                                                 \n",
       "99363                                                 29            \n",
       "14881                                                  0            \n",
       "91046                                                  0            \n",
       "35052                                                  0            \n",
       "20317                                                  0            \n",
       "\n",
       "       mobile_homes_2016  male_45_64_high_school_2016  female_30_to_34_2016  \\\n",
       "zip                                                                           \n",
       "99363                 11                            0                    26   \n",
       "14881                 77                            0                     0   \n",
       "91046                  0                            0                     0   \n",
       "35052                  0                            0                     0   \n",
       "20317                  0                            5                     0   \n",
       "\n",
       "       income_less_10000_2016  \n",
       "zip                            \n",
       "99363                       0  \n",
       "14881                       0  \n",
       "91046                       0  \n",
       "35052                       0  \n",
       "20317                      81  \n",
       "\n",
       "[5 rows x 1398 columns]"
      ]
     },
     "execution_count": 186,
     "metadata": {},
     "output_type": "execute_result"
    }
   ],
   "source": [
    "census = x2011.merge(x2012, on = 'zip', suffixes = ('_2011','_2012')).\\\n",
    "merge(x2013, on = 'zip').merge(x2014, on = 'zip', suffixes = ('_2013','_2014')).\\\n",
    "merge(x2015, on = 'zip').merge(x2016, on = 'zip', suffixes = ('_2015','_2016')).set_index('zip')\n",
    "\n",
    "census.head()"
   ]
  },
  {
   "cell_type": "markdown",
   "metadata": {},
   "source": [
    "# Zillow Rent Index (Clean, Impute, Take Median)"
   ]
  },
  {
   "cell_type": "code",
   "execution_count": 187,
   "metadata": {},
   "outputs": [],
   "source": [
    "zillow = pd.read_csv('Zip_Zri_AllHomesPlusMultifamily.csv')\n",
    "zillow.columns = zillow.columns.str.replace('RegionName', 'zip')"
   ]
  },
  {
   "cell_type": "code",
   "execution_count": 188,
   "metadata": {},
   "outputs": [
    {
     "data": {
      "text/html": [
       "<div>\n",
       "<style scoped>\n",
       "    .dataframe tbody tr th:only-of-type {\n",
       "        vertical-align: middle;\n",
       "    }\n",
       "\n",
       "    .dataframe tbody tr th {\n",
       "        vertical-align: top;\n",
       "    }\n",
       "\n",
       "    .dataframe thead th {\n",
       "        text-align: right;\n",
       "    }\n",
       "</style>\n",
       "<table border=\"1\" class=\"dataframe\">\n",
       "  <thead>\n",
       "    <tr style=\"text-align: right;\">\n",
       "      <th></th>\n",
       "      <th>RegionID</th>\n",
       "      <th>zip</th>\n",
       "      <th>City</th>\n",
       "      <th>State</th>\n",
       "      <th>Metro</th>\n",
       "      <th>CountyName</th>\n",
       "      <th>SizeRank</th>\n",
       "      <th>2010-09</th>\n",
       "      <th>2010-10</th>\n",
       "      <th>2010-11</th>\n",
       "      <th>...</th>\n",
       "      <th>2019-04</th>\n",
       "      <th>2019-05</th>\n",
       "      <th>2019-06</th>\n",
       "      <th>2019-07</th>\n",
       "      <th>2019-08</th>\n",
       "      <th>2019-09</th>\n",
       "      <th>2019-10</th>\n",
       "      <th>2019-11</th>\n",
       "      <th>2019-12</th>\n",
       "      <th>2020-01</th>\n",
       "    </tr>\n",
       "  </thead>\n",
       "  <tbody>\n",
       "    <tr>\n",
       "      <td>0</td>\n",
       "      <td>61639</td>\n",
       "      <td>10025</td>\n",
       "      <td>New York</td>\n",
       "      <td>NY</td>\n",
       "      <td>New York-Newark-Jersey City</td>\n",
       "      <td>New York County</td>\n",
       "      <td>1</td>\n",
       "      <td>3031.0</td>\n",
       "      <td>3058.0</td>\n",
       "      <td>3031.0</td>\n",
       "      <td>...</td>\n",
       "      <td>3785.0</td>\n",
       "      <td>3788.0</td>\n",
       "      <td>3786.0</td>\n",
       "      <td>3784.0</td>\n",
       "      <td>3766.0</td>\n",
       "      <td>3779.0</td>\n",
       "      <td>3843.0</td>\n",
       "      <td>3873.0</td>\n",
       "      <td>3835.0</td>\n",
       "      <td>NaN</td>\n",
       "    </tr>\n",
       "    <tr>\n",
       "      <td>1</td>\n",
       "      <td>84654</td>\n",
       "      <td>60657</td>\n",
       "      <td>Chicago</td>\n",
       "      <td>IL</td>\n",
       "      <td>Chicago-Naperville-Elgin</td>\n",
       "      <td>Cook County</td>\n",
       "      <td>2</td>\n",
       "      <td>1790.0</td>\n",
       "      <td>1787.0</td>\n",
       "      <td>1784.0</td>\n",
       "      <td>...</td>\n",
       "      <td>2039.0</td>\n",
       "      <td>2070.0</td>\n",
       "      <td>2105.0</td>\n",
       "      <td>2140.0</td>\n",
       "      <td>2168.0</td>\n",
       "      <td>2185.0</td>\n",
       "      <td>2125.0</td>\n",
       "      <td>NaN</td>\n",
       "      <td>2053.0</td>\n",
       "      <td>1996.0</td>\n",
       "    </tr>\n",
       "    <tr>\n",
       "      <td>2</td>\n",
       "      <td>61637</td>\n",
       "      <td>10023</td>\n",
       "      <td>New York</td>\n",
       "      <td>NY</td>\n",
       "      <td>New York-Newark-Jersey City</td>\n",
       "      <td>New York County</td>\n",
       "      <td>3</td>\n",
       "      <td>3269.0</td>\n",
       "      <td>3304.0</td>\n",
       "      <td>3320.0</td>\n",
       "      <td>...</td>\n",
       "      <td>3874.0</td>\n",
       "      <td>3898.0</td>\n",
       "      <td>3917.0</td>\n",
       "      <td>3929.0</td>\n",
       "      <td>3931.0</td>\n",
       "      <td>3963.0</td>\n",
       "      <td>NaN</td>\n",
       "      <td>4123.0</td>\n",
       "      <td>4079.0</td>\n",
       "      <td>NaN</td>\n",
       "    </tr>\n",
       "    <tr>\n",
       "      <td>3</td>\n",
       "      <td>91982</td>\n",
       "      <td>77494</td>\n",
       "      <td>Katy</td>\n",
       "      <td>TX</td>\n",
       "      <td>Houston-The Woodlands-Sugar Land</td>\n",
       "      <td>Harris County</td>\n",
       "      <td>4</td>\n",
       "      <td>1547.0</td>\n",
       "      <td>1549.0</td>\n",
       "      <td>1560.0</td>\n",
       "      <td>...</td>\n",
       "      <td>1765.0</td>\n",
       "      <td>1755.0</td>\n",
       "      <td>1751.0</td>\n",
       "      <td>1752.0</td>\n",
       "      <td>1754.0</td>\n",
       "      <td>1759.0</td>\n",
       "      <td>1764.0</td>\n",
       "      <td>1769.0</td>\n",
       "      <td>1776.0</td>\n",
       "      <td>1778.0</td>\n",
       "    </tr>\n",
       "    <tr>\n",
       "      <td>4</td>\n",
       "      <td>84616</td>\n",
       "      <td>60614</td>\n",
       "      <td>Chicago</td>\n",
       "      <td>IL</td>\n",
       "      <td>Chicago-Naperville-Elgin</td>\n",
       "      <td>Cook County</td>\n",
       "      <td>5</td>\n",
       "      <td>1922.0</td>\n",
       "      <td>1925.0</td>\n",
       "      <td>1921.0</td>\n",
       "      <td>...</td>\n",
       "      <td>2245.0</td>\n",
       "      <td>2289.0</td>\n",
       "      <td>2332.0</td>\n",
       "      <td>2372.0</td>\n",
       "      <td>2398.0</td>\n",
       "      <td>2412.0</td>\n",
       "      <td>2348.0</td>\n",
       "      <td>2356.0</td>\n",
       "      <td>2311.0</td>\n",
       "      <td>NaN</td>\n",
       "    </tr>\n",
       "  </tbody>\n",
       "</table>\n",
       "<p>5 rows × 120 columns</p>\n",
       "</div>"
      ],
      "text/plain": [
       "   RegionID    zip      City State                             Metro  \\\n",
       "0     61639  10025  New York    NY       New York-Newark-Jersey City   \n",
       "1     84654  60657   Chicago    IL          Chicago-Naperville-Elgin   \n",
       "2     61637  10023  New York    NY       New York-Newark-Jersey City   \n",
       "3     91982  77494      Katy    TX  Houston-The Woodlands-Sugar Land   \n",
       "4     84616  60614   Chicago    IL          Chicago-Naperville-Elgin   \n",
       "\n",
       "        CountyName  SizeRank  2010-09  2010-10  2010-11  ...  2019-04  \\\n",
       "0  New York County         1   3031.0   3058.0   3031.0  ...   3785.0   \n",
       "1      Cook County         2   1790.0   1787.0   1784.0  ...   2039.0   \n",
       "2  New York County         3   3269.0   3304.0   3320.0  ...   3874.0   \n",
       "3    Harris County         4   1547.0   1549.0   1560.0  ...   1765.0   \n",
       "4      Cook County         5   1922.0   1925.0   1921.0  ...   2245.0   \n",
       "\n",
       "   2019-05  2019-06  2019-07  2019-08  2019-09  2019-10  2019-11  2019-12  \\\n",
       "0   3788.0   3786.0   3784.0   3766.0   3779.0   3843.0   3873.0   3835.0   \n",
       "1   2070.0   2105.0   2140.0   2168.0   2185.0   2125.0      NaN   2053.0   \n",
       "2   3898.0   3917.0   3929.0   3931.0   3963.0      NaN   4123.0   4079.0   \n",
       "3   1755.0   1751.0   1752.0   1754.0   1759.0   1764.0   1769.0   1776.0   \n",
       "4   2289.0   2332.0   2372.0   2398.0   2412.0   2348.0   2356.0   2311.0   \n",
       "\n",
       "   2020-01  \n",
       "0      NaN  \n",
       "1   1996.0  \n",
       "2      NaN  \n",
       "3   1778.0  \n",
       "4      NaN  \n",
       "\n",
       "[5 rows x 120 columns]"
      ]
     },
     "execution_count": 188,
     "metadata": {},
     "output_type": "execute_result"
    }
   ],
   "source": [
    "zillow.head()"
   ]
  },
  {
   "cell_type": "code",
   "execution_count": 189,
   "metadata": {},
   "outputs": [],
   "source": [
    "zri2011 = pd.concat([zillow.zip,zillow.iloc[:,11:23]], axis = 1).set_index('zip').dropna(how = 'all')\n",
    "zri2012 = pd.concat([zillow.zip,zillow.iloc[:,23:35]], axis = 1).set_index('zip').dropna(how = 'all')\n",
    "zri2013 = pd.concat([zillow.zip,zillow.iloc[:,35:47]], axis = 1).set_index('zip').dropna(how = 'all')\n",
    "zri2014 = pd.concat([zillow.zip,zillow.iloc[:,47:59]], axis = 1).set_index('zip').dropna(how = 'all')\n",
    "zri2015 = pd.concat([zillow.zip,zillow.iloc[:,59:71]], axis = 1).set_index('zip').dropna(how = 'all')\n",
    "zri2016 = pd.concat([zillow.zip,zillow.iloc[:,71:83]], axis = 1).set_index('zip').dropna(how = 'all')\n",
    "zri2017 = pd.concat([zillow.zip,zillow.iloc[:,83:95]], axis = 1).set_index('zip').dropna(how = 'all')\n",
    "zri2018 = pd.concat([zillow.zip,zillow.iloc[:,95:107]], axis = 1).set_index('zip').dropna(how = 'all')\n",
    "zri2019 = pd.concat([zillow.zip,zillow.iloc[:,107:119]], axis = 1).set_index('zip').dropna(how = 'all')"
   ]
  },
  {
   "cell_type": "markdown",
   "metadata": {},
   "source": [
    "## Delete Any year that has more than 3 missing values"
   ]
  },
  {
   "cell_type": "code",
   "execution_count": 190,
   "metadata": {},
   "outputs": [],
   "source": [
    "zri2011 = zri2011[zri2011.isna().sum(axis = 1) <= 3]\n",
    "zri2012 = zri2012[zri2012.isna().sum(axis = 1) <= 3]\n",
    "zri2013 = zri2013[zri2013.isna().sum(axis = 1) <= 3]\n",
    "zri2014 = zri2014[zri2014.isna().sum(axis = 1) <= 3]\n",
    "zri2015 = zri2015[zri2015.isna().sum(axis = 1) <= 3]\n",
    "zri2016 = zri2016[zri2016.isna().sum(axis = 1) <= 3]\n",
    "zri2017 = zri2017[zri2017.isna().sum(axis = 1) <= 3]\n",
    "zri2018 = zri2018[zri2018.isna().sum(axis = 1) <= 3]\n",
    "zri2019 = zri2019[zri2019.isna().sum(axis = 1) <= 3]"
   ]
  },
  {
   "cell_type": "code",
   "execution_count": 191,
   "metadata": {},
   "outputs": [
    {
     "name": "stdout",
     "output_type": "stream",
     "text": [
      "10635\n",
      "10997\n",
      "11065\n",
      "11856\n",
      "12193\n",
      "12437\n",
      "12539\n",
      "12616\n",
      "12579\n"
     ]
    }
   ],
   "source": [
    "print(zri2011.shape[0])\n",
    "print(zri2012.shape[0])\n",
    "print(zri2013.shape[0])\n",
    "print(zri2014.shape[0])\n",
    "print(zri2015.shape[0])\n",
    "print(zri2016.shape[0])\n",
    "print(zri2017.shape[0])\n",
    "print(zri2018.shape[0])\n",
    "print(zri2019.shape[0])"
   ]
  },
  {
   "cell_type": "markdown",
   "metadata": {},
   "source": [
    "## Linearly Interpolate Missing Values"
   ]
  },
  {
   "cell_type": "code",
   "execution_count": 192,
   "metadata": {},
   "outputs": [],
   "source": [
    "zri2011 = zri2011.interpolate(method='linear',limit_direction='both', axis=1)\n",
    "zri2012 = zri2012.interpolate(method='linear',limit_direction='both', axis=1)\n",
    "zri2013 = zri2013.interpolate(method='linear',limit_direction='both', axis=1)\n",
    "zri2014 = zri2014.interpolate(method='linear',limit_direction='both', axis=1)\n",
    "zri2015 = zri2015.interpolate(method='linear',limit_direction='both', axis=1)\n",
    "zri2016 = zri2016.interpolate(method='linear',limit_direction='both', axis=1)\n",
    "zri2017 = zri2017.interpolate(method='linear',limit_direction='both', axis=1)\n",
    "zri2018 = zri2018.interpolate(method='linear',limit_direction='both', axis=1)\n",
    "zri2019 = zri2019.interpolate(method='linear',limit_direction='both', axis=1)"
   ]
  },
  {
   "cell_type": "code",
   "execution_count": 193,
   "metadata": {},
   "outputs": [],
   "source": [
    "zillow_monthly = pd.concat([zri2011,zri2012,zri2013, zri2014, zri2015, zri2016, zri2017, zri2018, zri2019], join = 'inner', axis = 1)\n"
   ]
  },
  {
   "cell_type": "code",
   "execution_count": 194,
   "metadata": {},
   "outputs": [
    {
     "data": {
      "text/plain": [
       "8752"
      ]
     },
     "execution_count": 194,
     "metadata": {},
     "output_type": "execute_result"
    }
   ],
   "source": [
    "zillow_monthly.shape[0]"
   ]
  },
  {
   "cell_type": "code",
   "execution_count": 195,
   "metadata": {},
   "outputs": [],
   "source": [
    "zillow_2011 = zri2011.median(axis = 1)\n",
    "zillow_2012 = zri2012.median(axis = 1)\n",
    "zillow_2013 = zri2013.median(axis = 1)\n",
    "zillow_2014 = zri2014.median(axis = 1)\n",
    "zillow_2015 = zri2015.median(axis = 1)\n",
    "zillow_2016 = zri2016.median(axis = 1)\n",
    "zillow_2017 = zri2017.median(axis = 1)\n",
    "zillow_2018 = zri2018.median(axis = 1)\n",
    "zillow_2019 = zri2019.median(axis = 1)"
   ]
  },
  {
   "cell_type": "code",
   "execution_count": 196,
   "metadata": {},
   "outputs": [],
   "source": [
    "zillow_median = pd.concat([zillow_2011,zillow_2012,zillow_2013,zillow_2014,zillow_2015,zillow_2016,zillow_2017,zillow_2018,zillow_2019], join = 'inner',axis = 1)\n",
    "zillow_median.columns = ['zri_2011','zri_2012','zri_2013', 'zri_2014', 'zri_2015', 'zri_2016', 'zri_2017', 'zri_2018', 'zri_2019']\n",
    "\n"
   ]
  },
  {
   "cell_type": "code",
   "execution_count": 197,
   "metadata": {},
   "outputs": [
    {
     "data": {
      "text/html": [
       "<div>\n",
       "<style scoped>\n",
       "    .dataframe tbody tr th:only-of-type {\n",
       "        vertical-align: middle;\n",
       "    }\n",
       "\n",
       "    .dataframe tbody tr th {\n",
       "        vertical-align: top;\n",
       "    }\n",
       "\n",
       "    .dataframe thead th {\n",
       "        text-align: right;\n",
       "    }\n",
       "</style>\n",
       "<table border=\"1\" class=\"dataframe\">\n",
       "  <thead>\n",
       "    <tr style=\"text-align: right;\">\n",
       "      <th></th>\n",
       "      <th>zri_2011</th>\n",
       "      <th>zri_2012</th>\n",
       "      <th>zri_2013</th>\n",
       "      <th>zri_2014</th>\n",
       "      <th>zri_2015</th>\n",
       "      <th>zri_2016</th>\n",
       "      <th>zri_2017</th>\n",
       "      <th>zri_2018</th>\n",
       "      <th>zri_2019</th>\n",
       "    </tr>\n",
       "    <tr>\n",
       "      <th>zip</th>\n",
       "      <th></th>\n",
       "      <th></th>\n",
       "      <th></th>\n",
       "      <th></th>\n",
       "      <th></th>\n",
       "      <th></th>\n",
       "      <th></th>\n",
       "      <th></th>\n",
       "      <th></th>\n",
       "    </tr>\n",
       "  </thead>\n",
       "  <tbody>\n",
       "    <tr>\n",
       "      <td>60657</td>\n",
       "      <td>1773.5</td>\n",
       "      <td>1882.0</td>\n",
       "      <td>1966.0</td>\n",
       "      <td>2003.5</td>\n",
       "      <td>2075.0</td>\n",
       "      <td>2143.0</td>\n",
       "      <td>2121.5</td>\n",
       "      <td>2091.0</td>\n",
       "      <td>2079.5</td>\n",
       "    </tr>\n",
       "    <tr>\n",
       "      <td>77494</td>\n",
       "      <td>1591.0</td>\n",
       "      <td>1623.5</td>\n",
       "      <td>1780.0</td>\n",
       "      <td>1944.5</td>\n",
       "      <td>1918.5</td>\n",
       "      <td>1826.5</td>\n",
       "      <td>1763.0</td>\n",
       "      <td>1789.5</td>\n",
       "      <td>1764.5</td>\n",
       "    </tr>\n",
       "    <tr>\n",
       "      <td>60614</td>\n",
       "      <td>1882.0</td>\n",
       "      <td>2016.5</td>\n",
       "      <td>2138.0</td>\n",
       "      <td>2197.5</td>\n",
       "      <td>2270.0</td>\n",
       "      <td>2349.0</td>\n",
       "      <td>2332.5</td>\n",
       "      <td>2309.0</td>\n",
       "      <td>2321.5</td>\n",
       "    </tr>\n",
       "    <tr>\n",
       "      <td>77084</td>\n",
       "      <td>1075.0</td>\n",
       "      <td>1107.0</td>\n",
       "      <td>1209.5</td>\n",
       "      <td>1320.5</td>\n",
       "      <td>1422.0</td>\n",
       "      <td>1414.5</td>\n",
       "      <td>1371.0</td>\n",
       "      <td>1417.5</td>\n",
       "      <td>1400.0</td>\n",
       "    </tr>\n",
       "    <tr>\n",
       "      <td>79936</td>\n",
       "      <td>987.0</td>\n",
       "      <td>1009.0</td>\n",
       "      <td>960.0</td>\n",
       "      <td>981.0</td>\n",
       "      <td>1016.5</td>\n",
       "      <td>1010.5</td>\n",
       "      <td>992.5</td>\n",
       "      <td>974.5</td>\n",
       "      <td>943.5</td>\n",
       "    </tr>\n",
       "  </tbody>\n",
       "</table>\n",
       "</div>"
      ],
      "text/plain": [
       "       zri_2011  zri_2012  zri_2013  zri_2014  zri_2015  zri_2016  zri_2017  \\\n",
       "zip                                                                           \n",
       "60657    1773.5    1882.0    1966.0    2003.5    2075.0    2143.0    2121.5   \n",
       "77494    1591.0    1623.5    1780.0    1944.5    1918.5    1826.5    1763.0   \n",
       "60614    1882.0    2016.5    2138.0    2197.5    2270.0    2349.0    2332.5   \n",
       "77084    1075.0    1107.0    1209.5    1320.5    1422.0    1414.5    1371.0   \n",
       "79936     987.0    1009.0     960.0     981.0    1016.5    1010.5     992.5   \n",
       "\n",
       "       zri_2018  zri_2019  \n",
       "zip                        \n",
       "60657    2091.0    2079.5  \n",
       "77494    1789.5    1764.5  \n",
       "60614    2309.0    2321.5  \n",
       "77084    1417.5    1400.0  \n",
       "79936     974.5     943.5  "
      ]
     },
     "execution_count": 197,
     "metadata": {},
     "output_type": "execute_result"
    }
   ],
   "source": [
    "zillow_median.head()"
   ]
  },
  {
   "cell_type": "markdown",
   "metadata": {},
   "source": [
    "### Try Mean Instead of Median"
   ]
  },
  {
   "cell_type": "code",
   "execution_count": 198,
   "metadata": {},
   "outputs": [],
   "source": [
    "zillow_2011 = zri2011.mean(axis = 1)\n",
    "zillow_2012 = zri2012.mean(axis = 1)\n",
    "zillow_2013 = zri2013.mean(axis = 1)\n",
    "zillow_2014 = zri2014.mean(axis = 1)\n",
    "zillow_2015 = zri2015.mean(axis = 1)\n",
    "zillow_2016 = zri2016.mean(axis = 1)\n",
    "zillow_2017 = zri2017.mean(axis = 1)\n",
    "zillow_2018 = zri2018.mean(axis = 1)\n",
    "zillow_2019 = zri2019.mean(axis = 1)"
   ]
  },
  {
   "cell_type": "code",
   "execution_count": 199,
   "metadata": {},
   "outputs": [],
   "source": [
    "zillow_mean = pd.concat([zillow_2011,zillow_2012,zillow_2013,zillow_2014,zillow_2015,zillow_2016,zillow_2017,zillow_2018,zillow_2019], join = 'inner',axis = 1)\n",
    "zillow_mean.columns = ['zri_2011','zri_2012','zri_2013', 'zri_2014', 'zri_2015', 'zri_2016', 'zri_2017', 'zri_2018', 'zri_2019']\n",
    "\n"
   ]
  },
  {
   "cell_type": "code",
   "execution_count": 200,
   "metadata": {},
   "outputs": [
    {
     "data": {
      "text/html": [
       "<div>\n",
       "<style scoped>\n",
       "    .dataframe tbody tr th:only-of-type {\n",
       "        vertical-align: middle;\n",
       "    }\n",
       "\n",
       "    .dataframe tbody tr th {\n",
       "        vertical-align: top;\n",
       "    }\n",
       "\n",
       "    .dataframe thead th {\n",
       "        text-align: right;\n",
       "    }\n",
       "</style>\n",
       "<table border=\"1\" class=\"dataframe\">\n",
       "  <thead>\n",
       "    <tr style=\"text-align: right;\">\n",
       "      <th></th>\n",
       "      <th>zri_2011</th>\n",
       "      <th>zri_2012</th>\n",
       "      <th>zri_2013</th>\n",
       "      <th>zri_2014</th>\n",
       "      <th>zri_2015</th>\n",
       "      <th>zri_2016</th>\n",
       "      <th>zri_2017</th>\n",
       "      <th>zri_2018</th>\n",
       "      <th>zri_2019</th>\n",
       "    </tr>\n",
       "    <tr>\n",
       "      <th>zip</th>\n",
       "      <th></th>\n",
       "      <th></th>\n",
       "      <th></th>\n",
       "      <th></th>\n",
       "      <th></th>\n",
       "      <th></th>\n",
       "      <th></th>\n",
       "      <th></th>\n",
       "      <th></th>\n",
       "    </tr>\n",
       "  </thead>\n",
       "  <tbody>\n",
       "    <tr>\n",
       "      <td>60657</td>\n",
       "      <td>1787.250000</td>\n",
       "      <td>1866.833333</td>\n",
       "      <td>1955.666667</td>\n",
       "      <td>2005.666667</td>\n",
       "      <td>2073.500000</td>\n",
       "      <td>2140.416667</td>\n",
       "      <td>2127.416667</td>\n",
       "      <td>2098.333333</td>\n",
       "      <td>2085.833333</td>\n",
       "    </tr>\n",
       "    <tr>\n",
       "      <td>77494</td>\n",
       "      <td>1584.500000</td>\n",
       "      <td>1630.583333</td>\n",
       "      <td>1786.833333</td>\n",
       "      <td>1956.833333</td>\n",
       "      <td>1921.916667</td>\n",
       "      <td>1819.833333</td>\n",
       "      <td>1770.083333</td>\n",
       "      <td>1788.166667</td>\n",
       "      <td>1763.416667</td>\n",
       "    </tr>\n",
       "    <tr>\n",
       "      <td>60614</td>\n",
       "      <td>1897.583333</td>\n",
       "      <td>2014.666667</td>\n",
       "      <td>2148.000000</td>\n",
       "      <td>2202.583333</td>\n",
       "      <td>2271.000000</td>\n",
       "      <td>2346.500000</td>\n",
       "      <td>2344.000000</td>\n",
       "      <td>2314.250000</td>\n",
       "      <td>2306.583333</td>\n",
       "    </tr>\n",
       "    <tr>\n",
       "      <td>77084</td>\n",
       "      <td>1064.666667</td>\n",
       "      <td>1116.333333</td>\n",
       "      <td>1205.916667</td>\n",
       "      <td>1327.916667</td>\n",
       "      <td>1417.166667</td>\n",
       "      <td>1414.083333</td>\n",
       "      <td>1372.750000</td>\n",
       "      <td>1414.416667</td>\n",
       "      <td>1404.250000</td>\n",
       "    </tr>\n",
       "    <tr>\n",
       "      <td>79936</td>\n",
       "      <td>999.166667</td>\n",
       "      <td>1005.833333</td>\n",
       "      <td>961.666667</td>\n",
       "      <td>984.916667</td>\n",
       "      <td>1014.833333</td>\n",
       "      <td>1011.916667</td>\n",
       "      <td>992.583333</td>\n",
       "      <td>973.916667</td>\n",
       "      <td>947.833333</td>\n",
       "    </tr>\n",
       "  </tbody>\n",
       "</table>\n",
       "</div>"
      ],
      "text/plain": [
       "          zri_2011     zri_2012     zri_2013     zri_2014     zri_2015  \\\n",
       "zip                                                                      \n",
       "60657  1787.250000  1866.833333  1955.666667  2005.666667  2073.500000   \n",
       "77494  1584.500000  1630.583333  1786.833333  1956.833333  1921.916667   \n",
       "60614  1897.583333  2014.666667  2148.000000  2202.583333  2271.000000   \n",
       "77084  1064.666667  1116.333333  1205.916667  1327.916667  1417.166667   \n",
       "79936   999.166667  1005.833333   961.666667   984.916667  1014.833333   \n",
       "\n",
       "          zri_2016     zri_2017     zri_2018     zri_2019  \n",
       "zip                                                        \n",
       "60657  2140.416667  2127.416667  2098.333333  2085.833333  \n",
       "77494  1819.833333  1770.083333  1788.166667  1763.416667  \n",
       "60614  2346.500000  2344.000000  2314.250000  2306.583333  \n",
       "77084  1414.083333  1372.750000  1414.416667  1404.250000  \n",
       "79936  1011.916667   992.583333   973.916667   947.833333  "
      ]
     },
     "execution_count": 200,
     "metadata": {},
     "output_type": "execute_result"
    }
   ],
   "source": [
    "zillow_mean.head()"
   ]
  },
  {
   "cell_type": "markdown",
   "metadata": {},
   "source": [
    "# Join with Census (drop all the NAs for simplicity and purity)"
   ]
  },
  {
   "cell_type": "code",
   "execution_count": 201,
   "metadata": {},
   "outputs": [],
   "source": [
    "total = pd.concat([zillow_mean,census], join = 'inner', axis = 1).dropna(how = 'any')"
   ]
  },
  {
   "cell_type": "markdown",
   "metadata": {},
   "source": [
    "# Create Train and Test Datasets"
   ]
  },
  {
   "cell_type": "code",
   "execution_count": 202,
   "metadata": {},
   "outputs": [],
   "source": [
    "x_train = pd.concat([total.iloc[:,2:5],total.iloc[:,9:708]], join = 'inner', axis = 1)\n",
    "y_train = total.iloc[:,5]\n",
    "x_test = pd.concat([total.iloc[:,3:6],total.iloc[:,242:941]], join = 'inner', axis = 1)\n",
    "y_test = total.iloc[:,6]"
   ]
  },
  {
   "cell_type": "markdown",
   "metadata": {},
   "source": [
    "# Log Y and X"
   ]
  },
  {
   "cell_type": "code",
   "execution_count": 203,
   "metadata": {},
   "outputs": [],
   "source": [
    "x_train = np.log(x_train+1)\n",
    "x_test = np.log(x_test+1)\n",
    "y_train = np.log(y_train)\n",
    "y_test = np.log(y_test)\n"
   ]
  },
  {
   "cell_type": "markdown",
   "metadata": {},
   "source": [
    "# Regressions (OLS, Lasso, Ridge, Gradient Boosting Regressor)"
   ]
  },
  {
   "cell_type": "code",
   "execution_count": 204,
   "metadata": {},
   "outputs": [],
   "source": [
    "from sklearn.linear_model import LinearRegression, Lasso, Ridge, ElasticNet\n",
    "from sklearn.ensemble import GradientBoostingRegressor\n",
    "\n",
    "\n",
    "model_ols = LinearRegression()\n",
    "model_lasso = Lasso()\n",
    "model_ridge = Ridge()\n",
    "model_gradient = GradientBoostingRegressor()"
   ]
  },
  {
   "cell_type": "code",
   "execution_count": 205,
   "metadata": {},
   "outputs": [
    {
     "data": {
      "text/plain": [
       "GradientBoostingRegressor(alpha=0.9, criterion='friedman_mse', init=None,\n",
       "                          learning_rate=0.1, loss='ls', max_depth=3,\n",
       "                          max_features=None, max_leaf_nodes=None,\n",
       "                          min_impurity_decrease=0.0, min_impurity_split=None,\n",
       "                          min_samples_leaf=1, min_samples_split=2,\n",
       "                          min_weight_fraction_leaf=0.0, n_estimators=100,\n",
       "                          n_iter_no_change=None, presort='auto',\n",
       "                          random_state=None, subsample=1.0, tol=0.0001,\n",
       "                          validation_fraction=0.1, verbose=0, warm_start=False)"
      ]
     },
     "execution_count": 205,
     "metadata": {},
     "output_type": "execute_result"
    }
   ],
   "source": [
    "model_ols.fit(x_train, y_train)\n",
    "model_lasso.fit(x_train, y_train)\n",
    "model_ridge.fit(x_train, y_train)\n",
    "model_gradient.fit(x_train, y_train)"
   ]
  },
  {
   "cell_type": "markdown",
   "metadata": {},
   "source": [
    "### Train Score"
   ]
  },
  {
   "cell_type": "code",
   "execution_count": 206,
   "metadata": {},
   "outputs": [
    {
     "name": "stdout",
     "output_type": "stream",
     "text": [
      "Simple Linear Train Score: 0.995\n",
      "Lasso Train Score: 0.000\n",
      "Ridge Train Score: 0.995\n",
      "Gradient Regressor Train Score: 0.995\n"
     ]
    }
   ],
   "source": [
    "#MEDIAN\n",
    "print('Simple Linear Train Score: %.3f'%model_ols.score(x_train, y_train))\n",
    "print('Lasso Train Score: %.3f'%model_lasso.score(x_train, y_train))\n",
    "print('Ridge Train Score: %.3f'%model_ridge.score(x_train, y_train))\n",
    "print('Gradient Regressor Train Score: %.3f'%model_gradient.score(x_train, y_train))"
   ]
  },
  {
   "cell_type": "code",
   "execution_count": 207,
   "metadata": {},
   "outputs": [
    {
     "name": "stdout",
     "output_type": "stream",
     "text": [
      "Simple Linear Train Score: 0.995\n",
      "Lasso Train Score: 0.000\n",
      "Ridge Train Score: 0.995\n",
      "Gradient Regressor Train Score: 0.995\n"
     ]
    }
   ],
   "source": [
    "#MEAN\n",
    "\n",
    "print('Simple Linear Train Score: %.3f'%model_ols.score(x_train, y_train))\n",
    "print('Lasso Train Score: %.3f'%model_lasso.score(x_train, y_train))\n",
    "print('Ridge Train Score: %.3f'%model_ridge.score(x_train, y_train))\n",
    "print('Gradient Regressor Train Score: %.3f'%model_gradient.score(x_train, y_train))"
   ]
  },
  {
   "cell_type": "markdown",
   "metadata": {},
   "source": [
    "### Test Score"
   ]
  },
  {
   "cell_type": "code",
   "execution_count": 208,
   "metadata": {},
   "outputs": [
    {
     "name": "stdout",
     "output_type": "stream",
     "text": [
      "Simple Linear Test Score: 0.992\n",
      "Lasso Test Score: -0.001\n",
      "Ridge Test Score: 0.991\n",
      "Gradient Regressor Test Score: 0.991\n"
     ]
    }
   ],
   "source": [
    "#MEDIAN\n",
    "\n",
    "print('Simple Linear Test Score: %.3f'%model_ols.score(x_test, y_test))\n",
    "print('Lasso Test Score: %.3f'%model_lasso.score(x_test, y_test))\n",
    "print('Ridge Test Score: %.3f'%model_ridge.score(x_test, y_test))\n",
    "print('Gradient Regressor Test Score: %.3f'%model_gradient.score(x_test, y_test))"
   ]
  },
  {
   "cell_type": "code",
   "execution_count": 209,
   "metadata": {},
   "outputs": [
    {
     "name": "stdout",
     "output_type": "stream",
     "text": [
      "Simple Linear Test Score: 0.992\n",
      "Lasso Test Score: -0.001\n",
      "Ridge Test Score: 0.991\n",
      "Gradient Regressor Test Score: 0.991\n"
     ]
    }
   ],
   "source": [
    "#MEAN\n",
    "\n",
    "print('Simple Linear Test Score: %.3f'%model_ols.score(x_test, y_test))\n",
    "print('Lasso Test Score: %.3f'%model_lasso.score(x_test, y_test))\n",
    "print('Ridge Test Score: %.3f'%model_ridge.score(x_test, y_test))\n",
    "print('Gradient Regressor Test Score: %.3f'%model_gradient.score(x_test, y_test))"
   ]
  },
  {
   "cell_type": "markdown",
   "metadata": {},
   "source": [
    "### Kaggle Score"
   ]
  },
  {
   "cell_type": "code",
   "execution_count": 210,
   "metadata": {},
   "outputs": [],
   "source": [
    "from sklearn.metrics import mean_squared_error\n",
    "from math import sqrt"
   ]
  },
  {
   "cell_type": "code",
   "execution_count": 211,
   "metadata": {},
   "outputs": [
    {
     "name": "stdout",
     "output_type": "stream",
     "text": [
      "Simple Linear Kaggle Score: 0.03276\n",
      "Lasso Kaggle Score: 0.35816\n",
      "Ridge Kaggle Score: 0.03415\n",
      "Gradient Regressor Kaggle Score: 0.03368\n"
     ]
    }
   ],
   "source": [
    "#MEDIAN\n",
    "\n",
    "print('Simple Linear Kaggle Score: %.5f' % sqrt(mean_squared_error(model_ols.predict(x_test), y_test)))\n",
    "print('Lasso Kaggle Score: %.5f' % sqrt(mean_squared_error(model_lasso.predict(x_test), y_test)))\n",
    "print('Ridge Kaggle Score: %.5f' % sqrt(mean_squared_error(model_ridge.predict(x_test), y_test)))\n",
    "print('Gradient Regressor Kaggle Score: %.5f' % sqrt(mean_squared_error(model_gradient.predict(x_test), y_test)))"
   ]
  },
  {
   "cell_type": "code",
   "execution_count": 212,
   "metadata": {},
   "outputs": [
    {
     "name": "stdout",
     "output_type": "stream",
     "text": [
      "Simple Linear Kaggle Score: 0.03276\n",
      "Lasso Kaggle Score: 0.35816\n",
      "Ridge Kaggle Score: 0.03415\n",
      "Gradient Regressor Kaggle Score: 0.03368\n"
     ]
    }
   ],
   "source": [
    "#MEAN\n",
    "\n",
    "print('Simple Linear Kaggle Score: %.5f' % sqrt(mean_squared_error(model_ols.predict(x_test), y_test)))\n",
    "print('Lasso Kaggle Score: %.5f' % sqrt(mean_squared_error(model_lasso.predict(x_test), y_test)))\n",
    "print('Ridge Kaggle Score: %.5f' % sqrt(mean_squared_error(model_ridge.predict(x_test), y_test)))\n",
    "print('Gradient Regressor Kaggle Score: %.5f' % sqrt(mean_squared_error(model_gradient.predict(x_test), y_test)))"
   ]
  },
  {
   "cell_type": "markdown",
   "metadata": {},
   "source": [
    "# Feature Importance (top 20)"
   ]
  },
  {
   "cell_type": "code",
   "execution_count": 213,
   "metadata": {},
   "outputs": [
    {
     "data": {
      "text/plain": [
       "[('zri_2015', 0.9948638707055147),\n",
       " ('owner_occupied_housing_units_upper_value_quartile_2011',\n",
       "  0.0015618771865639365),\n",
       " ('zri_2014', 0.0006057610455675675),\n",
       " ('median_rent_2011', 0.0005570436492386293),\n",
       " ('owner_occupied_housing_units_median_value_2011', 0.00032814561426754043),\n",
       " ('median_rent_2013', 0.00031326239399802173),\n",
       " ('median_rent_2012', 0.0001972205529216066),\n",
       " ('percent_income_spent_on_rent_2013', 9.005914230185862e-05),\n",
       " ('zri_2013', 5.6846575475015904e-05),\n",
       " ('median_income_2011', 5.23907287779398e-05),\n",
       " ('amerindian_including_hispanic_2013', 5.012168469714293e-05),\n",
       " ('armed_forces_2011', 5.002187004812972e-05),\n",
       " ('income_per_capita_2013', 4.521090974996427e-05),\n",
       " ('armed_forces_2013', 4.277123257486114e-05),\n",
       " ('amerindian_including_hispanic_2011', 3.951963863258817e-05),\n",
       " ('dwellings_3_to_4_units_2013', 3.7942375758645516e-05),\n",
       " ('employed_agriculture_forestry_fishing_hunting_mining_2013',\n",
       "  3.7622373438149226e-05),\n",
       " ('hispanic_male_45_54_2011', 3.59644138298343e-05),\n",
       " ('employed_agriculture_forestry_fishing_hunting_mining_2012',\n",
       "  3.297092295428185e-05),\n",
       " ('amerindian_pop_2013', 3.218617936860408e-05)]"
      ]
     },
     "execution_count": 213,
     "metadata": {},
     "output_type": "execute_result"
    }
   ],
   "source": [
    "sorted(list(zip(x_train,model_gradient.feature_importances_)), key = lambda x: x[1], reverse = True)[0:20]"
   ]
  },
  {
   "cell_type": "code",
   "execution_count": 214,
   "metadata": {},
   "outputs": [
    {
     "data": {
      "text/html": [
       "<div>\n",
       "<style scoped>\n",
       "    .dataframe tbody tr th:only-of-type {\n",
       "        vertical-align: middle;\n",
       "    }\n",
       "\n",
       "    .dataframe tbody tr th {\n",
       "        vertical-align: top;\n",
       "    }\n",
       "\n",
       "    .dataframe thead th {\n",
       "        text-align: right;\n",
       "    }\n",
       "</style>\n",
       "<table border=\"1\" class=\"dataframe\">\n",
       "  <thead>\n",
       "    <tr style=\"text-align: right;\">\n",
       "      <th></th>\n",
       "      <th>feature</th>\n",
       "      <th>score</th>\n",
       "    </tr>\n",
       "  </thead>\n",
       "  <tbody>\n",
       "    <tr>\n",
       "      <td>0</td>\n",
       "      <td>zri_2015</td>\n",
       "      <td>0.994864</td>\n",
       "    </tr>\n",
       "    <tr>\n",
       "      <td>1</td>\n",
       "      <td>owner_occupied_housing_units_upper_value_quart...</td>\n",
       "      <td>0.001562</td>\n",
       "    </tr>\n",
       "    <tr>\n",
       "      <td>2</td>\n",
       "      <td>zri_2014</td>\n",
       "      <td>0.000606</td>\n",
       "    </tr>\n",
       "    <tr>\n",
       "      <td>3</td>\n",
       "      <td>median_rent_2011</td>\n",
       "      <td>0.000557</td>\n",
       "    </tr>\n",
       "    <tr>\n",
       "      <td>4</td>\n",
       "      <td>owner_occupied_housing_units_median_value_2011</td>\n",
       "      <td>0.000328</td>\n",
       "    </tr>\n",
       "    <tr>\n",
       "      <td>5</td>\n",
       "      <td>median_rent_2013</td>\n",
       "      <td>0.000313</td>\n",
       "    </tr>\n",
       "    <tr>\n",
       "      <td>6</td>\n",
       "      <td>median_rent_2012</td>\n",
       "      <td>0.000197</td>\n",
       "    </tr>\n",
       "    <tr>\n",
       "      <td>7</td>\n",
       "      <td>percent_income_spent_on_rent_2013</td>\n",
       "      <td>0.000090</td>\n",
       "    </tr>\n",
       "    <tr>\n",
       "      <td>8</td>\n",
       "      <td>zri_2013</td>\n",
       "      <td>0.000057</td>\n",
       "    </tr>\n",
       "    <tr>\n",
       "      <td>9</td>\n",
       "      <td>median_income_2011</td>\n",
       "      <td>0.000052</td>\n",
       "    </tr>\n",
       "    <tr>\n",
       "      <td>10</td>\n",
       "      <td>amerindian_including_hispanic_2013</td>\n",
       "      <td>0.000050</td>\n",
       "    </tr>\n",
       "    <tr>\n",
       "      <td>11</td>\n",
       "      <td>armed_forces_2011</td>\n",
       "      <td>0.000050</td>\n",
       "    </tr>\n",
       "    <tr>\n",
       "      <td>12</td>\n",
       "      <td>income_per_capita_2013</td>\n",
       "      <td>0.000045</td>\n",
       "    </tr>\n",
       "    <tr>\n",
       "      <td>13</td>\n",
       "      <td>armed_forces_2013</td>\n",
       "      <td>0.000043</td>\n",
       "    </tr>\n",
       "    <tr>\n",
       "      <td>14</td>\n",
       "      <td>amerindian_including_hispanic_2011</td>\n",
       "      <td>0.000040</td>\n",
       "    </tr>\n",
       "    <tr>\n",
       "      <td>15</td>\n",
       "      <td>dwellings_3_to_4_units_2013</td>\n",
       "      <td>0.000038</td>\n",
       "    </tr>\n",
       "    <tr>\n",
       "      <td>16</td>\n",
       "      <td>employed_agriculture_forestry_fishing_hunting_...</td>\n",
       "      <td>0.000038</td>\n",
       "    </tr>\n",
       "    <tr>\n",
       "      <td>17</td>\n",
       "      <td>hispanic_male_45_54_2011</td>\n",
       "      <td>0.000036</td>\n",
       "    </tr>\n",
       "    <tr>\n",
       "      <td>18</td>\n",
       "      <td>employed_agriculture_forestry_fishing_hunting_...</td>\n",
       "      <td>0.000033</td>\n",
       "    </tr>\n",
       "    <tr>\n",
       "      <td>19</td>\n",
       "      <td>amerindian_pop_2013</td>\n",
       "      <td>0.000032</td>\n",
       "    </tr>\n",
       "  </tbody>\n",
       "</table>\n",
       "</div>"
      ],
      "text/plain": [
       "                                              feature     score\n",
       "0                                            zri_2015  0.994864\n",
       "1   owner_occupied_housing_units_upper_value_quart...  0.001562\n",
       "2                                            zri_2014  0.000606\n",
       "3                                    median_rent_2011  0.000557\n",
       "4      owner_occupied_housing_units_median_value_2011  0.000328\n",
       "5                                    median_rent_2013  0.000313\n",
       "6                                    median_rent_2012  0.000197\n",
       "7                   percent_income_spent_on_rent_2013  0.000090\n",
       "8                                            zri_2013  0.000057\n",
       "9                                  median_income_2011  0.000052\n",
       "10                 amerindian_including_hispanic_2013  0.000050\n",
       "11                                  armed_forces_2011  0.000050\n",
       "12                             income_per_capita_2013  0.000045\n",
       "13                                  armed_forces_2013  0.000043\n",
       "14                 amerindian_including_hispanic_2011  0.000040\n",
       "15                        dwellings_3_to_4_units_2013  0.000038\n",
       "16  employed_agriculture_forestry_fishing_hunting_...  0.000038\n",
       "17                           hispanic_male_45_54_2011  0.000036\n",
       "18  employed_agriculture_forestry_fishing_hunting_...  0.000033\n",
       "19                                amerindian_pop_2013  0.000032"
      ]
     },
     "execution_count": 214,
     "metadata": {},
     "output_type": "execute_result"
    }
   ],
   "source": [
    "pd.DataFrame({'feature':[i[0] for i in sorted(list(zip(x_train,model_gradient.feature_importances_)), key = lambda x: x[1], reverse = True)[0:20]],\n",
    "             'score':[i[1] for i in sorted(list(zip(x_train,model_gradient.feature_importances_)), key = lambda x: x[1], reverse = True)[0:20]]})"
   ]
  },
  {
   "cell_type": "code",
   "execution_count": 215,
   "metadata": {},
   "outputs": [
    {
     "data": {
      "text/html": [
       "<div>\n",
       "<style scoped>\n",
       "    .dataframe tbody tr th:only-of-type {\n",
       "        vertical-align: middle;\n",
       "    }\n",
       "\n",
       "    .dataframe tbody tr th {\n",
       "        vertical-align: top;\n",
       "    }\n",
       "\n",
       "    .dataframe thead th {\n",
       "        text-align: right;\n",
       "    }\n",
       "</style>\n",
       "<table border=\"1\" class=\"dataframe\">\n",
       "  <thead>\n",
       "    <tr style=\"text-align: right;\">\n",
       "      <th></th>\n",
       "      <th>feature</th>\n",
       "      <th>score</th>\n",
       "    </tr>\n",
       "  </thead>\n",
       "  <tbody>\n",
       "    <tr>\n",
       "      <td>0</td>\n",
       "      <td>zri_2015</td>\n",
       "      <td>0.994864</td>\n",
       "    </tr>\n",
       "    <tr>\n",
       "      <td>1</td>\n",
       "      <td>owner_occupied_housing_units_upper_value_quart...</td>\n",
       "      <td>0.001562</td>\n",
       "    </tr>\n",
       "    <tr>\n",
       "      <td>2</td>\n",
       "      <td>zri_2014</td>\n",
       "      <td>0.000606</td>\n",
       "    </tr>\n",
       "    <tr>\n",
       "      <td>3</td>\n",
       "      <td>median_rent_2011</td>\n",
       "      <td>0.000557</td>\n",
       "    </tr>\n",
       "    <tr>\n",
       "      <td>4</td>\n",
       "      <td>owner_occupied_housing_units_median_value_2011</td>\n",
       "      <td>0.000328</td>\n",
       "    </tr>\n",
       "    <tr>\n",
       "      <td>5</td>\n",
       "      <td>median_rent_2013</td>\n",
       "      <td>0.000313</td>\n",
       "    </tr>\n",
       "    <tr>\n",
       "      <td>6</td>\n",
       "      <td>median_rent_2012</td>\n",
       "      <td>0.000197</td>\n",
       "    </tr>\n",
       "    <tr>\n",
       "      <td>7</td>\n",
       "      <td>percent_income_spent_on_rent_2013</td>\n",
       "      <td>0.000090</td>\n",
       "    </tr>\n",
       "    <tr>\n",
       "      <td>8</td>\n",
       "      <td>zri_2013</td>\n",
       "      <td>0.000057</td>\n",
       "    </tr>\n",
       "    <tr>\n",
       "      <td>9</td>\n",
       "      <td>median_income_2011</td>\n",
       "      <td>0.000052</td>\n",
       "    </tr>\n",
       "    <tr>\n",
       "      <td>10</td>\n",
       "      <td>amerindian_including_hispanic_2013</td>\n",
       "      <td>0.000050</td>\n",
       "    </tr>\n",
       "    <tr>\n",
       "      <td>11</td>\n",
       "      <td>armed_forces_2011</td>\n",
       "      <td>0.000050</td>\n",
       "    </tr>\n",
       "    <tr>\n",
       "      <td>12</td>\n",
       "      <td>income_per_capita_2013</td>\n",
       "      <td>0.000045</td>\n",
       "    </tr>\n",
       "    <tr>\n",
       "      <td>13</td>\n",
       "      <td>armed_forces_2013</td>\n",
       "      <td>0.000043</td>\n",
       "    </tr>\n",
       "    <tr>\n",
       "      <td>14</td>\n",
       "      <td>amerindian_including_hispanic_2011</td>\n",
       "      <td>0.000040</td>\n",
       "    </tr>\n",
       "    <tr>\n",
       "      <td>15</td>\n",
       "      <td>dwellings_3_to_4_units_2013</td>\n",
       "      <td>0.000038</td>\n",
       "    </tr>\n",
       "    <tr>\n",
       "      <td>16</td>\n",
       "      <td>employed_agriculture_forestry_fishing_hunting_...</td>\n",
       "      <td>0.000038</td>\n",
       "    </tr>\n",
       "    <tr>\n",
       "      <td>17</td>\n",
       "      <td>hispanic_male_45_54_2011</td>\n",
       "      <td>0.000036</td>\n",
       "    </tr>\n",
       "    <tr>\n",
       "      <td>18</td>\n",
       "      <td>employed_agriculture_forestry_fishing_hunting_...</td>\n",
       "      <td>0.000033</td>\n",
       "    </tr>\n",
       "    <tr>\n",
       "      <td>19</td>\n",
       "      <td>amerindian_pop_2013</td>\n",
       "      <td>0.000032</td>\n",
       "    </tr>\n",
       "  </tbody>\n",
       "</table>\n",
       "</div>"
      ],
      "text/plain": [
       "                                              feature     score\n",
       "0                                            zri_2015  0.994864\n",
       "1   owner_occupied_housing_units_upper_value_quart...  0.001562\n",
       "2                                            zri_2014  0.000606\n",
       "3                                    median_rent_2011  0.000557\n",
       "4      owner_occupied_housing_units_median_value_2011  0.000328\n",
       "5                                    median_rent_2013  0.000313\n",
       "6                                    median_rent_2012  0.000197\n",
       "7                   percent_income_spent_on_rent_2013  0.000090\n",
       "8                                            zri_2013  0.000057\n",
       "9                                  median_income_2011  0.000052\n",
       "10                 amerindian_including_hispanic_2013  0.000050\n",
       "11                                  armed_forces_2011  0.000050\n",
       "12                             income_per_capita_2013  0.000045\n",
       "13                                  armed_forces_2013  0.000043\n",
       "14                 amerindian_including_hispanic_2011  0.000040\n",
       "15                        dwellings_3_to_4_units_2013  0.000038\n",
       "16  employed_agriculture_forestry_fishing_hunting_...  0.000038\n",
       "17                           hispanic_male_45_54_2011  0.000036\n",
       "18  employed_agriculture_forestry_fishing_hunting_...  0.000033\n",
       "19                                amerindian_pop_2013  0.000032"
      ]
     },
     "execution_count": 215,
     "metadata": {},
     "output_type": "execute_result"
    }
   ],
   "source": [
    "pd.DataFrame({'feature':[i[0] for i in sorted(list(zip(x_train,model_gradient.feature_importances_)), key = lambda x: x[1], reverse = True)[0:20]],\n",
    "             'score':[i[1] for i in sorted(list(zip(x_train,model_gradient.feature_importances_)), key = lambda x: x[1], reverse = True)[0:20]]})"
   ]
  },
  {
   "cell_type": "markdown",
   "metadata": {},
   "source": [
    "# Regression without Zillow Rent Indexes from Previous Years"
   ]
  },
  {
   "cell_type": "code",
   "execution_count": 216,
   "metadata": {},
   "outputs": [],
   "source": [
    "x_train_new = total.iloc[:,9:708]\n",
    "x_test_new = total.iloc[:,242:941]"
   ]
  },
  {
   "cell_type": "code",
   "execution_count": 217,
   "metadata": {},
   "outputs": [],
   "source": [
    "x_train_new = np.log(x_train_new+1)\n",
    "x_test_new = np.log(x_test_new+1)"
   ]
  },
  {
   "cell_type": "code",
   "execution_count": 218,
   "metadata": {},
   "outputs": [],
   "source": [
    "y_train_new = y_train.copy()\n",
    "y_test_new = y_test.copy()"
   ]
  },
  {
   "cell_type": "code",
   "execution_count": 219,
   "metadata": {},
   "outputs": [],
   "source": [
    "model_ols_new = LinearRegression()\n",
    "model_lasso_new = Lasso()\n",
    "model_ridge_new = Ridge()\n",
    "model_gradient_new = GradientBoostingRegressor()"
   ]
  },
  {
   "cell_type": "code",
   "execution_count": 220,
   "metadata": {},
   "outputs": [
    {
     "data": {
      "text/plain": [
       "GradientBoostingRegressor(alpha=0.9, criterion='friedman_mse', init=None,\n",
       "                          learning_rate=0.1, loss='ls', max_depth=3,\n",
       "                          max_features=None, max_leaf_nodes=None,\n",
       "                          min_impurity_decrease=0.0, min_impurity_split=None,\n",
       "                          min_samples_leaf=1, min_samples_split=2,\n",
       "                          min_weight_fraction_leaf=0.0, n_estimators=100,\n",
       "                          n_iter_no_change=None, presort='auto',\n",
       "                          random_state=None, subsample=1.0, tol=0.0001,\n",
       "                          validation_fraction=0.1, verbose=0, warm_start=False)"
      ]
     },
     "execution_count": 220,
     "metadata": {},
     "output_type": "execute_result"
    }
   ],
   "source": [
    "model_ols_new.fit(x_train_new, y_train_new)\n",
    "model_lasso_new.fit(x_train_new, y_train_new)\n",
    "model_ridge_new.fit(x_train_new, y_train_new)\n",
    "model_gradient_new.fit(x_train_new, y_train_new)"
   ]
  },
  {
   "cell_type": "markdown",
   "metadata": {},
   "source": [
    "### New Train Scores"
   ]
  },
  {
   "cell_type": "code",
   "execution_count": 221,
   "metadata": {},
   "outputs": [
    {
     "name": "stdout",
     "output_type": "stream",
     "text": [
      "Simple Linear Train Score: 0.892\n",
      "Lasso Train Score: 0.000\n",
      "Ridge Train Score: 0.891\n",
      "Gradient Regressor Train Score: 0.904\n"
     ]
    }
   ],
   "source": [
    "print('Simple Linear Train Score: %.3f'%model_ols_new.score(x_train_new, y_train_new))\n",
    "print('Lasso Train Score: %.3f'%model_lasso_new.score(x_train_new, y_train_new))\n",
    "print('Ridge Train Score: %.3f'%model_ridge_new.score(x_train_new, y_train_new))\n",
    "print('Gradient Regressor Train Score: %.3f'%model_gradient_new.score(x_train_new, y_train_new))"
   ]
  },
  {
   "cell_type": "markdown",
   "metadata": {},
   "source": [
    "### New Test Scores"
   ]
  },
  {
   "cell_type": "code",
   "execution_count": 222,
   "metadata": {},
   "outputs": [
    {
     "name": "stdout",
     "output_type": "stream",
     "text": [
      "Simple Linear Test Score: 0.875\n",
      "Lasso Test Score: -0.001\n",
      "Ridge Test Score: 0.877\n",
      "Gradient Regressor Test Score: 0.892\n"
     ]
    }
   ],
   "source": [
    "print('Simple Linear Test Score: %.3f'%model_ols_new.score(x_test_new, y_test_new))\n",
    "print('Lasso Test Score: %.3f'%model_lasso_new.score(x_test_new, y_test_new))\n",
    "print('Ridge Test Score: %.3f'%model_ridge_new.score(x_test_new, y_test_new))\n",
    "print('Gradient Regressor Test Score: %.3f'%model_gradient_new.score(x_test_new, y_test_new))"
   ]
  },
  {
   "cell_type": "markdown",
   "metadata": {},
   "source": [
    "### New Kaggle Scores"
   ]
  },
  {
   "cell_type": "code",
   "execution_count": 223,
   "metadata": {},
   "outputs": [
    {
     "name": "stdout",
     "output_type": "stream",
     "text": [
      "Simple Linear Kaggle Score: 0.12652\n",
      "Lasso Kaggle Score: 0.35816\n",
      "Ridge Kaggle Score: 0.12544\n",
      "Gradient Regressor Kaggle Score: 0.11787\n"
     ]
    }
   ],
   "source": [
    "print('Simple Linear Kaggle Score: %.5f' % sqrt(mean_squared_error(model_ols_new.predict(x_test_new), y_test_new)))\n",
    "print('Lasso Kaggle Score: %.5f' % sqrt(mean_squared_error(model_lasso_new.predict(x_test_new), y_test_new)))\n",
    "print('Ridge Kaggle Score: %.5f' % sqrt(mean_squared_error(model_ridge_new.predict(x_test_new), y_test_new)))\n",
    "print('Gradient Regressor Kaggle Score: %.5f' % sqrt(mean_squared_error(model_gradient_new.predict(x_test_new), y_test_new)))"
   ]
  },
  {
   "cell_type": "markdown",
   "metadata": {},
   "source": [
    "### New Features Importances"
   ]
  },
  {
   "cell_type": "code",
   "execution_count": 224,
   "metadata": {},
   "outputs": [
    {
     "data": {
      "text/plain": [
       "[('owner_occupied_housing_units_median_value_2011', 0.6665790675283833),\n",
       " ('median_rent_2013', 0.10221472594656697),\n",
       " ('owner_occupied_housing_units_upper_value_quartile_2011',\n",
       "  0.05794873412187845),\n",
       " ('median_rent_2012', 0.030662086813726157),\n",
       " ('owner_occupied_housing_units_lower_value_quartile_2011',\n",
       "  0.029695178909727428),\n",
       " ('median_rent_2011', 0.014280569201056812),\n",
       " ('owner_occupied_housing_units_lower_value_quartile_2012',\n",
       "  0.008931338014579994),\n",
       " ('owner_occupied_housing_units_lower_value_quartile_2013',\n",
       "  0.007092196549106286),\n",
       " ('owner_occupied_housing_units_upper_value_quartile_2013',\n",
       "  0.005874948545046292),\n",
       " ('hispanic_male_55_64_2011', 0.0035127789618525944),\n",
       " ('hispanic_male_55_64_2013', 0.0031262242919087107),\n",
       " ('hispanic_male_45_54_2013', 0.003115499904768904),\n",
       " ('owner_occupied_housing_units_median_value_2013', 0.0027096855050482292),\n",
       " ('hispanic_male_45_54_2011', 0.002427924014860179),\n",
       " ('commute_60_89_mins_2013', 0.0019723963355146178),\n",
       " ('not_us_citizen_pop_2013', 0.0019358459387726083),\n",
       " ('hispanic_male_45_54_2012', 0.0018660707517786585),\n",
       " ('armed_forces_2011', 0.0018215692664567795),\n",
       " ('commuters_by_public_transportation_2011', 0.0015919547535836554),\n",
       " ('median_year_structure_built_2013', 0.0014604983175480518)]"
      ]
     },
     "execution_count": 224,
     "metadata": {},
     "output_type": "execute_result"
    }
   ],
   "source": [
    "sorted(list(zip(x_train_new,model_gradient_new.feature_importances_)), key = lambda x: x[1],reverse = True)[0:20]"
   ]
  },
  {
   "cell_type": "code",
   "execution_count": 225,
   "metadata": {},
   "outputs": [
    {
     "data": {
      "text/html": [
       "<div>\n",
       "<style scoped>\n",
       "    .dataframe tbody tr th:only-of-type {\n",
       "        vertical-align: middle;\n",
       "    }\n",
       "\n",
       "    .dataframe tbody tr th {\n",
       "        vertical-align: top;\n",
       "    }\n",
       "\n",
       "    .dataframe thead th {\n",
       "        text-align: right;\n",
       "    }\n",
       "</style>\n",
       "<table border=\"1\" class=\"dataframe\">\n",
       "  <thead>\n",
       "    <tr style=\"text-align: right;\">\n",
       "      <th></th>\n",
       "      <th>feature</th>\n",
       "      <th>score</th>\n",
       "    </tr>\n",
       "  </thead>\n",
       "  <tbody>\n",
       "    <tr>\n",
       "      <td>0</td>\n",
       "      <td>owner_occupied_housing_units_median_value_2011</td>\n",
       "      <td>0.666579</td>\n",
       "    </tr>\n",
       "    <tr>\n",
       "      <td>1</td>\n",
       "      <td>median_rent_2013</td>\n",
       "      <td>0.102215</td>\n",
       "    </tr>\n",
       "    <tr>\n",
       "      <td>2</td>\n",
       "      <td>owner_occupied_housing_units_upper_value_quart...</td>\n",
       "      <td>0.057949</td>\n",
       "    </tr>\n",
       "    <tr>\n",
       "      <td>3</td>\n",
       "      <td>median_rent_2012</td>\n",
       "      <td>0.030662</td>\n",
       "    </tr>\n",
       "    <tr>\n",
       "      <td>4</td>\n",
       "      <td>owner_occupied_housing_units_lower_value_quart...</td>\n",
       "      <td>0.029695</td>\n",
       "    </tr>\n",
       "    <tr>\n",
       "      <td>5</td>\n",
       "      <td>median_rent_2011</td>\n",
       "      <td>0.014281</td>\n",
       "    </tr>\n",
       "    <tr>\n",
       "      <td>6</td>\n",
       "      <td>owner_occupied_housing_units_lower_value_quart...</td>\n",
       "      <td>0.008931</td>\n",
       "    </tr>\n",
       "    <tr>\n",
       "      <td>7</td>\n",
       "      <td>owner_occupied_housing_units_lower_value_quart...</td>\n",
       "      <td>0.007092</td>\n",
       "    </tr>\n",
       "    <tr>\n",
       "      <td>8</td>\n",
       "      <td>owner_occupied_housing_units_upper_value_quart...</td>\n",
       "      <td>0.005875</td>\n",
       "    </tr>\n",
       "    <tr>\n",
       "      <td>9</td>\n",
       "      <td>hispanic_male_55_64_2011</td>\n",
       "      <td>0.003513</td>\n",
       "    </tr>\n",
       "    <tr>\n",
       "      <td>10</td>\n",
       "      <td>hispanic_male_55_64_2013</td>\n",
       "      <td>0.003126</td>\n",
       "    </tr>\n",
       "    <tr>\n",
       "      <td>11</td>\n",
       "      <td>hispanic_male_45_54_2013</td>\n",
       "      <td>0.003115</td>\n",
       "    </tr>\n",
       "    <tr>\n",
       "      <td>12</td>\n",
       "      <td>owner_occupied_housing_units_median_value_2013</td>\n",
       "      <td>0.002710</td>\n",
       "    </tr>\n",
       "    <tr>\n",
       "      <td>13</td>\n",
       "      <td>hispanic_male_45_54_2011</td>\n",
       "      <td>0.002428</td>\n",
       "    </tr>\n",
       "    <tr>\n",
       "      <td>14</td>\n",
       "      <td>commute_60_89_mins_2013</td>\n",
       "      <td>0.001972</td>\n",
       "    </tr>\n",
       "    <tr>\n",
       "      <td>15</td>\n",
       "      <td>not_us_citizen_pop_2013</td>\n",
       "      <td>0.001936</td>\n",
       "    </tr>\n",
       "    <tr>\n",
       "      <td>16</td>\n",
       "      <td>hispanic_male_45_54_2012</td>\n",
       "      <td>0.001866</td>\n",
       "    </tr>\n",
       "    <tr>\n",
       "      <td>17</td>\n",
       "      <td>armed_forces_2011</td>\n",
       "      <td>0.001822</td>\n",
       "    </tr>\n",
       "    <tr>\n",
       "      <td>18</td>\n",
       "      <td>commuters_by_public_transportation_2011</td>\n",
       "      <td>0.001592</td>\n",
       "    </tr>\n",
       "    <tr>\n",
       "      <td>19</td>\n",
       "      <td>median_year_structure_built_2013</td>\n",
       "      <td>0.001460</td>\n",
       "    </tr>\n",
       "  </tbody>\n",
       "</table>\n",
       "</div>"
      ],
      "text/plain": [
       "                                              feature     score\n",
       "0      owner_occupied_housing_units_median_value_2011  0.666579\n",
       "1                                    median_rent_2013  0.102215\n",
       "2   owner_occupied_housing_units_upper_value_quart...  0.057949\n",
       "3                                    median_rent_2012  0.030662\n",
       "4   owner_occupied_housing_units_lower_value_quart...  0.029695\n",
       "5                                    median_rent_2011  0.014281\n",
       "6   owner_occupied_housing_units_lower_value_quart...  0.008931\n",
       "7   owner_occupied_housing_units_lower_value_quart...  0.007092\n",
       "8   owner_occupied_housing_units_upper_value_quart...  0.005875\n",
       "9                            hispanic_male_55_64_2011  0.003513\n",
       "10                           hispanic_male_55_64_2013  0.003126\n",
       "11                           hispanic_male_45_54_2013  0.003115\n",
       "12     owner_occupied_housing_units_median_value_2013  0.002710\n",
       "13                           hispanic_male_45_54_2011  0.002428\n",
       "14                            commute_60_89_mins_2013  0.001972\n",
       "15                            not_us_citizen_pop_2013  0.001936\n",
       "16                           hispanic_male_45_54_2012  0.001866\n",
       "17                                  armed_forces_2011  0.001822\n",
       "18            commuters_by_public_transportation_2011  0.001592\n",
       "19                   median_year_structure_built_2013  0.001460"
      ]
     },
     "execution_count": 225,
     "metadata": {},
     "output_type": "execute_result"
    }
   ],
   "source": [
    "pd.DataFrame({'feature':[i[0] for i in sorted(list(zip(x_train_new,model_gradient_new.feature_importances_)), key = lambda x: x[1], reverse = True)[0:20]],\n",
    "             'score':[i[1] for i in sorted(list(zip(x_train_new,model_gradient_new.feature_importances_)), key = lambda x: x[1], reverse = True)[0:20]]})"
   ]
  },
  {
   "cell_type": "markdown",
   "metadata": {},
   "source": [
    "# Try predicting 2019 (based on 2014, 2015, 2016) \n",
    "## none of the 2014, 2015, 2016 were used in original training\n",
    "## predicting on entirely new data"
   ]
  },
  {
   "cell_type": "code",
   "execution_count": 226,
   "metadata": {},
   "outputs": [
    {
     "data": {
      "text/html": [
       "<div>\n",
       "<style scoped>\n",
       "    .dataframe tbody tr th:only-of-type {\n",
       "        vertical-align: middle;\n",
       "    }\n",
       "\n",
       "    .dataframe tbody tr th {\n",
       "        vertical-align: top;\n",
       "    }\n",
       "\n",
       "    .dataframe thead th {\n",
       "        text-align: right;\n",
       "    }\n",
       "</style>\n",
       "<table border=\"1\" class=\"dataframe\">\n",
       "  <thead>\n",
       "    <tr style=\"text-align: right;\">\n",
       "      <th></th>\n",
       "      <th>zri_2016</th>\n",
       "      <th>zri_2017</th>\n",
       "      <th>zri_2018</th>\n",
       "    </tr>\n",
       "    <tr>\n",
       "      <th>zip</th>\n",
       "      <th></th>\n",
       "      <th></th>\n",
       "      <th></th>\n",
       "    </tr>\n",
       "  </thead>\n",
       "  <tbody>\n",
       "    <tr>\n",
       "      <td>60657</td>\n",
       "      <td>2140.416667</td>\n",
       "      <td>2127.416667</td>\n",
       "      <td>2098.333333</td>\n",
       "    </tr>\n",
       "    <tr>\n",
       "      <td>77494</td>\n",
       "      <td>1819.833333</td>\n",
       "      <td>1770.083333</td>\n",
       "      <td>1788.166667</td>\n",
       "    </tr>\n",
       "    <tr>\n",
       "      <td>60614</td>\n",
       "      <td>2346.500000</td>\n",
       "      <td>2344.000000</td>\n",
       "      <td>2314.250000</td>\n",
       "    </tr>\n",
       "    <tr>\n",
       "      <td>77084</td>\n",
       "      <td>1414.083333</td>\n",
       "      <td>1372.750000</td>\n",
       "      <td>1414.416667</td>\n",
       "    </tr>\n",
       "    <tr>\n",
       "      <td>79936</td>\n",
       "      <td>1011.916667</td>\n",
       "      <td>992.583333</td>\n",
       "      <td>973.916667</td>\n",
       "    </tr>\n",
       "    <tr>\n",
       "      <td>...</td>\n",
       "      <td>...</td>\n",
       "      <td>...</td>\n",
       "      <td>...</td>\n",
       "    </tr>\n",
       "    <tr>\n",
       "      <td>6763</td>\n",
       "      <td>1455.750000</td>\n",
       "      <td>1417.583333</td>\n",
       "      <td>1497.666667</td>\n",
       "    </tr>\n",
       "    <tr>\n",
       "      <td>3836</td>\n",
       "      <td>1251.291667</td>\n",
       "      <td>1269.000000</td>\n",
       "      <td>1408.833333</td>\n",
       "    </tr>\n",
       "    <tr>\n",
       "      <td>8740</td>\n",
       "      <td>1545.250000</td>\n",
       "      <td>1585.833333</td>\n",
       "      <td>1624.583333</td>\n",
       "    </tr>\n",
       "    <tr>\n",
       "      <td>56443</td>\n",
       "      <td>1311.250000</td>\n",
       "      <td>1282.916667</td>\n",
       "      <td>1317.250000</td>\n",
       "    </tr>\n",
       "    <tr>\n",
       "      <td>41101</td>\n",
       "      <td>865.083333</td>\n",
       "      <td>851.666667</td>\n",
       "      <td>855.916667</td>\n",
       "    </tr>\n",
       "  </tbody>\n",
       "</table>\n",
       "<p>8044 rows × 3 columns</p>\n",
       "</div>"
      ],
      "text/plain": [
       "          zri_2016     zri_2017     zri_2018\n",
       "zip                                         \n",
       "60657  2140.416667  2127.416667  2098.333333\n",
       "77494  1819.833333  1770.083333  1788.166667\n",
       "60614  2346.500000  2344.000000  2314.250000\n",
       "77084  1414.083333  1372.750000  1414.416667\n",
       "79936  1011.916667   992.583333   973.916667\n",
       "...            ...          ...          ...\n",
       "6763   1455.750000  1417.583333  1497.666667\n",
       "3836   1251.291667  1269.000000  1408.833333\n",
       "8740   1545.250000  1585.833333  1624.583333\n",
       "56443  1311.250000  1282.916667  1317.250000\n",
       "41101   865.083333   851.666667   855.916667\n",
       "\n",
       "[8044 rows x 3 columns]"
      ]
     },
     "execution_count": 226,
     "metadata": {},
     "output_type": "execute_result"
    }
   ],
   "source": [
    "total.iloc[:,5:8]"
   ]
  },
  {
   "cell_type": "code",
   "execution_count": 227,
   "metadata": {},
   "outputs": [],
   "source": [
    "x_test_2019 = pd.concat([total.iloc[:,5:8],total.iloc[:,708:]], join = 'inner', axis = 1)\n",
    "y_test_2019 = total.iloc[:,8]"
   ]
  },
  {
   "cell_type": "markdown",
   "metadata": {},
   "source": [
    "### Log Them"
   ]
  },
  {
   "cell_type": "code",
   "execution_count": 228,
   "metadata": {},
   "outputs": [],
   "source": [
    "x_test_2019 = np.log(x_test_2019+1)\n",
    "y_test_2019 = np.log(y_test_2019)"
   ]
  },
  {
   "cell_type": "markdown",
   "metadata": {},
   "source": [
    "### Scores"
   ]
  },
  {
   "cell_type": "code",
   "execution_count": 229,
   "metadata": {},
   "outputs": [
    {
     "name": "stdout",
     "output_type": "stream",
     "text": [
      "Simple Linear Test Score: 0.991\n",
      "Lasso Test Score: -0.009\n",
      "Ridge Test Score: 0.991\n",
      "Gradient Regressor Test Score: 0.990\n"
     ]
    }
   ],
   "source": [
    "#MEAN\n",
    "print('Simple Linear Test Score: %.3f'%model_ols.score(x_test_2019, y_test_2019))\n",
    "print('Lasso Test Score: %.3f'%model_lasso.score(x_test_2019, y_test_2019))\n",
    "print('Ridge Test Score: %.3f'%model_ridge.score(x_test_2019, y_test_2019))\n",
    "print('Gradient Regressor Test Score: %.3f'%model_gradient.score(x_test_2019, y_test_2019))"
   ]
  },
  {
   "cell_type": "markdown",
   "metadata": {},
   "source": [
    "### Kaggle Scores"
   ]
  },
  {
   "cell_type": "code",
   "execution_count": 230,
   "metadata": {},
   "outputs": [
    {
     "name": "stdout",
     "output_type": "stream",
     "text": [
      "Simple Linear Kaggle Score: 0.03381\n",
      "Lasso Kaggle Score: 0.36112\n",
      "Ridge Kaggle Score: 0.03476\n",
      "Gradient Regressor Kaggle Score: 0.03664\n"
     ]
    }
   ],
   "source": [
    "print('Simple Linear Kaggle Score: %.5f' % sqrt(mean_squared_error(model_ols.predict(x_test_2019), y_test_2019)))\n",
    "print('Lasso Kaggle Score: %.5f' % sqrt(mean_squared_error(model_lasso.predict(x_test_2019), y_test_2019)))\n",
    "print('Ridge Kaggle Score: %.5f' % sqrt(mean_squared_error(model_ridge.predict(x_test_2019), y_test_2019)))\n",
    "print('Gradient Regressor Kaggle Score: %.5f' % sqrt(mean_squared_error(model_gradient.predict(x_test_2019), y_test_2019)))"
   ]
  },
  {
   "cell_type": "markdown",
   "metadata": {},
   "source": [
    "# Predictions just for New York City\n",
    "## Eugene Told us that performance for separate regions will be worse that for the dataset overall"
   ]
  },
  {
   "cell_type": "code",
   "execution_count": 231,
   "metadata": {},
   "outputs": [],
   "source": [
    "nyc_zip = pd.read_csv('zip_borough.csv').set_index('zip')"
   ]
  },
  {
   "cell_type": "code",
   "execution_count": 232,
   "metadata": {},
   "outputs": [],
   "source": [
    "x_test_nyc = pd.concat([nyc_zip, x_test_2019], join='inner', axis = 1).drop(['borough'], axis = 1)"
   ]
  },
  {
   "cell_type": "code",
   "execution_count": 233,
   "metadata": {},
   "outputs": [],
   "source": [
    "y_test_nyc = pd.concat([nyc_zip, y_test_2019] ,join = 'inner',axis = 1).drop(['borough'], axis = 1)"
   ]
  },
  {
   "cell_type": "code",
   "execution_count": 234,
   "metadata": {},
   "outputs": [
    {
     "name": "stdout",
     "output_type": "stream",
     "text": [
      "Simple Linear Kaggle Score: 0.03288\n",
      "Lasso Kaggle Score: 0.48209\n",
      "Ridge Kaggle Score: 0.03630\n",
      "Gradient Regressor Kaggle Score: 0.03447\n"
     ]
    }
   ],
   "source": [
    "print('Simple Linear Kaggle Score: %.5f' % sqrt(mean_squared_error(model_ols.predict(x_test_nyc), y_test_nyc)))\n",
    "print('Lasso Kaggle Score: %.5f' % sqrt(mean_squared_error(model_lasso.predict(x_test_nyc), y_test_nyc)))\n",
    "print('Ridge Kaggle Score: %.5f' % sqrt(mean_squared_error(model_ridge.predict(x_test_nyc), y_test_nyc)))\n",
    "print('Gradient Regressor Kaggle Score: %.5f' % sqrt(mean_squared_error(model_gradient.predict(x_test_nyc), y_test_nyc)))"
   ]
  },
  {
   "cell_type": "code",
   "execution_count": 235,
   "metadata": {},
   "outputs": [
    {
     "data": {
      "text/plain": [
       "['zri_2015',\n",
       " 'owner_occupied_housing_units_upper_value_quartile_2011',\n",
       " 'zri_2014',\n",
       " 'median_rent_2011',\n",
       " 'owner_occupied_housing_units_median_value_2011',\n",
       " 'median_rent_2013',\n",
       " 'median_rent_2012',\n",
       " 'percent_income_spent_on_rent_2013',\n",
       " 'zri_2013',\n",
       " 'median_income_2011',\n",
       " 'amerindian_including_hispanic_2013',\n",
       " 'armed_forces_2011',\n",
       " 'income_per_capita_2013',\n",
       " 'armed_forces_2013',\n",
       " 'amerindian_including_hispanic_2011',\n",
       " 'dwellings_3_to_4_units_2013',\n",
       " 'employed_agriculture_forestry_fishing_hunting_mining_2013',\n",
       " 'hispanic_male_45_54_2011',\n",
       " 'employed_agriculture_forestry_fishing_hunting_mining_2012',\n",
       " 'amerindian_pop_2013']"
      ]
     },
     "execution_count": 235,
     "metadata": {},
     "output_type": "execute_result"
    }
   ],
   "source": [
    "[i[0] for i in sorted(list(zip(x_train,model_gradient.feature_importances_)), key = lambda x: x[1], reverse = True)[0:20]]"
   ]
  },
  {
   "cell_type": "code",
   "execution_count": 236,
   "metadata": {},
   "outputs": [],
   "source": [
    "predictions = pd.DataFrame(model_gradient.predict(x_test_2019),columns = ['prediction'], index = y_test_2019.index)"
   ]
  },
  {
   "cell_type": "code",
   "execution_count": 237,
   "metadata": {},
   "outputs": [],
   "source": [
    "pred_NYC = pd.concat([nyc_zip, predictions], join = 'inner', axis = 1).drop(['borough'], axis = 1)"
   ]
  },
  {
   "cell_type": "code",
   "execution_count": 238,
   "metadata": {},
   "outputs": [
    {
     "data": {
      "text/plain": [
       "0.03447219010230633"
      ]
     },
     "execution_count": 238,
     "metadata": {},
     "output_type": "execute_result"
    }
   ],
   "source": [
    "sqrt(mean_squared_error(pred_NYC, y_test_nyc))"
   ]
  },
  {
   "cell_type": "markdown",
   "metadata": {},
   "source": [
    "## Predicting Zillow Rent Index using `only` Zillow Rent Index from previous years"
   ]
  },
  {
   "cell_type": "code",
   "execution_count": 239,
   "metadata": {},
   "outputs": [
    {
     "data": {
      "text/html": [
       "<div>\n",
       "<style scoped>\n",
       "    .dataframe tbody tr th:only-of-type {\n",
       "        vertical-align: middle;\n",
       "    }\n",
       "\n",
       "    .dataframe tbody tr th {\n",
       "        vertical-align: top;\n",
       "    }\n",
       "\n",
       "    .dataframe thead th {\n",
       "        text-align: right;\n",
       "    }\n",
       "</style>\n",
       "<table border=\"1\" class=\"dataframe\">\n",
       "  <thead>\n",
       "    <tr style=\"text-align: right;\">\n",
       "      <th></th>\n",
       "      <th>zri_2011</th>\n",
       "      <th>zri_2012</th>\n",
       "      <th>zri_2013</th>\n",
       "      <th>zri_2014</th>\n",
       "      <th>zri_2015</th>\n",
       "      <th>zri_2016</th>\n",
       "      <th>zri_2017</th>\n",
       "      <th>zri_2018</th>\n",
       "      <th>zri_2019</th>\n",
       "    </tr>\n",
       "    <tr>\n",
       "      <th>zip</th>\n",
       "      <th></th>\n",
       "      <th></th>\n",
       "      <th></th>\n",
       "      <th></th>\n",
       "      <th></th>\n",
       "      <th></th>\n",
       "      <th></th>\n",
       "      <th></th>\n",
       "      <th></th>\n",
       "    </tr>\n",
       "  </thead>\n",
       "  <tbody>\n",
       "    <tr>\n",
       "      <td>60657</td>\n",
       "      <td>1787.250000</td>\n",
       "      <td>1866.833333</td>\n",
       "      <td>1955.666667</td>\n",
       "      <td>2005.666667</td>\n",
       "      <td>2073.500000</td>\n",
       "      <td>2140.416667</td>\n",
       "      <td>2127.416667</td>\n",
       "      <td>2098.333333</td>\n",
       "      <td>2085.833333</td>\n",
       "    </tr>\n",
       "    <tr>\n",
       "      <td>77494</td>\n",
       "      <td>1584.500000</td>\n",
       "      <td>1630.583333</td>\n",
       "      <td>1786.833333</td>\n",
       "      <td>1956.833333</td>\n",
       "      <td>1921.916667</td>\n",
       "      <td>1819.833333</td>\n",
       "      <td>1770.083333</td>\n",
       "      <td>1788.166667</td>\n",
       "      <td>1763.416667</td>\n",
       "    </tr>\n",
       "    <tr>\n",
       "      <td>60614</td>\n",
       "      <td>1897.583333</td>\n",
       "      <td>2014.666667</td>\n",
       "      <td>2148.000000</td>\n",
       "      <td>2202.583333</td>\n",
       "      <td>2271.000000</td>\n",
       "      <td>2346.500000</td>\n",
       "      <td>2344.000000</td>\n",
       "      <td>2314.250000</td>\n",
       "      <td>2306.583333</td>\n",
       "    </tr>\n",
       "    <tr>\n",
       "      <td>77084</td>\n",
       "      <td>1064.666667</td>\n",
       "      <td>1116.333333</td>\n",
       "      <td>1205.916667</td>\n",
       "      <td>1327.916667</td>\n",
       "      <td>1417.166667</td>\n",
       "      <td>1414.083333</td>\n",
       "      <td>1372.750000</td>\n",
       "      <td>1414.416667</td>\n",
       "      <td>1404.250000</td>\n",
       "    </tr>\n",
       "    <tr>\n",
       "      <td>79936</td>\n",
       "      <td>999.166667</td>\n",
       "      <td>1005.833333</td>\n",
       "      <td>961.666667</td>\n",
       "      <td>984.916667</td>\n",
       "      <td>1014.833333</td>\n",
       "      <td>1011.916667</td>\n",
       "      <td>992.583333</td>\n",
       "      <td>973.916667</td>\n",
       "      <td>947.833333</td>\n",
       "    </tr>\n",
       "  </tbody>\n",
       "</table>\n",
       "</div>"
      ],
      "text/plain": [
       "          zri_2011     zri_2012     zri_2013     zri_2014     zri_2015  \\\n",
       "zip                                                                      \n",
       "60657  1787.250000  1866.833333  1955.666667  2005.666667  2073.500000   \n",
       "77494  1584.500000  1630.583333  1786.833333  1956.833333  1921.916667   \n",
       "60614  1897.583333  2014.666667  2148.000000  2202.583333  2271.000000   \n",
       "77084  1064.666667  1116.333333  1205.916667  1327.916667  1417.166667   \n",
       "79936   999.166667  1005.833333   961.666667   984.916667  1014.833333   \n",
       "\n",
       "          zri_2016     zri_2017     zri_2018     zri_2019  \n",
       "zip                                                        \n",
       "60657  2140.416667  2127.416667  2098.333333  2085.833333  \n",
       "77494  1819.833333  1770.083333  1788.166667  1763.416667  \n",
       "60614  2346.500000  2344.000000  2314.250000  2306.583333  \n",
       "77084  1414.083333  1372.750000  1414.416667  1404.250000  \n",
       "79936  1011.916667   992.583333   973.916667   947.833333  "
      ]
     },
     "execution_count": 239,
     "metadata": {},
     "output_type": "execute_result"
    }
   ],
   "source": [
    "zillow_mean.head()"
   ]
  },
  {
   "cell_type": "code",
   "execution_count": 240,
   "metadata": {},
   "outputs": [
    {
     "data": {
      "text/html": [
       "<div>\n",
       "<style scoped>\n",
       "    .dataframe tbody tr th:only-of-type {\n",
       "        vertical-align: middle;\n",
       "    }\n",
       "\n",
       "    .dataframe tbody tr th {\n",
       "        vertical-align: top;\n",
       "    }\n",
       "\n",
       "    .dataframe thead th {\n",
       "        text-align: right;\n",
       "    }\n",
       "</style>\n",
       "<table border=\"1\" class=\"dataframe\">\n",
       "  <thead>\n",
       "    <tr style=\"text-align: right;\">\n",
       "      <th></th>\n",
       "      <th>zri_2011</th>\n",
       "      <th>zri_2012</th>\n",
       "      <th>zri_2013</th>\n",
       "    </tr>\n",
       "    <tr>\n",
       "      <th>zip</th>\n",
       "      <th></th>\n",
       "      <th></th>\n",
       "      <th></th>\n",
       "    </tr>\n",
       "  </thead>\n",
       "  <tbody>\n",
       "    <tr>\n",
       "      <td>60657</td>\n",
       "      <td>1787.250000</td>\n",
       "      <td>1866.833333</td>\n",
       "      <td>1955.666667</td>\n",
       "    </tr>\n",
       "    <tr>\n",
       "      <td>77494</td>\n",
       "      <td>1584.500000</td>\n",
       "      <td>1630.583333</td>\n",
       "      <td>1786.833333</td>\n",
       "    </tr>\n",
       "    <tr>\n",
       "      <td>60614</td>\n",
       "      <td>1897.583333</td>\n",
       "      <td>2014.666667</td>\n",
       "      <td>2148.000000</td>\n",
       "    </tr>\n",
       "    <tr>\n",
       "      <td>77084</td>\n",
       "      <td>1064.666667</td>\n",
       "      <td>1116.333333</td>\n",
       "      <td>1205.916667</td>\n",
       "    </tr>\n",
       "    <tr>\n",
       "      <td>79936</td>\n",
       "      <td>999.166667</td>\n",
       "      <td>1005.833333</td>\n",
       "      <td>961.666667</td>\n",
       "    </tr>\n",
       "  </tbody>\n",
       "</table>\n",
       "</div>"
      ],
      "text/plain": [
       "          zri_2011     zri_2012     zri_2013\n",
       "zip                                         \n",
       "60657  1787.250000  1866.833333  1955.666667\n",
       "77494  1584.500000  1630.583333  1786.833333\n",
       "60614  1897.583333  2014.666667  2148.000000\n",
       "77084  1064.666667  1116.333333  1205.916667\n",
       "79936   999.166667  1005.833333   961.666667"
      ]
     },
     "execution_count": 240,
     "metadata": {},
     "output_type": "execute_result"
    }
   ],
   "source": [
    "zri_x_train = zillow_mean.iloc[:,0:3]  #2011-2013\n",
    "zri_y_train = zillow_mean.iloc[:,5]    #2016\n",
    "zri_x_train.head()"
   ]
  },
  {
   "cell_type": "code",
   "execution_count": 241,
   "metadata": {},
   "outputs": [
    {
     "data": {
      "text/html": [
       "<div>\n",
       "<style scoped>\n",
       "    .dataframe tbody tr th:only-of-type {\n",
       "        vertical-align: middle;\n",
       "    }\n",
       "\n",
       "    .dataframe tbody tr th {\n",
       "        vertical-align: top;\n",
       "    }\n",
       "\n",
       "    .dataframe thead th {\n",
       "        text-align: right;\n",
       "    }\n",
       "</style>\n",
       "<table border=\"1\" class=\"dataframe\">\n",
       "  <thead>\n",
       "    <tr style=\"text-align: right;\">\n",
       "      <th></th>\n",
       "      <th>zri_2014</th>\n",
       "      <th>zri_2015</th>\n",
       "      <th>zri_2016</th>\n",
       "    </tr>\n",
       "    <tr>\n",
       "      <th>zip</th>\n",
       "      <th></th>\n",
       "      <th></th>\n",
       "      <th></th>\n",
       "    </tr>\n",
       "  </thead>\n",
       "  <tbody>\n",
       "    <tr>\n",
       "      <td>60657</td>\n",
       "      <td>2005.666667</td>\n",
       "      <td>2073.500000</td>\n",
       "      <td>2140.416667</td>\n",
       "    </tr>\n",
       "    <tr>\n",
       "      <td>77494</td>\n",
       "      <td>1956.833333</td>\n",
       "      <td>1921.916667</td>\n",
       "      <td>1819.833333</td>\n",
       "    </tr>\n",
       "    <tr>\n",
       "      <td>60614</td>\n",
       "      <td>2202.583333</td>\n",
       "      <td>2271.000000</td>\n",
       "      <td>2346.500000</td>\n",
       "    </tr>\n",
       "    <tr>\n",
       "      <td>77084</td>\n",
       "      <td>1327.916667</td>\n",
       "      <td>1417.166667</td>\n",
       "      <td>1414.083333</td>\n",
       "    </tr>\n",
       "    <tr>\n",
       "      <td>79936</td>\n",
       "      <td>984.916667</td>\n",
       "      <td>1014.833333</td>\n",
       "      <td>1011.916667</td>\n",
       "    </tr>\n",
       "  </tbody>\n",
       "</table>\n",
       "</div>"
      ],
      "text/plain": [
       "          zri_2014     zri_2015     zri_2016\n",
       "zip                                         \n",
       "60657  2005.666667  2073.500000  2140.416667\n",
       "77494  1956.833333  1921.916667  1819.833333\n",
       "60614  2202.583333  2271.000000  2346.500000\n",
       "77084  1327.916667  1417.166667  1414.083333\n",
       "79936   984.916667  1014.833333  1011.916667"
      ]
     },
     "execution_count": 241,
     "metadata": {},
     "output_type": "execute_result"
    }
   ],
   "source": [
    "zri_x_test = zillow_mean.iloc[:,3:6] #2014-2017\n",
    "zri_y_test = zillow_mean.iloc[:,8]   #2019\n",
    "zri_x_test.head()    "
   ]
  },
  {
   "cell_type": "code",
   "execution_count": 242,
   "metadata": {},
   "outputs": [],
   "source": [
    "zri_x_train = np.log(zri_x_train+1)\n",
    "zri_x_test = np.log(zri_x_test+1)\n",
    "zri_y_train = np.log(zri_y_train)\n",
    "zri_y_test = np.log(zri_y_test)"
   ]
  },
  {
   "cell_type": "code",
   "execution_count": 243,
   "metadata": {},
   "outputs": [
    {
     "data": {
      "text/plain": [
       "GradientBoostingRegressor(alpha=0.9, criterion='friedman_mse', init=None,\n",
       "                          learning_rate=0.1, loss='ls', max_depth=3,\n",
       "                          max_features=None, max_leaf_nodes=None,\n",
       "                          min_impurity_decrease=0.0, min_impurity_split=None,\n",
       "                          min_samples_leaf=1, min_samples_split=2,\n",
       "                          min_weight_fraction_leaf=0.0, n_estimators=100,\n",
       "                          n_iter_no_change=None, presort='auto',\n",
       "                          random_state=None, subsample=1.0, tol=0.0001,\n",
       "                          validation_fraction=0.1, verbose=0, warm_start=False)"
      ]
     },
     "execution_count": 243,
     "metadata": {},
     "output_type": "execute_result"
    }
   ],
   "source": [
    "zri_model_ols = LinearRegression()\n",
    "zri_model_lasso = Lasso()\n",
    "zri_model_ridge = Ridge()\n",
    "zri_model_gradient = GradientBoostingRegressor()\n",
    "\n",
    "zri_model_ols.fit(zri_x_train, zri_y_train)\n",
    "zri_model_lasso.fit(zri_x_train, zri_y_train)\n",
    "zri_model_ridge.fit(zri_x_train, zri_y_train)\n",
    "zri_model_gradient.fit(zri_x_train, zri_y_train)"
   ]
  },
  {
   "cell_type": "markdown",
   "metadata": {},
   "source": [
    "### Train Score"
   ]
  },
  {
   "cell_type": "code",
   "execution_count": 244,
   "metadata": {},
   "outputs": [
    {
     "name": "stdout",
     "output_type": "stream",
     "text": [
      "Simple Linear Train Score: 0.957\n",
      "Lasso Train Score: 0.000\n",
      "Ridge Train Score: 0.957\n",
      "Gradient Regressor Train Score: 0.961\n"
     ]
    }
   ],
   "source": [
    "#MEAN\n",
    "\n",
    "print(\"Simple Linear Train Score: %.3f\" %zri_model_ols.score(zri_x_train, zri_y_train))\n",
    "print(\"Lasso Train Score: %.3f\" %zri_model_lasso.score(zri_x_train, zri_y_train))\n",
    "print(\"Ridge Train Score: %.3f\" %zri_model_ridge.score(zri_x_train, zri_y_train))\n",
    "print(\"Gradient Regressor Train Score: %.3f\" %zri_model_gradient.score(zri_x_train, zri_y_train))"
   ]
  },
  {
   "cell_type": "markdown",
   "metadata": {},
   "source": [
    "### Test Score"
   ]
  },
  {
   "cell_type": "code",
   "execution_count": 245,
   "metadata": {},
   "outputs": [
    {
     "name": "stdout",
     "output_type": "stream",
     "text": [
      "Simple Linear Test Score: 0.927\n",
      "Lasso Test Score: -0.010\n",
      "Ridge Test Score: 0.925\n",
      "Gradient Regressor Test Score: 0.924\n"
     ]
    }
   ],
   "source": [
    "#MEAN\n",
    "\n",
    "print(\"Simple Linear Test Score: %.3f\" %zri_model_ols.score(zri_x_test, zri_y_test))\n",
    "print(\"Lasso Test Score: %.3f\" %zri_model_lasso.score(zri_x_test, zri_y_test))\n",
    "print(\"Ridge Test Score: %.3f\" %zri_model_ridge.score(zri_x_test, zri_y_test))\n",
    "print(\"Gradient Regressor Test Score: %.3f\" %zri_model_gradient.score(zri_x_test, zri_y_test))"
   ]
  },
  {
   "cell_type": "markdown",
   "metadata": {},
   "source": [
    "### Kaggle Score"
   ]
  },
  {
   "cell_type": "code",
   "execution_count": 246,
   "metadata": {},
   "outputs": [
    {
     "name": "stdout",
     "output_type": "stream",
     "text": [
      "Simple Linear Kaggle Score: 0.09745\n",
      "Lasso Kaggle Score: 0.36156\n",
      "Ridge Kaggle Score: 0.09837\n",
      "Gradient Regressor Kaggle Score: 0.09928\n"
     ]
    }
   ],
   "source": [
    "print('Simple Linear Kaggle Score: %.5f' % sqrt(mean_squared_error(zri_model_ols.predict(zri_x_test), zri_y_test)))\n",
    "print('Lasso Kaggle Score: %.5f' % sqrt(mean_squared_error(zri_model_lasso.predict(zri_x_test), zri_y_test)))\n",
    "print('Ridge Kaggle Score: %.5f' % sqrt(mean_squared_error(zri_model_ridge.predict(zri_x_test), zri_y_test)))\n",
    "print('Gradient Regressor Kaggle Score: %.5f' % sqrt(mean_squared_error(zri_model_gradient.predict(zri_x_test), zri_y_test)))"
   ]
  },
  {
   "cell_type": "markdown",
   "metadata": {},
   "source": [
    "# Check the score if we take more recent Zillow Rent Index (2016,2017,2018 to predict 2019)"
   ]
  },
  {
   "cell_type": "code",
   "execution_count": 247,
   "metadata": {},
   "outputs": [
    {
     "name": "stdout",
     "output_type": "stream",
     "text": [
      "          zri_2015     zri_2016     zri_2017\n",
      "zip                                         \n",
      "60657  2073.500000  2140.416667  2127.416667\n",
      "77494  1921.916667  1819.833333  1770.083333\n",
      "60614  2271.000000  2346.500000  2344.000000\n",
      "77084  1417.166667  1414.083333  1372.750000\n",
      "79936  1014.833333  1011.916667   992.583333\n",
      "          zri_2016     zri_2017     zri_2018\n",
      "zip                                         \n",
      "60657  2140.416667  2127.416667  2098.333333\n",
      "77494  1819.833333  1770.083333  1788.166667\n",
      "60614  2346.500000  2344.000000  2314.250000\n",
      "77084  1414.083333  1372.750000  1414.416667\n",
      "79936  1011.916667   992.583333   973.916667\n"
     ]
    }
   ],
   "source": [
    "ultimate_x_train = zillow_mean.iloc[:,4:7]\n",
    "ultimate_y_train = zillow_mean.iloc[:,7]\n",
    "print(ultimate_x_train.head())\n",
    "\n",
    "ultimate_x_test = zillow_mean.iloc[:,5:8]\n",
    "ultimate_y_test = zillow_mean.iloc[:,8]\n",
    "print(ultimate_x_test.head())"
   ]
  },
  {
   "cell_type": "code",
   "execution_count": 248,
   "metadata": {},
   "outputs": [],
   "source": [
    "ultimate_x_train = np.log(ultimate_x_train+1)\n",
    "ultimate_y_train = np.log(ultimate_y_train)\n",
    "\n",
    "ultimate_x_test = np.log(ultimate_x_test+1)\n",
    "ultimate_y_test = np.log(ultimate_y_test) "
   ]
  },
  {
   "cell_type": "code",
   "execution_count": 249,
   "metadata": {},
   "outputs": [
    {
     "data": {
      "text/plain": [
       "GradientBoostingRegressor(alpha=0.9, criterion='friedman_mse', init=None,\n",
       "                          learning_rate=0.1, loss='ls', max_depth=3,\n",
       "                          max_features=None, max_leaf_nodes=None,\n",
       "                          min_impurity_decrease=0.0, min_impurity_split=None,\n",
       "                          min_samples_leaf=1, min_samples_split=2,\n",
       "                          min_weight_fraction_leaf=0.0, n_estimators=100,\n",
       "                          n_iter_no_change=None, presort='auto',\n",
       "                          random_state=None, subsample=1.0, tol=0.0001,\n",
       "                          validation_fraction=0.1, verbose=0, warm_start=False)"
      ]
     },
     "execution_count": 249,
     "metadata": {},
     "output_type": "execute_result"
    }
   ],
   "source": [
    "ultimate_model_ols = LinearRegression()\n",
    "ultimate_model_lasso = Lasso()\n",
    "ultimate_model_ridge = Ridge()\n",
    "ultimate_model_gradient = GradientBoostingRegressor()\n",
    "\n",
    "ultimate_model_ols.fit(ultimate_x_train, ultimate_y_train)\n",
    "ultimate_model_lasso.fit(ultimate_x_train, ultimate_y_train)\n",
    "ultimate_model_ridge.fit(ultimate_x_train, ultimate_y_train)\n",
    "ultimate_model_gradient.fit(ultimate_x_train, ultimate_y_train)"
   ]
  },
  {
   "cell_type": "markdown",
   "metadata": {},
   "source": [
    "### Train Score"
   ]
  },
  {
   "cell_type": "code",
   "execution_count": 250,
   "metadata": {},
   "outputs": [
    {
     "name": "stdout",
     "output_type": "stream",
     "text": [
      "Simple Linear Train Score: 0.9941\n",
      "Lasso Train Score: 0.0000\n",
      "Ridge Train Score: 0.9940\n",
      "Gradient Regressor Train Score: 0.9946\n"
     ]
    }
   ],
   "source": [
    "print(\"Simple Linear Train Score: %.4f\" %ultimate_model_ols.score(ultimate_x_train, ultimate_y_train))\n",
    "print(\"Lasso Train Score: %.4f\" %ultimate_model_lasso.score(ultimate_x_train, ultimate_y_train))\n",
    "print(\"Ridge Train Score: %.4f\" %ultimate_model_ridge.score(ultimate_x_train, ultimate_y_train))\n",
    "print(\"Gradient Regressor Train Score: %.4f\" %ultimate_model_gradient.score(ultimate_x_train, ultimate_y_train))"
   ]
  },
  {
   "cell_type": "markdown",
   "metadata": {},
   "source": [
    "### Test Score"
   ]
  },
  {
   "cell_type": "code",
   "execution_count": 251,
   "metadata": {},
   "outputs": [
    {
     "name": "stdout",
     "output_type": "stream",
     "text": [
      "Simple Linear Test Score: 0.9924\n",
      "Lasso Test Score: -0.0007\n",
      "Ridge Test Score: 0.9922\n",
      "Gradient Regressor Test Score: 0.9919\n"
     ]
    }
   ],
   "source": [
    "print(\"Simple Linear Test Score: %.4f\" %ultimate_model_ols.score(ultimate_x_test, ultimate_y_test))\n",
    "print(\"Lasso Test Score: %.4f\" %ultimate_model_lasso.score(ultimate_x_test, ultimate_y_test))\n",
    "print(\"Ridge Test Score: %.4f\" %ultimate_model_ridge.score(ultimate_x_test, ultimate_y_test))\n",
    "print(\"Gradient Regressor Test Score: %.4f\" %ultimate_model_gradient.score(ultimate_x_test, ultimate_y_test))"
   ]
  },
  {
   "cell_type": "markdown",
   "metadata": {},
   "source": [
    "### Kaggle Score"
   ]
  },
  {
   "cell_type": "code",
   "execution_count": 252,
   "metadata": {},
   "outputs": [
    {
     "name": "stdout",
     "output_type": "stream",
     "text": [
      "Simple Linear Kaggle Score: 0.03147\n",
      "Lasso Kaggle Score: 0.35994\n",
      "Ridge Kaggle Score: 0.03184\n",
      "Gradient Regressor Kaggle Score: 0.03247\n"
     ]
    }
   ],
   "source": [
    "print('Simple Linear Kaggle Score: %.5f' % sqrt(mean_squared_error(ultimate_model_ols.predict(ultimate_x_test), ultimate_y_test)))\n",
    "print('Lasso Kaggle Score: %.5f' % sqrt(mean_squared_error(ultimate_model_lasso.predict(ultimate_x_test), ultimate_y_test)))\n",
    "print('Ridge Kaggle Score: %.5f' % sqrt(mean_squared_error(ultimate_model_ridge.predict(ultimate_x_test), ultimate_y_test)))\n",
    "print('Gradient Regressor Kaggle Score: %.5f' % sqrt(mean_squared_error(ultimate_model_gradient.predict(ultimate_x_test), ultimate_y_test)))\n",
    "\n"
   ]
  },
  {
   "cell_type": "markdown",
   "metadata": {},
   "source": [
    "### Prediction Accuracy on Zip Code Level"
   ]
  },
  {
   "cell_type": "code",
   "execution_count": 253,
   "metadata": {},
   "outputs": [],
   "source": [
    "ultimate_predictions = pd.Series(np.exp(ultimate_model_ols.predict(ultimate_x_test)), index = ultimate_y_test.index)\n"
   ]
  },
  {
   "cell_type": "code",
   "execution_count": 254,
   "metadata": {},
   "outputs": [
    {
     "data": {
      "text/plain": [
       "97.66216933514417"
      ]
     },
     "execution_count": 254,
     "metadata": {},
     "output_type": "execute_result"
    }
   ],
   "source": [
    "(1 - np.abs((zillow_mean.iloc[:, 8]/ultimate_predictions).dropna()-1)).mean()*100"
   ]
  },
  {
   "cell_type": "markdown",
   "metadata": {},
   "source": [
    "## Turn New York Results Back into Monthly\n",
    "## Check accuracy for each zip code"
   ]
  },
  {
   "cell_type": "code",
   "execution_count": 255,
   "metadata": {},
   "outputs": [
    {
     "data": {
      "text/html": [
       "<div>\n",
       "<style scoped>\n",
       "    .dataframe tbody tr th:only-of-type {\n",
       "        vertical-align: middle;\n",
       "    }\n",
       "\n",
       "    .dataframe tbody tr th {\n",
       "        vertical-align: top;\n",
       "    }\n",
       "\n",
       "    .dataframe thead th {\n",
       "        text-align: right;\n",
       "    }\n",
       "</style>\n",
       "<table border=\"1\" class=\"dataframe\">\n",
       "  <thead>\n",
       "    <tr style=\"text-align: right;\">\n",
       "      <th></th>\n",
       "      <th>2011-01</th>\n",
       "      <th>2011-02</th>\n",
       "      <th>2011-03</th>\n",
       "      <th>2011-04</th>\n",
       "      <th>2011-05</th>\n",
       "      <th>2011-06</th>\n",
       "      <th>2011-07</th>\n",
       "      <th>2011-08</th>\n",
       "      <th>2011-09</th>\n",
       "      <th>2011-10</th>\n",
       "      <th>...</th>\n",
       "      <th>2019-03</th>\n",
       "      <th>2019-04</th>\n",
       "      <th>2019-05</th>\n",
       "      <th>2019-06</th>\n",
       "      <th>2019-07</th>\n",
       "      <th>2019-08</th>\n",
       "      <th>2019-09</th>\n",
       "      <th>2019-10</th>\n",
       "      <th>2019-11</th>\n",
       "      <th>2019-12</th>\n",
       "    </tr>\n",
       "    <tr>\n",
       "      <th>zip</th>\n",
       "      <th></th>\n",
       "      <th></th>\n",
       "      <th></th>\n",
       "      <th></th>\n",
       "      <th></th>\n",
       "      <th></th>\n",
       "      <th></th>\n",
       "      <th></th>\n",
       "      <th></th>\n",
       "      <th></th>\n",
       "      <th></th>\n",
       "      <th></th>\n",
       "      <th></th>\n",
       "      <th></th>\n",
       "      <th></th>\n",
       "      <th></th>\n",
       "      <th></th>\n",
       "      <th></th>\n",
       "      <th></th>\n",
       "      <th></th>\n",
       "      <th></th>\n",
       "    </tr>\n",
       "  </thead>\n",
       "  <tbody>\n",
       "    <tr>\n",
       "      <td>60657</td>\n",
       "      <td>1755.0</td>\n",
       "      <td>1742.0</td>\n",
       "      <td>1735.0</td>\n",
       "      <td>1741.0</td>\n",
       "      <td>1742.0</td>\n",
       "      <td>1757.0</td>\n",
       "      <td>1790.0</td>\n",
       "      <td>1817.0</td>\n",
       "      <td>1839.0</td>\n",
       "      <td>1841.0</td>\n",
       "      <td>...</td>\n",
       "      <td>2017.0</td>\n",
       "      <td>2039.0</td>\n",
       "      <td>2070.0</td>\n",
       "      <td>2105.0</td>\n",
       "      <td>2140.0</td>\n",
       "      <td>2168.0</td>\n",
       "      <td>2185.0</td>\n",
       "      <td>2125.0</td>\n",
       "      <td>2089.0</td>\n",
       "      <td>2053.0</td>\n",
       "    </tr>\n",
       "    <tr>\n",
       "      <td>77494</td>\n",
       "      <td>1542.0</td>\n",
       "      <td>1547.0</td>\n",
       "      <td>1559.0</td>\n",
       "      <td>1578.0</td>\n",
       "      <td>1591.0</td>\n",
       "      <td>1597.0</td>\n",
       "      <td>1604.0</td>\n",
       "      <td>1609.0</td>\n",
       "      <td>1607.0</td>\n",
       "      <td>1598.0</td>\n",
       "      <td>...</td>\n",
       "      <td>1769.0</td>\n",
       "      <td>1765.0</td>\n",
       "      <td>1755.0</td>\n",
       "      <td>1751.0</td>\n",
       "      <td>1752.0</td>\n",
       "      <td>1754.0</td>\n",
       "      <td>1759.0</td>\n",
       "      <td>1764.0</td>\n",
       "      <td>1769.0</td>\n",
       "      <td>1776.0</td>\n",
       "    </tr>\n",
       "    <tr>\n",
       "      <td>60614</td>\n",
       "      <td>1870.0</td>\n",
       "      <td>1841.0</td>\n",
       "      <td>1825.0</td>\n",
       "      <td>1823.0</td>\n",
       "      <td>1829.0</td>\n",
       "      <td>1850.0</td>\n",
       "      <td>1894.0</td>\n",
       "      <td>1937.0</td>\n",
       "      <td>1966.0</td>\n",
       "      <td>1977.0</td>\n",
       "      <td>...</td>\n",
       "      <td>2213.0</td>\n",
       "      <td>2245.0</td>\n",
       "      <td>2289.0</td>\n",
       "      <td>2332.0</td>\n",
       "      <td>2372.0</td>\n",
       "      <td>2398.0</td>\n",
       "      <td>2412.0</td>\n",
       "      <td>2348.0</td>\n",
       "      <td>2356.0</td>\n",
       "      <td>2311.0</td>\n",
       "    </tr>\n",
       "    <tr>\n",
       "      <td>77084</td>\n",
       "      <td>993.0</td>\n",
       "      <td>1015.0</td>\n",
       "      <td>1043.0</td>\n",
       "      <td>1060.0</td>\n",
       "      <td>1070.0</td>\n",
       "      <td>1072.0</td>\n",
       "      <td>1078.0</td>\n",
       "      <td>1082.0</td>\n",
       "      <td>1088.0</td>\n",
       "      <td>1092.0</td>\n",
       "      <td>...</td>\n",
       "      <td>1393.0</td>\n",
       "      <td>1389.0</td>\n",
       "      <td>1389.0</td>\n",
       "      <td>1392.0</td>\n",
       "      <td>1396.0</td>\n",
       "      <td>1401.0</td>\n",
       "      <td>1408.0</td>\n",
       "      <td>1421.0</td>\n",
       "      <td>1419.0</td>\n",
       "      <td>1436.0</td>\n",
       "    </tr>\n",
       "    <tr>\n",
       "      <td>79936</td>\n",
       "      <td>1071.0</td>\n",
       "      <td>1045.0</td>\n",
       "      <td>1019.0</td>\n",
       "      <td>996.0</td>\n",
       "      <td>980.0</td>\n",
       "      <td>976.0</td>\n",
       "      <td>977.0</td>\n",
       "      <td>979.0</td>\n",
       "      <td>981.0</td>\n",
       "      <td>986.0</td>\n",
       "      <td>...</td>\n",
       "      <td>943.0</td>\n",
       "      <td>938.0</td>\n",
       "      <td>936.0</td>\n",
       "      <td>938.0</td>\n",
       "      <td>940.0</td>\n",
       "      <td>943.0</td>\n",
       "      <td>944.0</td>\n",
       "      <td>949.0</td>\n",
       "      <td>962.0</td>\n",
       "      <td>977.0</td>\n",
       "    </tr>\n",
       "  </tbody>\n",
       "</table>\n",
       "<p>5 rows × 108 columns</p>\n",
       "</div>"
      ],
      "text/plain": [
       "       2011-01  2011-02  2011-03  2011-04  2011-05  2011-06  2011-07  2011-08  \\\n",
       "zip                                                                             \n",
       "60657   1755.0   1742.0   1735.0   1741.0   1742.0   1757.0   1790.0   1817.0   \n",
       "77494   1542.0   1547.0   1559.0   1578.0   1591.0   1597.0   1604.0   1609.0   \n",
       "60614   1870.0   1841.0   1825.0   1823.0   1829.0   1850.0   1894.0   1937.0   \n",
       "77084    993.0   1015.0   1043.0   1060.0   1070.0   1072.0   1078.0   1082.0   \n",
       "79936   1071.0   1045.0   1019.0    996.0    980.0    976.0    977.0    979.0   \n",
       "\n",
       "       2011-09  2011-10  ...  2019-03  2019-04  2019-05  2019-06  2019-07  \\\n",
       "zip                      ...                                                \n",
       "60657   1839.0   1841.0  ...   2017.0   2039.0   2070.0   2105.0   2140.0   \n",
       "77494   1607.0   1598.0  ...   1769.0   1765.0   1755.0   1751.0   1752.0   \n",
       "60614   1966.0   1977.0  ...   2213.0   2245.0   2289.0   2332.0   2372.0   \n",
       "77084   1088.0   1092.0  ...   1393.0   1389.0   1389.0   1392.0   1396.0   \n",
       "79936    981.0    986.0  ...    943.0    938.0    936.0    938.0    940.0   \n",
       "\n",
       "       2019-08  2019-09  2019-10  2019-11  2019-12  \n",
       "zip                                                 \n",
       "60657   2168.0   2185.0   2125.0   2089.0   2053.0  \n",
       "77494   1754.0   1759.0   1764.0   1769.0   1776.0  \n",
       "60614   2398.0   2412.0   2348.0   2356.0   2311.0  \n",
       "77084   1401.0   1408.0   1421.0   1419.0   1436.0  \n",
       "79936    943.0    944.0    949.0    962.0    977.0  \n",
       "\n",
       "[5 rows x 108 columns]"
      ]
     },
     "execution_count": 255,
     "metadata": {},
     "output_type": "execute_result"
    }
   ],
   "source": [
    "zillow_monthly.head()"
   ]
  },
  {
   "cell_type": "code",
   "execution_count": 256,
   "metadata": {},
   "outputs": [
    {
     "data": {
      "text/html": [
       "<div>\n",
       "<style scoped>\n",
       "    .dataframe tbody tr th:only-of-type {\n",
       "        vertical-align: middle;\n",
       "    }\n",
       "\n",
       "    .dataframe tbody tr th {\n",
       "        vertical-align: top;\n",
       "    }\n",
       "\n",
       "    .dataframe thead th {\n",
       "        text-align: right;\n",
       "    }\n",
       "</style>\n",
       "<table border=\"1\" class=\"dataframe\">\n",
       "  <thead>\n",
       "    <tr style=\"text-align: right;\">\n",
       "      <th></th>\n",
       "      <th>2019-01</th>\n",
       "      <th>2019-02</th>\n",
       "      <th>2019-03</th>\n",
       "      <th>2019-04</th>\n",
       "      <th>2019-05</th>\n",
       "      <th>2019-06</th>\n",
       "      <th>2019-07</th>\n",
       "      <th>2019-08</th>\n",
       "      <th>2019-09</th>\n",
       "      <th>2019-10</th>\n",
       "      <th>2019-11</th>\n",
       "      <th>2019-12</th>\n",
       "    </tr>\n",
       "    <tr>\n",
       "      <th>zip</th>\n",
       "      <th></th>\n",
       "      <th></th>\n",
       "      <th></th>\n",
       "      <th></th>\n",
       "      <th></th>\n",
       "      <th></th>\n",
       "      <th></th>\n",
       "      <th></th>\n",
       "      <th></th>\n",
       "      <th></th>\n",
       "      <th></th>\n",
       "      <th></th>\n",
       "    </tr>\n",
       "  </thead>\n",
       "  <tbody>\n",
       "    <tr>\n",
       "      <td>10004</td>\n",
       "      <td>3869.0</td>\n",
       "      <td>3879.0</td>\n",
       "      <td>3892.0</td>\n",
       "      <td>3906.0</td>\n",
       "      <td>3937.0</td>\n",
       "      <td>3958.0</td>\n",
       "      <td>3963.0</td>\n",
       "      <td>3993.0</td>\n",
       "      <td>3999.0</td>\n",
       "      <td>4001.0</td>\n",
       "      <td>4053.0</td>\n",
       "      <td>4074.0</td>\n",
       "    </tr>\n",
       "    <tr>\n",
       "      <td>10005</td>\n",
       "      <td>3918.0</td>\n",
       "      <td>3926.0</td>\n",
       "      <td>3929.0</td>\n",
       "      <td>3934.0</td>\n",
       "      <td>3941.0</td>\n",
       "      <td>3950.0</td>\n",
       "      <td>3961.0</td>\n",
       "      <td>3972.0</td>\n",
       "      <td>3981.0</td>\n",
       "      <td>3979.0</td>\n",
       "      <td>4014.0</td>\n",
       "      <td>4033.0</td>\n",
       "    </tr>\n",
       "    <tr>\n",
       "      <td>10006</td>\n",
       "      <td>3682.0</td>\n",
       "      <td>3691.0</td>\n",
       "      <td>3689.0</td>\n",
       "      <td>3701.0</td>\n",
       "      <td>3722.0</td>\n",
       "      <td>3750.0</td>\n",
       "      <td>3786.0</td>\n",
       "      <td>3809.0</td>\n",
       "      <td>3824.0</td>\n",
       "      <td>3791.0</td>\n",
       "      <td>3752.0</td>\n",
       "      <td>3825.0</td>\n",
       "    </tr>\n",
       "    <tr>\n",
       "      <td>10018</td>\n",
       "      <td>3529.0</td>\n",
       "      <td>3529.0</td>\n",
       "      <td>3549.0</td>\n",
       "      <td>3572.0</td>\n",
       "      <td>3584.0</td>\n",
       "      <td>3608.0</td>\n",
       "      <td>3637.0</td>\n",
       "      <td>3642.0</td>\n",
       "      <td>3634.0</td>\n",
       "      <td>3593.0</td>\n",
       "      <td>3620.0</td>\n",
       "      <td>3567.0</td>\n",
       "    </tr>\n",
       "    <tr>\n",
       "      <td>10035</td>\n",
       "      <td>2760.0</td>\n",
       "      <td>2774.0</td>\n",
       "      <td>2754.0</td>\n",
       "      <td>2747.0</td>\n",
       "      <td>2735.0</td>\n",
       "      <td>2723.0</td>\n",
       "      <td>2714.0</td>\n",
       "      <td>2718.0</td>\n",
       "      <td>2724.0</td>\n",
       "      <td>2660.0</td>\n",
       "      <td>2679.0</td>\n",
       "      <td>2686.0</td>\n",
       "    </tr>\n",
       "  </tbody>\n",
       "</table>\n",
       "</div>"
      ],
      "text/plain": [
       "       2019-01  2019-02  2019-03  2019-04  2019-05  2019-06  2019-07  2019-08  \\\n",
       "zip                                                                             \n",
       "10004   3869.0   3879.0   3892.0   3906.0   3937.0   3958.0   3963.0   3993.0   \n",
       "10005   3918.0   3926.0   3929.0   3934.0   3941.0   3950.0   3961.0   3972.0   \n",
       "10006   3682.0   3691.0   3689.0   3701.0   3722.0   3750.0   3786.0   3809.0   \n",
       "10018   3529.0   3529.0   3549.0   3572.0   3584.0   3608.0   3637.0   3642.0   \n",
       "10035   2760.0   2774.0   2754.0   2747.0   2735.0   2723.0   2714.0   2718.0   \n",
       "\n",
       "       2019-09  2019-10  2019-11  2019-12  \n",
       "zip                                        \n",
       "10004   3999.0   4001.0   4053.0   4074.0  \n",
       "10005   3981.0   3979.0   4014.0   4033.0  \n",
       "10006   3824.0   3791.0   3752.0   3825.0  \n",
       "10018   3634.0   3593.0   3620.0   3567.0  \n",
       "10035   2724.0   2660.0   2679.0   2686.0  "
      ]
     },
     "execution_count": 256,
     "metadata": {},
     "output_type": "execute_result"
    }
   ],
   "source": [
    "nyc_zip = pd.read_csv('zip_borough.csv').set_index('zip')\n",
    "\n",
    "real_values = pd.concat([nyc_zip, zillow_monthly], join = 'inner', axis = 1).iloc[:,-12:]\n",
    "real_values.head()"
   ]
  },
  {
   "cell_type": "code",
   "execution_count": 257,
   "metadata": {},
   "outputs": [
    {
     "data": {
      "text/plain": [
       "zip\n",
       "10004    3960.333333\n",
       "10005    3961.500000\n",
       "10006    3751.833333\n",
       "10018    3588.666667\n",
       "10035    2722.833333\n",
       "            ...     \n",
       "11435    2011.666667\n",
       "11436    2219.250000\n",
       "11691    2165.250000\n",
       "11692    2178.333333\n",
       "11693    2139.291667\n",
       "Name: zri_2019, Length: 124, dtype: float64"
      ]
     },
     "execution_count": 257,
     "metadata": {},
     "output_type": "execute_result"
    }
   ],
   "source": [
    "real_mean = pd.concat([nyc_zip, zillow_mean], join = 'inner', axis = 1).iloc[:,9]\n",
    "real_mean"
   ]
  },
  {
   "cell_type": "code",
   "execution_count": 258,
   "metadata": {},
   "outputs": [
    {
     "data": {
      "text/plain": [
       "zip\n",
       "10004    3580.787512\n",
       "10005    3756.303237\n",
       "10018    3511.030817\n",
       "10035    2965.391833\n",
       "10301    2032.756492\n",
       "            ...     \n",
       "11434    2253.099410\n",
       "11435    2105.227033\n",
       "11436    2295.577935\n",
       "11691    2244.908698\n",
       "11692    2239.027303\n",
       "Name: 0, Length: 119, dtype: float64"
      ]
     },
     "execution_count": 258,
     "metadata": {},
     "output_type": "execute_result"
    }
   ],
   "source": [
    "predicted_mean = pd.Series(np.exp(model_ols.predict(x_test_2019)),index = y_test_2019.index)\n",
    "predicted_mean = pd.concat([nyc_zip, predicted_mean], join = 'inner', axis = 1).iloc[:,1]\n",
    "predicted_mean"
   ]
  },
  {
   "cell_type": "code",
   "execution_count": 259,
   "metadata": {},
   "outputs": [],
   "source": [
    "real_values = pd.concat([real_values, predicted_mean], join = 'inner', axis = 1).iloc[:,:-1]"
   ]
  },
  {
   "cell_type": "code",
   "execution_count": 260,
   "metadata": {},
   "outputs": [
    {
     "data": {
      "text/plain": [
       "2019-01    3869.0\n",
       "2019-02    3879.0\n",
       "2019-03    3892.0\n",
       "2019-04    3906.0\n",
       "2019-05    3937.0\n",
       "2019-06    3958.0\n",
       "2019-07    3963.0\n",
       "2019-08    3993.0\n",
       "2019-09    3999.0\n",
       "2019-10    4001.0\n",
       "2019-11    4053.0\n",
       "2019-12    4074.0\n",
       "Name: 10004, dtype: float64"
      ]
     },
     "execution_count": 260,
     "metadata": {},
     "output_type": "execute_result"
    }
   ],
   "source": [
    "real_values.apply(lambda x: x/x.mean(), axis = 1).iloc[0,:]*real_mean.iloc[0,]"
   ]
  },
  {
   "cell_type": "code",
   "execution_count": 261,
   "metadata": {},
   "outputs": [],
   "source": [
    "predicted_monthly = real_values.copy()\n",
    "\n",
    "for i in range(real_values.shape[0]):\n",
    "    predicted_monthly.iloc[i,:] = real_values.apply(lambda x: x/x.mean(), axis = 1).iloc[i,:]*predicted_mean.iloc[i,]\n",
    "    \n",
    "    "
   ]
  },
  {
   "cell_type": "code",
   "execution_count": 262,
   "metadata": {},
   "outputs": [
    {
     "data": {
      "text/html": [
       "<div>\n",
       "<style scoped>\n",
       "    .dataframe tbody tr th:only-of-type {\n",
       "        vertical-align: middle;\n",
       "    }\n",
       "\n",
       "    .dataframe tbody tr th {\n",
       "        vertical-align: top;\n",
       "    }\n",
       "\n",
       "    .dataframe thead th {\n",
       "        text-align: right;\n",
       "    }\n",
       "</style>\n",
       "<table border=\"1\" class=\"dataframe\">\n",
       "  <thead>\n",
       "    <tr style=\"text-align: right;\">\n",
       "      <th></th>\n",
       "      <th>2019-01</th>\n",
       "      <th>2019-02</th>\n",
       "      <th>2019-03</th>\n",
       "      <th>2019-04</th>\n",
       "      <th>2019-05</th>\n",
       "      <th>2019-06</th>\n",
       "      <th>2019-07</th>\n",
       "      <th>2019-08</th>\n",
       "      <th>2019-09</th>\n",
       "      <th>2019-10</th>\n",
       "      <th>2019-11</th>\n",
       "      <th>2019-12</th>\n",
       "    </tr>\n",
       "    <tr>\n",
       "      <th>zip</th>\n",
       "      <th></th>\n",
       "      <th></th>\n",
       "      <th></th>\n",
       "      <th></th>\n",
       "      <th></th>\n",
       "      <th></th>\n",
       "      <th></th>\n",
       "      <th></th>\n",
       "      <th></th>\n",
       "      <th></th>\n",
       "      <th></th>\n",
       "      <th></th>\n",
       "    </tr>\n",
       "  </thead>\n",
       "  <tbody>\n",
       "    <tr>\n",
       "      <td>10004</td>\n",
       "      <td>3498.207276</td>\n",
       "      <td>3507.248908</td>\n",
       "      <td>3519.003029</td>\n",
       "      <td>3531.661313</td>\n",
       "      <td>3559.690371</td>\n",
       "      <td>3578.677798</td>\n",
       "      <td>3583.198614</td>\n",
       "      <td>3610.323509</td>\n",
       "      <td>3615.748488</td>\n",
       "      <td>3617.556814</td>\n",
       "      <td>3664.573298</td>\n",
       "      <td>3683.560725</td>\n",
       "    </tr>\n",
       "    <tr>\n",
       "      <td>10005</td>\n",
       "      <td>3715.056439</td>\n",
       "      <td>3722.642057</td>\n",
       "      <td>3725.486664</td>\n",
       "      <td>3730.227675</td>\n",
       "      <td>3736.865091</td>\n",
       "      <td>3745.398912</td>\n",
       "      <td>3755.829136</td>\n",
       "      <td>3766.259361</td>\n",
       "      <td>3774.793181</td>\n",
       "      <td>3772.896777</td>\n",
       "      <td>3806.083856</td>\n",
       "      <td>3824.099699</td>\n",
       "    </tr>\n",
       "    <tr>\n",
       "      <td>10018</td>\n",
       "      <td>3452.654956</td>\n",
       "      <td>3452.654956</td>\n",
       "      <td>3472.222284</td>\n",
       "      <td>3494.724711</td>\n",
       "      <td>3506.465107</td>\n",
       "      <td>3529.945900</td>\n",
       "      <td>3558.318526</td>\n",
       "      <td>3563.210357</td>\n",
       "      <td>3555.383426</td>\n",
       "      <td>3515.270405</td>\n",
       "      <td>3541.686297</td>\n",
       "      <td>3489.832879</td>\n",
       "    </tr>\n",
       "    <tr>\n",
       "      <td>10035</td>\n",
       "      <td>3005.869422</td>\n",
       "      <td>3021.116586</td>\n",
       "      <td>2999.334924</td>\n",
       "      <td>2991.711342</td>\n",
       "      <td>2978.642344</td>\n",
       "      <td>2965.573347</td>\n",
       "      <td>2955.771599</td>\n",
       "      <td>2960.127931</td>\n",
       "      <td>2966.662430</td>\n",
       "      <td>2896.961110</td>\n",
       "      <td>2917.653689</td>\n",
       "      <td>2925.277271</td>\n",
       "    </tr>\n",
       "    <tr>\n",
       "      <td>10301</td>\n",
       "      <td>1986.848256</td>\n",
       "      <td>2006.917430</td>\n",
       "      <td>2015.948559</td>\n",
       "      <td>2013.941641</td>\n",
       "      <td>2008.924348</td>\n",
       "      <td>2008.924348</td>\n",
       "      <td>2017.955476</td>\n",
       "      <td>2038.024650</td>\n",
       "      <td>2059.097283</td>\n",
       "      <td>2052.073072</td>\n",
       "      <td>2073.145705</td>\n",
       "      <td>2111.277136</td>\n",
       "    </tr>\n",
       "  </tbody>\n",
       "</table>\n",
       "</div>"
      ],
      "text/plain": [
       "           2019-01      2019-02      2019-03      2019-04      2019-05  \\\n",
       "zip                                                                      \n",
       "10004  3498.207276  3507.248908  3519.003029  3531.661313  3559.690371   \n",
       "10005  3715.056439  3722.642057  3725.486664  3730.227675  3736.865091   \n",
       "10018  3452.654956  3452.654956  3472.222284  3494.724711  3506.465107   \n",
       "10035  3005.869422  3021.116586  2999.334924  2991.711342  2978.642344   \n",
       "10301  1986.848256  2006.917430  2015.948559  2013.941641  2008.924348   \n",
       "\n",
       "           2019-06      2019-07      2019-08      2019-09      2019-10  \\\n",
       "zip                                                                      \n",
       "10004  3578.677798  3583.198614  3610.323509  3615.748488  3617.556814   \n",
       "10005  3745.398912  3755.829136  3766.259361  3774.793181  3772.896777   \n",
       "10018  3529.945900  3558.318526  3563.210357  3555.383426  3515.270405   \n",
       "10035  2965.573347  2955.771599  2960.127931  2966.662430  2896.961110   \n",
       "10301  2008.924348  2017.955476  2038.024650  2059.097283  2052.073072   \n",
       "\n",
       "           2019-11      2019-12  \n",
       "zip                              \n",
       "10004  3664.573298  3683.560725  \n",
       "10005  3806.083856  3824.099699  \n",
       "10018  3541.686297  3489.832879  \n",
       "10035  2917.653689  2925.277271  \n",
       "10301  2073.145705  2111.277136  "
      ]
     },
     "execution_count": 262,
     "metadata": {},
     "output_type": "execute_result"
    }
   ],
   "source": [
    "predicted_monthly.head()"
   ]
  },
  {
   "cell_type": "code",
   "execution_count": 263,
   "metadata": {},
   "outputs": [
    {
     "data": {
      "text/html": [
       "<div>\n",
       "<style scoped>\n",
       "    .dataframe tbody tr th:only-of-type {\n",
       "        vertical-align: middle;\n",
       "    }\n",
       "\n",
       "    .dataframe tbody tr th {\n",
       "        vertical-align: top;\n",
       "    }\n",
       "\n",
       "    .dataframe thead th {\n",
       "        text-align: right;\n",
       "    }\n",
       "</style>\n",
       "<table border=\"1\" class=\"dataframe\">\n",
       "  <thead>\n",
       "    <tr style=\"text-align: right;\">\n",
       "      <th></th>\n",
       "      <th>2019-01</th>\n",
       "      <th>2019-02</th>\n",
       "      <th>2019-03</th>\n",
       "      <th>2019-04</th>\n",
       "      <th>2019-05</th>\n",
       "      <th>2019-06</th>\n",
       "      <th>2019-07</th>\n",
       "      <th>2019-08</th>\n",
       "      <th>2019-09</th>\n",
       "      <th>2019-10</th>\n",
       "      <th>2019-11</th>\n",
       "      <th>2019-12</th>\n",
       "    </tr>\n",
       "    <tr>\n",
       "      <th>zip</th>\n",
       "      <th></th>\n",
       "      <th></th>\n",
       "      <th></th>\n",
       "      <th></th>\n",
       "      <th></th>\n",
       "      <th></th>\n",
       "      <th></th>\n",
       "      <th></th>\n",
       "      <th></th>\n",
       "      <th></th>\n",
       "      <th></th>\n",
       "      <th></th>\n",
       "    </tr>\n",
       "  </thead>\n",
       "  <tbody>\n",
       "    <tr>\n",
       "      <td>10004</td>\n",
       "      <td>3869.0</td>\n",
       "      <td>3879.0</td>\n",
       "      <td>3892.0</td>\n",
       "      <td>3906.0</td>\n",
       "      <td>3937.0</td>\n",
       "      <td>3958.0</td>\n",
       "      <td>3963.0</td>\n",
       "      <td>3993.0</td>\n",
       "      <td>3999.0</td>\n",
       "      <td>4001.0</td>\n",
       "      <td>4053.0</td>\n",
       "      <td>4074.0</td>\n",
       "    </tr>\n",
       "    <tr>\n",
       "      <td>10005</td>\n",
       "      <td>3918.0</td>\n",
       "      <td>3926.0</td>\n",
       "      <td>3929.0</td>\n",
       "      <td>3934.0</td>\n",
       "      <td>3941.0</td>\n",
       "      <td>3950.0</td>\n",
       "      <td>3961.0</td>\n",
       "      <td>3972.0</td>\n",
       "      <td>3981.0</td>\n",
       "      <td>3979.0</td>\n",
       "      <td>4014.0</td>\n",
       "      <td>4033.0</td>\n",
       "    </tr>\n",
       "    <tr>\n",
       "      <td>10018</td>\n",
       "      <td>3529.0</td>\n",
       "      <td>3529.0</td>\n",
       "      <td>3549.0</td>\n",
       "      <td>3572.0</td>\n",
       "      <td>3584.0</td>\n",
       "      <td>3608.0</td>\n",
       "      <td>3637.0</td>\n",
       "      <td>3642.0</td>\n",
       "      <td>3634.0</td>\n",
       "      <td>3593.0</td>\n",
       "      <td>3620.0</td>\n",
       "      <td>3567.0</td>\n",
       "    </tr>\n",
       "    <tr>\n",
       "      <td>10035</td>\n",
       "      <td>2760.0</td>\n",
       "      <td>2774.0</td>\n",
       "      <td>2754.0</td>\n",
       "      <td>2747.0</td>\n",
       "      <td>2735.0</td>\n",
       "      <td>2723.0</td>\n",
       "      <td>2714.0</td>\n",
       "      <td>2718.0</td>\n",
       "      <td>2724.0</td>\n",
       "      <td>2660.0</td>\n",
       "      <td>2679.0</td>\n",
       "      <td>2686.0</td>\n",
       "    </tr>\n",
       "    <tr>\n",
       "      <td>10301</td>\n",
       "      <td>1980.0</td>\n",
       "      <td>2000.0</td>\n",
       "      <td>2009.0</td>\n",
       "      <td>2007.0</td>\n",
       "      <td>2002.0</td>\n",
       "      <td>2002.0</td>\n",
       "      <td>2011.0</td>\n",
       "      <td>2031.0</td>\n",
       "      <td>2052.0</td>\n",
       "      <td>2045.0</td>\n",
       "      <td>2066.0</td>\n",
       "      <td>2104.0</td>\n",
       "    </tr>\n",
       "  </tbody>\n",
       "</table>\n",
       "</div>"
      ],
      "text/plain": [
       "       2019-01  2019-02  2019-03  2019-04  2019-05  2019-06  2019-07  2019-08  \\\n",
       "zip                                                                             \n",
       "10004   3869.0   3879.0   3892.0   3906.0   3937.0   3958.0   3963.0   3993.0   \n",
       "10005   3918.0   3926.0   3929.0   3934.0   3941.0   3950.0   3961.0   3972.0   \n",
       "10018   3529.0   3529.0   3549.0   3572.0   3584.0   3608.0   3637.0   3642.0   \n",
       "10035   2760.0   2774.0   2754.0   2747.0   2735.0   2723.0   2714.0   2718.0   \n",
       "10301   1980.0   2000.0   2009.0   2007.0   2002.0   2002.0   2011.0   2031.0   \n",
       "\n",
       "       2019-09  2019-10  2019-11  2019-12  \n",
       "zip                                        \n",
       "10004   3999.0   4001.0   4053.0   4074.0  \n",
       "10005   3981.0   3979.0   4014.0   4033.0  \n",
       "10018   3634.0   3593.0   3620.0   3567.0  \n",
       "10035   2724.0   2660.0   2679.0   2686.0  \n",
       "10301   2052.0   2045.0   2066.0   2104.0  "
      ]
     },
     "execution_count": 263,
     "metadata": {},
     "output_type": "execute_result"
    }
   ],
   "source": [
    "real_values.head()"
   ]
  },
  {
   "cell_type": "markdown",
   "metadata": {},
   "source": [
    "### Prediction Accuracy  for each zipcode"
   ]
  },
  {
   "cell_type": "code",
   "execution_count": 264,
   "metadata": {},
   "outputs": [
    {
     "data": {
      "text/html": [
       "<div>\n",
       "<style scoped>\n",
       "    .dataframe tbody tr th:only-of-type {\n",
       "        vertical-align: middle;\n",
       "    }\n",
       "\n",
       "    .dataframe tbody tr th {\n",
       "        vertical-align: top;\n",
       "    }\n",
       "\n",
       "    .dataframe thead th {\n",
       "        text-align: right;\n",
       "    }\n",
       "</style>\n",
       "<table border=\"1\" class=\"dataframe\">\n",
       "  <thead>\n",
       "    <tr style=\"text-align: right;\">\n",
       "      <th></th>\n",
       "      <th>Accuracy %</th>\n",
       "    </tr>\n",
       "    <tr>\n",
       "      <th>zip</th>\n",
       "      <th></th>\n",
       "    </tr>\n",
       "  </thead>\n",
       "  <tbody>\n",
       "    <tr>\n",
       "      <td>10004</td>\n",
       "      <td>89.40</td>\n",
       "    </tr>\n",
       "    <tr>\n",
       "      <td>10005</td>\n",
       "      <td>94.54</td>\n",
       "    </tr>\n",
       "    <tr>\n",
       "      <td>10018</td>\n",
       "      <td>97.79</td>\n",
       "    </tr>\n",
       "    <tr>\n",
       "      <td>10035</td>\n",
       "      <td>91.82</td>\n",
       "    </tr>\n",
       "    <tr>\n",
       "      <td>10301</td>\n",
       "      <td>99.66</td>\n",
       "    </tr>\n",
       "    <tr>\n",
       "      <td>...</td>\n",
       "      <td>...</td>\n",
       "    </tr>\n",
       "    <tr>\n",
       "      <td>11434</td>\n",
       "      <td>98.39</td>\n",
       "    </tr>\n",
       "    <tr>\n",
       "      <td>11435</td>\n",
       "      <td>95.56</td>\n",
       "    </tr>\n",
       "    <tr>\n",
       "      <td>11436</td>\n",
       "      <td>96.68</td>\n",
       "    </tr>\n",
       "    <tr>\n",
       "      <td>11691</td>\n",
       "      <td>96.45</td>\n",
       "    </tr>\n",
       "    <tr>\n",
       "      <td>11692</td>\n",
       "      <td>97.29</td>\n",
       "    </tr>\n",
       "  </tbody>\n",
       "</table>\n",
       "<p>119 rows × 1 columns</p>\n",
       "</div>"
      ],
      "text/plain": [
       "       Accuracy %\n",
       "zip              \n",
       "10004       89.40\n",
       "10005       94.54\n",
       "10018       97.79\n",
       "10035       91.82\n",
       "10301       99.66\n",
       "...           ...\n",
       "11434       98.39\n",
       "11435       95.56\n",
       "11436       96.68\n",
       "11691       96.45\n",
       "11692       97.29\n",
       "\n",
       "[119 rows x 1 columns]"
      ]
     },
     "execution_count": 264,
     "metadata": {},
     "output_type": "execute_result"
    }
   ],
   "source": [
    "round(pd.DataFrame(1 - np.abs((((real_mean/predicted_mean).dropna()-1))), columns = ['Accuracy %'])*100, 2)\n"
   ]
  },
  {
   "cell_type": "markdown",
   "metadata": {},
   "source": [
    "### Average Monthly Prediciton Accuracy for New York Zip Codes (%)"
   ]
  },
  {
   "cell_type": "code",
   "execution_count": 265,
   "metadata": {},
   "outputs": [
    {
     "data": {
      "text/plain": [
       "97.17051631635708"
      ]
     },
     "execution_count": 265,
     "metadata": {},
     "output_type": "execute_result"
    }
   ],
   "source": [
    "(1 - np.abs((((real_mean/predicted_mean).dropna()-1)))).mean()*100\n"
   ]
  },
  {
   "cell_type": "markdown",
   "metadata": {},
   "source": [
    "### Median Monthly Prediction Accuracy"
   ]
  },
  {
   "cell_type": "code",
   "execution_count": 266,
   "metadata": {},
   "outputs": [
    {
     "data": {
      "text/plain": [
       "97.13189485163232"
      ]
     },
     "execution_count": 266,
     "metadata": {},
     "output_type": "execute_result"
    }
   ],
   "source": [
    "(1 - np.abs((((real_mean/predicted_mean).dropna()-1)))).median()*100"
   ]
  },
  {
   "cell_type": "markdown",
   "metadata": {},
   "source": [
    "## Check prediction Accuracy for Entire Dataset\n",
    "## On Individual Zip Code Level"
   ]
  },
  {
   "cell_type": "code",
   "execution_count": 267,
   "metadata": {},
   "outputs": [],
   "source": [
    "predicted_all = pd.Series(np.exp(model_ols.predict(x_test_2019)),index = y_test_2019.index)"
   ]
  },
  {
   "cell_type": "code",
   "execution_count": 268,
   "metadata": {},
   "outputs": [
    {
     "data": {
      "text/plain": [
       "zip\n",
       "1001     99.982725\n",
       "1007     97.548709\n",
       "1013     95.792145\n",
       "1020     98.606227\n",
       "1028     98.899665\n",
       "           ...    \n",
       "99567    96.936665\n",
       "99577    96.446087\n",
       "99645    95.505453\n",
       "99654    96.438357\n",
       "99705    99.810261\n",
       "Length: 8044, dtype: float64"
      ]
     },
     "execution_count": 268,
     "metadata": {},
     "output_type": "execute_result"
    }
   ],
   "source": [
    "(1 - np.abs((zillow_mean.iloc[:,-1]/predicted_all).dropna()-1))*100"
   ]
  },
  {
   "cell_type": "markdown",
   "metadata": {},
   "source": [
    "### Average Monthly Prediciton Accuracy"
   ]
  },
  {
   "cell_type": "code",
   "execution_count": 269,
   "metadata": {},
   "outputs": [
    {
     "data": {
      "text/plain": [
       "97.42427190419566"
      ]
     },
     "execution_count": 269,
     "metadata": {},
     "output_type": "execute_result"
    }
   ],
   "source": [
    "((1 - np.abs((zillow_mean.iloc[:,-1]/predicted_all).dropna()-1))*100).mean()"
   ]
  },
  {
   "cell_type": "markdown",
   "metadata": {},
   "source": [
    "# Use Only Top 10 most important features"
   ]
  },
  {
   "cell_type": "code",
   "execution_count": 270,
   "metadata": {},
   "outputs": [],
   "source": [
    "feat_import = sorted(list(zip(x_train.columns,model_gradient.feature_importances_)), key = lambda x: x[1],reverse = True)[0:10]\n",
    "\n"
   ]
  },
  {
   "cell_type": "code",
   "execution_count": 271,
   "metadata": {},
   "outputs": [
    {
     "data": {
      "text/plain": [
       "['zri_2015',\n",
       " 'owner_occupied_housing_units_upper_value_quartile_2011',\n",
       " 'zri_2014',\n",
       " 'median_rent_2011',\n",
       " 'owner_occupied_housing_units_median_value_2011',\n",
       " 'median_rent_2013',\n",
       " 'median_rent_2012',\n",
       " 'percent_income_spent_on_rent_2013',\n",
       " 'zri_2013',\n",
       " 'median_income_2011']"
      ]
     },
     "execution_count": 271,
     "metadata": {},
     "output_type": "execute_result"
    }
   ],
   "source": [
    "top_features = [i[0] for i in feat_import]\n",
    "top_features"
   ]
  },
  {
   "cell_type": "code",
   "execution_count": 272,
   "metadata": {},
   "outputs": [],
   "source": [
    "top_x_train = x_train[top_features]\n",
    "top_y_train = y_train"
   ]
  },
  {
   "cell_type": "code",
   "execution_count": 273,
   "metadata": {},
   "outputs": [
    {
     "data": {
      "text/plain": [
       "['zri_2018',\n",
       " 'owner_occupied_housing_units_upper_value_quartile_2014',\n",
       " 'zri_2017',\n",
       " 'median_rent_2014',\n",
       " 'owner_occupied_housing_units_median_value_2014',\n",
       " 'median_rent_2016',\n",
       " 'median_rent_2015',\n",
       " 'percent_income_spent_on_rent_2016',\n",
       " 'zri_2016',\n",
       " 'median_income_2014']"
      ]
     },
     "execution_count": 273,
     "metadata": {},
     "output_type": "execute_result"
    }
   ],
   "source": [
    "new_top = []\n",
    "\n",
    "for i in top_features:\n",
    "    i = re.sub('2015','2018',i)\n",
    "    i = re.sub('2014','2017',i)\n",
    "    i = re.sub('2013','2016',i)\n",
    "    i = re.sub('2012','2015',i)\n",
    "    i = re.sub('2011','2014',i)\n",
    "    new_top.append(i)\n",
    "\n",
    "new_top"
   ]
  },
  {
   "cell_type": "code",
   "execution_count": 274,
   "metadata": {},
   "outputs": [],
   "source": [
    "top_x_test = x_test_2019[new_top]\n",
    "top_y_test = y_test_2019"
   ]
  },
  {
   "cell_type": "markdown",
   "metadata": {},
   "source": [
    "### Already Logged"
   ]
  },
  {
   "cell_type": "code",
   "execution_count": 275,
   "metadata": {},
   "outputs": [
    {
     "data": {
      "text/plain": [
       "GradientBoostingRegressor(alpha=0.9, criterion='friedman_mse', init=None,\n",
       "                          learning_rate=0.1, loss='ls', max_depth=3,\n",
       "                          max_features=None, max_leaf_nodes=None,\n",
       "                          min_impurity_decrease=0.0, min_impurity_split=None,\n",
       "                          min_samples_leaf=1, min_samples_split=2,\n",
       "                          min_weight_fraction_leaf=0.0, n_estimators=100,\n",
       "                          n_iter_no_change=None, presort='auto',\n",
       "                          random_state=None, subsample=1.0, tol=0.0001,\n",
       "                          validation_fraction=0.1, verbose=0, warm_start=False)"
      ]
     },
     "execution_count": 275,
     "metadata": {},
     "output_type": "execute_result"
    }
   ],
   "source": [
    "top_model_ols = LinearRegression()\n",
    "top_model_lasso = Lasso()\n",
    "top_model_ridge = Ridge()\n",
    "top_model_gradient = GradientBoostingRegressor()\n",
    "\n",
    "top_model_ols.fit(top_x_train, top_y_train)\n",
    "top_model_lasso.fit(top_x_train, top_y_train)\n",
    "top_model_ridge.fit(top_x_train, top_y_train)\n",
    "top_model_gradient.fit(top_x_train, top_y_train)"
   ]
  },
  {
   "cell_type": "markdown",
   "metadata": {},
   "source": [
    "### Train Scores"
   ]
  },
  {
   "cell_type": "code",
   "execution_count": 276,
   "metadata": {},
   "outputs": [
    {
     "name": "stdout",
     "output_type": "stream",
     "text": [
      "Simple Linear Train Score: 0.9935\n",
      "Lasso Train Score: 0.0000\n",
      "Ridge Train Score: 0.9934\n",
      "Gradient Regressor Train Score: 0.9942\n"
     ]
    }
   ],
   "source": [
    "print(\"Simple Linear Train Score: %.4f\" %top_model_ols.score(top_x_train, top_y_train))\n",
    "print(\"Lasso Train Score: %.4f\" %top_model_lasso.score(top_x_train, top_y_train))\n",
    "print(\"Ridge Train Score: %.4f\" %top_model_ridge.score(top_x_train, top_y_train))\n",
    "print(\"Gradient Regressor Train Score: %.4f\" %top_model_gradient.score(top_x_train, top_y_train))"
   ]
  },
  {
   "cell_type": "markdown",
   "metadata": {},
   "source": [
    "### Test Scores"
   ]
  },
  {
   "cell_type": "code",
   "execution_count": 277,
   "metadata": {},
   "outputs": [
    {
     "name": "stdout",
     "output_type": "stream",
     "text": [
      "Simple Linear Test Score: 0.9922\n",
      "Lasso Test Score: -0.0094\n",
      "Ridge Test Score: 0.9915\n",
      "Gradient Regressor Test Score: 0.9899\n"
     ]
    }
   ],
   "source": [
    "\n",
    "print('Simple Linear Test Score: %.4f'%top_model_ols.score(top_x_test, top_y_test))\n",
    "print('Lasso Test Score: %.4f'%top_model_lasso.score(top_x_test, top_y_test))\n",
    "print('Ridge Test Score: %.4f'%top_model_ridge.score(top_x_test, top_y_test))\n",
    "print('Gradient Regressor Test Score: %.4f'%top_model_gradient.score(top_x_test, top_y_test))"
   ]
  },
  {
   "cell_type": "markdown",
   "metadata": {},
   "source": [
    "### Kaggle Scores"
   ]
  },
  {
   "cell_type": "code",
   "execution_count": 278,
   "metadata": {},
   "outputs": [
    {
     "name": "stdout",
     "output_type": "stream",
     "text": [
      "Simple Linear Kaggle Score: 0.03172\n",
      "Lasso Kaggle Score: 0.36112\n",
      "Ridge Kaggle Score: 0.03323\n",
      "Gradient Regressor Kaggle Score: 0.03619\n"
     ]
    }
   ],
   "source": [
    "print('Simple Linear Kaggle Score: %.5f' % sqrt(mean_squared_error(top_model_ols.predict(top_x_test), top_y_test)))\n",
    "print('Lasso Kaggle Score: %.5f' % sqrt(mean_squared_error(top_model_lasso.predict(top_x_test), top_y_test)))\n",
    "print('Ridge Kaggle Score: %.5f' % sqrt(mean_squared_error(top_model_ridge.predict(top_x_test), top_y_test)))\n",
    "print('Gradient Regressor Kaggle Score: %.5f' % sqrt(mean_squared_error(top_model_gradient.predict(top_x_test), top_y_test)))\n"
   ]
  },
  {
   "cell_type": "markdown",
   "metadata": {},
   "source": [
    "### Average Prediction Accuracy (Mean of ZRI)"
   ]
  },
  {
   "cell_type": "code",
   "execution_count": 279,
   "metadata": {},
   "outputs": [],
   "source": [
    "top_predictions = pd.Series(np.exp(top_model_ols.predict(top_x_test)), index = top_y_test.index)"
   ]
  },
  {
   "cell_type": "code",
   "execution_count": 280,
   "metadata": {},
   "outputs": [
    {
     "data": {
      "text/plain": [
       "zip\n",
       "1001     0.992872\n",
       "1007     0.981271\n",
       "1013     0.958552\n",
       "1020     0.995817\n",
       "1028     0.971192\n",
       "           ...   \n",
       "99567    0.962697\n",
       "99577    0.958447\n",
       "99645    0.965252\n",
       "99654    0.972182\n",
       "99705    0.999911\n",
       "Length: 8044, dtype: float64"
      ]
     },
     "execution_count": 280,
     "metadata": {},
     "output_type": "execute_result"
    }
   ],
   "source": [
    "(1 - np.abs((zillow_mean.iloc[:, 8]/top_predictions).dropna()-1))"
   ]
  },
  {
   "cell_type": "code",
   "execution_count": 281,
   "metadata": {},
   "outputs": [
    {
     "data": {
      "text/plain": [
       "97.6195257831968"
      ]
     },
     "execution_count": 281,
     "metadata": {},
     "output_type": "execute_result"
    }
   ],
   "source": [
    "(1 - np.abs((zillow_mean.iloc[:, 8]/top_predictions).dropna()-1)).mean()*100"
   ]
  },
  {
   "cell_type": "markdown",
   "metadata": {},
   "source": [
    "# Train on 2013, 2014, 2015 and predict 2018 (top 10 features)\n",
    "## Test on  2014, 2015, 2016 and predict 2019"
   ]
  },
  {
   "cell_type": "code",
   "execution_count": 282,
   "metadata": {},
   "outputs": [
    {
     "data": {
      "text/plain": [
       "['zri_2015',\n",
       " 'owner_occupied_housing_units_upper_value_quartile_2011',\n",
       " 'zri_2014',\n",
       " 'median_rent_2011',\n",
       " 'owner_occupied_housing_units_median_value_2011',\n",
       " 'median_rent_2013',\n",
       " 'median_rent_2012',\n",
       " 'percent_income_spent_on_rent_2013',\n",
       " 'zri_2013',\n",
       " 'median_income_2011']"
      ]
     },
     "execution_count": 282,
     "metadata": {},
     "output_type": "execute_result"
    }
   ],
   "source": [
    "#top features for 2011,2012,2013 to predict 2016 model\n",
    "top_features"
   ]
  },
  {
   "cell_type": "markdown",
   "metadata": {},
   "source": [
    "### Change them to features from 2013,2014, 2015 (and zri 2015,2016,2017)"
   ]
  },
  {
   "cell_type": "code",
   "execution_count": 283,
   "metadata": {},
   "outputs": [
    {
     "data": {
      "text/plain": [
       "['zri_2017',\n",
       " 'owner_occupied_housing_units_upper_value_quartile_2013',\n",
       " 'zri_2016',\n",
       " 'median_rent_2013',\n",
       " 'owner_occupied_housing_units_median_value_2013',\n",
       " 'median_rent_2015',\n",
       " 'median_rent_2014',\n",
       " 'percent_income_spent_on_rent_2015',\n",
       " 'zri_2015',\n",
       " 'median_income_2013']"
      ]
     },
     "execution_count": 283,
     "metadata": {},
     "output_type": "execute_result"
    }
   ],
   "source": [
    "\n",
    "updated_top = []\n",
    "\n",
    "for i in top_features:\n",
    "    i = re.sub('2015','2017',i)\n",
    "    i = re.sub('2014','2016',i)\n",
    "    i = re.sub('2013','2015',i)\n",
    "    i = re.sub('2012','2014',i)\n",
    "    i = re.sub('2011','2013',i)\n",
    "    updated_top.append(i)\n",
    "\n",
    "updated_top"
   ]
  },
  {
   "cell_type": "code",
   "execution_count": 284,
   "metadata": {},
   "outputs": [],
   "source": [
    "super_x_train = total[updated_top]\n",
    "super_x_test = total[new_top]"
   ]
  },
  {
   "cell_type": "code",
   "execution_count": 285,
   "metadata": {},
   "outputs": [],
   "source": [
    "super_y_train = total.iloc[:,7]\n",
    "super_y_test = total.iloc[:,8]"
   ]
  },
  {
   "cell_type": "markdown",
   "metadata": {},
   "source": [
    "### Log Everything"
   ]
  },
  {
   "cell_type": "code",
   "execution_count": 286,
   "metadata": {},
   "outputs": [],
   "source": [
    "super_x_train = np.log(super_x_train+1)\n",
    "super_x_test = np.log(super_x_test+1)\n",
    "super_y_train = np.log(super_y_train)\n",
    "super_y_test = np.log(super_y_test)"
   ]
  },
  {
   "cell_type": "code",
   "execution_count": 287,
   "metadata": {},
   "outputs": [
    {
     "data": {
      "text/plain": [
       "GradientBoostingRegressor(alpha=0.9, criterion='friedman_mse', init=None,\n",
       "                          learning_rate=0.1, loss='ls', max_depth=3,\n",
       "                          max_features=None, max_leaf_nodes=None,\n",
       "                          min_impurity_decrease=0.0, min_impurity_split=None,\n",
       "                          min_samples_leaf=1, min_samples_split=2,\n",
       "                          min_weight_fraction_leaf=0.0, n_estimators=100,\n",
       "                          n_iter_no_change=None, presort='auto',\n",
       "                          random_state=None, subsample=1.0, tol=0.0001,\n",
       "                          validation_fraction=0.1, verbose=0, warm_start=False)"
      ]
     },
     "execution_count": 287,
     "metadata": {},
     "output_type": "execute_result"
    }
   ],
   "source": [
    "super_model_ols = LinearRegression()\n",
    "super_model_lasso = Lasso()\n",
    "super_model_ridge = Ridge()\n",
    "super_model_gradient = GradientBoostingRegressor()\n",
    "\n",
    "super_model_ols.fit(super_x_train, super_y_train)\n",
    "super_model_lasso.fit(super_x_train, super_y_train)\n",
    "super_model_ridge.fit(super_x_train, super_y_train)\n",
    "super_model_gradient.fit(super_x_train, super_y_train)"
   ]
  },
  {
   "cell_type": "markdown",
   "metadata": {},
   "source": [
    "### Train Score"
   ]
  },
  {
   "cell_type": "code",
   "execution_count": 288,
   "metadata": {},
   "outputs": [
    {
     "name": "stdout",
     "output_type": "stream",
     "text": [
      "Simple Regression Train Score is: 0.9945\n",
      "Lasso Train Score is: 0.0000\n",
      "Ridge Train Score is: 0.9944\n",
      "Gradient Regressor Train Score is: 0.9952\n"
     ]
    }
   ],
   "source": [
    "print(\"Simple Regression Train Score is: %.4f\" %super_model_ols.score(super_x_train, super_y_train))\n",
    "print(\"Lasso Train Score is: %.4f\" %super_model_lasso.score(super_x_train, super_y_train))\n",
    "print(\"Ridge Train Score is: %.4f\" %super_model_ridge.score(super_x_train, super_y_train))\n",
    "print(\"Gradient Regressor Train Score is: %.4f\" %super_model_gradient.score(super_x_train, super_y_train))"
   ]
  },
  {
   "cell_type": "markdown",
   "metadata": {},
   "source": [
    "### Test Score"
   ]
  },
  {
   "cell_type": "code",
   "execution_count": 289,
   "metadata": {},
   "outputs": [
    {
     "name": "stdout",
     "output_type": "stream",
     "text": [
      "Simple Regression Test Score is: 0.9927\n",
      "Lasso Test Score is: -0.0007\n",
      "Ridge Test Score is: 0.9926\n",
      "Gradient Regressor Test Score is: 0.9922\n"
     ]
    }
   ],
   "source": [
    "print(\"Simple Regression Test Score is: %.4f\" %super_model_ols.score(super_x_test, super_y_test))\n",
    "print(\"Lasso Test Score is: %.4f\" %super_model_lasso.score(super_x_test, super_y_test))\n",
    "print(\"Ridge Test Score is: %.4f\" %super_model_ridge.score(super_x_test, super_y_test))\n",
    "print(\"Gradient Regressor Test Score is: %.4f\" %super_model_gradient.score(super_x_test, super_y_test))"
   ]
  },
  {
   "cell_type": "markdown",
   "metadata": {},
   "source": [
    "### Kaggle Score"
   ]
  },
  {
   "cell_type": "code",
   "execution_count": 290,
   "metadata": {},
   "outputs": [
    {
     "name": "stdout",
     "output_type": "stream",
     "text": [
      "Simple Linear Kaggle Score: 0.03062\n",
      "Lasso Kaggle Score: 0.35957\n",
      "Ridge Kaggle Score: 0.03102\n",
      "Gradient Regressor Kaggle Score: 0.03166\n"
     ]
    }
   ],
   "source": [
    "print('Simple Linear Kaggle Score: %.5f' % sqrt(mean_squared_error(super_model_ols.predict(super_x_test), super_y_test)))\n",
    "print('Lasso Kaggle Score: %.5f' % sqrt(mean_squared_error(super_model_lasso.predict(super_x_test), super_y_test)))\n",
    "print('Ridge Kaggle Score: %.5f' % sqrt(mean_squared_error(super_model_ridge.predict(super_x_test), super_y_test)))\n",
    "print('Gradient Regressor Kaggle Score: %.5f' % sqrt(mean_squared_error(super_model_gradient.predict(super_x_test), super_y_test)))\n"
   ]
  },
  {
   "cell_type": "markdown",
   "metadata": {},
   "source": [
    "### Average Prediction Accuracy (Mean of ZRI)"
   ]
  },
  {
   "cell_type": "code",
   "execution_count": 291,
   "metadata": {},
   "outputs": [],
   "source": [
    "super_predictions = pd.Series(np.exp(super_model_ols.predict(super_x_test)), index = super_y_test.index)\n",
    "\n"
   ]
  },
  {
   "cell_type": "code",
   "execution_count": 292,
   "metadata": {},
   "outputs": [
    {
     "data": {
      "text/plain": [
       "97.71347051921157"
      ]
     },
     "execution_count": 292,
     "metadata": {},
     "output_type": "execute_result"
    }
   ],
   "source": [
    "(1 - np.abs((zillow_mean.iloc[:, 8]/super_predictions).dropna()-1)).mean()*100"
   ]
  },
  {
   "cell_type": "markdown",
   "metadata": {},
   "source": [
    "# Adding IRS Data"
   ]
  },
  {
   "cell_type": "code",
   "execution_count": 293,
   "metadata": {},
   "outputs": [],
   "source": [
    "irs2011 = pd.read_csv('11zpallagi.csv')\n",
    "irs2012 = pd.read_csv('12zpallagi.csv')\n",
    "irs2013 = pd.read_csv('13zpallagi.csv')\n",
    "irs2014 = pd.read_csv('14zpallagi.csv')\n",
    "irs2015 = pd.read_csv('15zpallagi.csv')\n",
    "irs2016 = pd.read_csv('16zpallagi.csv')\n",
    "irs2017 = pd.read_csv('17zpallagi.csv')"
   ]
  },
  {
   "cell_type": "code",
   "execution_count": 294,
   "metadata": {},
   "outputs": [],
   "source": [
    "irs_mutual_columns = set(irs2013.columns).\\\n",
    "intersection(set(irs2014.columns)).intersection(set(irs2015.columns)).intersection(set(irs2016.columns)).\\\n",
    "intersection(set(irs2017.columns))"
   ]
  },
  {
   "cell_type": "code",
   "execution_count": 295,
   "metadata": {},
   "outputs": [],
   "source": [
    "irs2013 = irs2013[irs_mutual_columns].drop(['STATEFIPS','STATE'], axis = 1)\n",
    "irs2014 = irs2014[irs_mutual_columns].drop(['STATEFIPS','STATE'], axis = 1)\n",
    "irs2015 = irs2015[irs_mutual_columns].drop(['STATEFIPS','STATE'], axis = 1)\n",
    "irs2016 = irs2016[irs_mutual_columns].drop(['STATEFIPS','STATE'], axis = 1)\n",
    "irs2017 = irs2017[irs_mutual_columns].drop(['STATEFIPS','STATE'], axis = 1)"
   ]
  },
  {
   "cell_type": "code",
   "execution_count": 296,
   "metadata": {},
   "outputs": [],
   "source": [
    "irs2017.columns = list(map(lambda x: x + '_2017', irs2017.columns))"
   ]
  },
  {
   "cell_type": "code",
   "execution_count": 297,
   "metadata": {},
   "outputs": [],
   "source": [
    "irs2017.columns = irs2017.columns.str.replace('zipcode_2017', 'zipcode')"
   ]
  },
  {
   "cell_type": "markdown",
   "metadata": {},
   "source": [
    "## Each zipcode has 6 lines for 6 income brackets"
   ]
  },
  {
   "cell_type": "markdown",
   "metadata": {},
   "source": [
    "## We add all the values to have total values"
   ]
  },
  {
   "cell_type": "code",
   "execution_count": 298,
   "metadata": {},
   "outputs": [],
   "source": [
    "irs2013 = irs2013.groupby('zipcode').sum().reset_index()\n",
    "irs2014 = irs2014.groupby('zipcode').sum().reset_index()\n",
    "irs2015 = irs2015.groupby('zipcode').sum().reset_index()\n",
    "irs2016 = irs2016.groupby('zipcode').sum().reset_index()\n",
    "irs2017 = irs2017.groupby('zipcode').sum().reset_index()"
   ]
  },
  {
   "cell_type": "code",
   "execution_count": 299,
   "metadata": {},
   "outputs": [],
   "source": [
    "IRS = irs2013.merge(irs2014, on = 'zipcode', suffixes = ('_2013','_2014')).\\\n",
    "merge(irs2015, on = 'zipcode').merge(irs2016, on = 'zipcode', suffixes = ('_2015','_2016')).\\\n",
    "merge(irs2017, on = 'zipcode').set_index('zipcode')"
   ]
  },
  {
   "cell_type": "code",
   "execution_count": 300,
   "metadata": {},
   "outputs": [
    {
     "data": {
      "text/html": [
       "<div>\n",
       "<style scoped>\n",
       "    .dataframe tbody tr th:only-of-type {\n",
       "        vertical-align: middle;\n",
       "    }\n",
       "\n",
       "    .dataframe tbody tr th {\n",
       "        vertical-align: top;\n",
       "    }\n",
       "\n",
       "    .dataframe thead th {\n",
       "        text-align: right;\n",
       "    }\n",
       "</style>\n",
       "<table border=\"1\" class=\"dataframe\">\n",
       "  <thead>\n",
       "    <tr style=\"text-align: right;\">\n",
       "      <th></th>\n",
       "      <th>N00300_2013</th>\n",
       "      <th>PREP_2013</th>\n",
       "      <th>A01400_2013</th>\n",
       "      <th>N02650_2013</th>\n",
       "      <th>N18300_2013</th>\n",
       "      <th>N07300_2013</th>\n",
       "      <th>A03220_2013</th>\n",
       "      <th>N03300_2013</th>\n",
       "      <th>A19700_2013</th>\n",
       "      <th>agi_stub_2013</th>\n",
       "      <th>...</th>\n",
       "      <th>A18300_2017</th>\n",
       "      <th>A07100_2017</th>\n",
       "      <th>N03150_2017</th>\n",
       "      <th>A59660_2017</th>\n",
       "      <th>A18450_2017</th>\n",
       "      <th>A03230_2017</th>\n",
       "      <th>A04470_2017</th>\n",
       "      <th>A10300_2017</th>\n",
       "      <th>A02900_2017</th>\n",
       "      <th>A02650_2017</th>\n",
       "    </tr>\n",
       "    <tr>\n",
       "      <th>zipcode</th>\n",
       "      <th></th>\n",
       "      <th></th>\n",
       "      <th></th>\n",
       "      <th></th>\n",
       "      <th></th>\n",
       "      <th></th>\n",
       "      <th></th>\n",
       "      <th></th>\n",
       "      <th></th>\n",
       "      <th></th>\n",
       "      <th></th>\n",
       "      <th></th>\n",
       "      <th></th>\n",
       "      <th></th>\n",
       "      <th></th>\n",
       "      <th></th>\n",
       "      <th></th>\n",
       "      <th></th>\n",
       "      <th></th>\n",
       "      <th></th>\n",
       "      <th></th>\n",
       "    </tr>\n",
       "  </thead>\n",
       "  <tbody>\n",
       "    <tr>\n",
       "      <td>0</td>\n",
       "      <td>43523970.0</td>\n",
       "      <td>79049580.0</td>\n",
       "      <td>207388781.0</td>\n",
       "      <td>143724750.0</td>\n",
       "      <td>44050210.0</td>\n",
       "      <td>7010520.0</td>\n",
       "      <td>914929.0</td>\n",
       "      <td>808490.0</td>\n",
       "      <td>179233983.0</td>\n",
       "      <td>1071</td>\n",
       "      <td>...</td>\n",
       "      <td>615964939.0</td>\n",
       "      <td>61751724.0</td>\n",
       "      <td>2404180.0</td>\n",
       "      <td>64981097.0</td>\n",
       "      <td>19486012.0</td>\n",
       "      <td>1999524.0</td>\n",
       "      <td>1.374069e+09</td>\n",
       "      <td>1.664300e+09</td>\n",
       "      <td>151010505.0</td>\n",
       "      <td>1.121949e+10</td>\n",
       "    </tr>\n",
       "    <tr>\n",
       "      <td>1001</td>\n",
       "      <td>3380.0</td>\n",
       "      <td>4970.0</td>\n",
       "      <td>12310.0</td>\n",
       "      <td>8780.0</td>\n",
       "      <td>3190.0</td>\n",
       "      <td>420.0</td>\n",
       "      <td>79.0</td>\n",
       "      <td>30.0</td>\n",
       "      <td>5028.0</td>\n",
       "      <td>21</td>\n",
       "      <td>...</td>\n",
       "      <td>26808.0</td>\n",
       "      <td>2778.0</td>\n",
       "      <td>160.0</td>\n",
       "      <td>1872.0</td>\n",
       "      <td>139.0</td>\n",
       "      <td>99.0</td>\n",
       "      <td>5.830900e+04</td>\n",
       "      <td>6.139500e+04</td>\n",
       "      <td>5987.0</td>\n",
       "      <td>5.358770e+05</td>\n",
       "    </tr>\n",
       "    <tr>\n",
       "      <td>1002</td>\n",
       "      <td>4730.0</td>\n",
       "      <td>4750.0</td>\n",
       "      <td>19342.0</td>\n",
       "      <td>9570.0</td>\n",
       "      <td>3950.0</td>\n",
       "      <td>1290.0</td>\n",
       "      <td>111.0</td>\n",
       "      <td>230.0</td>\n",
       "      <td>15619.0</td>\n",
       "      <td>21</td>\n",
       "      <td>...</td>\n",
       "      <td>67002.0</td>\n",
       "      <td>4637.0</td>\n",
       "      <td>240.0</td>\n",
       "      <td>1711.0</td>\n",
       "      <td>248.0</td>\n",
       "      <td>359.0</td>\n",
       "      <td>1.180960e+05</td>\n",
       "      <td>1.326580e+05</td>\n",
       "      <td>18171.0</td>\n",
       "      <td>8.729200e+05</td>\n",
       "    </tr>\n",
       "    <tr>\n",
       "      <td>1005</td>\n",
       "      <td>900.0</td>\n",
       "      <td>1230.0</td>\n",
       "      <td>3497.0</td>\n",
       "      <td>2230.0</td>\n",
       "      <td>840.0</td>\n",
       "      <td>80.0</td>\n",
       "      <td>32.0</td>\n",
       "      <td>0.0</td>\n",
       "      <td>1133.0</td>\n",
       "      <td>21</td>\n",
       "      <td>...</td>\n",
       "      <td>7750.0</td>\n",
       "      <td>922.0</td>\n",
       "      <td>40.0</td>\n",
       "      <td>489.0</td>\n",
       "      <td>45.0</td>\n",
       "      <td>0.0</td>\n",
       "      <td>1.635600e+04</td>\n",
       "      <td>1.550700e+04</td>\n",
       "      <td>1686.0</td>\n",
       "      <td>1.438930e+05</td>\n",
       "    </tr>\n",
       "    <tr>\n",
       "      <td>1007</td>\n",
       "      <td>3630.0</td>\n",
       "      <td>3810.0</td>\n",
       "      <td>7883.0</td>\n",
       "      <td>7300.0</td>\n",
       "      <td>3180.0</td>\n",
       "      <td>420.0</td>\n",
       "      <td>98.0</td>\n",
       "      <td>60.0</td>\n",
       "      <td>4269.0</td>\n",
       "      <td>21</td>\n",
       "      <td>...</td>\n",
       "      <td>38217.0</td>\n",
       "      <td>3355.0</td>\n",
       "      <td>170.0</td>\n",
       "      <td>1053.0</td>\n",
       "      <td>102.0</td>\n",
       "      <td>172.0</td>\n",
       "      <td>7.158200e+04</td>\n",
       "      <td>7.278800e+04</td>\n",
       "      <td>7930.0</td>\n",
       "      <td>5.735830e+05</td>\n",
       "    </tr>\n",
       "  </tbody>\n",
       "</table>\n",
       "<p>5 rows × 540 columns</p>\n",
       "</div>"
      ],
      "text/plain": [
       "         N00300_2013   PREP_2013  A01400_2013  N02650_2013  N18300_2013  \\\n",
       "zipcode                                                                   \n",
       "0         43523970.0  79049580.0  207388781.0  143724750.0   44050210.0   \n",
       "1001          3380.0      4970.0      12310.0       8780.0       3190.0   \n",
       "1002          4730.0      4750.0      19342.0       9570.0       3950.0   \n",
       "1005           900.0      1230.0       3497.0       2230.0        840.0   \n",
       "1007          3630.0      3810.0       7883.0       7300.0       3180.0   \n",
       "\n",
       "         N07300_2013  A03220_2013  N03300_2013  A19700_2013  agi_stub_2013  \\\n",
       "zipcode                                                                      \n",
       "0          7010520.0     914929.0     808490.0  179233983.0           1071   \n",
       "1001           420.0         79.0         30.0       5028.0             21   \n",
       "1002          1290.0        111.0        230.0      15619.0             21   \n",
       "1005            80.0         32.0          0.0       1133.0             21   \n",
       "1007           420.0         98.0         60.0       4269.0             21   \n",
       "\n",
       "         ...  A18300_2017  A07100_2017  N03150_2017  A59660_2017  A18450_2017  \\\n",
       "zipcode  ...                                                                    \n",
       "0        ...  615964939.0   61751724.0    2404180.0   64981097.0   19486012.0   \n",
       "1001     ...      26808.0       2778.0        160.0       1872.0        139.0   \n",
       "1002     ...      67002.0       4637.0        240.0       1711.0        248.0   \n",
       "1005     ...       7750.0        922.0         40.0        489.0         45.0   \n",
       "1007     ...      38217.0       3355.0        170.0       1053.0        102.0   \n",
       "\n",
       "         A03230_2017   A04470_2017   A10300_2017  A02900_2017   A02650_2017  \n",
       "zipcode                                                                      \n",
       "0          1999524.0  1.374069e+09  1.664300e+09  151010505.0  1.121949e+10  \n",
       "1001            99.0  5.830900e+04  6.139500e+04       5987.0  5.358770e+05  \n",
       "1002           359.0  1.180960e+05  1.326580e+05      18171.0  8.729200e+05  \n",
       "1005             0.0  1.635600e+04  1.550700e+04       1686.0  1.438930e+05  \n",
       "1007           172.0  7.158200e+04  7.278800e+04       7930.0  5.735830e+05  \n",
       "\n",
       "[5 rows x 540 columns]"
      ]
     },
     "execution_count": 300,
     "metadata": {},
     "output_type": "execute_result"
    }
   ],
   "source": [
    "IRS.head()"
   ]
  },
  {
   "cell_type": "code",
   "execution_count": 301,
   "metadata": {},
   "outputs": [],
   "source": [
    "IRS_total = pd.concat([zillow_mean,IRS], join = 'inner', axis = 1)"
   ]
  },
  {
   "cell_type": "code",
   "execution_count": null,
   "metadata": {},
   "outputs": [],
   "source": []
  },
  {
   "cell_type": "markdown",
   "metadata": {},
   "source": [
    "# Train 2013, 2014, 2015 to predict 2018\n",
    "## Test 2014, 2015, 2016 to predict 2019 "
   ]
  },
  {
   "cell_type": "code",
   "execution_count": 302,
   "metadata": {},
   "outputs": [],
   "source": [
    "irs_x_train = pd.concat([IRS_total.iloc[:,4:7],IRS_total.iloc[:,9:333]], join = 'inner', axis = 1)\n",
    "irs_x_test = pd.concat([IRS_total.iloc[:,5:8],IRS_total.iloc[:,117:441]], join = 'inner', axis = 1)"
   ]
  },
  {
   "cell_type": "code",
   "execution_count": 303,
   "metadata": {},
   "outputs": [],
   "source": [
    "irs_y_train = IRS_total.iloc[:,7]\n",
    "irs_y_test = IRS_total.iloc[:,8]"
   ]
  },
  {
   "cell_type": "code",
   "execution_count": 304,
   "metadata": {},
   "outputs": [
    {
     "data": {
      "text/plain": [
       "8609"
      ]
     },
     "execution_count": 304,
     "metadata": {},
     "output_type": "execute_result"
    }
   ],
   "source": [
    "good = list(set(irs_x_train[(irs_x_train < 0).sum(axis = 1) == 0].index).intersection(set(irs_x_test[(irs_x_test < 0).sum(axis = 1) == 0].index)))\n",
    "\n",
    "    \n",
    "len(good)\n",
    "    "
   ]
  },
  {
   "cell_type": "code",
   "execution_count": 305,
   "metadata": {},
   "outputs": [],
   "source": [
    "irs_x_train = irs_x_train.loc[good,]\n",
    "irs_x_test = irs_x_test.loc[good,]\n",
    "irs_y_train = irs_y_train[good]\n",
    "irs_y_test = irs_y_test[good]"
   ]
  },
  {
   "cell_type": "markdown",
   "metadata": {},
   "source": [
    "### Log Everything"
   ]
  },
  {
   "cell_type": "code",
   "execution_count": 306,
   "metadata": {},
   "outputs": [],
   "source": [
    "irs_x_train = np.log(irs_x_train + 1) \n",
    "irs_x_test = np.log(irs_x_test + 1)\n",
    "irs_y_train = np.log(irs_y_train)\n",
    "irs_y_test = np.log(irs_y_test)"
   ]
  },
  {
   "cell_type": "markdown",
   "metadata": {},
   "source": [
    "### Modelling"
   ]
  },
  {
   "cell_type": "code",
   "execution_count": 307,
   "metadata": {},
   "outputs": [
    {
     "data": {
      "text/plain": [
       "GradientBoostingRegressor(alpha=0.9, criterion='friedman_mse', init=None,\n",
       "                          learning_rate=0.1, loss='ls', max_depth=3,\n",
       "                          max_features=None, max_leaf_nodes=None,\n",
       "                          min_impurity_decrease=0.0, min_impurity_split=None,\n",
       "                          min_samples_leaf=1, min_samples_split=2,\n",
       "                          min_weight_fraction_leaf=0.0, n_estimators=100,\n",
       "                          n_iter_no_change=None, presort='auto',\n",
       "                          random_state=None, subsample=1.0, tol=0.0001,\n",
       "                          validation_fraction=0.1, verbose=0, warm_start=False)"
      ]
     },
     "execution_count": 307,
     "metadata": {},
     "output_type": "execute_result"
    }
   ],
   "source": [
    "irs_model_ols = LinearRegression()\n",
    "irs_model_lasso = Lasso()\n",
    "irs_model_ridge = Ridge()\n",
    "irs_model_gradient = GradientBoostingRegressor()\n",
    "\n",
    "irs_model_ols.fit(irs_x_train, irs_y_train)\n",
    "irs_model_lasso.fit(irs_x_train, irs_y_train)\n",
    "irs_model_ridge.fit(irs_x_train, irs_y_train)\n",
    "irs_model_gradient.fit(irs_x_train, irs_y_train)"
   ]
  },
  {
   "cell_type": "markdown",
   "metadata": {},
   "source": [
    "### Train Score"
   ]
  },
  {
   "cell_type": "code",
   "execution_count": 308,
   "metadata": {},
   "outputs": [
    {
     "name": "stdout",
     "output_type": "stream",
     "text": [
      "Simple Linear Train Score 0.9951\n",
      "Lasso Train Score 0.0000\n",
      "Ridge Train Score 0.9949\n",
      "Gradient Regressor Train Score 0.9951\n"
     ]
    }
   ],
   "source": [
    "print(\"Simple Linear Train Score %.4f\" %irs_model_ols.score(irs_x_train, irs_y_train))\n",
    "print(\"Lasso Train Score %.4f\" %irs_model_lasso.score(irs_x_train, irs_y_train))\n",
    "print(\"Ridge Train Score %.4f\" %irs_model_ridge.score(irs_x_train, irs_y_train))\n",
    "print(\"Gradient Regressor Train Score %.4f\" %irs_model_gradient.score(irs_x_train, irs_y_train))"
   ]
  },
  {
   "cell_type": "markdown",
   "metadata": {},
   "source": [
    "### Test Score"
   ]
  },
  {
   "cell_type": "code",
   "execution_count": 309,
   "metadata": {},
   "outputs": [
    {
     "name": "stdout",
     "output_type": "stream",
     "text": [
      "Simple Linear Test Score 0.9920\n",
      "Lasso Test Score -0.0007\n",
      "Ridge Tset Score 0.9918\n",
      "Gradient Regressor Test Score 0.9920\n"
     ]
    }
   ],
   "source": [
    "print(\"Simple Linear Test Score %.4f\" %irs_model_ols.score(irs_x_test, irs_y_test))\n",
    "print(\"Lasso Test Score %.4f\" %irs_model_lasso.score(irs_x_test, irs_y_test))\n",
    "print(\"Ridge Tset Score %.4f\" %irs_model_ridge.score(irs_x_test, irs_y_test))\n",
    "print(\"Gradient Regressor Test Score %.4f\" %irs_model_gradient.score(irs_x_test, irs_y_test))"
   ]
  },
  {
   "cell_type": "markdown",
   "metadata": {},
   "source": [
    "### Kaggle Score"
   ]
  },
  {
   "cell_type": "code",
   "execution_count": 310,
   "metadata": {},
   "outputs": [
    {
     "name": "stdout",
     "output_type": "stream",
     "text": [
      "Simple Linear Kaggle Score: 0.03211\n",
      "Lasso Kaggle Score: 0.35992\n",
      "Ridge Kaggle Score: 0.03249\n",
      "Gradient Regressor Kaggle Score: 0.03209\n"
     ]
    }
   ],
   "source": [
    "print('Simple Linear Kaggle Score: %.5f' % sqrt(mean_squared_error(irs_model_ols.predict(irs_x_test), irs_y_test)))\n",
    "print('Lasso Kaggle Score: %.5f' % sqrt(mean_squared_error(irs_model_lasso.predict(irs_x_test), irs_y_test)))\n",
    "print('Ridge Kaggle Score: %.5f' % sqrt(mean_squared_error(irs_model_ridge.predict(irs_x_test), irs_y_test)))\n",
    "print('Gradient Regressor Kaggle Score: %.5f' % sqrt(mean_squared_error(irs_model_gradient.predict(irs_x_test), irs_y_test)))\n"
   ]
  },
  {
   "cell_type": "markdown",
   "metadata": {},
   "source": [
    "### Accuracy on Individual Zip Code Level"
   ]
  },
  {
   "cell_type": "code",
   "execution_count": 311,
   "metadata": {},
   "outputs": [],
   "source": [
    "irs_pred = pd.Series(np.exp(irs_model_gradient.predict(irs_x_test)), index = irs_y_test.index)"
   ]
  },
  {
   "cell_type": "code",
   "execution_count": 312,
   "metadata": {},
   "outputs": [
    {
     "data": {
      "text/plain": [
       "97.60823282393247"
      ]
     },
     "execution_count": 312,
     "metadata": {},
     "output_type": "execute_result"
    }
   ],
   "source": [
    "(1 - np.abs((((zillow_mean.iloc[:,8]/irs_pred).dropna()-1)))).mean()*100"
   ]
  },
  {
   "cell_type": "markdown",
   "metadata": {},
   "source": [
    "## Most important features top 20\n"
   ]
  },
  {
   "cell_type": "code",
   "execution_count": 313,
   "metadata": {},
   "outputs": [
    {
     "data": {
      "text/plain": [
       "[('zri_2017', 0.9948638707055147),\n",
       " ('N00300_2015', 0.0015618771865639365),\n",
       " ('zri_2016', 0.0006057610455675675),\n",
       " ('N03230_2014', 0.0005570436492386293),\n",
       " ('A02900_2013', 0.00032814561426754043),\n",
       " ('zri_2015', 5.6846575475015904e-05),\n",
       " ('A10600_2013', 5.23907287779398e-05),\n",
       " ('N01000_2014', 5.002187004812972e-05),\n",
       " ('A03230_2014', 3.951963863258817e-05),\n",
       " ('N05800_2014', 3.59644138298343e-05),\n",
       " ('A59720_2014', 3.1988812382353485e-05),\n",
       " ('N11902_2013', 2.9518603238510594e-05),\n",
       " ('A11902_2015', 1.5269406535607972e-05),\n",
       " ('A07180_2014', 1.4867773773053184e-05),\n",
       " ('N09600_2013', 1.4741614384466008e-05),\n",
       " ('N07230_2013', 1.3807294342471386e-05),\n",
       " ('N26270_2014', 1.3478398364001393e-05),\n",
       " ('N06500_2015', 1.2914974604256662e-05),\n",
       " ('A04800_2014', 9.94740228530818e-06),\n",
       " ('N10300_2015', 9.105441956929732e-06)]"
      ]
     },
     "execution_count": 313,
     "metadata": {},
     "output_type": "execute_result"
    }
   ],
   "source": [
    "sorted(list(zip(irs_x_train,model_gradient.feature_importances_)), key = lambda x: x[1], reverse = True)[:20]"
   ]
  },
  {
   "cell_type": "markdown",
   "metadata": {},
   "source": [
    "# Train model again with 20 top feature\n",
    "\n",
    "## Train 2013, 2014, 2015 to predict 2018\n",
    "## Test 2014, 2015, 2016 to predict 2019 "
   ]
  },
  {
   "cell_type": "code",
   "execution_count": 314,
   "metadata": {},
   "outputs": [],
   "source": [
    "irs_top = [i[0] for i in sorted(list(zip(irs_x_train,model_gradient.feature_importances_)), key = lambda x: x[1], reverse = True)[:20]]\n"
   ]
  },
  {
   "cell_type": "code",
   "execution_count": 315,
   "metadata": {},
   "outputs": [
    {
     "data": {
      "text/plain": [
       "['zri_2018',\n",
       " 'N00300_2016',\n",
       " 'zri_2017',\n",
       " 'N03230_2015',\n",
       " 'A02900_2014',\n",
       " 'zri_2016',\n",
       " 'A10600_2014',\n",
       " 'N01000_2015',\n",
       " 'A03230_2015',\n",
       " 'N05800_2015',\n",
       " 'A59720_2015',\n",
       " 'N11902_2014',\n",
       " 'A11902_2016',\n",
       " 'A07180_2015',\n",
       " 'N09600_2014',\n",
       " 'N07230_2014',\n",
       " 'N26270_2015',\n",
       " 'N06500_2016',\n",
       " 'A04800_2015',\n",
       " 'N10300_2016']"
      ]
     },
     "execution_count": 315,
     "metadata": {},
     "output_type": "execute_result"
    }
   ],
   "source": [
    "irs_new_top = []\n",
    "\n",
    "for i in irs_top:\n",
    "    i = re.sub('2017','2018',i)\n",
    "    i = re.sub('2016','2017',i)\n",
    "    i = re.sub('2015','2016',i)\n",
    "    i = re.sub('2014','2015',i)\n",
    "    i = re.sub('2013','2014',i)\n",
    "    irs_new_top.append(i)\n",
    "\n",
    "irs_new_top"
   ]
  },
  {
   "cell_type": "code",
   "execution_count": 316,
   "metadata": {},
   "outputs": [],
   "source": [
    "top_irs_x_train = irs_x_train[irs_top]\n",
    "top_irs_x_test = irs_x_test[irs_new_top]"
   ]
  },
  {
   "cell_type": "code",
   "execution_count": 317,
   "metadata": {},
   "outputs": [],
   "source": [
    "top_irs_y_train = irs_y_train.copy()\n",
    "top_irs_y_test = irs_y_test.copy()"
   ]
  },
  {
   "cell_type": "code",
   "execution_count": 318,
   "metadata": {},
   "outputs": [
    {
     "data": {
      "text/plain": [
       "GradientBoostingRegressor(alpha=0.9, criterion='friedman_mse', init=None,\n",
       "                          learning_rate=0.1, loss='ls', max_depth=3,\n",
       "                          max_features=None, max_leaf_nodes=None,\n",
       "                          min_impurity_decrease=0.0, min_impurity_split=None,\n",
       "                          min_samples_leaf=1, min_samples_split=2,\n",
       "                          min_weight_fraction_leaf=0.0, n_estimators=100,\n",
       "                          n_iter_no_change=None, presort='auto',\n",
       "                          random_state=None, subsample=1.0, tol=0.0001,\n",
       "                          validation_fraction=0.1, verbose=0, warm_start=False)"
      ]
     },
     "execution_count": 318,
     "metadata": {},
     "output_type": "execute_result"
    }
   ],
   "source": [
    "top_irs_model_ols = LinearRegression()\n",
    "top_irs_model_lasso = Lasso()\n",
    "top_irs_model_ridge = Ridge()\n",
    "top_irs_model_gradient = GradientBoostingRegressor()\n",
    "\n",
    "top_irs_model_ols.fit(top_irs_x_train, top_irs_y_train)\n",
    "top_irs_model_lasso.fit(top_irs_x_train, top_irs_y_train)\n",
    "top_irs_model_ridge.fit(top_irs_x_train, top_irs_y_train)\n",
    "top_irs_model_gradient.fit(top_irs_x_train, top_irs_y_train)"
   ]
  },
  {
   "cell_type": "markdown",
   "metadata": {},
   "source": [
    "### Train Score"
   ]
  },
  {
   "cell_type": "code",
   "execution_count": 319,
   "metadata": {},
   "outputs": [
    {
     "name": "stdout",
     "output_type": "stream",
     "text": [
      "Simple Linear Train Score 0.9942\n",
      "Lasso Train Score 0.0000\n",
      "Ridge Train Score 0.9940\n",
      "Gradient Regressor Train Score 0.9947\n"
     ]
    }
   ],
   "source": [
    "print(\"Simple Linear Train Score %.4f\" %top_irs_model_ols.score(top_irs_x_train, top_irs_y_train))\n",
    "print(\"Lasso Train Score %.4f\" %top_irs_model_lasso.score(top_irs_x_train, top_irs_y_train))\n",
    "print(\"Ridge Train Score %.4f\" %top_irs_model_ridge.score(top_irs_x_train, top_irs_y_train))\n",
    "print(\"Gradient Regressor Train Score %.4f\" %top_irs_model_gradient.score(top_irs_x_train, top_irs_y_train))"
   ]
  },
  {
   "cell_type": "markdown",
   "metadata": {},
   "source": [
    "### Test Score"
   ]
  },
  {
   "cell_type": "code",
   "execution_count": 320,
   "metadata": {},
   "outputs": [
    {
     "name": "stdout",
     "output_type": "stream",
     "text": [
      "Simple Linear Test Score 0.9924\n",
      "Lasso Test Score -0.0007\n",
      "Ridge Test Score 0.9922\n",
      "Gradient Regressor Test Score 0.9919\n"
     ]
    }
   ],
   "source": [
    "print(\"Simple Linear Test Score %.4f\" %top_irs_model_ols.score(top_irs_x_test, top_irs_y_test))\n",
    "print(\"Lasso Test Score %.4f\" %top_irs_model_lasso.score(top_irs_x_test, top_irs_y_test))\n",
    "print(\"Ridge Test Score %.4f\" %top_irs_model_ridge.score(top_irs_x_test, top_irs_y_test))\n",
    "print(\"Gradient Regressor Test Score %.4f\" %top_irs_model_gradient.score(top_irs_x_test, top_irs_y_test))"
   ]
  },
  {
   "cell_type": "markdown",
   "metadata": {},
   "source": [
    "### Kaggle Score"
   ]
  },
  {
   "cell_type": "code",
   "execution_count": 321,
   "metadata": {},
   "outputs": [
    {
     "name": "stdout",
     "output_type": "stream",
     "text": [
      "Simple Linear Kaggle Score: 0.03131\n",
      "Lasso Kaggle Score: 0.35992\n",
      "Ridge Kaggle Score: 0.03170\n",
      "Gradient Regressor Kaggle Score: 0.03242\n"
     ]
    }
   ],
   "source": [
    "print('Simple Linear Kaggle Score: %.5f' % sqrt(mean_squared_error(top_irs_model_ols.predict(top_irs_x_test), top_irs_y_test)))\n",
    "print('Lasso Kaggle Score: %.5f' % sqrt(mean_squared_error(top_irs_model_lasso.predict(top_irs_x_test), top_irs_y_test)))\n",
    "print('Ridge Kaggle Score: %.5f' % sqrt(mean_squared_error(top_irs_model_ridge.predict(top_irs_x_test), top_irs_y_test)))\n",
    "print('Gradient Regressor Kaggle Score: %.5f' % sqrt(mean_squared_error(top_irs_model_gradient.predict(top_irs_x_test), top_irs_y_test)))\n"
   ]
  },
  {
   "cell_type": "markdown",
   "metadata": {},
   "source": [
    "### Average Prediction Accuracy on Zip Code Level"
   ]
  },
  {
   "cell_type": "code",
   "execution_count": 322,
   "metadata": {},
   "outputs": [],
   "source": [
    "top_irs_pred = pd.Series(np.exp(top_irs_model_ols.predict(top_irs_x_test)), index = top_irs_y_test.index)"
   ]
  },
  {
   "cell_type": "code",
   "execution_count": 323,
   "metadata": {},
   "outputs": [
    {
     "data": {
      "text/plain": [
       "97.67931067665997"
      ]
     },
     "execution_count": 323,
     "metadata": {},
     "output_type": "execute_result"
    }
   ],
   "source": [
    "(1 - np.abs((((zillow_mean.iloc[:,8]/top_irs_pred).dropna()-1)))).mean()*100"
   ]
  },
  {
   "cell_type": "markdown",
   "metadata": {},
   "source": [
    "# Prediction Accuracy for the average of Census and IRS"
   ]
  },
  {
   "cell_type": "code",
   "execution_count": 324,
   "metadata": {},
   "outputs": [],
   "source": [
    "ensemble_pred = pd.concat([super_predictions, top_irs_pred], join = 'inner', axis = 1).apply(np.mean, axis = 1)"
   ]
  },
  {
   "cell_type": "code",
   "execution_count": 325,
   "metadata": {},
   "outputs": [],
   "source": [
    "ensemble_real_pred = zillow_mean.iloc[:,8][pd.concat([super_predictions, top_irs_pred], join = 'inner', axis = 1).apply(np.mean, axis = 1).index]"
   ]
  },
  {
   "cell_type": "code",
   "execution_count": 326,
   "metadata": {},
   "outputs": [
    {
     "data": {
      "text/plain": [
       "97.73114730561025"
      ]
     },
     "execution_count": 326,
     "metadata": {},
     "output_type": "execute_result"
    }
   ],
   "source": [
    "(1 - np.abs((((ensemble_real_pred/ensemble_pred).dropna()-1)))).mean()*100"
   ]
  },
  {
   "cell_type": "code",
   "execution_count": 327,
   "metadata": {},
   "outputs": [
    {
     "data": {
      "text/plain": [
       "47.40554807945078"
      ]
     },
     "execution_count": 327,
     "metadata": {},
     "output_type": "execute_result"
    }
   ],
   "source": [
    "sqrt(mean_squared_error(ensemble_pred, ensemble_real_pred))"
   ]
  },
  {
   "cell_type": "markdown",
   "metadata": {},
   "source": [
    "## Kaggle Score for Average of Census Predictions and IRS predictions"
   ]
  },
  {
   "cell_type": "code",
   "execution_count": 328,
   "metadata": {},
   "outputs": [
    {
     "data": {
      "text/plain": [
       "0.030486831621902008"
      ]
     },
     "execution_count": 328,
     "metadata": {},
     "output_type": "execute_result"
    }
   ],
   "source": [
    "sqrt(mean_squared_error(np.log(ensemble_pred),np.log(ensemble_real_pred)))"
   ]
  },
  {
   "cell_type": "markdown",
   "metadata": {},
   "source": [
    "## Second Level Model"
   ]
  },
  {
   "cell_type": "code",
   "execution_count": 329,
   "metadata": {},
   "outputs": [],
   "source": [
    "second_pred = pd.concat([super_predictions, top_irs_pred], join = 'inner', axis = 1)\n",
    "second_pred.columns = ['census','irs']"
   ]
  },
  {
   "cell_type": "code",
   "execution_count": 330,
   "metadata": {},
   "outputs": [
    {
     "data": {
      "text/html": [
       "<div>\n",
       "<style scoped>\n",
       "    .dataframe tbody tr th:only-of-type {\n",
       "        vertical-align: middle;\n",
       "    }\n",
       "\n",
       "    .dataframe tbody tr th {\n",
       "        vertical-align: top;\n",
       "    }\n",
       "\n",
       "    .dataframe thead th {\n",
       "        text-align: right;\n",
       "    }\n",
       "</style>\n",
       "<table border=\"1\" class=\"dataframe\">\n",
       "  <thead>\n",
       "    <tr style=\"text-align: right;\">\n",
       "      <th></th>\n",
       "      <th>census</th>\n",
       "      <th>irs</th>\n",
       "      <th>zri_2019</th>\n",
       "    </tr>\n",
       "  </thead>\n",
       "  <tbody>\n",
       "    <tr>\n",
       "      <td>60657</td>\n",
       "      <td>2099.718002</td>\n",
       "      <td>2087.066512</td>\n",
       "      <td>2085.833333</td>\n",
       "    </tr>\n",
       "    <tr>\n",
       "      <td>77494</td>\n",
       "      <td>1793.032662</td>\n",
       "      <td>1803.066136</td>\n",
       "      <td>1763.416667</td>\n",
       "    </tr>\n",
       "    <tr>\n",
       "      <td>60614</td>\n",
       "      <td>2313.650874</td>\n",
       "      <td>2304.574368</td>\n",
       "      <td>2306.583333</td>\n",
       "    </tr>\n",
       "    <tr>\n",
       "      <td>77084</td>\n",
       "      <td>1427.915690</td>\n",
       "      <td>1430.365711</td>\n",
       "      <td>1404.250000</td>\n",
       "    </tr>\n",
       "    <tr>\n",
       "      <td>79936</td>\n",
       "      <td>985.924263</td>\n",
       "      <td>980.331482</td>\n",
       "      <td>947.833333</td>\n",
       "    </tr>\n",
       "  </tbody>\n",
       "</table>\n",
       "</div>"
      ],
      "text/plain": [
       "            census          irs     zri_2019\n",
       "60657  2099.718002  2087.066512  2085.833333\n",
       "77494  1793.032662  1803.066136  1763.416667\n",
       "60614  2313.650874  2304.574368  2306.583333\n",
       "77084  1427.915690  1430.365711  1404.250000\n",
       "79936   985.924263   980.331482   947.833333"
      ]
     },
     "execution_count": 330,
     "metadata": {},
     "output_type": "execute_result"
    }
   ],
   "source": [
    "second_total = pd.concat([second_pred, ensemble_real_pred], join ='inner', axis = 1)\n",
    "second_total.head()"
   ]
  },
  {
   "cell_type": "code",
   "execution_count": 331,
   "metadata": {},
   "outputs": [
    {
     "data": {
      "text/plain": [
       "GradientBoostingRegressor(alpha=0.9, criterion='friedman_mse', init=None,\n",
       "                          learning_rate=0.1, loss='ls', max_depth=3,\n",
       "                          max_features=None, max_leaf_nodes=None,\n",
       "                          min_impurity_decrease=0.0, min_impurity_split=None,\n",
       "                          min_samples_leaf=1, min_samples_split=2,\n",
       "                          min_weight_fraction_leaf=0.0, n_estimators=100,\n",
       "                          n_iter_no_change=None, presort='auto',\n",
       "                          random_state=None, subsample=1.0, tol=0.0001,\n",
       "                          validation_fraction=0.1, verbose=0, warm_start=False)"
      ]
     },
     "execution_count": 331,
     "metadata": {},
     "output_type": "execute_result"
    }
   ],
   "source": [
    "from sklearn.model_selection import train_test_split\n",
    "X_train, X_test, Y_train, Y_test = train_test_split(second_total.iloc[:,:2], second_total.iloc[:,2], test_size=0.20, random_state=42)\n",
    "\n",
    "X_train = np.log(X_train)\n",
    "X_test = np.log(X_test)\n",
    "Y_train = np.log(Y_train)\n",
    "Y_test = np.log(Y_test)\n",
    "\n",
    "second_model_ols = LinearRegression()\n",
    "second_model_ridge = Ridge()\n",
    "second_model_gradient = GradientBoostingRegressor()\n",
    "\n",
    "second_model_ols.fit(X_train, Y_train)\n",
    "second_model_ridge.fit(X_train, Y_train)\n",
    "second_model_gradient.fit(X_train, Y_train)"
   ]
  },
  {
   "cell_type": "markdown",
   "metadata": {},
   "source": [
    "### Train Score"
   ]
  },
  {
   "cell_type": "code",
   "execution_count": 332,
   "metadata": {},
   "outputs": [
    {
     "name": "stdout",
     "output_type": "stream",
     "text": [
      "0.9930849865351372\n",
      "0.9930749312454448\n",
      "0.9939108379023943\n"
     ]
    }
   ],
   "source": [
    "print(second_model_ols.score(X_train, Y_train))\n",
    "print(second_model_ridge.score(X_train, Y_train))\n",
    "print(second_model_gradient.score(X_train, Y_train))"
   ]
  },
  {
   "cell_type": "markdown",
   "metadata": {},
   "source": [
    "### Test Score"
   ]
  },
  {
   "cell_type": "code",
   "execution_count": 333,
   "metadata": {},
   "outputs": [
    {
     "name": "stdout",
     "output_type": "stream",
     "text": [
      "0.992965212556897\n",
      "0.9929688256524375\n",
      "0.9927442259674047\n"
     ]
    }
   ],
   "source": [
    "print(second_model_ols.score(X_test, Y_test))\n",
    "print(second_model_ridge.score(X_test, Y_test))\n",
    "print(second_model_gradient.score(X_test, Y_test))"
   ]
  },
  {
   "cell_type": "markdown",
   "metadata": {},
   "source": [
    "### Kaggle Score"
   ]
  },
  {
   "cell_type": "code",
   "execution_count": 334,
   "metadata": {},
   "outputs": [
    {
     "name": "stdout",
     "output_type": "stream",
     "text": [
      "0.030167967981251573\n",
      "0.030160219790511297\n",
      "0.030638143298960804\n"
     ]
    }
   ],
   "source": [
    "print(sqrt(mean_squared_error(second_model_ols.predict(X_test), Y_test)))\n",
    "print(sqrt(mean_squared_error(second_model_ridge.predict(X_test), Y_test)))\n",
    "print(sqrt(mean_squared_error(second_model_gradient.predict(X_test), Y_test)))"
   ]
  },
  {
   "cell_type": "markdown",
   "metadata": {},
   "source": [
    "### Accuracy"
   ]
  },
  {
   "cell_type": "code",
   "execution_count": 335,
   "metadata": {},
   "outputs": [
    {
     "data": {
      "text/plain": [
       "97.7998369731858"
      ]
     },
     "execution_count": 335,
     "metadata": {},
     "output_type": "execute_result"
    }
   ],
   "source": [
    "(1 - np.abs(np.exp(Y_test)/pd.Series(np.exp(second_model_ols.predict(X_test)), index = Y_test.index) - 1).mean())*100"
   ]
  },
  {
   "cell_type": "markdown",
   "metadata": {},
   "source": [
    "# Check Accuracy Just for New York City Zip Codes"
   ]
  },
  {
   "cell_type": "code",
   "execution_count": 336,
   "metadata": {},
   "outputs": [],
   "source": [
    "nyc_ensemble_pred = pd.concat([nyc_zip,ensemble_pred],join = 'inner',axis = 1).drop(['borough'], axis = 1)"
   ]
  },
  {
   "cell_type": "code",
   "execution_count": 337,
   "metadata": {},
   "outputs": [],
   "source": [
    "nyc_ensemble_real = pd.concat([nyc_zip,ensemble_real_pred],join = 'inner',axis = 1).drop(['borough'], axis = 1)"
   ]
  },
  {
   "cell_type": "code",
   "execution_count": 338,
   "metadata": {},
   "outputs": [],
   "source": [
    "nyc_ensemble_pred.columns = ['zri_2019']"
   ]
  },
  {
   "cell_type": "code",
   "execution_count": 339,
   "metadata": {},
   "outputs": [
    {
     "data": {
      "text/plain": [
       "98.10369832366912"
      ]
     },
     "execution_count": 339,
     "metadata": {},
     "output_type": "execute_result"
    }
   ],
   "source": [
    "(1 - np.abs((((nyc_ensemble_real.zri_2019/nyc_ensemble_pred.zri_2019).dropna()-1)))).mean()*100"
   ]
  },
  {
   "cell_type": "markdown",
   "metadata": {},
   "source": [
    "# Train New Models with Data From both Census and IRS\n",
    "## top 10 features from Census and top 20 from IRS"
   ]
  },
  {
   "cell_type": "code",
   "execution_count": 340,
   "metadata": {},
   "outputs": [
    {
     "data": {
      "text/html": [
       "<div>\n",
       "<style scoped>\n",
       "    .dataframe tbody tr th:only-of-type {\n",
       "        vertical-align: middle;\n",
       "    }\n",
       "\n",
       "    .dataframe tbody tr th {\n",
       "        vertical-align: top;\n",
       "    }\n",
       "\n",
       "    .dataframe thead th {\n",
       "        text-align: right;\n",
       "    }\n",
       "</style>\n",
       "<table border=\"1\" class=\"dataframe\">\n",
       "  <thead>\n",
       "    <tr style=\"text-align: right;\">\n",
       "      <th></th>\n",
       "      <th>zri_2017</th>\n",
       "      <th>owner_occupied_housing_units_upper_value_quartile_2013</th>\n",
       "      <th>zri_2016</th>\n",
       "      <th>median_rent_2013</th>\n",
       "      <th>owner_occupied_housing_units_median_value_2013</th>\n",
       "      <th>median_rent_2015</th>\n",
       "      <th>median_rent_2014</th>\n",
       "      <th>percent_income_spent_on_rent_2015</th>\n",
       "      <th>zri_2015</th>\n",
       "      <th>median_income_2013</th>\n",
       "    </tr>\n",
       "    <tr>\n",
       "      <th>zip</th>\n",
       "      <th></th>\n",
       "      <th></th>\n",
       "      <th></th>\n",
       "      <th></th>\n",
       "      <th></th>\n",
       "      <th></th>\n",
       "      <th></th>\n",
       "      <th></th>\n",
       "      <th></th>\n",
       "      <th></th>\n",
       "    </tr>\n",
       "  </thead>\n",
       "  <tbody>\n",
       "    <tr>\n",
       "      <td>60657</td>\n",
       "      <td>7.663134</td>\n",
       "      <td>13.297326</td>\n",
       "      <td>7.669223</td>\n",
       "      <td>7.037906</td>\n",
       "      <td>12.880294</td>\n",
       "      <td>7.107425</td>\n",
       "      <td>7.079184</td>\n",
       "      <td>3.310543</td>\n",
       "      <td>7.637475</td>\n",
       "      <td>11.236987</td>\n",
       "    </tr>\n",
       "    <tr>\n",
       "      <td>77494</td>\n",
       "      <td>7.479347</td>\n",
       "      <td>12.769683</td>\n",
       "      <td>7.507050</td>\n",
       "      <td>7.054450</td>\n",
       "      <td>12.476485</td>\n",
       "      <td>7.134094</td>\n",
       "      <td>7.056175</td>\n",
       "      <td>3.198673</td>\n",
       "      <td>7.561598</td>\n",
       "      <td>11.747412</td>\n",
       "    </tr>\n",
       "    <tr>\n",
       "      <td>60614</td>\n",
       "      <td>7.760041</td>\n",
       "      <td>13.566666</td>\n",
       "      <td>7.761106</td>\n",
       "      <td>7.117206</td>\n",
       "      <td>13.100733</td>\n",
       "      <td>7.166266</td>\n",
       "      <td>7.134891</td>\n",
       "      <td>3.238678</td>\n",
       "      <td>7.728416</td>\n",
       "      <td>11.364611</td>\n",
       "    </tr>\n",
       "    <tr>\n",
       "      <td>77084</td>\n",
       "      <td>7.225300</td>\n",
       "      <td>11.959539</td>\n",
       "      <td>7.254944</td>\n",
       "      <td>6.761573</td>\n",
       "      <td>11.730461</td>\n",
       "      <td>6.785588</td>\n",
       "      <td>6.781058</td>\n",
       "      <td>3.328627</td>\n",
       "      <td>7.257120</td>\n",
       "      <td>11.047487</td>\n",
       "    </tr>\n",
       "    <tr>\n",
       "      <td>79936</td>\n",
       "      <td>6.901318</td>\n",
       "      <td>11.970357</td>\n",
       "      <td>6.920589</td>\n",
       "      <td>6.650279</td>\n",
       "      <td>11.709322</td>\n",
       "      <td>6.699500</td>\n",
       "      <td>6.690842</td>\n",
       "      <td>3.453157</td>\n",
       "      <td>6.923465</td>\n",
       "      <td>10.859480</td>\n",
       "    </tr>\n",
       "  </tbody>\n",
       "</table>\n",
       "</div>"
      ],
      "text/plain": [
       "       zri_2017  owner_occupied_housing_units_upper_value_quartile_2013  \\\n",
       "zip                                                                       \n",
       "60657  7.663134                                          13.297326        \n",
       "77494  7.479347                                          12.769683        \n",
       "60614  7.760041                                          13.566666        \n",
       "77084  7.225300                                          11.959539        \n",
       "79936  6.901318                                          11.970357        \n",
       "\n",
       "       zri_2016  median_rent_2013  \\\n",
       "zip                                 \n",
       "60657  7.669223          7.037906   \n",
       "77494  7.507050          7.054450   \n",
       "60614  7.761106          7.117206   \n",
       "77084  7.254944          6.761573   \n",
       "79936  6.920589          6.650279   \n",
       "\n",
       "       owner_occupied_housing_units_median_value_2013  median_rent_2015  \\\n",
       "zip                                                                       \n",
       "60657                                       12.880294          7.107425   \n",
       "77494                                       12.476485          7.134094   \n",
       "60614                                       13.100733          7.166266   \n",
       "77084                                       11.730461          6.785588   \n",
       "79936                                       11.709322          6.699500   \n",
       "\n",
       "       median_rent_2014  percent_income_spent_on_rent_2015  zri_2015  \\\n",
       "zip                                                                    \n",
       "60657          7.079184                           3.310543  7.637475   \n",
       "77494          7.056175                           3.198673  7.561598   \n",
       "60614          7.134891                           3.238678  7.728416   \n",
       "77084          6.781058                           3.328627  7.257120   \n",
       "79936          6.690842                           3.453157  6.923465   \n",
       "\n",
       "       median_income_2013  \n",
       "zip                        \n",
       "60657           11.236987  \n",
       "77494           11.747412  \n",
       "60614           11.364611  \n",
       "77084           11.047487  \n",
       "79936           10.859480  "
      ]
     },
     "execution_count": 340,
     "metadata": {},
     "output_type": "execute_result"
    }
   ],
   "source": [
    "super_x_train.head() #best Census Features"
   ]
  },
  {
   "cell_type": "code",
   "execution_count": 341,
   "metadata": {},
   "outputs": [
    {
     "data": {
      "text/html": [
       "<div>\n",
       "<style scoped>\n",
       "    .dataframe tbody tr th:only-of-type {\n",
       "        vertical-align: middle;\n",
       "    }\n",
       "\n",
       "    .dataframe tbody tr th {\n",
       "        vertical-align: top;\n",
       "    }\n",
       "\n",
       "    .dataframe thead th {\n",
       "        text-align: right;\n",
       "    }\n",
       "</style>\n",
       "<table border=\"1\" class=\"dataframe\">\n",
       "  <thead>\n",
       "    <tr style=\"text-align: right;\">\n",
       "      <th></th>\n",
       "      <th>zri_2017</th>\n",
       "      <th>N00300_2015</th>\n",
       "      <th>zri_2016</th>\n",
       "      <th>N03230_2014</th>\n",
       "      <th>A02900_2013</th>\n",
       "      <th>zri_2015</th>\n",
       "      <th>A10600_2013</th>\n",
       "      <th>N01000_2014</th>\n",
       "      <th>A03230_2014</th>\n",
       "      <th>N05800_2014</th>\n",
       "      <th>A59720_2014</th>\n",
       "      <th>N11902_2013</th>\n",
       "      <th>A11902_2015</th>\n",
       "      <th>A07180_2014</th>\n",
       "      <th>N09600_2013</th>\n",
       "      <th>N07230_2013</th>\n",
       "      <th>N26270_2014</th>\n",
       "      <th>N06500_2015</th>\n",
       "      <th>A04800_2014</th>\n",
       "      <th>N10300_2015</th>\n",
       "    </tr>\n",
       "  </thead>\n",
       "  <tbody>\n",
       "    <tr>\n",
       "      <td>32771</td>\n",
       "      <td>7.092504</td>\n",
       "      <td>8.407602</td>\n",
       "      <td>7.069094</td>\n",
       "      <td>5.442418</td>\n",
       "      <td>9.779906</td>\n",
       "      <td>6.990793</td>\n",
       "      <td>12.213500</td>\n",
       "      <td>8.006701</td>\n",
       "      <td>6.202536</td>\n",
       "      <td>9.740439</td>\n",
       "      <td>9.549452</td>\n",
       "      <td>9.811427</td>\n",
       "      <td>10.986682</td>\n",
       "      <td>6.563856</td>\n",
       "      <td>5.602119</td>\n",
       "      <td>7.390799</td>\n",
       "      <td>7.340187</td>\n",
       "      <td>9.656371</td>\n",
       "      <td>13.728684</td>\n",
       "      <td>9.783070</td>\n",
       "    </tr>\n",
       "    <tr>\n",
       "      <td>32773</td>\n",
       "      <td>7.084017</td>\n",
       "      <td>7.403061</td>\n",
       "      <td>7.057468</td>\n",
       "      <td>4.394449</td>\n",
       "      <td>8.611958</td>\n",
       "      <td>6.976504</td>\n",
       "      <td>11.120031</td>\n",
       "      <td>6.734592</td>\n",
       "      <td>5.288267</td>\n",
       "      <td>9.172742</td>\n",
       "      <td>9.221676</td>\n",
       "      <td>9.361429</td>\n",
       "      <td>10.439337</td>\n",
       "      <td>5.880533</td>\n",
       "      <td>3.433987</td>\n",
       "      <td>6.878326</td>\n",
       "      <td>6.111467</td>\n",
       "      <td>9.047939</td>\n",
       "      <td>12.602608</td>\n",
       "      <td>9.197356</td>\n",
       "    </tr>\n",
       "    <tr>\n",
       "      <td>98310</td>\n",
       "      <td>7.304180</td>\n",
       "      <td>7.804251</td>\n",
       "      <td>7.250872</td>\n",
       "      <td>4.262680</td>\n",
       "      <td>8.234034</td>\n",
       "      <td>7.212970</td>\n",
       "      <td>10.874039</td>\n",
       "      <td>7.039660</td>\n",
       "      <td>5.003946</td>\n",
       "      <td>8.906664</td>\n",
       "      <td>8.091015</td>\n",
       "      <td>8.902592</td>\n",
       "      <td>9.807527</td>\n",
       "      <td>5.075174</td>\n",
       "      <td>0.000000</td>\n",
       "      <td>6.154858</td>\n",
       "      <td>5.442418</td>\n",
       "      <td>8.866582</td>\n",
       "      <td>12.567607</td>\n",
       "      <td>8.905309</td>\n",
       "    </tr>\n",
       "    <tr>\n",
       "      <td>98311</td>\n",
       "      <td>7.350516</td>\n",
       "      <td>8.253488</td>\n",
       "      <td>7.298614</td>\n",
       "      <td>4.875197</td>\n",
       "      <td>8.730367</td>\n",
       "      <td>7.233155</td>\n",
       "      <td>11.304695</td>\n",
       "      <td>7.359468</td>\n",
       "      <td>5.587249</td>\n",
       "      <td>9.192278</td>\n",
       "      <td>8.054205</td>\n",
       "      <td>9.125980</td>\n",
       "      <td>10.109119</td>\n",
       "      <td>5.631212</td>\n",
       "      <td>3.713572</td>\n",
       "      <td>6.769642</td>\n",
       "      <td>5.831882</td>\n",
       "      <td>9.155990</td>\n",
       "      <td>12.998549</td>\n",
       "      <td>9.192278</td>\n",
       "    </tr>\n",
       "    <tr>\n",
       "      <td>98312</td>\n",
       "      <td>7.294547</td>\n",
       "      <td>8.266421</td>\n",
       "      <td>7.234418</td>\n",
       "      <td>4.875197</td>\n",
       "      <td>8.921725</td>\n",
       "      <td>7.190864</td>\n",
       "      <td>11.478738</td>\n",
       "      <td>7.534228</td>\n",
       "      <td>5.402677</td>\n",
       "      <td>9.332646</td>\n",
       "      <td>8.434464</td>\n",
       "      <td>9.281823</td>\n",
       "      <td>10.292586</td>\n",
       "      <td>5.594711</td>\n",
       "      <td>4.110874</td>\n",
       "      <td>6.685861</td>\n",
       "      <td>6.175867</td>\n",
       "      <td>9.301186</td>\n",
       "      <td>13.145050</td>\n",
       "      <td>9.339701</td>\n",
       "    </tr>\n",
       "  </tbody>\n",
       "</table>\n",
       "</div>"
      ],
      "text/plain": [
       "       zri_2017  N00300_2015  zri_2016  N03230_2014  A02900_2013  zri_2015  \\\n",
       "32771  7.092504     8.407602  7.069094     5.442418     9.779906  6.990793   \n",
       "32773  7.084017     7.403061  7.057468     4.394449     8.611958  6.976504   \n",
       "98310  7.304180     7.804251  7.250872     4.262680     8.234034  7.212970   \n",
       "98311  7.350516     8.253488  7.298614     4.875197     8.730367  7.233155   \n",
       "98312  7.294547     8.266421  7.234418     4.875197     8.921725  7.190864   \n",
       "\n",
       "       A10600_2013  N01000_2014  A03230_2014  N05800_2014  A59720_2014  \\\n",
       "32771    12.213500     8.006701     6.202536     9.740439     9.549452   \n",
       "32773    11.120031     6.734592     5.288267     9.172742     9.221676   \n",
       "98310    10.874039     7.039660     5.003946     8.906664     8.091015   \n",
       "98311    11.304695     7.359468     5.587249     9.192278     8.054205   \n",
       "98312    11.478738     7.534228     5.402677     9.332646     8.434464   \n",
       "\n",
       "       N11902_2013  A11902_2015  A07180_2014  N09600_2013  N07230_2013  \\\n",
       "32771     9.811427    10.986682     6.563856     5.602119     7.390799   \n",
       "32773     9.361429    10.439337     5.880533     3.433987     6.878326   \n",
       "98310     8.902592     9.807527     5.075174     0.000000     6.154858   \n",
       "98311     9.125980    10.109119     5.631212     3.713572     6.769642   \n",
       "98312     9.281823    10.292586     5.594711     4.110874     6.685861   \n",
       "\n",
       "       N26270_2014  N06500_2015  A04800_2014  N10300_2015  \n",
       "32771     7.340187     9.656371    13.728684     9.783070  \n",
       "32773     6.111467     9.047939    12.602608     9.197356  \n",
       "98310     5.442418     8.866582    12.567607     8.905309  \n",
       "98311     5.831882     9.155990    12.998549     9.192278  \n",
       "98312     6.175867     9.301186    13.145050     9.339701  "
      ]
     },
     "execution_count": 341,
     "metadata": {},
     "output_type": "execute_result"
    }
   ],
   "source": [
    "top_irs_x_train.head()  #best IRS Features"
   ]
  },
  {
   "cell_type": "code",
   "execution_count": 342,
   "metadata": {},
   "outputs": [],
   "source": [
    "full_x_train = super_x_train.merge(top_irs_x_train, left_index= True, right_index = True, suffixes = ['','_extra']).\\\n",
    "drop(['zri_2015_extra','zri_2016_extra','zri_2017_extra'], axis = 1)"
   ]
  },
  {
   "cell_type": "code",
   "execution_count": 343,
   "metadata": {},
   "outputs": [],
   "source": [
    "full_y_train = pd.concat([super_y_train,top_irs_y_train], join = 'inner', axis = 1).iloc[:,0]"
   ]
  },
  {
   "cell_type": "code",
   "execution_count": 344,
   "metadata": {},
   "outputs": [],
   "source": [
    "full_x_test = super_x_test.merge(top_irs_x_test, left_index= True, right_index = True, suffixes = ['','_extra']).\\\n",
    "drop(['zri_2016_extra','zri_2017_extra','zri_2018_extra'], axis = 1)"
   ]
  },
  {
   "cell_type": "code",
   "execution_count": 345,
   "metadata": {},
   "outputs": [],
   "source": [
    "full_y_test = pd.concat([super_y_test,top_irs_y_test], join = 'inner', axis = 1).iloc[:,0]"
   ]
  },
  {
   "cell_type": "markdown",
   "metadata": {},
   "source": [
    "### Everything is already logged and cleaned"
   ]
  },
  {
   "cell_type": "code",
   "execution_count": 346,
   "metadata": {},
   "outputs": [
    {
     "data": {
      "text/plain": [
       "GradientBoostingRegressor(alpha=0.9, criterion='friedman_mse', init=None,\n",
       "                          learning_rate=0.1, loss='ls', max_depth=3,\n",
       "                          max_features=None, max_leaf_nodes=None,\n",
       "                          min_impurity_decrease=0.0, min_impurity_split=None,\n",
       "                          min_samples_leaf=1, min_samples_split=2,\n",
       "                          min_weight_fraction_leaf=0.0, n_estimators=100,\n",
       "                          n_iter_no_change=None, presort='auto',\n",
       "                          random_state=None, subsample=1.0, tol=0.0001,\n",
       "                          validation_fraction=0.1, verbose=0, warm_start=False)"
      ]
     },
     "execution_count": 346,
     "metadata": {},
     "output_type": "execute_result"
    }
   ],
   "source": [
    "full_model_ols = LinearRegression()\n",
    "full_model_lasso = Lasso()\n",
    "full_model_ridge = Ridge()\n",
    "full_model_gradient = GradientBoostingRegressor()\n",
    "\n",
    "\n",
    "full_model_ols.fit(full_x_train, full_y_train)\n",
    "full_model_lasso.fit(full_x_train, full_y_train)\n",
    "full_model_ridge.fit(full_x_train, full_y_train)\n",
    "full_model_gradient.fit(full_x_train, full_y_train)"
   ]
  },
  {
   "cell_type": "markdown",
   "metadata": {},
   "source": [
    "### Train Scores"
   ]
  },
  {
   "cell_type": "code",
   "execution_count": 347,
   "metadata": {},
   "outputs": [
    {
     "name": "stdout",
     "output_type": "stream",
     "text": [
      "Simple Linear Train Score 0.9946\n",
      "Lasso Train Score 0.0000\n",
      "Ridge Train Score 0.9945\n",
      "Gradient Regressor Train Score 0.9953\n"
     ]
    }
   ],
   "source": [
    "print(\"Simple Linear Train Score %.4f\" %full_model_ols.score(full_x_train, full_y_train))\n",
    "print(\"Lasso Train Score %.4f\" %full_model_lasso.score(full_x_train, full_y_train))\n",
    "print(\"Ridge Train Score %.4f\" %full_model_ridge.score(full_x_train, full_y_train))\n",
    "print(\"Gradient Regressor Train Score %.4f\" %full_model_gradient.score(full_x_train, full_y_train))"
   ]
  },
  {
   "cell_type": "markdown",
   "metadata": {},
   "source": [
    "### Test Score"
   ]
  },
  {
   "cell_type": "code",
   "execution_count": 348,
   "metadata": {},
   "outputs": [
    {
     "name": "stdout",
     "output_type": "stream",
     "text": [
      "Simple Linear Test Score 0.9928\n",
      "Lasso Test Score -0.0007\n",
      "Ridge Test Score 0.9926\n",
      "Gradient Regressor Test Score 0.9922\n"
     ]
    }
   ],
   "source": [
    "print(\"Simple Linear Test Score %.4f\" %full_model_ols.score(full_x_test, full_y_test))\n",
    "print(\"Lasso Test Score %.4f\" %full_model_lasso.score(full_x_test, full_y_test))\n",
    "print(\"Ridge Test Score %.4f\" %full_model_ridge.score(full_x_test, full_y_test))\n",
    "print(\"Gradient Regressor Test Score %.4f\" %full_model_gradient.score(full_x_test, full_y_test))"
   ]
  },
  {
   "cell_type": "markdown",
   "metadata": {},
   "source": [
    "### Kaggle Score"
   ]
  },
  {
   "cell_type": "code",
   "execution_count": 349,
   "metadata": {},
   "outputs": [
    {
     "name": "stdout",
     "output_type": "stream",
     "text": [
      "Simple Linear Kaggle Score: 0.03042\n",
      "Lasso Kaggle Score: 0.35944\n",
      "Ridge Kaggle Score: 0.03085\n",
      "Gradient Regressor Kaggle Score: 0.03166\n"
     ]
    }
   ],
   "source": [
    "print('Simple Linear Kaggle Score: %.5f' % sqrt(mean_squared_error(full_model_ols.predict(full_x_test), full_y_test)))\n",
    "print('Lasso Kaggle Score: %.5f' % sqrt(mean_squared_error(full_model_lasso.predict(full_x_test), full_y_test)))\n",
    "print('Ridge Kaggle Score: %.5f' % sqrt(mean_squared_error(full_model_ridge.predict(full_x_test), full_y_test)))\n",
    "print('Gradient Regressor Kaggle Score: %.5f' % sqrt(mean_squared_error(full_model_gradient.predict(full_x_test), full_y_test)))\n"
   ]
  },
  {
   "cell_type": "markdown",
   "metadata": {},
   "source": [
    "### Average Prediction Accuracy"
   ]
  },
  {
   "cell_type": "code",
   "execution_count": 350,
   "metadata": {},
   "outputs": [],
   "source": [
    "full_predictions = pd.Series(np.exp(full_model_ols.predict(full_x_test)), index = full_y_test.index)"
   ]
  },
  {
   "cell_type": "code",
   "execution_count": 351,
   "metadata": {},
   "outputs": [
    {
     "data": {
      "text/plain": [
       "97.73274005052698"
      ]
     },
     "execution_count": 351,
     "metadata": {},
     "output_type": "execute_result"
    }
   ],
   "source": [
    "(1 - np.abs(np.exp(full_y_test)/full_predictions.dropna()-1)).mean()*100"
   ]
  },
  {
   "cell_type": "code",
   "execution_count": 353,
   "metadata": {},
   "outputs": [
    {
     "data": {
      "text/plain": [
       "47.539837848986885"
      ]
     },
     "execution_count": 353,
     "metadata": {},
     "output_type": "execute_result"
    }
   ],
   "source": [
    "sqrt(mean_squared_error(np.exp(full_y_test),full_predictions))"
   ]
  },
  {
   "cell_type": "markdown",
   "metadata": {},
   "source": [
    "## Most important features (top 10)"
   ]
  },
  {
   "cell_type": "code",
   "execution_count": 1062,
   "metadata": {},
   "outputs": [
    {
     "data": {
      "text/plain": [
       "[('zri_2017', 0.9964972298282635),\n",
       " ('owner_occupied_housing_units_upper_value_quartile_2013',\n",
       "  0.00016489029873185417),\n",
       " ('median_rent_2013', 0.0009996365066169484),\n",
       " ('zri_2016', 0.0007572246541866352),\n",
       " ('owner_occupied_housing_units_median_value_2013', 0.0002071511528764383),\n",
       " ('median_rent_2015', 9.15080094538218e-05),\n",
       " ('median_rent_2014', 8.605613455256225e-05),\n",
       " ('percent_income_spent_on_rent_2015', 3.889426338914603e-05),\n",
       " ('zri_2015', 0.0006904212360972952),\n",
       " ('median_income_2013', 9.947224404335491e-05)]"
      ]
     },
     "execution_count": 1062,
     "metadata": {},
     "output_type": "execute_result"
    }
   ],
   "source": [
    "list(zip(full_x_train,full_model_gradient.feature_importances_))[0:10]"
   ]
  },
  {
   "cell_type": "markdown",
   "metadata": {},
   "source": [
    "## Train Model with just top 10 features"
   ]
  },
  {
   "cell_type": "code",
   "execution_count": 1214,
   "metadata": {},
   "outputs": [],
   "source": [
    "top_10_full_train = [i[0] for i in list(zip(full_x_train,full_model_gradient.feature_importances_))[0:10]]"
   ]
  },
  {
   "cell_type": "code",
   "execution_count": 1215,
   "metadata": {},
   "outputs": [
    {
     "data": {
      "text/plain": [
       "['zri_2018',\n",
       " 'owner_occupied_housing_units_upper_value_quartile_2014',\n",
       " 'median_rent_2014',\n",
       " 'zri_2017',\n",
       " 'owner_occupied_housing_units_median_value_2014',\n",
       " 'median_rent_2016',\n",
       " 'median_rent_2015',\n",
       " 'percent_income_spent_on_rent_2016',\n",
       " 'zri_2016',\n",
       " 'median_income_2014']"
      ]
     },
     "execution_count": 1215,
     "metadata": {},
     "output_type": "execute_result"
    }
   ],
   "source": [
    "top_10_full_test = []\n",
    "\n",
    "for i in top_10_full_train:\n",
    "    i = re.sub('2017','2018',i)\n",
    "    i = re.sub('2016','2017',i)\n",
    "    i = re.sub('2015','2016',i)\n",
    "    i = re.sub('2014','2015',i)\n",
    "    i = re.sub('2013','2014',i)\n",
    "    top_10_full_test.append(i)\n",
    "\n",
    "top_10_full_test"
   ]
  },
  {
   "cell_type": "code",
   "execution_count": 1216,
   "metadata": {},
   "outputs": [],
   "source": [
    "top_full_x_train = full_x_train[top_10_full_train]"
   ]
  },
  {
   "cell_type": "code",
   "execution_count": 1217,
   "metadata": {},
   "outputs": [],
   "source": [
    "top_full_x_test = full_x_test[top_10_full_test]"
   ]
  },
  {
   "cell_type": "code",
   "execution_count": 1218,
   "metadata": {},
   "outputs": [],
   "source": [
    "top_full_y_train = full_y_train"
   ]
  },
  {
   "cell_type": "code",
   "execution_count": 1219,
   "metadata": {},
   "outputs": [],
   "source": [
    "top_full_y_test = full_y_test"
   ]
  },
  {
   "cell_type": "code",
   "execution_count": 1220,
   "metadata": {},
   "outputs": [
    {
     "data": {
      "text/plain": [
       "GradientBoostingRegressor(alpha=0.9, criterion='friedman_mse', init=None,\n",
       "                          learning_rate=0.1, loss='ls', max_depth=3,\n",
       "                          max_features=None, max_leaf_nodes=None,\n",
       "                          min_impurity_decrease=0.0, min_impurity_split=None,\n",
       "                          min_samples_leaf=1, min_samples_split=2,\n",
       "                          min_weight_fraction_leaf=0.0, n_estimators=100,\n",
       "                          n_iter_no_change=None, presort='auto',\n",
       "                          random_state=None, subsample=1.0, tol=0.0001,\n",
       "                          validation_fraction=0.1, verbose=0, warm_start=False)"
      ]
     },
     "execution_count": 1220,
     "metadata": {},
     "output_type": "execute_result"
    }
   ],
   "source": [
    "top_full_model_ols = LinearRegression()\n",
    "top_full_model_lasso = Lasso()\n",
    "top_full_model_ridge = Ridge()\n",
    "top_full_model_gradient = GradientBoostingRegressor()\n",
    "\n",
    "\n",
    "top_full_model_ols.fit(top_full_x_train, top_full_y_train)\n",
    "top_full_model_lasso.fit(top_full_x_train, top_full_y_train)\n",
    "top_full_model_ridge.fit(top_full_x_train, top_full_y_train)\n",
    "top_full_model_gradient.fit(top_full_x_train, top_full_y_train)"
   ]
  },
  {
   "cell_type": "markdown",
   "metadata": {},
   "source": [
    "### Train Score"
   ]
  },
  {
   "cell_type": "code",
   "execution_count": 1221,
   "metadata": {},
   "outputs": [
    {
     "name": "stdout",
     "output_type": "stream",
     "text": [
      "Simple Linear Train Score 0.9945\n",
      "Lasso Train Score 0.0000\n",
      "Ridge Train Score 0.9944\n",
      "Gradient Train Score 0.9952\n"
     ]
    }
   ],
   "source": [
    "print(\"Simple Linear Train Score %.4f\" %top_full_model_ols.score(top_full_x_train, top_full_y_train))\n",
    "print(\"Lasso Train Score %.4f\" %top_full_model_lasso.score(top_full_x_train, top_full_y_train))\n",
    "print(\"Ridge Train Score %.4f\" %top_full_model_ridge.score(top_full_x_train, top_full_y_train))\n",
    "print(\"Gradient Train Score %.4f\" %top_full_model_gradient.score(top_full_x_train, top_full_y_train))"
   ]
  },
  {
   "cell_type": "markdown",
   "metadata": {},
   "source": [
    "### Test Score"
   ]
  },
  {
   "cell_type": "code",
   "execution_count": 1222,
   "metadata": {},
   "outputs": [
    {
     "name": "stdout",
     "output_type": "stream",
     "text": [
      "Simple Linear Test Score 0.9928\n",
      "Lasso Test Score -0.0007\n",
      "Ridge Test Score 0.9926\n",
      "Gradient Test Score 0.9922\n"
     ]
    }
   ],
   "source": [
    "print(\"Simple Linear Test Score %.4f\" %top_full_model_ols.score(top_full_x_test, top_full_y_test))\n",
    "print(\"Lasso Test Score %.4f\" %top_full_model_lasso.score(top_full_x_test, top_full_y_test))\n",
    "print(\"Ridge Test Score %.4f\" %top_full_model_ridge.score(top_full_x_test, top_full_y_test))\n",
    "print(\"Gradient Test Score %.4f\" %top_full_model_gradient.score(top_full_x_test, top_full_y_test))"
   ]
  },
  {
   "cell_type": "markdown",
   "metadata": {},
   "source": [
    "### Kaggle Score"
   ]
  },
  {
   "cell_type": "code",
   "execution_count": 1223,
   "metadata": {},
   "outputs": [
    {
     "name": "stdout",
     "output_type": "stream",
     "text": [
      "Simple Linear Kaggle Score: 0.03052\n",
      "Lasso Kaggle Score: 0.35944\n",
      "Ridge Kaggle Score: 0.03092\n",
      "Gradient Regressor Kaggle Score: 0.03169\n"
     ]
    }
   ],
   "source": [
    "print('Simple Linear Kaggle Score: %.5f' % sqrt(mean_squared_error(top_full_model_ols.predict(top_full_x_test), top_full_y_test)))\n",
    "print('Lasso Kaggle Score: %.5f' % sqrt(mean_squared_error(top_full_model_lasso.predict(top_full_x_test), top_full_y_test)))\n",
    "print('Ridge Kaggle Score: %.5f' % sqrt(mean_squared_error(top_full_model_ridge.predict(top_full_x_test), top_full_y_test)))\n",
    "print('Gradient Regressor Kaggle Score: %.5f' % sqrt(mean_squared_error(top_full_model_gradient.predict(top_full_x_test), top_full_y_test)))\n"
   ]
  },
  {
   "cell_type": "markdown",
   "metadata": {},
   "source": [
    "### Average Prediction Accuracy on Zip Code Level"
   ]
  },
  {
   "cell_type": "code",
   "execution_count": 1224,
   "metadata": {},
   "outputs": [],
   "source": [
    "top_full_predictions = pd.Series(np.exp(top_full_model_ols.predict(top_full_x_test)), index = top_full_y_test.index)\n",
    "\n"
   ]
  },
  {
   "cell_type": "code",
   "execution_count": 1225,
   "metadata": {},
   "outputs": [
    {
     "data": {
      "text/plain": [
       "97.7212230760227"
      ]
     },
     "execution_count": 1225,
     "metadata": {},
     "output_type": "execute_result"
    }
   ],
   "source": [
    "(1 - np.abs(np.exp(top_full_y_test)/top_full_predictions.dropna()-1)).mean()*100"
   ]
  },
  {
   "cell_type": "markdown",
   "metadata": {},
   "source": [
    "# Let's Make a 2nd Level Lasso and Ridge from Simple Linear and Ridge"
   ]
  },
  {
   "cell_type": "code",
   "execution_count": 1155,
   "metadata": {},
   "outputs": [],
   "source": [
    "train_full_model_pred_simple = pd.Series(full_model_ols.predict(full_x_train), index = full_y_train.index)\n",
    "train_full_model_pred_ridge =pd.Series(full_model_ridge.predict(full_x_train), index = full_y_train.index)"
   ]
  },
  {
   "cell_type": "code",
   "execution_count": 1032,
   "metadata": {},
   "outputs": [],
   "source": [
    "second_x_train = pd.concat([train_full_model_pred_simple,train_full_model_pred_ridge], join = 'inner',axis = 1)\n",
    "second_y_train = full_y_train"
   ]
  },
  {
   "cell_type": "code",
   "execution_count": 1033,
   "metadata": {},
   "outputs": [],
   "source": [
    "test_full_model_pred_simple = pd.Series(full_model_ols.predict(full_x_test), index = full_y_test.index)\n",
    "test_full_model_pred_ridge =pd.Series(full_model_ridge.predict(full_x_test), index = full_y_test.index)"
   ]
  },
  {
   "cell_type": "code",
   "execution_count": 1034,
   "metadata": {},
   "outputs": [],
   "source": [
    "second_x_test = pd.concat([test_full_model_pred_simple,test_full_model_pred_ridge], join = 'inner',axis = 1)\n",
    "second_y_test = full_y_test"
   ]
  },
  {
   "cell_type": "code",
   "execution_count": 1043,
   "metadata": {},
   "outputs": [
    {
     "name": "stderr",
     "output_type": "stream",
     "text": [
      "/opt/anaconda3/lib/python3.7/site-packages/sklearn/model_selection/_split.py:1978: FutureWarning: The default value of cv will change from 3 to 5 in version 0.22. Specify it explicitly to silence this warning.\n",
      "  warnings.warn(CV_WARNING, FutureWarning)\n"
     ]
    },
    {
     "data": {
      "text/plain": [
       "GridSearchCV(cv='warn', error_score='raise-deprecating',\n",
       "             estimator=Lasso(alpha=1.0, copy_X=True, fit_intercept=True,\n",
       "                             max_iter=1000, normalize=False, positive=False,\n",
       "                             precompute=False, random_state=None,\n",
       "                             selection='cyclic', tol=0.0001, warm_start=False),\n",
       "             iid='warn', n_jobs=None,\n",
       "             param_grid={'alpha': (0.001, 0.005, 0.01, 0.1, 0.2, 0.3, 0.4, 0.5,\n",
       "                                   0.6, 0.7, 0.8, 0.9, 0.99),\n",
       "                         'fit_intercept': [True, False], 'max_iter': [5000]},\n",
       "             pre_dispatch='2*n_jobs', refit=True, return_train_score=False,\n",
       "             scoring=None, verbose=0)"
      ]
     },
     "execution_count": 1043,
     "metadata": {},
     "output_type": "execute_result"
    }
   ],
   "source": [
    "from sklearn.model_selection import GridSearchCV\n",
    "\n",
    "second_lasso = Lasso()\n",
    "\n",
    "params = {'alpha':(0.001, 0.005, 0.01, 0.1, 0.2, 0.3, 0.4, 0.5, 0.6, 0.7, 0.8,0.9,0.99),\\\n",
    "          'fit_intercept': [True, False], 'max_iter': [5000]}\n",
    "\n",
    "grid_search_lasso = GridSearchCV( estimator = second_lasso, param_grid = params)\n",
    "\n",
    "grid_search_lasso.fit(second_x_train, second_y_train)"
   ]
  },
  {
   "cell_type": "code",
   "execution_count": 1047,
   "metadata": {},
   "outputs": [
    {
     "data": {
      "text/plain": [
       "0.9947113580023164"
      ]
     },
     "execution_count": 1047,
     "metadata": {},
     "output_type": "execute_result"
    }
   ],
   "source": [
    "grid_search_lasso.best_estimator_.score(second_x_train, second_y_train)"
   ]
  },
  {
   "cell_type": "code",
   "execution_count": 1067,
   "metadata": {},
   "outputs": [
    {
     "data": {
      "text/plain": [
       "0.9947115077838292"
      ]
     },
     "execution_count": 1067,
     "metadata": {},
     "output_type": "execute_result"
    }
   ],
   "source": [
    "full_model_ols.score(full_x_train, full_y_train)"
   ]
  },
  {
   "cell_type": "code",
   "execution_count": 1068,
   "metadata": {},
   "outputs": [
    {
     "data": {
      "text/plain": [
       "0.9928502445606265"
      ]
     },
     "execution_count": 1068,
     "metadata": {},
     "output_type": "execute_result"
    }
   ],
   "source": [
    "grid_search_lasso.best_estimator_.score(second_x_test, second_y_test)"
   ]
  },
  {
   "cell_type": "code",
   "execution_count": 1069,
   "metadata": {},
   "outputs": [
    {
     "data": {
      "text/plain": [
       "0.9928522766888772"
      ]
     },
     "execution_count": 1069,
     "metadata": {},
     "output_type": "execute_result"
    }
   ],
   "source": [
    "full_model_ols.score(full_x_test, full_y_test)"
   ]
  },
  {
   "cell_type": "markdown",
   "metadata": {},
   "source": [
    "## 2nd Level Ridge"
   ]
  },
  {
   "cell_type": "code",
   "execution_count": 1128,
   "metadata": {},
   "outputs": [
    {
     "name": "stderr",
     "output_type": "stream",
     "text": [
      "/opt/anaconda3/lib/python3.7/site-packages/sklearn/model_selection/_split.py:1978: FutureWarning: The default value of cv will change from 3 to 5 in version 0.22. Specify it explicitly to silence this warning.\n",
      "  warnings.warn(CV_WARNING, FutureWarning)\n"
     ]
    },
    {
     "data": {
      "text/plain": [
       "GridSearchCV(cv='warn', error_score='raise-deprecating',\n",
       "             estimator=Ridge(alpha=1.0, copy_X=True, fit_intercept=True,\n",
       "                             max_iter=None, normalize=False, random_state=None,\n",
       "                             solver='auto', tol=0.001),\n",
       "             iid='warn', n_jobs=None,\n",
       "             param_grid={'alpha': array([-1.        , -0.997998  , -0.995996  , -0.99399399, -0.99199199,\n",
       "       -0.98998999, -0.98798799, -0.98598599, -0.98398398, -0.98198198,\n",
       "       -0.9799...\n",
       "        0.94194194,  0.94394394,  0.94594595,  0.94794795,  0.94994995,\n",
       "        0.95195195,  0.95395395,  0.95595596,  0.95795796,  0.95995996,\n",
       "        0.96196196,  0.96396396,  0.96596597,  0.96796797,  0.96996997,\n",
       "        0.97197197,  0.97397397,  0.97597598,  0.97797798,  0.97997998,\n",
       "        0.98198198,  0.98398398,  0.98598599,  0.98798799,  0.98998999,\n",
       "        0.99199199,  0.99399399,  0.995996  ,  0.997998  ,  1.        ])},\n",
       "             pre_dispatch='2*n_jobs', refit=True, return_train_score=False,\n",
       "             scoring=None, verbose=0)"
      ]
     },
     "execution_count": 1128,
     "metadata": {},
     "output_type": "execute_result"
    }
   ],
   "source": [
    "params3 = {'alpha':np.linspace(-1,1, 1000)}\n",
    "second_ridge = Ridge()\n",
    "\n",
    "grid_search_ridge = GridSearchCV(estimator = second_ridge, param_grid = params3)\n",
    "\n",
    "grid_search_ridge.fit(second_x_train, second_y_train)"
   ]
  },
  {
   "cell_type": "code",
   "execution_count": 1129,
   "metadata": {},
   "outputs": [
    {
     "data": {
      "text/plain": [
       "0.9947072704037324"
      ]
     },
     "execution_count": 1129,
     "metadata": {},
     "output_type": "execute_result"
    }
   ],
   "source": [
    "grid_search_ridge.best_estimator_.score(second_x_train, second_y_train)"
   ]
  },
  {
   "cell_type": "code",
   "execution_count": 1130,
   "metadata": {},
   "outputs": [
    {
     "data": {
      "text/plain": [
       "0.9928348563868646"
      ]
     },
     "execution_count": 1130,
     "metadata": {},
     "output_type": "execute_result"
    }
   ],
   "source": [
    "grid_search_ridge.best_estimator_.score(second_x_test, second_y_test)"
   ]
  },
  {
   "cell_type": "markdown",
   "metadata": {},
   "source": [
    "## Voting Regressor 1st Level"
   ]
  },
  {
   "cell_type": "code",
   "execution_count": 1,
   "metadata": {},
   "outputs": [
    {
     "ename": "NameError",
     "evalue": "name 'full_model_ols' is not defined",
     "output_type": "error",
     "traceback": [
      "\u001b[0;31m---------------------------------------------------------------------------\u001b[0m",
      "\u001b[0;31mNameError\u001b[0m                                 Traceback (most recent call last)",
      "\u001b[0;32m<ipython-input-1-c5496b02aa04>\u001b[0m in \u001b[0;36m<module>\u001b[0;34m\u001b[0m\n\u001b[1;32m      1\u001b[0m \u001b[0;32mfrom\u001b[0m \u001b[0msklearn\u001b[0m\u001b[0;34m.\u001b[0m\u001b[0mensemble\u001b[0m \u001b[0;32mimport\u001b[0m \u001b[0mVotingRegressor\u001b[0m\u001b[0;34m\u001b[0m\u001b[0;34m\u001b[0m\u001b[0m\n\u001b[1;32m      2\u001b[0m \u001b[0;34m\u001b[0m\u001b[0m\n\u001b[0;32m----> 3\u001b[0;31m \u001b[0mVR\u001b[0m \u001b[0;34m=\u001b[0m \u001b[0mVotingRegressor\u001b[0m\u001b[0;34m(\u001b[0m\u001b[0;34m[\u001b[0m\u001b[0;34m(\u001b[0m\u001b[0;34m'ols'\u001b[0m\u001b[0;34m,\u001b[0m\u001b[0mfull_model_ols\u001b[0m\u001b[0;34m)\u001b[0m\u001b[0;34m,\u001b[0m\u001b[0;34m(\u001b[0m\u001b[0;34m'rg'\u001b[0m\u001b[0;34m,\u001b[0m \u001b[0mfull_model_ridge\u001b[0m\u001b[0;34m)\u001b[0m\u001b[0;34m,\u001b[0m\u001b[0;34m(\u001b[0m\u001b[0;34m'gr'\u001b[0m\u001b[0;34m,\u001b[0m\u001b[0mfull_model_gradient\u001b[0m\u001b[0;34m)\u001b[0m\u001b[0;34m]\u001b[0m\u001b[0;34m)\u001b[0m\u001b[0;34m\u001b[0m\u001b[0;34m\u001b[0m\u001b[0m\n\u001b[0m\u001b[1;32m      4\u001b[0m \u001b[0;34m\u001b[0m\u001b[0m\n",
      "\u001b[0;31mNameError\u001b[0m: name 'full_model_ols' is not defined"
     ]
    }
   ],
   "source": [
    "from sklearn.ensemble import VotingRegressor\n",
    "\n",
    "VR = VotingRegressor([('ols',full_model_ols),('rg', full_model_ridge),('gr',full_model_gradient)])\n",
    "\n"
   ]
  },
  {
   "cell_type": "code",
   "execution_count": null,
   "metadata": {},
   "outputs": [],
   "source": [
    "VR.fit(full_x_train, full_y_train)"
   ]
  },
  {
   "cell_type": "code",
   "execution_count": 1133,
   "metadata": {},
   "outputs": [
    {
     "data": {
      "text/plain": [
       "0.9950172051314589"
      ]
     },
     "execution_count": 1133,
     "metadata": {},
     "output_type": "execute_result"
    }
   ],
   "source": [
    "VR.score(full_x_train, full_y_train)"
   ]
  },
  {
   "cell_type": "code",
   "execution_count": 1134,
   "metadata": {},
   "outputs": [
    {
     "data": {
      "text/plain": [
       "0.9927464250302286"
      ]
     },
     "execution_count": 1134,
     "metadata": {},
     "output_type": "execute_result"
    }
   ],
   "source": [
    "VR.score(full_x_test, full_y_test)"
   ]
  },
  {
   "cell_type": "code",
   "execution_count": 1135,
   "metadata": {},
   "outputs": [
    {
     "data": {
      "text/plain": [
       "0.9928522766888772"
      ]
     },
     "execution_count": 1135,
     "metadata": {},
     "output_type": "execute_result"
    }
   ],
   "source": [
    "full_model_ols.score(full_x_test, full_y_test)"
   ]
  },
  {
   "cell_type": "code",
   "execution_count": null,
   "metadata": {},
   "outputs": [],
   "source": []
  }
 ],
 "metadata": {
  "kernelspec": {
   "display_name": "Python 3",
   "language": "python",
   "name": "python3"
  },
  "language_info": {
   "codemirror_mode": {
    "name": "ipython",
    "version": 3
   },
   "file_extension": ".py",
   "mimetype": "text/x-python",
   "name": "python",
   "nbconvert_exporter": "python",
   "pygments_lexer": "ipython3",
   "version": "3.7.4"
  }
 },
 "nbformat": 4,
 "nbformat_minor": 2
}
