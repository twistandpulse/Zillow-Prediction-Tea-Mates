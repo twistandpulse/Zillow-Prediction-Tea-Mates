{
 "cells": [
  {
   "cell_type": "code",
   "execution_count": 1744,
   "metadata": {},
   "outputs": [],
   "source": [
    "import pandas as pd\n",
    "import numpy as np\n",
    "from matplotlib import pyplot as plt\n",
    "%matplotlib inline\n",
    "import seaborn as sns\n",
    "import re\n",
    "from sklearn.linear_model import LinearRegression, Lasso, Ridge, ElasticNet\n",
    "from sklearn.ensemble import GradientBoostingRegressor\n",
    "from sklearn.metrics import mean_squared_error\n",
    "from math import sqrt"
   ]
  },
  {
   "cell_type": "markdown",
   "metadata": {},
   "source": [
    "# Census Data"
   ]
  },
  {
   "cell_type": "code",
   "execution_count": 1745,
   "metadata": {},
   "outputs": [],
   "source": [
    "x2011 = pd.read_csv('zip_codes_2011.csv').drop(['do_date'], axis = 1).dropna(how = 'all', axis = 1)\n",
    "x2012 = pd.read_csv('zip_codes_2012.csv').drop(['do_date'], axis = 1).dropna(how = 'all', axis = 1)\n",
    "x2013 = pd.read_csv('zip_codes_2013.csv').drop(['do_date'], axis = 1).dropna(how = 'all', axis = 1)\n",
    "x2014 = pd.read_csv('zip_codes_2014.csv').drop(['do_date'], axis = 1).dropna(how = 'all', axis = 1)\n",
    "x2015 = pd.read_csv('zip_codes_2015.csv').drop(['do_date'], axis = 1).dropna(how = 'all', axis = 1)\n",
    "x2016 = pd.read_csv('zip_codes_2016.csv').drop(['do_date'], axis = 1).dropna(how = 'all', axis = 1)\n",
    "x2017 = pd.read_csv('zip_codes_2017.csv').drop(['do_date'], axis = 1).dropna(how = 'all', axis = 1)\n",
    "\n",
    "x2011.columns = x2011.columns.str.replace('geo_id', 'zip')\n",
    "x2012.columns = x2012.columns.str.replace('geo_id', 'zip')\n",
    "x2013.columns = x2013.columns.str.replace('geo_id', 'zip')\n",
    "x2014.columns = x2014.columns.str.replace('geo_id', 'zip')\n",
    "x2015.columns = x2015.columns.str.replace('geo_id', 'zip')\n",
    "x2016.columns = x2016.columns.str.replace('geo_id', 'zip')\n",
    "x2017.columns = x2017.columns.str.replace('geo_id', 'zip')\n",
    "\n",
    "mutual_columns = set(x2011.columns).intersection(set(x2012.columns)).intersection(set(x2013.columns)).\\\n",
    "intersection(set(x2014.columns)).intersection(set(x2015.columns)).intersection(set(x2016.columns)).\\\n",
    "intersection(set(x2017.columns))\n",
    "\n",
    "\n",
    "x2011 = x2011[mutual_columns].sort_values('zip').set_index('zip')\n",
    "x2012 = x2012[mutual_columns].sort_values('zip').set_index('zip')\n",
    "x2013 = x2013[mutual_columns].sort_values('zip').set_index('zip')\n",
    "x2014 = x2014[mutual_columns].sort_values('zip').set_index('zip')\n",
    "x2015 = x2015[mutual_columns].sort_values('zip').set_index('zip')\n",
    "x2016 = x2016[mutual_columns].sort_values('zip').set_index('zip')\n",
    "x2017 = x2017[mutual_columns].sort_values('zip').set_index('zip')"
   ]
  },
  {
   "cell_type": "code",
   "execution_count": 1746,
   "metadata": {},
   "outputs": [],
   "source": [
    "x2011.columns = [i + '_2011' for i in x2011.columns]\n",
    "x2012.columns = [i + '_2012' for i in x2012.columns] \n",
    "x2013.columns = [i + '_2013' for i in x2013.columns]\n",
    "x2014.columns = [i + '_2014' for i in x2014.columns]\n",
    "x2015.columns = [i + '_2015' for i in x2015.columns]\n",
    "x2016.columns = [i + '_2016' for i in x2016.columns]\n",
    "x2017.columns = [i + '_2017' for i in x2017.columns]"
   ]
  },
  {
   "cell_type": "code",
   "execution_count": 1747,
   "metadata": {},
   "outputs": [],
   "source": [
    "census2013 = pd.concat([x2013,x2012,x2011], join = 'inner', axis = 1).reset_index()\n",
    "census2014 = pd.concat([x2014,x2013,x2012], join = 'inner', axis = 1).reset_index()\n",
    "census2015 = pd.concat([x2015,x2014,x2013], join = 'inner', axis = 1).reset_index()\n",
    "census2016 = pd.concat([x2016,x2015,x2014], join = 'inner', axis = 1).reset_index()\n",
    "census2017 = pd.concat([x2017,x2016,x2015], join = 'inner', axis = 1).reset_index()"
   ]
  },
  {
   "cell_type": "code",
   "execution_count": 1748,
   "metadata": {},
   "outputs": [],
   "source": [
    "census2013['year'] = '2013'\n",
    "census2014['year'] = '2014'\n",
    "census2015['year'] = '2015'\n",
    "census2016['year'] = '2016'\n",
    "census2017['year'] = '2017'"
   ]
  },
  {
   "cell_type": "code",
   "execution_count": 1749,
   "metadata": {},
   "outputs": [],
   "source": [
    "census2013.columns = census2013.columns.str.replace('_2013','_3y').str.replace('_2012','_4y').str.replace('_2011','_5y')\n",
    "census2014.columns = census2014.columns.str.replace('_2014','_3y').str.replace('_2013','_4y').str.replace('_2012','_5y')\n",
    "census2015.columns = census2015.columns.str.replace('_2015','_3y').str.replace('_2014','_4y').str.replace('_2013','_5y')\n",
    "census2016.columns = census2016.columns.str.replace('_2016','_3y').str.replace('_2015','_4y').str.replace('_2014','_5y')\n",
    "census2017.columns = census2017.columns.str.replace('_2017','_3y').str.replace('_2016','_4y').str.replace('_2015','_5y')"
   ]
  },
  {
   "cell_type": "code",
   "execution_count": 1750,
   "metadata": {},
   "outputs": [],
   "source": [
    "census = pd.concat([census2013,census2014, census2015, census2016, census2017]).sort_values(['zip','year'])\n"
   ]
  },
  {
   "cell_type": "code",
   "execution_count": 1751,
   "metadata": {},
   "outputs": [
    {
     "data": {
      "text/html": [
       "<div>\n",
       "<style scoped>\n",
       "    .dataframe tbody tr th:only-of-type {\n",
       "        vertical-align: middle;\n",
       "    }\n",
       "\n",
       "    .dataframe tbody tr th {\n",
       "        vertical-align: top;\n",
       "    }\n",
       "\n",
       "    .dataframe thead th {\n",
       "        text-align: right;\n",
       "    }\n",
       "</style>\n",
       "<table border=\"1\" class=\"dataframe\">\n",
       "  <thead>\n",
       "    <tr style=\"text-align: right;\">\n",
       "      <th></th>\n",
       "      <th>zip</th>\n",
       "      <th>pop_in_labor_force_3y</th>\n",
       "      <th>population_3_years_over_3y</th>\n",
       "      <th>female_65_to_66_3y</th>\n",
       "      <th>rent_10_to_15_percent_3y</th>\n",
       "      <th>family_households_3y</th>\n",
       "      <th>female_60_to_61_3y</th>\n",
       "      <th>rent_20_to_25_percent_3y</th>\n",
       "      <th>median_income_3y</th>\n",
       "      <th>dwellings_5_to_9_units_3y</th>\n",
       "      <th>...</th>\n",
       "      <th>male_18_to_19_5y</th>\n",
       "      <th>occupation_sales_office_5y</th>\n",
       "      <th>two_or_more_races_pop_5y</th>\n",
       "      <th>owner_occupied_housing_units_lower_value_quartile_5y</th>\n",
       "      <th>income_per_capita_5y</th>\n",
       "      <th>female_22_to_24_5y</th>\n",
       "      <th>rent_over_50_percent_5y</th>\n",
       "      <th>poverty_5y</th>\n",
       "      <th>households_retirement_income_5y</th>\n",
       "      <th>year</th>\n",
       "    </tr>\n",
       "  </thead>\n",
       "  <tbody>\n",
       "    <tr>\n",
       "      <td>0</td>\n",
       "      <td>601</td>\n",
       "      <td>5698</td>\n",
       "      <td>17854</td>\n",
       "      <td>173</td>\n",
       "      <td>98</td>\n",
       "      <td>4395</td>\n",
       "      <td>294</td>\n",
       "      <td>86</td>\n",
       "      <td>12041.0</td>\n",
       "      <td>153</td>\n",
       "      <td>...</td>\n",
       "      <td>351</td>\n",
       "      <td>846</td>\n",
       "      <td>0</td>\n",
       "      <td>59400.0</td>\n",
       "      <td>6967.0</td>\n",
       "      <td>278</td>\n",
       "      <td>244</td>\n",
       "      <td>10102</td>\n",
       "      <td>550</td>\n",
       "      <td>2013</td>\n",
       "    </tr>\n",
       "    <tr>\n",
       "      <td>0</td>\n",
       "      <td>601</td>\n",
       "      <td>6037</td>\n",
       "      <td>17543</td>\n",
       "      <td>165</td>\n",
       "      <td>88</td>\n",
       "      <td>4362</td>\n",
       "      <td>199</td>\n",
       "      <td>52</td>\n",
       "      <td>10833.0</td>\n",
       "      <td>162</td>\n",
       "      <td>...</td>\n",
       "      <td>347</td>\n",
       "      <td>894</td>\n",
       "      <td>0</td>\n",
       "      <td>70500.0</td>\n",
       "      <td>7283.0</td>\n",
       "      <td>261</td>\n",
       "      <td>303</td>\n",
       "      <td>10200</td>\n",
       "      <td>511</td>\n",
       "      <td>2014</td>\n",
       "    </tr>\n",
       "    <tr>\n",
       "      <td>0</td>\n",
       "      <td>601</td>\n",
       "      <td>6162</td>\n",
       "      <td>17469</td>\n",
       "      <td>181</td>\n",
       "      <td>134</td>\n",
       "      <td>4396</td>\n",
       "      <td>188</td>\n",
       "      <td>55</td>\n",
       "      <td>10816.0</td>\n",
       "      <td>169</td>\n",
       "      <td>...</td>\n",
       "      <td>318</td>\n",
       "      <td>878</td>\n",
       "      <td>0</td>\n",
       "      <td>62700.0</td>\n",
       "      <td>7380.0</td>\n",
       "      <td>260</td>\n",
       "      <td>334</td>\n",
       "      <td>10816</td>\n",
       "      <td>528</td>\n",
       "      <td>2015</td>\n",
       "    </tr>\n",
       "    <tr>\n",
       "      <td>0</td>\n",
       "      <td>601</td>\n",
       "      <td>6056</td>\n",
       "      <td>17398</td>\n",
       "      <td>183</td>\n",
       "      <td>121</td>\n",
       "      <td>4421</td>\n",
       "      <td>209</td>\n",
       "      <td>54</td>\n",
       "      <td>11507.0</td>\n",
       "      <td>162</td>\n",
       "      <td>...</td>\n",
       "      <td>295</td>\n",
       "      <td>806</td>\n",
       "      <td>0</td>\n",
       "      <td>65700.0</td>\n",
       "      <td>7229.0</td>\n",
       "      <td>302</td>\n",
       "      <td>345</td>\n",
       "      <td>10911</td>\n",
       "      <td>531</td>\n",
       "      <td>2016</td>\n",
       "    </tr>\n",
       "    <tr>\n",
       "      <td>0</td>\n",
       "      <td>601</td>\n",
       "      <td>5953</td>\n",
       "      <td>17133</td>\n",
       "      <td>165</td>\n",
       "      <td>117</td>\n",
       "      <td>4227</td>\n",
       "      <td>275</td>\n",
       "      <td>87</td>\n",
       "      <td>11757.0</td>\n",
       "      <td>193</td>\n",
       "      <td>...</td>\n",
       "      <td>274</td>\n",
       "      <td>863</td>\n",
       "      <td>0</td>\n",
       "      <td>61900.0</td>\n",
       "      <td>7453.0</td>\n",
       "      <td>286</td>\n",
       "      <td>425</td>\n",
       "      <td>10861</td>\n",
       "      <td>656</td>\n",
       "      <td>2017</td>\n",
       "    </tr>\n",
       "    <tr>\n",
       "      <td>...</td>\n",
       "      <td>...</td>\n",
       "      <td>...</td>\n",
       "      <td>...</td>\n",
       "      <td>...</td>\n",
       "      <td>...</td>\n",
       "      <td>...</td>\n",
       "      <td>...</td>\n",
       "      <td>...</td>\n",
       "      <td>...</td>\n",
       "      <td>...</td>\n",
       "      <td>...</td>\n",
       "      <td>...</td>\n",
       "      <td>...</td>\n",
       "      <td>...</td>\n",
       "      <td>...</td>\n",
       "      <td>...</td>\n",
       "      <td>...</td>\n",
       "      <td>...</td>\n",
       "      <td>...</td>\n",
       "      <td>...</td>\n",
       "      <td>...</td>\n",
       "    </tr>\n",
       "    <tr>\n",
       "      <td>33119</td>\n",
       "      <td>99929</td>\n",
       "      <td>1181</td>\n",
       "      <td>2307</td>\n",
       "      <td>16</td>\n",
       "      <td>12</td>\n",
       "      <td>643</td>\n",
       "      <td>69</td>\n",
       "      <td>54</td>\n",
       "      <td>45649.0</td>\n",
       "      <td>36</td>\n",
       "      <td>...</td>\n",
       "      <td>15</td>\n",
       "      <td>340</td>\n",
       "      <td>233</td>\n",
       "      <td>95100.0</td>\n",
       "      <td>29918.0</td>\n",
       "      <td>30</td>\n",
       "      <td>37</td>\n",
       "      <td>203</td>\n",
       "      <td>199</td>\n",
       "      <td>2013</td>\n",
       "    </tr>\n",
       "    <tr>\n",
       "      <td>33119</td>\n",
       "      <td>99929</td>\n",
       "      <td>1115</td>\n",
       "      <td>2310</td>\n",
       "      <td>9</td>\n",
       "      <td>21</td>\n",
       "      <td>632</td>\n",
       "      <td>76</td>\n",
       "      <td>61</td>\n",
       "      <td>48153.0</td>\n",
       "      <td>54</td>\n",
       "      <td>...</td>\n",
       "      <td>21</td>\n",
       "      <td>231</td>\n",
       "      <td>228</td>\n",
       "      <td>94300.0</td>\n",
       "      <td>28323.0</td>\n",
       "      <td>48</td>\n",
       "      <td>39</td>\n",
       "      <td>178</td>\n",
       "      <td>279</td>\n",
       "      <td>2014</td>\n",
       "    </tr>\n",
       "    <tr>\n",
       "      <td>33119</td>\n",
       "      <td>99929</td>\n",
       "      <td>1175</td>\n",
       "      <td>2301</td>\n",
       "      <td>14</td>\n",
       "      <td>47</td>\n",
       "      <td>623</td>\n",
       "      <td>59</td>\n",
       "      <td>44</td>\n",
       "      <td>47941.0</td>\n",
       "      <td>72</td>\n",
       "      <td>...</td>\n",
       "      <td>32</td>\n",
       "      <td>277</td>\n",
       "      <td>192</td>\n",
       "      <td>88800.0</td>\n",
       "      <td>28399.0</td>\n",
       "      <td>36</td>\n",
       "      <td>50</td>\n",
       "      <td>215</td>\n",
       "      <td>293</td>\n",
       "      <td>2015</td>\n",
       "    </tr>\n",
       "    <tr>\n",
       "      <td>33119</td>\n",
       "      <td>99929</td>\n",
       "      <td>1181</td>\n",
       "      <td>2312</td>\n",
       "      <td>17</td>\n",
       "      <td>38</td>\n",
       "      <td>652</td>\n",
       "      <td>52</td>\n",
       "      <td>47</td>\n",
       "      <td>52452.0</td>\n",
       "      <td>80</td>\n",
       "      <td>...</td>\n",
       "      <td>19</td>\n",
       "      <td>245</td>\n",
       "      <td>185</td>\n",
       "      <td>103000.0</td>\n",
       "      <td>30638.0</td>\n",
       "      <td>42</td>\n",
       "      <td>27</td>\n",
       "      <td>228</td>\n",
       "      <td>345</td>\n",
       "      <td>2016</td>\n",
       "    </tr>\n",
       "    <tr>\n",
       "      <td>33119</td>\n",
       "      <td>99929</td>\n",
       "      <td>1178</td>\n",
       "      <td>2381</td>\n",
       "      <td>37</td>\n",
       "      <td>36</td>\n",
       "      <td>699</td>\n",
       "      <td>58</td>\n",
       "      <td>44</td>\n",
       "      <td>55742.0</td>\n",
       "      <td>90</td>\n",
       "      <td>...</td>\n",
       "      <td>24</td>\n",
       "      <td>247</td>\n",
       "      <td>239</td>\n",
       "      <td>108800.0</td>\n",
       "      <td>29991.0</td>\n",
       "      <td>51</td>\n",
       "      <td>51</td>\n",
       "      <td>271</td>\n",
       "      <td>294</td>\n",
       "      <td>2017</td>\n",
       "    </tr>\n",
       "  </tbody>\n",
       "</table>\n",
       "<p>165600 rows × 701 columns</p>\n",
       "</div>"
      ],
      "text/plain": [
       "         zip  pop_in_labor_force_3y  population_3_years_over_3y  \\\n",
       "0        601                   5698                       17854   \n",
       "0        601                   6037                       17543   \n",
       "0        601                   6162                       17469   \n",
       "0        601                   6056                       17398   \n",
       "0        601                   5953                       17133   \n",
       "...      ...                    ...                         ...   \n",
       "33119  99929                   1181                        2307   \n",
       "33119  99929                   1115                        2310   \n",
       "33119  99929                   1175                        2301   \n",
       "33119  99929                   1181                        2312   \n",
       "33119  99929                   1178                        2381   \n",
       "\n",
       "       female_65_to_66_3y  rent_10_to_15_percent_3y  family_households_3y  \\\n",
       "0                     173                        98                  4395   \n",
       "0                     165                        88                  4362   \n",
       "0                     181                       134                  4396   \n",
       "0                     183                       121                  4421   \n",
       "0                     165                       117                  4227   \n",
       "...                   ...                       ...                   ...   \n",
       "33119                  16                        12                   643   \n",
       "33119                   9                        21                   632   \n",
       "33119                  14                        47                   623   \n",
       "33119                  17                        38                   652   \n",
       "33119                  37                        36                   699   \n",
       "\n",
       "       female_60_to_61_3y  rent_20_to_25_percent_3y  median_income_3y  \\\n",
       "0                     294                        86           12041.0   \n",
       "0                     199                        52           10833.0   \n",
       "0                     188                        55           10816.0   \n",
       "0                     209                        54           11507.0   \n",
       "0                     275                        87           11757.0   \n",
       "...                   ...                       ...               ...   \n",
       "33119                  69                        54           45649.0   \n",
       "33119                  76                        61           48153.0   \n",
       "33119                  59                        44           47941.0   \n",
       "33119                  52                        47           52452.0   \n",
       "33119                  58                        44           55742.0   \n",
       "\n",
       "       dwellings_5_to_9_units_3y  ...  male_18_to_19_5y  \\\n",
       "0                            153  ...               351   \n",
       "0                            162  ...               347   \n",
       "0                            169  ...               318   \n",
       "0                            162  ...               295   \n",
       "0                            193  ...               274   \n",
       "...                          ...  ...               ...   \n",
       "33119                         36  ...                15   \n",
       "33119                         54  ...                21   \n",
       "33119                         72  ...                32   \n",
       "33119                         80  ...                19   \n",
       "33119                         90  ...                24   \n",
       "\n",
       "       occupation_sales_office_5y  two_or_more_races_pop_5y  \\\n",
       "0                             846                         0   \n",
       "0                             894                         0   \n",
       "0                             878                         0   \n",
       "0                             806                         0   \n",
       "0                             863                         0   \n",
       "...                           ...                       ...   \n",
       "33119                         340                       233   \n",
       "33119                         231                       228   \n",
       "33119                         277                       192   \n",
       "33119                         245                       185   \n",
       "33119                         247                       239   \n",
       "\n",
       "       owner_occupied_housing_units_lower_value_quartile_5y  \\\n",
       "0                                                59400.0      \n",
       "0                                                70500.0      \n",
       "0                                                62700.0      \n",
       "0                                                65700.0      \n",
       "0                                                61900.0      \n",
       "...                                                  ...      \n",
       "33119                                            95100.0      \n",
       "33119                                            94300.0      \n",
       "33119                                            88800.0      \n",
       "33119                                           103000.0      \n",
       "33119                                           108800.0      \n",
       "\n",
       "       income_per_capita_5y  female_22_to_24_5y  rent_over_50_percent_5y  \\\n",
       "0                    6967.0                 278                      244   \n",
       "0                    7283.0                 261                      303   \n",
       "0                    7380.0                 260                      334   \n",
       "0                    7229.0                 302                      345   \n",
       "0                    7453.0                 286                      425   \n",
       "...                     ...                 ...                      ...   \n",
       "33119               29918.0                  30                       37   \n",
       "33119               28323.0                  48                       39   \n",
       "33119               28399.0                  36                       50   \n",
       "33119               30638.0                  42                       27   \n",
       "33119               29991.0                  51                       51   \n",
       "\n",
       "       poverty_5y  households_retirement_income_5y  year  \n",
       "0           10102                              550  2013  \n",
       "0           10200                              511  2014  \n",
       "0           10816                              528  2015  \n",
       "0           10911                              531  2016  \n",
       "0           10861                              656  2017  \n",
       "...           ...                              ...   ...  \n",
       "33119         203                              199  2013  \n",
       "33119         178                              279  2014  \n",
       "33119         215                              293  2015  \n",
       "33119         228                              345  2016  \n",
       "33119         271                              294  2017  \n",
       "\n",
       "[165600 rows x 701 columns]"
      ]
     },
     "execution_count": 1751,
     "metadata": {},
     "output_type": "execute_result"
    }
   ],
   "source": [
    "census"
   ]
  },
  {
   "cell_type": "markdown",
   "metadata": {},
   "source": [
    "# Zillow Rent Index"
   ]
  },
  {
   "cell_type": "code",
   "execution_count": 1752,
   "metadata": {},
   "outputs": [],
   "source": [
    "zillow = pd.read_csv('Zip_Zri_AllHomesPlusMultifamily.csv')\n",
    "zillow.columns = zillow.columns.str.replace('RegionName', 'zip')\n",
    "\n",
    "zri2011 = pd.concat([zillow.zip,zillow.iloc[:,11:23]], axis = 1).set_index('zip').dropna(how = 'all')\n",
    "zri2012 = pd.concat([zillow.zip,zillow.iloc[:,23:35]], axis = 1).set_index('zip').dropna(how = 'all')\n",
    "zri2013 = pd.concat([zillow.zip,zillow.iloc[:,35:47]], axis = 1).set_index('zip').dropna(how = 'all')\n",
    "zri2014 = pd.concat([zillow.zip,zillow.iloc[:,47:59]], axis = 1).set_index('zip').dropna(how = 'all')\n",
    "zri2015 = pd.concat([zillow.zip,zillow.iloc[:,59:71]], axis = 1).set_index('zip').dropna(how = 'all')\n",
    "zri2016 = pd.concat([zillow.zip,zillow.iloc[:,71:83]], axis = 1).set_index('zip').dropna(how = 'all')\n",
    "zri2017 = pd.concat([zillow.zip,zillow.iloc[:,83:95]], axis = 1).set_index('zip').dropna(how = 'all')\n",
    "zri2018 = pd.concat([zillow.zip,zillow.iloc[:,95:107]], axis = 1).set_index('zip').dropna(how = 'all')\n",
    "zri2019 = pd.concat([zillow.zip,zillow.iloc[:,107:119]], axis = 1).set_index('zip').dropna(how = 'all')\n",
    "\n",
    "zri2011 = zri2011[zri2011.isna().sum(axis = 1) <= 3]\n",
    "zri2012 = zri2012[zri2012.isna().sum(axis = 1) <= 3]\n",
    "zri2013 = zri2013[zri2013.isna().sum(axis = 1) <= 3]\n",
    "zri2014 = zri2014[zri2014.isna().sum(axis = 1) <= 3]\n",
    "zri2015 = zri2015[zri2015.isna().sum(axis = 1) <= 3]\n",
    "zri2016 = zri2016[zri2016.isna().sum(axis = 1) <= 3]\n",
    "zri2017 = zri2017[zri2017.isna().sum(axis = 1) <= 3]\n",
    "zri2018 = zri2018[zri2018.isna().sum(axis = 1) <= 3]\n",
    "zri2019 = zri2019[zri2019.isna().sum(axis = 1) <= 3]"
   ]
  },
  {
   "cell_type": "code",
   "execution_count": 1753,
   "metadata": {},
   "outputs": [],
   "source": [
    "zri2011 = zri2011.interpolate(method='linear',limit_direction='both', axis=1)\n",
    "zri2012 = zri2012.interpolate(method='linear',limit_direction='both', axis=1)\n",
    "zri2013 = zri2013.interpolate(method='linear',limit_direction='both', axis=1)\n",
    "zri2014 = zri2014.interpolate(method='linear',limit_direction='both', axis=1)\n",
    "zri2015 = zri2015.interpolate(method='linear',limit_direction='both', axis=1)\n",
    "zri2016 = zri2016.interpolate(method='linear',limit_direction='both', axis=1)\n",
    "zri2017 = zri2017.interpolate(method='linear',limit_direction='both', axis=1)\n",
    "zri2018 = zri2018.interpolate(method='linear',limit_direction='both', axis=1)\n",
    "zri2019 = zri2019.interpolate(method='linear',limit_direction='both', axis=1)"
   ]
  },
  {
   "cell_type": "code",
   "execution_count": 1754,
   "metadata": {},
   "outputs": [
    {
     "data": {
      "text/plain": [
       "8752"
      ]
     },
     "execution_count": 1754,
     "metadata": {},
     "output_type": "execute_result"
    }
   ],
   "source": [
    "zillow_monthly = pd.concat([zri2011, zri2012, zri2013, zri2014, zri2015, zri2016, zri2017, zri2018, zri2019], join = 'inner', axis = 1)\n",
    "\n",
    "\n",
    "\n",
    "zillow_monthly.shape[0]\n",
    "\n"
   ]
  },
  {
   "cell_type": "code",
   "execution_count": 1755,
   "metadata": {},
   "outputs": [],
   "source": [
    "zri2011 = pd.DataFrame(zri2011.mean(axis = 1), columns = ['2011'])\n",
    "zri2012 = pd.DataFrame(zri2012.mean(axis = 1), columns = ['2012'])\n",
    "zri2013 = pd.DataFrame(zri2013.mean(axis = 1), columns = ['2013'])\n",
    "zri2014 = pd.DataFrame(zri2014.mean(axis = 1), columns = ['2014'])\n",
    "zri2015 = pd.DataFrame(zri2015.mean(axis = 1), columns = ['2015'])\n",
    "zri2016 = pd.DataFrame(zri2016.mean(axis = 1), columns = ['2016'])\n",
    "zri2017 = pd.DataFrame(zri2017.mean(axis = 1), columns = ['2017'])\n",
    "zri2018 = pd.DataFrame(zri2018.mean(axis = 1), columns = ['2018'])\n",
    "zri2019 = pd.DataFrame(zri2019.mean(axis = 1), columns = ['2019'])"
   ]
  },
  {
   "cell_type": "markdown",
   "metadata": {},
   "source": [
    "### Response (Target Variable)"
   ]
  },
  {
   "cell_type": "code",
   "execution_count": 1756,
   "metadata": {},
   "outputs": [],
   "source": [
    "zillow_mean = pd.concat([zri2013,zri2014,zri2015,zri2016,zri2017,zri2018,zri2019],join = 'inner', axis = 1).reset_index()\n",
    "zillow_mean = pd.melt(zillow_mean, id_vars=['zip'], value_vars=['2013','2014','2015','2016','2017','2018','2019'],\\\n",
    "       var_name='year', value_name='ZRI+3').sort_values(['zip','year'])\n",
    "\n"
   ]
  },
  {
   "cell_type": "code",
   "execution_count": 1757,
   "metadata": {},
   "outputs": [],
   "source": [
    "zillow_mean = zillow_mean[(zillow_mean['year'] == '2016') | (zillow_mean['year'] == '2017') | (zillow_mean['year'] == '2018') | (zillow_mean['year'] == '2019')]\n"
   ]
  },
  {
   "cell_type": "code",
   "execution_count": 1758,
   "metadata": {},
   "outputs": [],
   "source": [
    "zillow_mean['year'] = zillow_mean.year.apply(lambda i:str(int(i)-3))"
   ]
  },
  {
   "cell_type": "code",
   "execution_count": 1759,
   "metadata": {},
   "outputs": [
    {
     "data": {
      "text/html": [
       "<div>\n",
       "<style scoped>\n",
       "    .dataframe tbody tr th:only-of-type {\n",
       "        vertical-align: middle;\n",
       "    }\n",
       "\n",
       "    .dataframe tbody tr th {\n",
       "        vertical-align: top;\n",
       "    }\n",
       "\n",
       "    .dataframe thead th {\n",
       "        text-align: right;\n",
       "    }\n",
       "</style>\n",
       "<table border=\"1\" class=\"dataframe\">\n",
       "  <thead>\n",
       "    <tr style=\"text-align: right;\">\n",
       "      <th></th>\n",
       "      <th>zip</th>\n",
       "      <th>year</th>\n",
       "      <th>ZRI+3</th>\n",
       "    </tr>\n",
       "  </thead>\n",
       "  <tbody>\n",
       "    <tr>\n",
       "      <td>34898</td>\n",
       "      <td>1001</td>\n",
       "      <td>2013</td>\n",
       "      <td>1380.166667</td>\n",
       "    </tr>\n",
       "    <tr>\n",
       "      <td>44761</td>\n",
       "      <td>1001</td>\n",
       "      <td>2014</td>\n",
       "      <td>1421.833333</td>\n",
       "    </tr>\n",
       "    <tr>\n",
       "      <td>54624</td>\n",
       "      <td>1001</td>\n",
       "      <td>2015</td>\n",
       "      <td>1338.500000</td>\n",
       "    </tr>\n",
       "    <tr>\n",
       "      <td>64487</td>\n",
       "      <td>1001</td>\n",
       "      <td>2016</td>\n",
       "      <td>1362.416667</td>\n",
       "    </tr>\n",
       "    <tr>\n",
       "      <td>38790</td>\n",
       "      <td>1005</td>\n",
       "      <td>2013</td>\n",
       "      <td>1268.833333</td>\n",
       "    </tr>\n",
       "    <tr>\n",
       "      <td>...</td>\n",
       "      <td>...</td>\n",
       "      <td>...</td>\n",
       "      <td>...</td>\n",
       "    </tr>\n",
       "    <tr>\n",
       "      <td>64639</td>\n",
       "      <td>99701</td>\n",
       "      <td>2016</td>\n",
       "      <td>1506.416667</td>\n",
       "    </tr>\n",
       "    <tr>\n",
       "      <td>34516</td>\n",
       "      <td>99705</td>\n",
       "      <td>2013</td>\n",
       "      <td>1502.666667</td>\n",
       "    </tr>\n",
       "    <tr>\n",
       "      <td>44379</td>\n",
       "      <td>99705</td>\n",
       "      <td>2014</td>\n",
       "      <td>1474.750000</td>\n",
       "    </tr>\n",
       "    <tr>\n",
       "      <td>54242</td>\n",
       "      <td>99705</td>\n",
       "      <td>2015</td>\n",
       "      <td>1479.583333</td>\n",
       "    </tr>\n",
       "    <tr>\n",
       "      <td>64105</td>\n",
       "      <td>99705</td>\n",
       "      <td>2016</td>\n",
       "      <td>1510.166667</td>\n",
       "    </tr>\n",
       "  </tbody>\n",
       "</table>\n",
       "<p>39452 rows × 3 columns</p>\n",
       "</div>"
      ],
      "text/plain": [
       "         zip  year        ZRI+3\n",
       "34898   1001  2013  1380.166667\n",
       "44761   1001  2014  1421.833333\n",
       "54624   1001  2015  1338.500000\n",
       "64487   1001  2016  1362.416667\n",
       "38790   1005  2013  1268.833333\n",
       "...      ...   ...          ...\n",
       "64639  99701  2016  1506.416667\n",
       "34516  99705  2013  1502.666667\n",
       "44379  99705  2014  1474.750000\n",
       "54242  99705  2015  1479.583333\n",
       "64105  99705  2016  1510.166667\n",
       "\n",
       "[39452 rows x 3 columns]"
      ]
     },
     "execution_count": 1759,
     "metadata": {},
     "output_type": "execute_result"
    }
   ],
   "source": [
    "zillow_mean"
   ]
  },
  {
   "cell_type": "markdown",
   "metadata": {},
   "source": [
    "### Train Data (Zillow Rent Index from previous Years)"
   ]
  },
  {
   "cell_type": "code",
   "execution_count": 1760,
   "metadata": {},
   "outputs": [],
   "source": [
    "zri_train_2013 = pd.concat([zri2013,zri2014,zri2015], join = 'inner', axis = 1)\n",
    "zri_train_2014 = pd.concat([zri2014,zri2015,zri2016], join = 'inner', axis = 1)\n",
    "zri_train_2015 = pd.concat([zri2015,zri2016,zri2017], join = 'inner', axis = 1)\n",
    "zri_train_2016 = pd.concat([zri2016,zri2017,zri2018], join = 'inner', axis = 1)"
   ]
  },
  {
   "cell_type": "code",
   "execution_count": 1761,
   "metadata": {},
   "outputs": [],
   "source": [
    "zri_train_2013.columns = zri_train_2013.columns.str.replace('2015','zri_1y').str.replace('2014','zri_2y').str.replace('2013','zri_3y')\n",
    "zri_train_2014.columns = zri_train_2014.columns.str.replace('2016','zri_1y').str.replace('2015','zri_2y').str.replace('2014','zri_3y')\n",
    "zri_train_2015.columns = zri_train_2015.columns.str.replace('2017','zri_1y').str.replace('2016','zri_2y').str.replace('2015','zri_3y')\n",
    "zri_train_2016.columns = zri_train_2016.columns.str.replace('2018','zri_1y').str.replace('2017','zri_2y').str.replace('2016','zri_3y')"
   ]
  },
  {
   "cell_type": "code",
   "execution_count": 1762,
   "metadata": {},
   "outputs": [],
   "source": [
    "zri_train_2013['year'] = '2013'\n",
    "zri_train_2014['year'] = '2014'\n",
    "zri_train_2015['year'] = '2015'\n",
    "zri_train_2016['year'] = '2016'"
   ]
  },
  {
   "cell_type": "code",
   "execution_count": 1763,
   "metadata": {},
   "outputs": [],
   "source": [
    "zri_train_2013 = zri_train_2013.reset_index()\n",
    "zri_train_2014 = zri_train_2014.reset_index()\n",
    "zri_train_2015 = zri_train_2015.reset_index()\n",
    "zri_train_2016 = zri_train_2016.reset_index()"
   ]
  },
  {
   "cell_type": "code",
   "execution_count": 1764,
   "metadata": {},
   "outputs": [
    {
     "data": {
      "text/html": [
       "<div>\n",
       "<style scoped>\n",
       "    .dataframe tbody tr th:only-of-type {\n",
       "        vertical-align: middle;\n",
       "    }\n",
       "\n",
       "    .dataframe tbody tr th {\n",
       "        vertical-align: top;\n",
       "    }\n",
       "\n",
       "    .dataframe thead th {\n",
       "        text-align: right;\n",
       "    }\n",
       "</style>\n",
       "<table border=\"1\" class=\"dataframe\">\n",
       "  <thead>\n",
       "    <tr style=\"text-align: right;\">\n",
       "      <th></th>\n",
       "      <th>zip</th>\n",
       "      <th>zri_3y</th>\n",
       "      <th>zri_2y</th>\n",
       "      <th>zri_1y</th>\n",
       "      <th>year</th>\n",
       "    </tr>\n",
       "  </thead>\n",
       "  <tbody>\n",
       "    <tr>\n",
       "      <td>0</td>\n",
       "      <td>60657</td>\n",
       "      <td>1955.666667</td>\n",
       "      <td>2005.666667</td>\n",
       "      <td>2073.500000</td>\n",
       "      <td>2013</td>\n",
       "    </tr>\n",
       "    <tr>\n",
       "      <td>1</td>\n",
       "      <td>77494</td>\n",
       "      <td>1786.833333</td>\n",
       "      <td>1956.833333</td>\n",
       "      <td>1921.916667</td>\n",
       "      <td>2013</td>\n",
       "    </tr>\n",
       "    <tr>\n",
       "      <td>2</td>\n",
       "      <td>60614</td>\n",
       "      <td>2148.000000</td>\n",
       "      <td>2202.583333</td>\n",
       "      <td>2271.000000</td>\n",
       "      <td>2013</td>\n",
       "    </tr>\n",
       "    <tr>\n",
       "      <td>3</td>\n",
       "      <td>77449</td>\n",
       "      <td>1251.166667</td>\n",
       "      <td>1361.083333</td>\n",
       "      <td>1424.000000</td>\n",
       "      <td>2013</td>\n",
       "    </tr>\n",
       "    <tr>\n",
       "      <td>4</td>\n",
       "      <td>77084</td>\n",
       "      <td>1205.916667</td>\n",
       "      <td>1327.916667</td>\n",
       "      <td>1417.166667</td>\n",
       "      <td>2013</td>\n",
       "    </tr>\n",
       "    <tr>\n",
       "      <td>...</td>\n",
       "      <td>...</td>\n",
       "      <td>...</td>\n",
       "      <td>...</td>\n",
       "      <td>...</td>\n",
       "      <td>...</td>\n",
       "    </tr>\n",
       "    <tr>\n",
       "      <td>12043</td>\n",
       "      <td>26291</td>\n",
       "      <td>1021.583333</td>\n",
       "      <td>949.666667</td>\n",
       "      <td>918.416667</td>\n",
       "      <td>2016</td>\n",
       "    </tr>\n",
       "    <tr>\n",
       "      <td>12044</td>\n",
       "      <td>12720</td>\n",
       "      <td>1196.500000</td>\n",
       "      <td>1181.416667</td>\n",
       "      <td>1261.250000</td>\n",
       "      <td>2016</td>\n",
       "    </tr>\n",
       "    <tr>\n",
       "      <td>12045</td>\n",
       "      <td>26209</td>\n",
       "      <td>732.666667</td>\n",
       "      <td>762.666667</td>\n",
       "      <td>765.083333</td>\n",
       "      <td>2016</td>\n",
       "    </tr>\n",
       "    <tr>\n",
       "      <td>12046</td>\n",
       "      <td>41101</td>\n",
       "      <td>865.083333</td>\n",
       "      <td>851.666667</td>\n",
       "      <td>855.916667</td>\n",
       "      <td>2016</td>\n",
       "    </tr>\n",
       "    <tr>\n",
       "      <td>12047</td>\n",
       "      <td>89155</td>\n",
       "      <td>1254.416667</td>\n",
       "      <td>1277.583333</td>\n",
       "      <td>1299.333333</td>\n",
       "      <td>2016</td>\n",
       "    </tr>\n",
       "  </tbody>\n",
       "</table>\n",
       "<p>45501 rows × 5 columns</p>\n",
       "</div>"
      ],
      "text/plain": [
       "         zip       zri_3y       zri_2y       zri_1y  year\n",
       "0      60657  1955.666667  2005.666667  2073.500000  2013\n",
       "1      77494  1786.833333  1956.833333  1921.916667  2013\n",
       "2      60614  2148.000000  2202.583333  2271.000000  2013\n",
       "3      77449  1251.166667  1361.083333  1424.000000  2013\n",
       "4      77084  1205.916667  1327.916667  1417.166667  2013\n",
       "...      ...          ...          ...          ...   ...\n",
       "12043  26291  1021.583333   949.666667   918.416667  2016\n",
       "12044  12720  1196.500000  1181.416667  1261.250000  2016\n",
       "12045  26209   732.666667   762.666667   765.083333  2016\n",
       "12046  41101   865.083333   851.666667   855.916667  2016\n",
       "12047  89155  1254.416667  1277.583333  1299.333333  2016\n",
       "\n",
       "[45501 rows x 5 columns]"
      ]
     },
     "execution_count": 1764,
     "metadata": {},
     "output_type": "execute_result"
    }
   ],
   "source": [
    "zillow_train = pd.concat([zri_train_2013,zri_train_2014, zri_train_2015, zri_train_2016])\n",
    "\n",
    "\n",
    "zillow_train"
   ]
  },
  {
   "cell_type": "code",
   "execution_count": 1765,
   "metadata": {},
   "outputs": [],
   "source": [
    "total = zillow_train.merge(census, how = 'inner', on = ['zip','year']).merge(zillow_mean, how = 'inner', on = ['zip','year'])\n",
    "\n"
   ]
  },
  {
   "cell_type": "code",
   "execution_count": 1766,
   "metadata": {},
   "outputs": [],
   "source": [
    "total = total.dropna(axis = 0).sort_values(['zip','year'])"
   ]
  },
  {
   "cell_type": "code",
   "execution_count": 1767,
   "metadata": {},
   "outputs": [
    {
     "data": {
      "text/html": [
       "<div>\n",
       "<style scoped>\n",
       "    .dataframe tbody tr th:only-of-type {\n",
       "        vertical-align: middle;\n",
       "    }\n",
       "\n",
       "    .dataframe tbody tr th {\n",
       "        vertical-align: top;\n",
       "    }\n",
       "\n",
       "    .dataframe thead th {\n",
       "        text-align: right;\n",
       "    }\n",
       "</style>\n",
       "<table border=\"1\" class=\"dataframe\">\n",
       "  <thead>\n",
       "    <tr style=\"text-align: right;\">\n",
       "      <th></th>\n",
       "      <th>zip</th>\n",
       "      <th>zri_3y</th>\n",
       "      <th>zri_2y</th>\n",
       "      <th>zri_1y</th>\n",
       "      <th>year</th>\n",
       "      <th>pop_in_labor_force_3y</th>\n",
       "      <th>population_3_years_over_3y</th>\n",
       "      <th>female_65_to_66_3y</th>\n",
       "      <th>rent_10_to_15_percent_3y</th>\n",
       "      <th>family_households_3y</th>\n",
       "      <th>...</th>\n",
       "      <th>male_18_to_19_5y</th>\n",
       "      <th>occupation_sales_office_5y</th>\n",
       "      <th>two_or_more_races_pop_5y</th>\n",
       "      <th>owner_occupied_housing_units_lower_value_quartile_5y</th>\n",
       "      <th>income_per_capita_5y</th>\n",
       "      <th>female_22_to_24_5y</th>\n",
       "      <th>rent_over_50_percent_5y</th>\n",
       "      <th>poverty_5y</th>\n",
       "      <th>households_retirement_income_5y</th>\n",
       "      <th>ZRI+3</th>\n",
       "    </tr>\n",
       "  </thead>\n",
       "  <tbody>\n",
       "    <tr>\n",
       "      <td>5302</td>\n",
       "      <td>1001</td>\n",
       "      <td>1196.583333</td>\n",
       "      <td>1226.583333</td>\n",
       "      <td>1333.583333</td>\n",
       "      <td>2013</td>\n",
       "      <td>9607</td>\n",
       "      <td>16771</td>\n",
       "      <td>139</td>\n",
       "      <td>214</td>\n",
       "      <td>4085</td>\n",
       "      <td>...</td>\n",
       "      <td>195</td>\n",
       "      <td>2478</td>\n",
       "      <td>132</td>\n",
       "      <td>174200.0</td>\n",
       "      <td>28931.0</td>\n",
       "      <td>265</td>\n",
       "      <td>405</td>\n",
       "      <td>1428</td>\n",
       "      <td>1319</td>\n",
       "      <td>1380.166667</td>\n",
       "    </tr>\n",
       "    <tr>\n",
       "      <td>15153</td>\n",
       "      <td>1001</td>\n",
       "      <td>1226.583333</td>\n",
       "      <td>1333.583333</td>\n",
       "      <td>1380.166667</td>\n",
       "      <td>2014</td>\n",
       "      <td>9556</td>\n",
       "      <td>16635</td>\n",
       "      <td>161</td>\n",
       "      <td>198</td>\n",
       "      <td>4168</td>\n",
       "      <td>...</td>\n",
       "      <td>264</td>\n",
       "      <td>2499</td>\n",
       "      <td>146</td>\n",
       "      <td>169400.0</td>\n",
       "      <td>29158.0</td>\n",
       "      <td>307</td>\n",
       "      <td>382</td>\n",
       "      <td>1251</td>\n",
       "      <td>1347</td>\n",
       "      <td>1421.833333</td>\n",
       "    </tr>\n",
       "    <tr>\n",
       "      <td>25004</td>\n",
       "      <td>1001</td>\n",
       "      <td>1333.583333</td>\n",
       "      <td>1380.166667</td>\n",
       "      <td>1421.833333</td>\n",
       "      <td>2015</td>\n",
       "      <td>9600</td>\n",
       "      <td>16962</td>\n",
       "      <td>143</td>\n",
       "      <td>219</td>\n",
       "      <td>4080</td>\n",
       "      <td>...</td>\n",
       "      <td>161</td>\n",
       "      <td>2511</td>\n",
       "      <td>119</td>\n",
       "      <td>166400.0</td>\n",
       "      <td>28457.0</td>\n",
       "      <td>431</td>\n",
       "      <td>550</td>\n",
       "      <td>1537</td>\n",
       "      <td>1285</td>\n",
       "      <td>1338.500000</td>\n",
       "    </tr>\n",
       "    <tr>\n",
       "      <td>34855</td>\n",
       "      <td>1001</td>\n",
       "      <td>1380.166667</td>\n",
       "      <td>1421.833333</td>\n",
       "      <td>1338.500000</td>\n",
       "      <td>2016</td>\n",
       "      <td>9211</td>\n",
       "      <td>17029</td>\n",
       "      <td>260</td>\n",
       "      <td>169</td>\n",
       "      <td>3943</td>\n",
       "      <td>...</td>\n",
       "      <td>159</td>\n",
       "      <td>2367</td>\n",
       "      <td>133</td>\n",
       "      <td>167500.0</td>\n",
       "      <td>29444.0</td>\n",
       "      <td>415</td>\n",
       "      <td>600</td>\n",
       "      <td>1390</td>\n",
       "      <td>1240</td>\n",
       "      <td>1362.416667</td>\n",
       "    </tr>\n",
       "    <tr>\n",
       "      <td>38744</td>\n",
       "      <td>1005</td>\n",
       "      <td>1268.833333</td>\n",
       "      <td>1282.833333</td>\n",
       "      <td>1282.833333</td>\n",
       "      <td>2016</td>\n",
       "      <td>2988</td>\n",
       "      <td>5156</td>\n",
       "      <td>94</td>\n",
       "      <td>16</td>\n",
       "      <td>1150</td>\n",
       "      <td>...</td>\n",
       "      <td>104</td>\n",
       "      <td>625</td>\n",
       "      <td>1</td>\n",
       "      <td>161700.0</td>\n",
       "      <td>29004.0</td>\n",
       "      <td>43</td>\n",
       "      <td>65</td>\n",
       "      <td>224</td>\n",
       "      <td>280</td>\n",
       "      <td>1358.833333</td>\n",
       "    </tr>\n",
       "    <tr>\n",
       "      <td>...</td>\n",
       "      <td>...</td>\n",
       "      <td>...</td>\n",
       "      <td>...</td>\n",
       "      <td>...</td>\n",
       "      <td>...</td>\n",
       "      <td>...</td>\n",
       "      <td>...</td>\n",
       "      <td>...</td>\n",
       "      <td>...</td>\n",
       "      <td>...</td>\n",
       "      <td>...</td>\n",
       "      <td>...</td>\n",
       "      <td>...</td>\n",
       "      <td>...</td>\n",
       "      <td>...</td>\n",
       "      <td>...</td>\n",
       "      <td>...</td>\n",
       "      <td>...</td>\n",
       "      <td>...</td>\n",
       "      <td>...</td>\n",
       "      <td>...</td>\n",
       "    </tr>\n",
       "    <tr>\n",
       "      <td>35007</td>\n",
       "      <td>99701</td>\n",
       "      <td>1504.416667</td>\n",
       "      <td>1482.083333</td>\n",
       "      <td>1477.250000</td>\n",
       "      <td>2016</td>\n",
       "      <td>10452</td>\n",
       "      <td>17831</td>\n",
       "      <td>112</td>\n",
       "      <td>222</td>\n",
       "      <td>3807</td>\n",
       "      <td>...</td>\n",
       "      <td>214</td>\n",
       "      <td>2040</td>\n",
       "      <td>1680</td>\n",
       "      <td>132400.0</td>\n",
       "      <td>29907.0</td>\n",
       "      <td>416</td>\n",
       "      <td>956</td>\n",
       "      <td>2323</td>\n",
       "      <td>1589</td>\n",
       "      <td>1506.416667</td>\n",
       "    </tr>\n",
       "    <tr>\n",
       "      <td>4920</td>\n",
       "      <td>99705</td>\n",
       "      <td>1411.916667</td>\n",
       "      <td>1348.000000</td>\n",
       "      <td>1479.750000</td>\n",
       "      <td>2013</td>\n",
       "      <td>13267</td>\n",
       "      <td>22794</td>\n",
       "      <td>157</td>\n",
       "      <td>90</td>\n",
       "      <td>5780</td>\n",
       "      <td>...</td>\n",
       "      <td>363</td>\n",
       "      <td>2442</td>\n",
       "      <td>1225</td>\n",
       "      <td>151400.0</td>\n",
       "      <td>30177.0</td>\n",
       "      <td>449</td>\n",
       "      <td>244</td>\n",
       "      <td>1226</td>\n",
       "      <td>1640</td>\n",
       "      <td>1502.666667</td>\n",
       "    </tr>\n",
       "    <tr>\n",
       "      <td>14771</td>\n",
       "      <td>99705</td>\n",
       "      <td>1348.000000</td>\n",
       "      <td>1479.750000</td>\n",
       "      <td>1502.666667</td>\n",
       "      <td>2014</td>\n",
       "      <td>13457</td>\n",
       "      <td>22948</td>\n",
       "      <td>178</td>\n",
       "      <td>143</td>\n",
       "      <td>5747</td>\n",
       "      <td>...</td>\n",
       "      <td>382</td>\n",
       "      <td>2676</td>\n",
       "      <td>1473</td>\n",
       "      <td>145500.0</td>\n",
       "      <td>30358.0</td>\n",
       "      <td>495</td>\n",
       "      <td>356</td>\n",
       "      <td>1180</td>\n",
       "      <td>1554</td>\n",
       "      <td>1474.750000</td>\n",
       "    </tr>\n",
       "    <tr>\n",
       "      <td>24622</td>\n",
       "      <td>99705</td>\n",
       "      <td>1479.750000</td>\n",
       "      <td>1502.666667</td>\n",
       "      <td>1474.750000</td>\n",
       "      <td>2015</td>\n",
       "      <td>13745</td>\n",
       "      <td>23095</td>\n",
       "      <td>87</td>\n",
       "      <td>125</td>\n",
       "      <td>5740</td>\n",
       "      <td>...</td>\n",
       "      <td>356</td>\n",
       "      <td>2473</td>\n",
       "      <td>1585</td>\n",
       "      <td>151000.0</td>\n",
       "      <td>30768.0</td>\n",
       "      <td>437</td>\n",
       "      <td>352</td>\n",
       "      <td>1328</td>\n",
       "      <td>1788</td>\n",
       "      <td>1479.583333</td>\n",
       "    </tr>\n",
       "    <tr>\n",
       "      <td>34473</td>\n",
       "      <td>99705</td>\n",
       "      <td>1502.666667</td>\n",
       "      <td>1474.750000</td>\n",
       "      <td>1479.583333</td>\n",
       "      <td>2016</td>\n",
       "      <td>13228</td>\n",
       "      <td>22116</td>\n",
       "      <td>137</td>\n",
       "      <td>100</td>\n",
       "      <td>5509</td>\n",
       "      <td>...</td>\n",
       "      <td>376</td>\n",
       "      <td>2522</td>\n",
       "      <td>2087</td>\n",
       "      <td>154300.0</td>\n",
       "      <td>30956.0</td>\n",
       "      <td>364</td>\n",
       "      <td>306</td>\n",
       "      <td>1247</td>\n",
       "      <td>1757</td>\n",
       "      <td>1510.166667</td>\n",
       "    </tr>\n",
       "  </tbody>\n",
       "</table>\n",
       "<p>36808 rows × 705 columns</p>\n",
       "</div>"
      ],
      "text/plain": [
       "         zip       zri_3y       zri_2y       zri_1y  year  \\\n",
       "5302    1001  1196.583333  1226.583333  1333.583333  2013   \n",
       "15153   1001  1226.583333  1333.583333  1380.166667  2014   \n",
       "25004   1001  1333.583333  1380.166667  1421.833333  2015   \n",
       "34855   1001  1380.166667  1421.833333  1338.500000  2016   \n",
       "38744   1005  1268.833333  1282.833333  1282.833333  2016   \n",
       "...      ...          ...          ...          ...   ...   \n",
       "35007  99701  1504.416667  1482.083333  1477.250000  2016   \n",
       "4920   99705  1411.916667  1348.000000  1479.750000  2013   \n",
       "14771  99705  1348.000000  1479.750000  1502.666667  2014   \n",
       "24622  99705  1479.750000  1502.666667  1474.750000  2015   \n",
       "34473  99705  1502.666667  1474.750000  1479.583333  2016   \n",
       "\n",
       "       pop_in_labor_force_3y  population_3_years_over_3y  female_65_to_66_3y  \\\n",
       "5302                    9607                       16771                 139   \n",
       "15153                   9556                       16635                 161   \n",
       "25004                   9600                       16962                 143   \n",
       "34855                   9211                       17029                 260   \n",
       "38744                   2988                        5156                  94   \n",
       "...                      ...                         ...                 ...   \n",
       "35007                  10452                       17831                 112   \n",
       "4920                   13267                       22794                 157   \n",
       "14771                  13457                       22948                 178   \n",
       "24622                  13745                       23095                  87   \n",
       "34473                  13228                       22116                 137   \n",
       "\n",
       "       rent_10_to_15_percent_3y  family_households_3y  ...  male_18_to_19_5y  \\\n",
       "5302                        214                  4085  ...               195   \n",
       "15153                       198                  4168  ...               264   \n",
       "25004                       219                  4080  ...               161   \n",
       "34855                       169                  3943  ...               159   \n",
       "38744                        16                  1150  ...               104   \n",
       "...                         ...                   ...  ...               ...   \n",
       "35007                       222                  3807  ...               214   \n",
       "4920                         90                  5780  ...               363   \n",
       "14771                       143                  5747  ...               382   \n",
       "24622                       125                  5740  ...               356   \n",
       "34473                       100                  5509  ...               376   \n",
       "\n",
       "       occupation_sales_office_5y  two_or_more_races_pop_5y  \\\n",
       "5302                         2478                       132   \n",
       "15153                        2499                       146   \n",
       "25004                        2511                       119   \n",
       "34855                        2367                       133   \n",
       "38744                         625                         1   \n",
       "...                           ...                       ...   \n",
       "35007                        2040                      1680   \n",
       "4920                         2442                      1225   \n",
       "14771                        2676                      1473   \n",
       "24622                        2473                      1585   \n",
       "34473                        2522                      2087   \n",
       "\n",
       "       owner_occupied_housing_units_lower_value_quartile_5y  \\\n",
       "5302                                            174200.0      \n",
       "15153                                           169400.0      \n",
       "25004                                           166400.0      \n",
       "34855                                           167500.0      \n",
       "38744                                           161700.0      \n",
       "...                                                  ...      \n",
       "35007                                           132400.0      \n",
       "4920                                            151400.0      \n",
       "14771                                           145500.0      \n",
       "24622                                           151000.0      \n",
       "34473                                           154300.0      \n",
       "\n",
       "       income_per_capita_5y  female_22_to_24_5y  rent_over_50_percent_5y  \\\n",
       "5302                28931.0                 265                      405   \n",
       "15153               29158.0                 307                      382   \n",
       "25004               28457.0                 431                      550   \n",
       "34855               29444.0                 415                      600   \n",
       "38744               29004.0                  43                       65   \n",
       "...                     ...                 ...                      ...   \n",
       "35007               29907.0                 416                      956   \n",
       "4920                30177.0                 449                      244   \n",
       "14771               30358.0                 495                      356   \n",
       "24622               30768.0                 437                      352   \n",
       "34473               30956.0                 364                      306   \n",
       "\n",
       "       poverty_5y  households_retirement_income_5y        ZRI+3  \n",
       "5302         1428                             1319  1380.166667  \n",
       "15153        1251                             1347  1421.833333  \n",
       "25004        1537                             1285  1338.500000  \n",
       "34855        1390                             1240  1362.416667  \n",
       "38744         224                              280  1358.833333  \n",
       "...           ...                              ...          ...  \n",
       "35007        2323                             1589  1506.416667  \n",
       "4920         1226                             1640  1502.666667  \n",
       "14771        1180                             1554  1474.750000  \n",
       "24622        1328                             1788  1479.583333  \n",
       "34473        1247                             1757  1510.166667  \n",
       "\n",
       "[36808 rows x 705 columns]"
      ]
     },
     "execution_count": 1767,
     "metadata": {},
     "output_type": "execute_result"
    }
   ],
   "source": [
    "total"
   ]
  },
  {
   "cell_type": "markdown",
   "metadata": {},
   "source": [
    "# Machine Learning"
   ]
  },
  {
   "cell_type": "markdown",
   "metadata": {},
   "source": [
    "## Baseline Model (just Zillow Rent Indexes from previous years)"
   ]
  },
  {
   "cell_type": "code",
   "execution_count": 1768,
   "metadata": {},
   "outputs": [],
   "source": [
    "base_train = zri_train_2015.merge(zillow_mean, how = 'inner', on = ['zip','year'])\n",
    "base_test = zri_train_2016.merge(zillow_mean, how = 'inner', on = ['zip','year'])"
   ]
  },
  {
   "cell_type": "code",
   "execution_count": 1769,
   "metadata": {},
   "outputs": [],
   "source": [
    "base_x_train = base_train.iloc[:,1:4]\n",
    "base_x_test = base_test.iloc[:,1:4]"
   ]
  },
  {
   "cell_type": "code",
   "execution_count": 1770,
   "metadata": {},
   "outputs": [],
   "source": [
    "base_y_train = base_train.iloc[:,5]\n",
    "base_y_test = base_test.iloc[:,5]"
   ]
  },
  {
   "cell_type": "markdown",
   "metadata": {},
   "source": [
    "### Log Everything"
   ]
  },
  {
   "cell_type": "code",
   "execution_count": 1771,
   "metadata": {},
   "outputs": [],
   "source": [
    "base_x_train = np.log(base_x_train+1)\n",
    "base_x_test = np.log(base_x_test+1)\n",
    "base_y_train = np.log(base_y_train)\n",
    "base_y_test = np.log(base_y_test)"
   ]
  },
  {
   "cell_type": "code",
   "execution_count": 1772,
   "metadata": {},
   "outputs": [],
   "source": [
    "base_model_ols = LinearRegression()\n",
    "base_model_lasso = Lasso()\n",
    "base_model_ridge = Ridge()\n",
    "base_model_gradient = GradientBoostingRegressor()"
   ]
  },
  {
   "cell_type": "code",
   "execution_count": 1773,
   "metadata": {},
   "outputs": [
    {
     "data": {
      "text/plain": [
       "GradientBoostingRegressor(alpha=0.9, criterion='friedman_mse', init=None,\n",
       "                          learning_rate=0.1, loss='ls', max_depth=3,\n",
       "                          max_features=None, max_leaf_nodes=None,\n",
       "                          min_impurity_decrease=0.0, min_impurity_split=None,\n",
       "                          min_samples_leaf=1, min_samples_split=2,\n",
       "                          min_weight_fraction_leaf=0.0, n_estimators=100,\n",
       "                          n_iter_no_change=None, presort='auto',\n",
       "                          random_state=None, subsample=1.0, tol=0.0001,\n",
       "                          validation_fraction=0.1, verbose=0, warm_start=False)"
      ]
     },
     "execution_count": 1773,
     "metadata": {},
     "output_type": "execute_result"
    }
   ],
   "source": [
    "base_model_ols.fit(base_x_train, base_y_train)\n",
    "base_model_lasso.fit(base_x_train, base_y_train)\n",
    "base_model_ridge.fit(base_x_train, base_y_train)\n",
    "base_model_gradient.fit(base_x_train, base_y_train)"
   ]
  },
  {
   "cell_type": "markdown",
   "metadata": {},
   "source": [
    "### Train Score"
   ]
  },
  {
   "cell_type": "code",
   "execution_count": 1774,
   "metadata": {},
   "outputs": [
    {
     "name": "stdout",
     "output_type": "stream",
     "text": [
      "Simple Linear Train Score: 0.9939\n",
      "Lasso Train Score: 0.0000\n",
      "Ridge Train Score: 0.9939\n",
      "Gradient Regressor Train Score: 0.9939\n"
     ]
    }
   ],
   "source": [
    "print('Simple Linear Train Score: %.4f'%model_ols.score(x_train, y_train))\n",
    "print('Lasso Train Score: %.4f'%model_lasso.score(x_train, y_train))\n",
    "print('Ridge Train Score: %.4f'%model_ridge.score(x_train, y_train))\n",
    "print('Gradient Regressor Train Score: %.4f'%model_gradient.score(x_train, y_train))"
   ]
  },
  {
   "cell_type": "markdown",
   "metadata": {},
   "source": [
    "### Test Score"
   ]
  },
  {
   "cell_type": "code",
   "execution_count": 1775,
   "metadata": {},
   "outputs": [
    {
     "name": "stdout",
     "output_type": "stream",
     "text": [
      "Simple Linear Test Score: 0.9921\n",
      "Lasso Test Score: -0.0007\n",
      "Ridge Test Score: 0.9919\n",
      "Gradient Regressor Test Score: 0.9917\n"
     ]
    }
   ],
   "source": [
    "print('Simple Linear Test Score: %.4f'%base_model_ols.score(base_x_test, base_y_test))\n",
    "print('Lasso Test Score: %.4f'%base_model_lasso.score(base_x_test, base_y_test))\n",
    "print('Ridge Test Score: %.4f'%base_model_ridge.score(base_x_test, base_y_test))\n",
    "print('Gradient Regressor Test Score: %.4f'%base_model_gradient.score(base_x_test, base_y_test))"
   ]
  },
  {
   "cell_type": "markdown",
   "metadata": {},
   "source": [
    "### RMSE Score"
   ]
  },
  {
   "cell_type": "code",
   "execution_count": 2051,
   "metadata": {},
   "outputs": [
    {
     "name": "stdout",
     "output_type": "stream",
     "text": [
      "Simple Linear RMSE Score: 48.93983\n",
      "Lasso RMSE Score: 610.14751\n",
      "Ridge RMSE Score: 49.25927\n",
      "Gradient Regressor RMSE Score: 51.05961\n"
     ]
    }
   ],
   "source": [
    "print('Simple Linear RMSE Score: %.5f' % sqrt(mean_squared_error(np.exp(base_model_ols.predict(base_x_test)), np.exp(base_y_test))))\n",
    "print('Lasso RMSE Score: %.5f' % sqrt(mean_squared_error(np.exp(base_model_lasso.predict(base_x_test)), np.exp(base_y_test))))\n",
    "print('Ridge RMSE Score: %.5f' % sqrt(mean_squared_error(np.exp(base_model_ridge.predict(base_x_test)), np.exp(base_y_test))))\n",
    "print('Gradient Regressor RMSE Score: %.5f' % sqrt(mean_squared_error(np.exp(base_model_gradient.predict(base_x_test)), np.exp(base_y_test))))\n"
   ]
  },
  {
   "cell_type": "markdown",
   "metadata": {},
   "source": [
    "### Prediction Accuracy"
   ]
  },
  {
   "cell_type": "code",
   "execution_count": 1782,
   "metadata": {},
   "outputs": [
    {
     "name": "stdout",
     "output_type": "stream",
     "text": [
      "Average Prediction Accuracy: 97.61 percent\n"
     ]
    }
   ],
   "source": [
    "base_pred = pd.Series(np.exp(base_model_ols.predict(base_x_test)), index = base_y_test.index)\n",
    "print(\"Average Prediction Accuracy: %.2f percent\" %((1 - np.abs(np.exp(base_y_test)/base_pred-1)).mean() * 100))"
   ]
  },
  {
   "cell_type": "markdown",
   "metadata": {},
   "source": [
    "## Census Model"
   ]
  },
  {
   "cell_type": "code",
   "execution_count": 1790,
   "metadata": {},
   "outputs": [
    {
     "name": "stderr",
     "output_type": "stream",
     "text": [
      "/opt/anaconda3/lib/python3.7/site-packages/ipykernel_launcher.py:2: SettingWithCopyWarning: \n",
      "A value is trying to be set on a copy of a slice from a DataFrame.\n",
      "Try using .loc[row_indexer,col_indexer] = value instead\n",
      "\n",
      "See the caveats in the documentation: http://pandas.pydata.org/pandas-docs/stable/user_guide/indexing.html#returning-a-view-versus-a-copy\n",
      "  \n",
      "/opt/anaconda3/lib/python3.7/site-packages/ipykernel_launcher.py:3: SettingWithCopyWarning: \n",
      "A value is trying to be set on a copy of a slice from a DataFrame.\n",
      "Try using .loc[row_indexer,col_indexer] = value instead\n",
      "\n",
      "See the caveats in the documentation: http://pandas.pydata.org/pandas-docs/stable/user_guide/indexing.html#returning-a-view-versus-a-copy\n",
      "  This is separate from the ipykernel package so we can avoid doing imports until\n"
     ]
    }
   ],
   "source": [
    "train = total[total['year'] != '2016']\n",
    "train['zip'] = [str(i) for i in train.zip]\n",
    "train['zip_year'] = train.zip + '_' + train.year\n",
    "train = train.drop(['zip','year'], axis = 1).set_index('zip_year')"
   ]
  },
  {
   "cell_type": "code",
   "execution_count": 1791,
   "metadata": {},
   "outputs": [
    {
     "name": "stderr",
     "output_type": "stream",
     "text": [
      "/opt/anaconda3/lib/python3.7/site-packages/ipykernel_launcher.py:2: SettingWithCopyWarning: \n",
      "A value is trying to be set on a copy of a slice from a DataFrame.\n",
      "Try using .loc[row_indexer,col_indexer] = value instead\n",
      "\n",
      "See the caveats in the documentation: http://pandas.pydata.org/pandas-docs/stable/user_guide/indexing.html#returning-a-view-versus-a-copy\n",
      "  \n",
      "/opt/anaconda3/lib/python3.7/site-packages/ipykernel_launcher.py:3: SettingWithCopyWarning: \n",
      "A value is trying to be set on a copy of a slice from a DataFrame.\n",
      "Try using .loc[row_indexer,col_indexer] = value instead\n",
      "\n",
      "See the caveats in the documentation: http://pandas.pydata.org/pandas-docs/stable/user_guide/indexing.html#returning-a-view-versus-a-copy\n",
      "  This is separate from the ipykernel package so we can avoid doing imports until\n"
     ]
    }
   ],
   "source": [
    "test = total[total['year'] == '2016']\n",
    "test['zip'] = [str(i) for i in test.zip]\n",
    "test['zip_year'] = test.zip + '_' + test.year\n",
    "test = test.drop(['zip','year'], axis = 1).set_index('zip_year')"
   ]
  },
  {
   "cell_type": "code",
   "execution_count": 1792,
   "metadata": {},
   "outputs": [],
   "source": [
    "x_train = train.iloc[:,:-1]\n",
    "y_train = train.iloc[:,-1]"
   ]
  },
  {
   "cell_type": "code",
   "execution_count": 1793,
   "metadata": {},
   "outputs": [],
   "source": [
    "x_test = test.iloc[:,:-1]\n",
    "y_test = test.iloc[:,-1]"
   ]
  },
  {
   "cell_type": "markdown",
   "metadata": {},
   "source": [
    "### Log Everything"
   ]
  },
  {
   "cell_type": "code",
   "execution_count": 1794,
   "metadata": {},
   "outputs": [],
   "source": [
    "x_train = np.log(x_train+1)\n",
    "x_test = np.log(x_test+1)\n",
    "y_train = np.log(y_train)\n",
    "y_test = np.log(y_test)"
   ]
  },
  {
   "cell_type": "code",
   "execution_count": 1795,
   "metadata": {},
   "outputs": [],
   "source": [
    "model_ols = LinearRegression()\n",
    "model_lasso = Lasso()\n",
    "model_ridge = Ridge()\n",
    "model_gradient = GradientBoostingRegressor()"
   ]
  },
  {
   "cell_type": "code",
   "execution_count": 1796,
   "metadata": {},
   "outputs": [
    {
     "data": {
      "text/plain": [
       "GradientBoostingRegressor(alpha=0.9, criterion='friedman_mse', init=None,\n",
       "                          learning_rate=0.1, loss='ls', max_depth=3,\n",
       "                          max_features=None, max_leaf_nodes=None,\n",
       "                          min_impurity_decrease=0.0, min_impurity_split=None,\n",
       "                          min_samples_leaf=1, min_samples_split=2,\n",
       "                          min_weight_fraction_leaf=0.0, n_estimators=100,\n",
       "                          n_iter_no_change=None, presort='auto',\n",
       "                          random_state=None, subsample=1.0, tol=0.0001,\n",
       "                          validation_fraction=0.1, verbose=0, warm_start=False)"
      ]
     },
     "execution_count": 1796,
     "metadata": {},
     "output_type": "execute_result"
    }
   ],
   "source": [
    "model_ols.fit(x_train, y_train)\n",
    "model_lasso.fit(x_train, y_train)\n",
    "model_ridge.fit(x_train, y_train)\n",
    "model_gradient.fit(x_train, y_train)"
   ]
  },
  {
   "cell_type": "markdown",
   "metadata": {},
   "source": [
    "### Train Score"
   ]
  },
  {
   "cell_type": "code",
   "execution_count": 1799,
   "metadata": {},
   "outputs": [
    {
     "name": "stdout",
     "output_type": "stream",
     "text": [
      "Simple Linear Train Score: 0.9939\n",
      "Lasso Train Score: 0.0000\n",
      "Ridge Train Score: 0.9939\n",
      "Gradient Regressor Train Score: 0.9939\n"
     ]
    }
   ],
   "source": [
    "print('Simple Linear Train Score: %.4f'%model_ols.score(x_train, y_train))\n",
    "print('Lasso Train Score: %.4f'%model_lasso.score(x_train, y_train))\n",
    "print('Ridge Train Score: %.4f'%model_ridge.score(x_train, y_train))\n",
    "print('Gradient Regressor Train Score: %.4f'%model_gradient.score(x_train, y_train))"
   ]
  },
  {
   "cell_type": "markdown",
   "metadata": {},
   "source": [
    "### Test Score"
   ]
  },
  {
   "cell_type": "code",
   "execution_count": 1807,
   "metadata": {},
   "outputs": [
    {
     "name": "stdout",
     "output_type": "stream",
     "text": [
      "Simple Linear Test Score: 0.9922\n",
      "Lasso Test Score: -0.0030\n",
      "Ridge Test Score: 0.9920\n",
      "Gradient Regressor Test Score: 0.9916\n"
     ]
    }
   ],
   "source": [
    "print('Simple Linear Test Score: %.4f'%model_ols.score(x_test, y_test))\n",
    "print('Lasso Test Score: %.4f'%model_lasso.score(x_test, y_test))\n",
    "print('Ridge Test Score: %.4f'%model_ridge.score(x_test, y_test))\n",
    "print('Gradient Regressor Test Score: %.4f'%model_gradient.score(x_test, y_test))"
   ]
  },
  {
   "cell_type": "markdown",
   "metadata": {},
   "source": [
    "### RMSE"
   ]
  },
  {
   "cell_type": "code",
   "execution_count": 1810,
   "metadata": {},
   "outputs": [
    {
     "name": "stdout",
     "output_type": "stream",
     "text": [
      "Simple Linear Kaggle Score: 50.41683\n",
      "Lasso Kaggle Score: 613.52357\n",
      "Ridge Kaggle Score: 51.26327\n",
      "Gradient Regressor Kaggle Score: 50.41806\n"
     ]
    }
   ],
   "source": [
    "print('Simple Linear RMSE Score: %.5f' % sqrt(mean_squared_error(np.exp(model_ols.predict(x_test)), np.exp(y_test))))\n",
    "print('Lasso RMSE Score: %.5f' % sqrt(mean_squared_error(np.exp(model_lasso.predict(x_test)), np.exp(y_test))))\n",
    "print('Ridge RMSE Score: %.5f' % sqrt(mean_squared_error(np.exp(model_ridge.predict(x_test)), np.exp(y_test))))\n",
    "print('Gradient Regressor RMSE Score: %.5f' % sqrt(mean_squared_error(np.exp(model_gradient.predict(x_test)), np.exp(y_test))))\n",
    "\n"
   ]
  },
  {
   "cell_type": "markdown",
   "metadata": {},
   "source": [
    "### Prediction Accuracy"
   ]
  },
  {
   "cell_type": "code",
   "execution_count": 1159,
   "metadata": {},
   "outputs": [],
   "source": [
    "pred = pd.Series(np.exp(model_ols.predict(x_test)), index = y_test.index)"
   ]
  },
  {
   "cell_type": "code",
   "execution_count": 1160,
   "metadata": {},
   "outputs": [
    {
     "name": "stdout",
     "output_type": "stream",
     "text": [
      "Average Prediction Accuracy: 97.61 percent\n"
     ]
    }
   ],
   "source": [
    "print(\"Average Prediction Accuracy: %.2f percent\" %((1 - np.abs(np.exp(y_test)/pred-1)).mean() * 100))"
   ]
  },
  {
   "cell_type": "markdown",
   "metadata": {},
   "source": [
    "## Feature Importance"
   ]
  },
  {
   "cell_type": "code",
   "execution_count": 1538,
   "metadata": {},
   "outputs": [
    {
     "data": {
      "text/plain": [
       "[('zri_1y', 0.995481160485091),\n",
       " ('owner_occupied_housing_units_median_value_5y', 0.001247875699917967),\n",
       " ('owner_occupied_housing_units_upper_value_quartile_5y',\n",
       "  0.0011228900236242877),\n",
       " ('median_rent_5y', 0.00035347260452484237),\n",
       " ('median_rent_4y', 0.00026191308554064245),\n",
       " ('housing_built_2005_or_later_5y', 0.00023572833615591034),\n",
       " ('median_rent_3y', 0.00017116410379575337),\n",
       " ('housing_built_2005_or_later_4y', 0.0001508354983443681),\n",
       " ('income_per_capita_3y', 0.000112765257431231),\n",
       " ('percent_income_spent_on_rent_3y', 7.782620983487537e-05)]"
      ]
     },
     "execution_count": 1538,
     "metadata": {},
     "output_type": "execute_result"
    }
   ],
   "source": [
    "top_features = sorted(list(zip(x_train, model_gradient.feature_importances_)), key = lambda x: x[1], reverse = True)[0:10]\n",
    "\n",
    "top_features"
   ]
  },
  {
   "cell_type": "markdown",
   "metadata": {},
   "source": [
    "## Model With Just Top Features Census"
   ]
  },
  {
   "cell_type": "code",
   "execution_count": 1811,
   "metadata": {},
   "outputs": [],
   "source": [
    "top_x_train = x_train[[i[0] for i in top_features] + ['zri_2y'] + ['zri_3y']]\n",
    "top_x_test = x_test[[i[0] for i in top_features] + ['zri_2y'] + ['zri_3y']]"
   ]
  },
  {
   "cell_type": "code",
   "execution_count": 1812,
   "metadata": {},
   "outputs": [],
   "source": [
    "top_y_train = y_train.copy()\n",
    "top_y_test = y_test.copy()"
   ]
  },
  {
   "cell_type": "code",
   "execution_count": 1813,
   "metadata": {},
   "outputs": [
    {
     "data": {
      "text/plain": [
       "GradientBoostingRegressor(alpha=0.9, criterion='friedman_mse', init=None,\n",
       "                          learning_rate=0.1, loss='ls', max_depth=3,\n",
       "                          max_features=None, max_leaf_nodes=None,\n",
       "                          min_impurity_decrease=0.0, min_impurity_split=None,\n",
       "                          min_samples_leaf=1, min_samples_split=2,\n",
       "                          min_weight_fraction_leaf=0.0, n_estimators=100,\n",
       "                          n_iter_no_change=None, presort='auto',\n",
       "                          random_state=None, subsample=1.0, tol=0.0001,\n",
       "                          validation_fraction=0.1, verbose=0, warm_start=False)"
      ]
     },
     "execution_count": 1813,
     "metadata": {},
     "output_type": "execute_result"
    }
   ],
   "source": [
    "top_model_ols = LinearRegression()\n",
    "top_model_lasso = Lasso()\n",
    "top_model_ridge = Ridge()\n",
    "top_model_gradient = GradientBoostingRegressor()\n",
    "\n",
    "top_model_ols.fit(top_x_train, top_y_train)\n",
    "top_model_lasso.fit(top_x_train, top_y_train)\n",
    "top_model_ridge.fit(top_x_train, top_y_train)\n",
    "top_model_gradient.fit(top_x_train, top_y_train)"
   ]
  },
  {
   "cell_type": "markdown",
   "metadata": {},
   "source": [
    "### Train Score"
   ]
  },
  {
   "cell_type": "code",
   "execution_count": 1814,
   "metadata": {},
   "outputs": [
    {
     "name": "stdout",
     "output_type": "stream",
     "text": [
      "Simple Linear Train Score: 0.9934\n",
      "Lasso Train Score: 0.0000\n",
      "Ridge Train Score: 0.9934\n",
      "Gradient Regressor Train Score: 0.9936\n"
     ]
    }
   ],
   "source": [
    "print('Simple Linear Train Score: %.4f'%top_model_ols.score(top_x_train, top_y_train))\n",
    "print('Lasso Train Score: %.4f'%top_model_lasso.score(top_x_train, top_y_train))\n",
    "print('Ridge Train Score: %.4f'%top_model_ridge.score(top_x_train, top_y_train))\n",
    "print('Gradient Regressor Train Score: %.4f'%top_model_gradient.score(top_x_train, top_y_train))"
   ]
  },
  {
   "cell_type": "markdown",
   "metadata": {},
   "source": [
    "### Test Score"
   ]
  },
  {
   "cell_type": "code",
   "execution_count": 1815,
   "metadata": {},
   "outputs": [
    {
     "name": "stdout",
     "output_type": "stream",
     "text": [
      "Simple Linear Test Score: 0.9923\n",
      "Lasso Test Score: -0.0030\n",
      "Ridge Test Score: 0.9922\n",
      "Gradient Regressor Test Score: 0.9915\n"
     ]
    }
   ],
   "source": [
    "print('Simple Linear Test Score: %.4f'%top_model_ols.score(top_x_test, top_y_test))\n",
    "print('Lasso Test Score: %.4f'%top_model_lasso.score(top_x_test, top_y_test))\n",
    "print('Ridge Test Score: %.4f'%top_model_ridge.score(top_x_test, top_y_test))\n",
    "print('Gradient Regressor Test Score: %.4f'%top_model_gradient.score(top_x_test, top_y_test))"
   ]
  },
  {
   "cell_type": "markdown",
   "metadata": {},
   "source": [
    "### RMSE Score"
   ]
  },
  {
   "cell_type": "code",
   "execution_count": 1913,
   "metadata": {},
   "outputs": [
    {
     "name": "stdout",
     "output_type": "stream",
     "text": [
      "Simple Linear RMSE Score: 47.63700\n",
      "Lasso RMSE Score: 613.52357\n",
      "Ridge RMSE Score: 47.84701\n",
      "Gradient Regressor RMSE Score: 50.50655\n"
     ]
    }
   ],
   "source": [
    "print('Simple Linear RMSE Score: %.5f' % sqrt(mean_squared_error(np.exp(top_model_ols.predict(top_x_test)), np.exp(top_y_test))))\n",
    "print('Lasso RMSE Score: %.5f' % sqrt(mean_squared_error(np.exp(top_model_lasso.predict(top_x_test)), np.exp(top_y_test))))\n",
    "print('Ridge RMSE Score: %.5f' % sqrt(mean_squared_error(np.exp(top_model_ridge.predict(top_x_test)), np.exp(top_y_test))))\n",
    "print('Gradient Regressor RMSE Score: %.5f' % sqrt(mean_squared_error(np.exp(top_model_gradient.predict(top_x_test)), np.exp(top_y_test))))\n",
    "\n"
   ]
  },
  {
   "cell_type": "markdown",
   "metadata": {},
   "source": [
    "### Prediction Accuracy"
   ]
  },
  {
   "cell_type": "code",
   "execution_count": 1820,
   "metadata": {},
   "outputs": [
    {
     "name": "stdout",
     "output_type": "stream",
     "text": [
      "Average Prediction Accuracy: 97.64 percent\n"
     ]
    }
   ],
   "source": [
    "top_pred = pd.Series(np.exp(top_model_ols.predict(top_x_test)), index = top_y_test.index)\n",
    "print(\"Average Prediction Accuracy: %.2f percent\" %((1 - np.abs(np.exp(top_y_test)/top_pred-1)).mean() * 100))"
   ]
  },
  {
   "cell_type": "markdown",
   "metadata": {},
   "source": [
    "## Try deleting older data (2011 and 2012)"
   ]
  },
  {
   "cell_type": "code",
   "execution_count": 1169,
   "metadata": {},
   "outputs": [],
   "source": [
    "new_train = total[total['year'] == '2015'].drop(['zip','year'], axis = 1)\n",
    "new_test = total[total['year'] == '2016'].drop(['zip','year'], axis = 1)"
   ]
  },
  {
   "cell_type": "code",
   "execution_count": 1170,
   "metadata": {},
   "outputs": [],
   "source": [
    "new_x_train = new_train.iloc[:,:-1]\n",
    "new_x_test = new_test.iloc[:,:-1]\n",
    "\n",
    "new_y_train = new_train.iloc[:,-1]\n",
    "new_y_test = new_test.iloc[:,-1]"
   ]
  },
  {
   "cell_type": "markdown",
   "metadata": {},
   "source": [
    "### Log Everything"
   ]
  },
  {
   "cell_type": "code",
   "execution_count": 1171,
   "metadata": {},
   "outputs": [],
   "source": [
    "new_x_train = np.log(new_x_train+1)\n",
    "new_x_test = np.log(new_x_test+1)\n",
    "new_y_train = np.log(new_y_train)\n",
    "new_y_test = np.log(new_y_test)"
   ]
  },
  {
   "cell_type": "code",
   "execution_count": 1172,
   "metadata": {},
   "outputs": [
    {
     "data": {
      "text/plain": [
       "GradientBoostingRegressor(alpha=0.9, criterion='friedman_mse', init=None,\n",
       "                          learning_rate=0.1, loss='ls', max_depth=3,\n",
       "                          max_features=None, max_leaf_nodes=None,\n",
       "                          min_impurity_decrease=0.0, min_impurity_split=None,\n",
       "                          min_samples_leaf=1, min_samples_split=2,\n",
       "                          min_weight_fraction_leaf=0.0, n_estimators=100,\n",
       "                          n_iter_no_change=None, presort='auto',\n",
       "                          random_state=None, subsample=1.0, tol=0.0001,\n",
       "                          validation_fraction=0.1, verbose=0, warm_start=False)"
      ]
     },
     "execution_count": 1172,
     "metadata": {},
     "output_type": "execute_result"
    }
   ],
   "source": [
    "new_model_ols = LinearRegression()\n",
    "new_model_lasso = Lasso()\n",
    "new_model_ridge = Ridge()\n",
    "new_model_gradient = GradientBoostingRegressor()\n",
    "\n",
    "new_model_ols.fit(new_x_train, new_y_train)\n",
    "new_model_lasso.fit(new_x_train, new_y_train)\n",
    "new_model_ridge.fit(new_x_train, new_y_train)\n",
    "new_model_gradient.fit(new_x_train, new_y_train)"
   ]
  },
  {
   "cell_type": "markdown",
   "metadata": {},
   "source": [
    "### Train Score"
   ]
  },
  {
   "cell_type": "code",
   "execution_count": 1173,
   "metadata": {},
   "outputs": [
    {
     "name": "stdout",
     "output_type": "stream",
     "text": [
      "Simple Linear Train Score: 0.9951\n",
      "Lasso Train Score: 0.0000\n",
      "Ridge Train Score: 0.9949\n",
      "Gradient Regressor Train Score: 0.9953\n"
     ]
    }
   ],
   "source": [
    "print('Simple Linear Train Score: %.4f'%new_model_ols.score(new_x_train, new_y_train))\n",
    "print('Lasso Train Score: %.4f'%new_model_lasso.score(new_x_train, new_y_train))\n",
    "print('Ridge Train Score: %.4f'%new_model_ridge.score(new_x_train, new_y_train))\n",
    "print('Gradient Regressor Train Score: %.4f'%new_model_gradient.score(new_x_train, new_y_train))"
   ]
  },
  {
   "cell_type": "markdown",
   "metadata": {},
   "source": [
    "### Test Score"
   ]
  },
  {
   "cell_type": "code",
   "execution_count": 1174,
   "metadata": {},
   "outputs": [
    {
     "name": "stdout",
     "output_type": "stream",
     "text": [
      "Simple Linear Test Score: 0.9917\n",
      "Lasso Test Score: 0.0000\n",
      "Ridge Test Score: 0.9949\n",
      "Gradient Regressor Test Score: 0.9953\n"
     ]
    }
   ],
   "source": [
    "print('Simple Linear Test Score: %.4f'%new_model_ols.score(new_x_test, new_y_test))\n",
    "print('Lasso Test Score: %.4f'%new_model_lasso.score(new_x_train, new_y_train))\n",
    "print('Ridge Test Score: %.4f'%new_model_ridge.score(new_x_train, new_y_train))\n",
    "print('Gradient Regressor Test Score: %.4f'%new_model_gradient.score(new_x_train, new_y_train))"
   ]
  },
  {
   "cell_type": "markdown",
   "metadata": {},
   "source": [
    "### RMSE"
   ]
  },
  {
   "cell_type": "code",
   "execution_count": 2049,
   "metadata": {},
   "outputs": [
    {
     "name": "stdout",
     "output_type": "stream",
     "text": [
      "Simple Linear RMSE Score: 50.52294\n",
      "Lasso RMSE Score: 610.54952\n",
      "Ridge RMSE Score: 50.60957\n",
      "Gradient Regressor RMSE Score: 49.79466\n"
     ]
    }
   ],
   "source": [
    "print('Simple Linear RMSE Score: %.5f' % sqrt(mean_squared_error(np.exp(new_model_ols.predict(new_x_test)), np.exp(new_y_test))))\n",
    "print('Lasso RMSE Score: %.5f' % sqrt(mean_squared_error(np.exp(new_model_lasso.predict(new_x_test)), np.exp(new_y_test))))\n",
    "print('Ridge RMSE Score: %.5f' % sqrt(mean_squared_error(np.exp(new_model_ridge.predict(new_x_test)), np.exp(new_y_test))))\n",
    "print('Gradient Regressor RMSE Score: %.5f' % sqrt(mean_squared_error(np.exp(new_model_gradient.predict(new_x_test)), np.exp(new_y_test))))\n",
    "\n"
   ]
  },
  {
   "cell_type": "markdown",
   "metadata": {},
   "source": [
    "### Prediction Accuracy"
   ]
  },
  {
   "cell_type": "code",
   "execution_count": 1176,
   "metadata": {},
   "outputs": [
    {
     "name": "stdout",
     "output_type": "stream",
     "text": [
      "Average Prediction Accuracy: 97.60 percent\n"
     ]
    }
   ],
   "source": [
    "new_pred = pd.Series(np.exp(new_model_gradient.predict(new_x_test)), index = new_y_test.index)\n",
    "print(\"Average Prediction Accuracy: %.2f percent\" %((1 - np.abs(np.exp(new_y_test)/new_pred-1)).mean() * 100))"
   ]
  },
  {
   "cell_type": "markdown",
   "metadata": {},
   "source": [
    "# IRS Data"
   ]
  },
  {
   "cell_type": "code",
   "execution_count": 1821,
   "metadata": {},
   "outputs": [],
   "source": [
    "irs2011 = pd.read_csv('11zpallagi.csv')\n",
    "irs2012 = pd.read_csv('12zpallagi.csv')\n",
    "irs2013 = pd.read_csv('13zpallagi.csv')\n",
    "irs2014 = pd.read_csv('14zpallagi.csv')\n",
    "irs2015 = pd.read_csv('15zpallagi.csv')\n",
    "irs2016 = pd.read_csv('16zpallagi.csv')\n",
    "irs2017 = pd.read_csv('17zpallagi.csv')\n",
    "\n",
    "irs_mutual_columns = set(irs2013.columns).\\\n",
    "intersection(set(irs2014.columns)).intersection(set(irs2015.columns)).intersection(set(irs2016.columns)).\\\n",
    "intersection(set(irs2017.columns))\n",
    "\n",
    "irs2013 = irs2013[irs_mutual_columns].drop(['STATEFIPS','STATE'], axis = 1)\n",
    "irs2014 = irs2014[irs_mutual_columns].drop(['STATEFIPS','STATE'], axis = 1)\n",
    "irs2015 = irs2015[irs_mutual_columns].drop(['STATEFIPS','STATE'], axis = 1)\n",
    "irs2016 = irs2016[irs_mutual_columns].drop(['STATEFIPS','STATE'], axis = 1)\n",
    "irs2017 = irs2017[irs_mutual_columns].drop(['STATEFIPS','STATE'], axis = 1)\n",
    "\n",
    "irs2013.columns = irs2013.columns.str.replace('zipcode','zip')\n",
    "irs2014.columns = irs2014.columns.str.replace('zipcode','zip')\n",
    "irs2015.columns = irs2015.columns.str.replace('zipcode','zip')\n",
    "irs2016.columns = irs2016.columns.str.replace('zipcode','zip')\n",
    "irs2017.columns = irs2017.columns.str.replace('zipcode','zip')\n",
    "\n",
    "irs2013 = irs2013.groupby('zip').sum()\n",
    "irs2014 = irs2014.groupby('zip').sum()\n",
    "irs2015 = irs2015.groupby('zip').sum()\n",
    "irs2016 = irs2016.groupby('zip').sum()\n",
    "irs2017 = irs2017.groupby('zip').sum()\n"
   ]
  },
  {
   "cell_type": "code",
   "execution_count": 1822,
   "metadata": {},
   "outputs": [],
   "source": [
    "irs2013.columns = [i + '_2013' for i in irs2013.columns]\n",
    "irs2014.columns = [i + '_2014' for i in irs2014.columns]\n",
    "irs2015.columns = [i + '_2015' for i in irs2015.columns]\n",
    "irs2016.columns = [i + '_2016' for i in irs2016.columns]\n",
    "irs2017.columns = [i + '_2017' for i in irs2017.columns]"
   ]
  },
  {
   "cell_type": "code",
   "execution_count": 1823,
   "metadata": {},
   "outputs": [],
   "source": [
    "taxes2015 = pd.concat([irs2015,irs2014,irs2013], join = 'inner', axis = 1).reset_index()\n",
    "taxes2016 = pd.concat([irs2016,irs2015,irs2014], join = 'inner', axis = 1).reset_index()\n",
    "taxes2017 = pd.concat([irs2017,irs2016,irs2015], join = 'inner', axis = 1).reset_index()"
   ]
  },
  {
   "cell_type": "code",
   "execution_count": 1824,
   "metadata": {},
   "outputs": [],
   "source": [
    "taxes2015['year'] = '2015'\n",
    "taxes2016['year'] = '2016'\n",
    "taxes2017['year'] = '2017'"
   ]
  },
  {
   "cell_type": "code",
   "execution_count": 1825,
   "metadata": {},
   "outputs": [],
   "source": [
    "taxes2015.columns = taxes2015.columns.str.replace('_2015','_3y').str.replace('_2014','_4y').str.replace('_2013','_5y')\n",
    "taxes2016.columns = taxes2016.columns.str.replace('_2016','_3y').str.replace('_2015','_4y').str.replace('_2014','_5y')\n",
    "taxes2017.columns = taxes2017.columns.str.replace('_2017','_3y').str.replace('_2016','_4y').str.replace('_2015','_5y')\n",
    "\n"
   ]
  },
  {
   "cell_type": "code",
   "execution_count": 1826,
   "metadata": {},
   "outputs": [],
   "source": [
    "irs_train = zri_train_2015.merge(taxes2015, on  = ['zip','year']).merge(zillow_mean, how = 'inner', on = ['zip','year'])\n"
   ]
  },
  {
   "cell_type": "code",
   "execution_count": 1827,
   "metadata": {},
   "outputs": [],
   "source": [
    "irs_test = zri_train_2016.merge(taxes2016, on  = ['zip','year']).merge(zillow_mean, how = 'inner', on = ['zip','year'])\n",
    "\n"
   ]
  },
  {
   "cell_type": "code",
   "execution_count": 1828,
   "metadata": {},
   "outputs": [],
   "source": [
    "irs_train['zip'] = [str(i) for i in irs_train.zip]\n",
    "irs_train['zip_year'] = irs_train.zip + '_' + irs_train.year\n",
    "irs_train = irs_train.drop(['zip','year'], axis = 1).set_index('zip_year')"
   ]
  },
  {
   "cell_type": "code",
   "execution_count": 1829,
   "metadata": {},
   "outputs": [],
   "source": [
    "irs_test['zip'] = [str(i) for i in irs_test.zip]\n",
    "irs_test['zip_year'] = irs_test.zip + '_' + irs_test.year\n",
    "irs_test = irs_test.drop(['zip','year'], axis = 1).set_index('zip_year')"
   ]
  },
  {
   "cell_type": "code",
   "execution_count": 1830,
   "metadata": {},
   "outputs": [],
   "source": [
    "irs_train = irs_train[(irs_train < 0).sum(axis = 1) == 0]\n",
    "irs_test = irs_test[(irs_test < 0).sum(axis = 1) == 0]"
   ]
  },
  {
   "cell_type": "markdown",
   "metadata": {},
   "source": [
    "## Models Building (IRS)"
   ]
  },
  {
   "cell_type": "code",
   "execution_count": 1831,
   "metadata": {},
   "outputs": [],
   "source": [
    "irs_x_train = irs_train.iloc[:,:-1]\n",
    "irs_y_train = irs_train.iloc[:,-1]"
   ]
  },
  {
   "cell_type": "code",
   "execution_count": 1832,
   "metadata": {},
   "outputs": [],
   "source": [
    "irs_x_test = irs_test.iloc[:,:-1]\n",
    "irs_y_test = irs_test.iloc[:,-1]"
   ]
  },
  {
   "cell_type": "markdown",
   "metadata": {},
   "source": [
    "### Log Evertyhing"
   ]
  },
  {
   "cell_type": "code",
   "execution_count": 1833,
   "metadata": {},
   "outputs": [],
   "source": [
    "irs_x_train = np.log(irs_x_train+1)\n",
    "irs_x_test = np.log(irs_x_test+1)\n",
    "\n",
    "irs_y_train = np.log(irs_y_train)\n",
    "irs_y_test = np.log(irs_y_test)"
   ]
  },
  {
   "cell_type": "code",
   "execution_count": 1834,
   "metadata": {},
   "outputs": [
    {
     "data": {
      "text/plain": [
       "GradientBoostingRegressor(alpha=0.9, criterion='friedman_mse', init=None,\n",
       "                          learning_rate=0.1, loss='ls', max_depth=3,\n",
       "                          max_features=None, max_leaf_nodes=None,\n",
       "                          min_impurity_decrease=0.0, min_impurity_split=None,\n",
       "                          min_samples_leaf=1, min_samples_split=2,\n",
       "                          min_weight_fraction_leaf=0.0, n_estimators=100,\n",
       "                          n_iter_no_change=None, presort='auto',\n",
       "                          random_state=None, subsample=1.0, tol=0.0001,\n",
       "                          validation_fraction=0.1, verbose=0, warm_start=False)"
      ]
     },
     "execution_count": 1834,
     "metadata": {},
     "output_type": "execute_result"
    }
   ],
   "source": [
    "irs_model_ols = LinearRegression()\n",
    "irs_model_lasso = Lasso()\n",
    "irs_model_ridge = Ridge()\n",
    "irs_model_gradient = GradientBoostingRegressor()\n",
    "\n",
    "irs_model_ols.fit(irs_x_train, irs_y_train)\n",
    "irs_model_lasso.fit(irs_x_train, irs_y_train)\n",
    "irs_model_ridge.fit(irs_x_train, irs_y_train)\n",
    "irs_model_gradient.fit(irs_x_train, irs_y_train)"
   ]
  },
  {
   "cell_type": "markdown",
   "metadata": {},
   "source": [
    "### Train Score"
   ]
  },
  {
   "cell_type": "code",
   "execution_count": 1320,
   "metadata": {},
   "outputs": [
    {
     "name": "stdout",
     "output_type": "stream",
     "text": [
      "Simple Linear Train Score: 0.9949\n",
      "Lasso Train Score: 0.0000\n",
      "Ridge Train Score: 0.9947\n",
      "Gradient Regressor Train Score: 0.9949\n"
     ]
    }
   ],
   "source": [
    "print('Simple Linear Train Score: %.4f'%irs_model_ols.score(irs_x_train, irs_y_train))\n",
    "print('Lasso Train Score: %.4f'%irs_model_lasso.score(irs_x_train, irs_y_train))\n",
    "print('Ridge Train Score: %.4f'%irs_model_ridge.score(irs_x_train, irs_y_train))\n",
    "print('Gradient Regressor Train Score: %.4f'%irs_model_gradient.score(irs_x_train, irs_y_train))"
   ]
  },
  {
   "cell_type": "markdown",
   "metadata": {},
   "source": [
    "### Test Score"
   ]
  },
  {
   "cell_type": "code",
   "execution_count": 1321,
   "metadata": {},
   "outputs": [
    {
     "name": "stdout",
     "output_type": "stream",
     "text": [
      "Simple Linear Test Score: 0.9919\n",
      "Lasso Test Score: -0.0009\n",
      "Ridge Test Score: 0.9917\n",
      "Gradient Regressor Test Score: 0.9917\n"
     ]
    }
   ],
   "source": [
    "print('Simple Linear Test Score: %.4f'%irs_model_ols.score(irs_x_test, irs_y_test))\n",
    "print('Lasso Test Score: %.4f'%irs_model_lasso.score(irs_x_test, irs_y_test))\n",
    "print('Ridge Test Score: %.4f'%irs_model_ridge.score(irs_x_test, irs_y_test))\n",
    "print('Gradient Regressor Test Score: %.4f'%irs_model_gradient.score(irs_x_test, irs_y_test))"
   ]
  },
  {
   "cell_type": "markdown",
   "metadata": {},
   "source": [
    "### RMSE"
   ]
  },
  {
   "cell_type": "code",
   "execution_count": 1911,
   "metadata": {},
   "outputs": [
    {
     "name": "stdout",
     "output_type": "stream",
     "text": [
      "Simple Linear RMSE Score: 51.39572\n",
      "Lasso RMSE Score: 611.32553\n",
      "Ridge RMSE Score: 52.43858\n",
      "Gradient Regressor RMSE Score: 51.16028\n"
     ]
    }
   ],
   "source": [
    "print('Simple Linear RMSE Score: %.5f' % sqrt(mean_squared_error(np.exp(irs_model_ols.predict(irs_x_test)), np.exp(irs_y_test))))\n",
    "print('Lasso RMSE Score: %.5f' % sqrt(mean_squared_error(np.exp(irs_model_lasso.predict(irs_x_test)), np.exp(irs_y_test))))\n",
    "print('Ridge RMSE Score: %.5f' % sqrt(mean_squared_error(np.exp(irs_model_ridge.predict(irs_x_test)), np.exp(irs_y_test))))\n",
    "print('Gradient Regressor RMSE Score: %.5f' % sqrt(mean_squared_error(np.exp(irs_model_gradient.predict(irs_x_test)), np.exp(irs_y_test))))\n",
    "\n"
   ]
  },
  {
   "cell_type": "markdown",
   "metadata": {},
   "source": [
    "### Accuracy"
   ]
  },
  {
   "cell_type": "code",
   "execution_count": 1842,
   "metadata": {},
   "outputs": [
    {
     "name": "stdout",
     "output_type": "stream",
     "text": [
      "Average Prediction Accuracy: 97.57 percent\n"
     ]
    }
   ],
   "source": [
    "irs_pred = pd.Series(np.exp(irs_model_ols.predict(irs_x_test)), index = irs_y_test.index)\n",
    "print(\"Average Prediction Accuracy: %.2f percent\" %((1 - np.abs(np.exp(irs_y_test)/irs_pred-1)).mean() * 100))"
   ]
  },
  {
   "cell_type": "markdown",
   "metadata": {},
   "source": [
    "## Top Features From IRS"
   ]
  },
  {
   "cell_type": "code",
   "execution_count": 1955,
   "metadata": {},
   "outputs": [
    {
     "data": {
      "text/plain": [
       "[('zri_1y', 0.997450481974797),\n",
       " ('zri_3y', 0.0009439677465665153),\n",
       " ('zri_2y', 0.0006102681556737682),\n",
       " ('A07260_3y', 8.886497565459614e-05),\n",
       " ('SCHF_4y', 7.253273690399848e-05),\n",
       " ('A02300_5y', 6.546155420672393e-05),\n",
       " ('A19300_5y', 5.2950426072523325e-05),\n",
       " ('A03210_4y', 4.4430101607438114e-05),\n",
       " ('SCHF_3y', 4.2061153776998855e-05),\n",
       " ('N18450_5y', 3.695146715501609e-05)]"
      ]
     },
     "execution_count": 1955,
     "metadata": {},
     "output_type": "execute_result"
    }
   ],
   "source": [
    "sorted(list(zip(irs_x_train.columns, irs_model_gradient.feature_importances_)), key = lambda x: x[1], reverse = True)[0:10]\n",
    "\n"
   ]
  },
  {
   "cell_type": "code",
   "execution_count": 1956,
   "metadata": {},
   "outputs": [],
   "source": [
    "top_irs = sorted(list(zip(irs_x_train.columns, irs_model_gradient.feature_importances_)), key = lambda x: x[1], reverse = True)[0:20]\n",
    "\n"
   ]
  },
  {
   "cell_type": "code",
   "execution_count": 1957,
   "metadata": {},
   "outputs": [],
   "source": [
    "top_irs_x_train = irs_x_train[[i[0] for i in top_irs]]\n",
    "top_irs_x_test = irs_x_test[[i[0] for i in top_irs]]"
   ]
  },
  {
   "cell_type": "code",
   "execution_count": 1958,
   "metadata": {},
   "outputs": [],
   "source": [
    "top_irs_y_train = irs_y_train.copy()\n",
    "top_irs_y_test = irs_y_test.copy()"
   ]
  },
  {
   "cell_type": "code",
   "execution_count": 1959,
   "metadata": {},
   "outputs": [
    {
     "data": {
      "text/plain": [
       "GradientBoostingRegressor(alpha=0.9, criterion='friedman_mse', init=None,\n",
       "                          learning_rate=0.1, loss='ls', max_depth=3,\n",
       "                          max_features=None, max_leaf_nodes=None,\n",
       "                          min_impurity_decrease=0.0, min_impurity_split=None,\n",
       "                          min_samples_leaf=1, min_samples_split=2,\n",
       "                          min_weight_fraction_leaf=0.0, n_estimators=100,\n",
       "                          n_iter_no_change=None, presort='auto',\n",
       "                          random_state=None, subsample=1.0, tol=0.0001,\n",
       "                          validation_fraction=0.1, verbose=0, warm_start=False)"
      ]
     },
     "execution_count": 1959,
     "metadata": {},
     "output_type": "execute_result"
    }
   ],
   "source": [
    "top_irs_model_ols = LinearRegression()\n",
    "top_irs_model_lasso = Lasso()\n",
    "top_irs_model_ridge = Ridge()\n",
    "top_irs_model_gradient = GradientBoostingRegressor()\n",
    "\n",
    "top_irs_model_ols.fit(top_irs_x_train, top_irs_y_train)\n",
    "top_irs_model_lasso.fit(top_irs_x_train, top_irs_y_train)\n",
    "top_irs_model_ridge.fit(top_irs_x_train, top_irs_y_train)\n",
    "top_irs_model_gradient.fit(top_irs_x_train, top_irs_y_train)"
   ]
  },
  {
   "cell_type": "markdown",
   "metadata": {},
   "source": [
    "### Train Score"
   ]
  },
  {
   "cell_type": "code",
   "execution_count": 1960,
   "metadata": {},
   "outputs": [
    {
     "name": "stdout",
     "output_type": "stream",
     "text": [
      "Simple Linear Train Score: 0.9942\n",
      "Lasso Train Score: 0.0000\n",
      "Ridge Train Score: 0.9941\n",
      "Gradient Regressor Train Score: 0.9948\n"
     ]
    }
   ],
   "source": [
    "print('Simple Linear Train Score: %.4f'%top_irs_model_ols.score(top_irs_x_train, top_irs_y_train))\n",
    "print('Lasso Train Score: %.4f'%top_irs_model_lasso.score(top_irs_x_train, top_irs_y_train))\n",
    "print('Ridge Train Score: %.4f'%top_irs_model_ridge.score(top_irs_x_train, top_irs_y_train))\n",
    "print('Gradient Regressor Train Score: %.4f'%top_irs_model_gradient.score(top_irs_x_train, top_irs_y_train))"
   ]
  },
  {
   "cell_type": "markdown",
   "metadata": {},
   "source": [
    "### Test Score"
   ]
  },
  {
   "cell_type": "code",
   "execution_count": 1961,
   "metadata": {},
   "outputs": [
    {
     "name": "stdout",
     "output_type": "stream",
     "text": [
      "Simple Linear Train Score: 0.9921\n",
      "Lasso Train Score: -0.0009\n",
      "Ridge Train Score: 0.9919\n",
      "Gradient Regressor Train Score: 0.9918\n"
     ]
    }
   ],
   "source": [
    "print('Simple Linear Test Score: %.4f'%top_irs_model_ols.score(top_irs_x_test, top_irs_y_test))\n",
    "print('Lasso Test Score: %.4f'%top_irs_model_lasso.score(top_irs_x_test, top_irs_y_test))\n",
    "print('Ridge Test Score: %.4f'%top_irs_model_ridge.score(top_irs_x_test, top_irs_y_test))\n",
    "print('Gradient Regressor Test Score: %.4f'%top_irs_model_gradient.score(top_irs_x_test, top_irs_y_test))"
   ]
  },
  {
   "cell_type": "markdown",
   "metadata": {},
   "source": [
    "### RMSE"
   ]
  },
  {
   "cell_type": "code",
   "execution_count": 1962,
   "metadata": {},
   "outputs": [
    {
     "name": "stdout",
     "output_type": "stream",
     "text": [
      "Simple Linear Kaggle Score: 50.34790\n",
      "Lasso Kaggle Score: 611.32553\n",
      "Ridge Kaggle Score: 51.17912\n",
      "Gradient Regressor Kaggle Score: 51.14325\n"
     ]
    }
   ],
   "source": [
    "print('Simple Linear RMSE Score: %.5f' % sqrt(mean_squared_error(np.exp(top_irs_model_ols.predict(top_irs_x_test)), np.exp(top_irs_y_test))))\n",
    "print('Lasso RMSE Score: %.5f' % sqrt(mean_squared_error(np.exp(top_irs_model_lasso.predict(top_irs_x_test)), np.exp(top_irs_y_test))))\n",
    "print('Ridge RMSE Score: %.5f' % sqrt(mean_squared_error(np.exp(top_irs_model_ridge.predict(top_irs_x_test)), np.exp(top_irs_y_test))))\n",
    "print('Gradient Regressor RMSE Score: %.5f' % sqrt(mean_squared_error(np.exp(top_irs_model_gradient.predict(top_irs_x_test)), np.exp(top_irs_y_test))))\n"
   ]
  },
  {
   "cell_type": "markdown",
   "metadata": {},
   "source": [
    "### Prediction Accuracy"
   ]
  },
  {
   "cell_type": "code",
   "execution_count": 1963,
   "metadata": {},
   "outputs": [
    {
     "name": "stdout",
     "output_type": "stream",
     "text": [
      "Average Prediction Accuracy: 97.60 percent\n"
     ]
    }
   ],
   "source": [
    "top_irs_pred = pd.Series(np.exp(top_irs_model_ols.predict(top_irs_x_test)), index = top_irs_y_test.index)\n",
    "print(\"Average Prediction Accuracy: %.2f percent\" %((1 - np.abs(np.exp(top_irs_y_test)/top_irs_pred-1)).mean() * 100))"
   ]
  },
  {
   "cell_type": "markdown",
   "metadata": {},
   "source": [
    "## Take Average of Census and IRS Predictions"
   ]
  },
  {
   "cell_type": "markdown",
   "metadata": {},
   "source": [
    "### Full Census and Full IRS"
   ]
  },
  {
   "cell_type": "code",
   "execution_count": 1689,
   "metadata": {},
   "outputs": [],
   "source": [
    "together = pd.concat([pred, irs_pred],join = 'inner', axis = 1)\n",
    "together.columns = ['census','irs']"
   ]
  },
  {
   "cell_type": "code",
   "execution_count": 1855,
   "metadata": {},
   "outputs": [],
   "source": [
    "together['average'] = (together.census + together.irs)/2"
   ]
  },
  {
   "cell_type": "markdown",
   "metadata": {},
   "source": [
    "### RMSE"
   ]
  },
  {
   "cell_type": "code",
   "execution_count": 1864,
   "metadata": {},
   "outputs": [],
   "source": [
    "together = pd.concat([together.average, np.exp(y_test)], join = 'inner', axis = 1)"
   ]
  },
  {
   "cell_type": "code",
   "execution_count": 1885,
   "metadata": {},
   "outputs": [
    {
     "name": "stdout",
     "output_type": "stream",
     "text": [
      "Average Root Mean Squared Error: 49.178\n"
     ]
    }
   ],
   "source": [
    "print(\"Average Root Mean Squared Error: %.3f\" %sqrt(mean_squared_error(together.average, together['ZRI+3'])))"
   ]
  },
  {
   "cell_type": "code",
   "execution_count": 1886,
   "metadata": {},
   "outputs": [
    {
     "name": "stdout",
     "output_type": "stream",
     "text": [
      "Average Prediction Accuracy: 97.67 percent\n"
     ]
    }
   ],
   "source": [
    "print(\"Average Prediction Accuracy: %.2f percent\" %((1 - np.abs(np.exp(y_test)/together.average - 1)).mean()*100))"
   ]
  },
  {
   "cell_type": "markdown",
   "metadata": {},
   "source": [
    "### Top 10 Census and Top 10 IRS"
   ]
  },
  {
   "cell_type": "code",
   "execution_count": 1887,
   "metadata": {},
   "outputs": [],
   "source": [
    "top_together = pd.concat([top_pred, top_irs_pred],join = 'inner', axis = 1)\n",
    "top_together.columns = ['census','irs']"
   ]
  },
  {
   "cell_type": "code",
   "execution_count": 1888,
   "metadata": {},
   "outputs": [],
   "source": [
    "top_together['average'] = (top_together.census + top_together.irs)/2"
   ]
  },
  {
   "cell_type": "code",
   "execution_count": 1982,
   "metadata": {},
   "outputs": [],
   "source": [
    "top_together = pd.concat([top_together.average, np.exp(y_test)], join = 'inner', axis = 1)"
   ]
  },
  {
   "cell_type": "code",
   "execution_count": 1890,
   "metadata": {},
   "outputs": [
    {
     "name": "stdout",
     "output_type": "stream",
     "text": [
      "Average Root Mean Squared Error is: 47.201\n"
     ]
    }
   ],
   "source": [
    "print(\"Average Root Mean Squared Error is: %.3f\" %sqrt(mean_squared_error(top_together.average, top_together['ZRI+3'])))\n"
   ]
  },
  {
   "cell_type": "code",
   "execution_count": 1891,
   "metadata": {},
   "outputs": [
    {
     "name": "stdout",
     "output_type": "stream",
     "text": [
      "Average Prediction Accuracy: 97.70 percent\n"
     ]
    }
   ],
   "source": [
    "print(\"Average Prediction Accuracy: %.2f percent\" %((1 - np.abs(np.exp(y_test)/top_together.average - 1)).mean()*100))"
   ]
  },
  {
   "cell_type": "markdown",
   "metadata": {},
   "source": [
    "## Full Model (top 10 irs + top 10 census)"
   ]
  },
  {
   "cell_type": "code",
   "execution_count": 2016,
   "metadata": {},
   "outputs": [
    {
     "data": {
      "text/plain": [
       "['zri_1y',\n",
       " 'owner_occupied_housing_units_median_value_5y',\n",
       " 'owner_occupied_housing_units_upper_value_quartile_5y',\n",
       " 'median_rent_5y',\n",
       " 'median_rent_4y',\n",
       " 'housing_built_2005_or_later_5y',\n",
       " 'median_rent_3y',\n",
       " 'housing_built_2005_or_later_4y',\n",
       " 'income_per_capita_3y',\n",
       " 'percent_income_spent_on_rent_3y']"
      ]
     },
     "execution_count": 2016,
     "metadata": {},
     "output_type": "execute_result"
    }
   ],
   "source": [
    "top_census_features = [i[0] for i in top_features]\n",
    "top_census_features"
   ]
  },
  {
   "cell_type": "code",
   "execution_count": 2017,
   "metadata": {},
   "outputs": [
    {
     "data": {
      "text/plain": [
       "['zri_1y',\n",
       " 'zri_3y',\n",
       " 'zri_2y',\n",
       " 'A07260_3y',\n",
       " 'SCHF_4y',\n",
       " 'A02300_5y',\n",
       " 'A19300_5y',\n",
       " 'A03210_4y',\n",
       " 'SCHF_3y',\n",
       " 'N18450_5y']"
      ]
     },
     "execution_count": 2017,
     "metadata": {},
     "output_type": "execute_result"
    }
   ],
   "source": [
    "top_irs_features = [i[0] for i in top_irs][0:10]\n",
    "top_irs_features"
   ]
  },
  {
   "cell_type": "code",
   "execution_count": 1965,
   "metadata": {},
   "outputs": [],
   "source": [
    "full_top_features = list(set(top_census_features).union(set(top_irs_features)))"
   ]
  },
  {
   "cell_type": "code",
   "execution_count": 1966,
   "metadata": {},
   "outputs": [
    {
     "data": {
      "text/html": [
       "<div>\n",
       "<style scoped>\n",
       "    .dataframe tbody tr th:only-of-type {\n",
       "        vertical-align: middle;\n",
       "    }\n",
       "\n",
       "    .dataframe tbody tr th {\n",
       "        vertical-align: top;\n",
       "    }\n",
       "\n",
       "    .dataframe thead th {\n",
       "        text-align: right;\n",
       "    }\n",
       "</style>\n",
       "<table border=\"1\" class=\"dataframe\">\n",
       "  <thead>\n",
       "    <tr style=\"text-align: right;\">\n",
       "      <th></th>\n",
       "      <th>zip</th>\n",
       "      <th>zri_3y</th>\n",
       "      <th>zri_2y</th>\n",
       "      <th>zri_1y</th>\n",
       "      <th>year</th>\n",
       "      <th>pop_in_labor_force_3y</th>\n",
       "      <th>population_3_years_over_3y</th>\n",
       "      <th>female_65_to_66_3y</th>\n",
       "      <th>rent_10_to_15_percent_3y</th>\n",
       "      <th>family_households_3y</th>\n",
       "      <th>...</th>\n",
       "      <th>male_18_to_19_5y</th>\n",
       "      <th>occupation_sales_office_5y</th>\n",
       "      <th>two_or_more_races_pop_5y</th>\n",
       "      <th>owner_occupied_housing_units_lower_value_quartile_5y</th>\n",
       "      <th>income_per_capita_5y</th>\n",
       "      <th>female_22_to_24_5y</th>\n",
       "      <th>rent_over_50_percent_5y</th>\n",
       "      <th>poverty_5y</th>\n",
       "      <th>households_retirement_income_5y</th>\n",
       "      <th>ZRI+3</th>\n",
       "    </tr>\n",
       "  </thead>\n",
       "  <tbody>\n",
       "    <tr>\n",
       "      <td>5302</td>\n",
       "      <td>1001</td>\n",
       "      <td>1196.583333</td>\n",
       "      <td>1226.583333</td>\n",
       "      <td>1333.583333</td>\n",
       "      <td>2013</td>\n",
       "      <td>9607</td>\n",
       "      <td>16771</td>\n",
       "      <td>139</td>\n",
       "      <td>214</td>\n",
       "      <td>4085</td>\n",
       "      <td>...</td>\n",
       "      <td>195</td>\n",
       "      <td>2478</td>\n",
       "      <td>132</td>\n",
       "      <td>174200.0</td>\n",
       "      <td>28931.0</td>\n",
       "      <td>265</td>\n",
       "      <td>405</td>\n",
       "      <td>1428</td>\n",
       "      <td>1319</td>\n",
       "      <td>1380.166667</td>\n",
       "    </tr>\n",
       "    <tr>\n",
       "      <td>15153</td>\n",
       "      <td>1001</td>\n",
       "      <td>1226.583333</td>\n",
       "      <td>1333.583333</td>\n",
       "      <td>1380.166667</td>\n",
       "      <td>2014</td>\n",
       "      <td>9556</td>\n",
       "      <td>16635</td>\n",
       "      <td>161</td>\n",
       "      <td>198</td>\n",
       "      <td>4168</td>\n",
       "      <td>...</td>\n",
       "      <td>264</td>\n",
       "      <td>2499</td>\n",
       "      <td>146</td>\n",
       "      <td>169400.0</td>\n",
       "      <td>29158.0</td>\n",
       "      <td>307</td>\n",
       "      <td>382</td>\n",
       "      <td>1251</td>\n",
       "      <td>1347</td>\n",
       "      <td>1421.833333</td>\n",
       "    </tr>\n",
       "    <tr>\n",
       "      <td>25004</td>\n",
       "      <td>1001</td>\n",
       "      <td>1333.583333</td>\n",
       "      <td>1380.166667</td>\n",
       "      <td>1421.833333</td>\n",
       "      <td>2015</td>\n",
       "      <td>9600</td>\n",
       "      <td>16962</td>\n",
       "      <td>143</td>\n",
       "      <td>219</td>\n",
       "      <td>4080</td>\n",
       "      <td>...</td>\n",
       "      <td>161</td>\n",
       "      <td>2511</td>\n",
       "      <td>119</td>\n",
       "      <td>166400.0</td>\n",
       "      <td>28457.0</td>\n",
       "      <td>431</td>\n",
       "      <td>550</td>\n",
       "      <td>1537</td>\n",
       "      <td>1285</td>\n",
       "      <td>1338.500000</td>\n",
       "    </tr>\n",
       "    <tr>\n",
       "      <td>34855</td>\n",
       "      <td>1001</td>\n",
       "      <td>1380.166667</td>\n",
       "      <td>1421.833333</td>\n",
       "      <td>1338.500000</td>\n",
       "      <td>2016</td>\n",
       "      <td>9211</td>\n",
       "      <td>17029</td>\n",
       "      <td>260</td>\n",
       "      <td>169</td>\n",
       "      <td>3943</td>\n",
       "      <td>...</td>\n",
       "      <td>159</td>\n",
       "      <td>2367</td>\n",
       "      <td>133</td>\n",
       "      <td>167500.0</td>\n",
       "      <td>29444.0</td>\n",
       "      <td>415</td>\n",
       "      <td>600</td>\n",
       "      <td>1390</td>\n",
       "      <td>1240</td>\n",
       "      <td>1362.416667</td>\n",
       "    </tr>\n",
       "    <tr>\n",
       "      <td>38744</td>\n",
       "      <td>1005</td>\n",
       "      <td>1268.833333</td>\n",
       "      <td>1282.833333</td>\n",
       "      <td>1282.833333</td>\n",
       "      <td>2016</td>\n",
       "      <td>2988</td>\n",
       "      <td>5156</td>\n",
       "      <td>94</td>\n",
       "      <td>16</td>\n",
       "      <td>1150</td>\n",
       "      <td>...</td>\n",
       "      <td>104</td>\n",
       "      <td>625</td>\n",
       "      <td>1</td>\n",
       "      <td>161700.0</td>\n",
       "      <td>29004.0</td>\n",
       "      <td>43</td>\n",
       "      <td>65</td>\n",
       "      <td>224</td>\n",
       "      <td>280</td>\n",
       "      <td>1358.833333</td>\n",
       "    </tr>\n",
       "    <tr>\n",
       "      <td>...</td>\n",
       "      <td>...</td>\n",
       "      <td>...</td>\n",
       "      <td>...</td>\n",
       "      <td>...</td>\n",
       "      <td>...</td>\n",
       "      <td>...</td>\n",
       "      <td>...</td>\n",
       "      <td>...</td>\n",
       "      <td>...</td>\n",
       "      <td>...</td>\n",
       "      <td>...</td>\n",
       "      <td>...</td>\n",
       "      <td>...</td>\n",
       "      <td>...</td>\n",
       "      <td>...</td>\n",
       "      <td>...</td>\n",
       "      <td>...</td>\n",
       "      <td>...</td>\n",
       "      <td>...</td>\n",
       "      <td>...</td>\n",
       "      <td>...</td>\n",
       "    </tr>\n",
       "    <tr>\n",
       "      <td>35007</td>\n",
       "      <td>99701</td>\n",
       "      <td>1504.416667</td>\n",
       "      <td>1482.083333</td>\n",
       "      <td>1477.250000</td>\n",
       "      <td>2016</td>\n",
       "      <td>10452</td>\n",
       "      <td>17831</td>\n",
       "      <td>112</td>\n",
       "      <td>222</td>\n",
       "      <td>3807</td>\n",
       "      <td>...</td>\n",
       "      <td>214</td>\n",
       "      <td>2040</td>\n",
       "      <td>1680</td>\n",
       "      <td>132400.0</td>\n",
       "      <td>29907.0</td>\n",
       "      <td>416</td>\n",
       "      <td>956</td>\n",
       "      <td>2323</td>\n",
       "      <td>1589</td>\n",
       "      <td>1506.416667</td>\n",
       "    </tr>\n",
       "    <tr>\n",
       "      <td>4920</td>\n",
       "      <td>99705</td>\n",
       "      <td>1411.916667</td>\n",
       "      <td>1348.000000</td>\n",
       "      <td>1479.750000</td>\n",
       "      <td>2013</td>\n",
       "      <td>13267</td>\n",
       "      <td>22794</td>\n",
       "      <td>157</td>\n",
       "      <td>90</td>\n",
       "      <td>5780</td>\n",
       "      <td>...</td>\n",
       "      <td>363</td>\n",
       "      <td>2442</td>\n",
       "      <td>1225</td>\n",
       "      <td>151400.0</td>\n",
       "      <td>30177.0</td>\n",
       "      <td>449</td>\n",
       "      <td>244</td>\n",
       "      <td>1226</td>\n",
       "      <td>1640</td>\n",
       "      <td>1502.666667</td>\n",
       "    </tr>\n",
       "    <tr>\n",
       "      <td>14771</td>\n",
       "      <td>99705</td>\n",
       "      <td>1348.000000</td>\n",
       "      <td>1479.750000</td>\n",
       "      <td>1502.666667</td>\n",
       "      <td>2014</td>\n",
       "      <td>13457</td>\n",
       "      <td>22948</td>\n",
       "      <td>178</td>\n",
       "      <td>143</td>\n",
       "      <td>5747</td>\n",
       "      <td>...</td>\n",
       "      <td>382</td>\n",
       "      <td>2676</td>\n",
       "      <td>1473</td>\n",
       "      <td>145500.0</td>\n",
       "      <td>30358.0</td>\n",
       "      <td>495</td>\n",
       "      <td>356</td>\n",
       "      <td>1180</td>\n",
       "      <td>1554</td>\n",
       "      <td>1474.750000</td>\n",
       "    </tr>\n",
       "    <tr>\n",
       "      <td>24622</td>\n",
       "      <td>99705</td>\n",
       "      <td>1479.750000</td>\n",
       "      <td>1502.666667</td>\n",
       "      <td>1474.750000</td>\n",
       "      <td>2015</td>\n",
       "      <td>13745</td>\n",
       "      <td>23095</td>\n",
       "      <td>87</td>\n",
       "      <td>125</td>\n",
       "      <td>5740</td>\n",
       "      <td>...</td>\n",
       "      <td>356</td>\n",
       "      <td>2473</td>\n",
       "      <td>1585</td>\n",
       "      <td>151000.0</td>\n",
       "      <td>30768.0</td>\n",
       "      <td>437</td>\n",
       "      <td>352</td>\n",
       "      <td>1328</td>\n",
       "      <td>1788</td>\n",
       "      <td>1479.583333</td>\n",
       "    </tr>\n",
       "    <tr>\n",
       "      <td>34473</td>\n",
       "      <td>99705</td>\n",
       "      <td>1502.666667</td>\n",
       "      <td>1474.750000</td>\n",
       "      <td>1479.583333</td>\n",
       "      <td>2016</td>\n",
       "      <td>13228</td>\n",
       "      <td>22116</td>\n",
       "      <td>137</td>\n",
       "      <td>100</td>\n",
       "      <td>5509</td>\n",
       "      <td>...</td>\n",
       "      <td>376</td>\n",
       "      <td>2522</td>\n",
       "      <td>2087</td>\n",
       "      <td>154300.0</td>\n",
       "      <td>30956.0</td>\n",
       "      <td>364</td>\n",
       "      <td>306</td>\n",
       "      <td>1247</td>\n",
       "      <td>1757</td>\n",
       "      <td>1510.166667</td>\n",
       "    </tr>\n",
       "  </tbody>\n",
       "</table>\n",
       "<p>36808 rows × 705 columns</p>\n",
       "</div>"
      ],
      "text/plain": [
       "         zip       zri_3y       zri_2y       zri_1y  year  \\\n",
       "5302    1001  1196.583333  1226.583333  1333.583333  2013   \n",
       "15153   1001  1226.583333  1333.583333  1380.166667  2014   \n",
       "25004   1001  1333.583333  1380.166667  1421.833333  2015   \n",
       "34855   1001  1380.166667  1421.833333  1338.500000  2016   \n",
       "38744   1005  1268.833333  1282.833333  1282.833333  2016   \n",
       "...      ...          ...          ...          ...   ...   \n",
       "35007  99701  1504.416667  1482.083333  1477.250000  2016   \n",
       "4920   99705  1411.916667  1348.000000  1479.750000  2013   \n",
       "14771  99705  1348.000000  1479.750000  1502.666667  2014   \n",
       "24622  99705  1479.750000  1502.666667  1474.750000  2015   \n",
       "34473  99705  1502.666667  1474.750000  1479.583333  2016   \n",
       "\n",
       "       pop_in_labor_force_3y  population_3_years_over_3y  female_65_to_66_3y  \\\n",
       "5302                    9607                       16771                 139   \n",
       "15153                   9556                       16635                 161   \n",
       "25004                   9600                       16962                 143   \n",
       "34855                   9211                       17029                 260   \n",
       "38744                   2988                        5156                  94   \n",
       "...                      ...                         ...                 ...   \n",
       "35007                  10452                       17831                 112   \n",
       "4920                   13267                       22794                 157   \n",
       "14771                  13457                       22948                 178   \n",
       "24622                  13745                       23095                  87   \n",
       "34473                  13228                       22116                 137   \n",
       "\n",
       "       rent_10_to_15_percent_3y  family_households_3y  ...  male_18_to_19_5y  \\\n",
       "5302                        214                  4085  ...               195   \n",
       "15153                       198                  4168  ...               264   \n",
       "25004                       219                  4080  ...               161   \n",
       "34855                       169                  3943  ...               159   \n",
       "38744                        16                  1150  ...               104   \n",
       "...                         ...                   ...  ...               ...   \n",
       "35007                       222                  3807  ...               214   \n",
       "4920                         90                  5780  ...               363   \n",
       "14771                       143                  5747  ...               382   \n",
       "24622                       125                  5740  ...               356   \n",
       "34473                       100                  5509  ...               376   \n",
       "\n",
       "       occupation_sales_office_5y  two_or_more_races_pop_5y  \\\n",
       "5302                         2478                       132   \n",
       "15153                        2499                       146   \n",
       "25004                        2511                       119   \n",
       "34855                        2367                       133   \n",
       "38744                         625                         1   \n",
       "...                           ...                       ...   \n",
       "35007                        2040                      1680   \n",
       "4920                         2442                      1225   \n",
       "14771                        2676                      1473   \n",
       "24622                        2473                      1585   \n",
       "34473                        2522                      2087   \n",
       "\n",
       "       owner_occupied_housing_units_lower_value_quartile_5y  \\\n",
       "5302                                            174200.0      \n",
       "15153                                           169400.0      \n",
       "25004                                           166400.0      \n",
       "34855                                           167500.0      \n",
       "38744                                           161700.0      \n",
       "...                                                  ...      \n",
       "35007                                           132400.0      \n",
       "4920                                            151400.0      \n",
       "14771                                           145500.0      \n",
       "24622                                           151000.0      \n",
       "34473                                           154300.0      \n",
       "\n",
       "       income_per_capita_5y  female_22_to_24_5y  rent_over_50_percent_5y  \\\n",
       "5302                28931.0                 265                      405   \n",
       "15153               29158.0                 307                      382   \n",
       "25004               28457.0                 431                      550   \n",
       "34855               29444.0                 415                      600   \n",
       "38744               29004.0                  43                       65   \n",
       "...                     ...                 ...                      ...   \n",
       "35007               29907.0                 416                      956   \n",
       "4920                30177.0                 449                      244   \n",
       "14771               30358.0                 495                      356   \n",
       "24622               30768.0                 437                      352   \n",
       "34473               30956.0                 364                      306   \n",
       "\n",
       "       poverty_5y  households_retirement_income_5y        ZRI+3  \n",
       "5302         1428                             1319  1380.166667  \n",
       "15153        1251                             1347  1421.833333  \n",
       "25004        1537                             1285  1338.500000  \n",
       "34855        1390                             1240  1362.416667  \n",
       "38744         224                              280  1358.833333  \n",
       "...           ...                              ...          ...  \n",
       "35007        2323                             1589  1506.416667  \n",
       "4920         1226                             1640  1502.666667  \n",
       "14771        1180                             1554  1474.750000  \n",
       "24622        1328                             1788  1479.583333  \n",
       "34473        1247                             1757  1510.166667  \n",
       "\n",
       "[36808 rows x 705 columns]"
      ]
     },
     "execution_count": 1966,
     "metadata": {},
     "output_type": "execute_result"
    }
   ],
   "source": [
    "total"
   ]
  },
  {
   "cell_type": "code",
   "execution_count": 1967,
   "metadata": {},
   "outputs": [],
   "source": [
    "### Join Data Sets"
   ]
  },
  {
   "cell_type": "code",
   "execution_count": 1968,
   "metadata": {},
   "outputs": [
    {
     "name": "stderr",
     "output_type": "stream",
     "text": [
      "/opt/anaconda3/lib/python3.7/site-packages/ipykernel_launcher.py:2: SettingWithCopyWarning: \n",
      "A value is trying to be set on a copy of a slice from a DataFrame.\n",
      "Try using .loc[row_indexer,col_indexer] = value instead\n",
      "\n",
      "See the caveats in the documentation: http://pandas.pydata.org/pandas-docs/stable/user_guide/indexing.html#returning-a-view-versus-a-copy\n",
      "  \n",
      "/opt/anaconda3/lib/python3.7/site-packages/ipykernel_launcher.py:3: SettingWithCopyWarning: \n",
      "A value is trying to be set on a copy of a slice from a DataFrame.\n",
      "Try using .loc[row_indexer,col_indexer] = value instead\n",
      "\n",
      "See the caveats in the documentation: http://pandas.pydata.org/pandas-docs/stable/user_guide/indexing.html#returning-a-view-versus-a-copy\n",
      "  This is separate from the ipykernel package so we can avoid doing imports until\n"
     ]
    }
   ],
   "source": [
    "census_x_train = total[total['year'] == '2015']\n",
    "census_x_train['zip'] = [str(i) for i in census_x_train.zip]\n",
    "census_x_train['zip_year'] = census_x_train.zip + '_' + census_x_train.year\n",
    "census_x_train = census_x_train.drop(['zip','year'], axis = 1).set_index('zip_year')"
   ]
  },
  {
   "cell_type": "code",
   "execution_count": 1969,
   "metadata": {},
   "outputs": [],
   "source": [
    "full_train = pd.concat([census_x_train.drop(['zri_1y','zri_2y','zri_3y','ZRI+3'], axis = 1),irs_train], join = 'inner', axis = 1)[full_top_features+['ZRI+3']]\n"
   ]
  },
  {
   "cell_type": "code",
   "execution_count": 1970,
   "metadata": {},
   "outputs": [
    {
     "data": {
      "text/html": [
       "<div>\n",
       "<style scoped>\n",
       "    .dataframe tbody tr th:only-of-type {\n",
       "        vertical-align: middle;\n",
       "    }\n",
       "\n",
       "    .dataframe tbody tr th {\n",
       "        vertical-align: top;\n",
       "    }\n",
       "\n",
       "    .dataframe thead th {\n",
       "        text-align: right;\n",
       "    }\n",
       "</style>\n",
       "<table border=\"1\" class=\"dataframe\">\n",
       "  <thead>\n",
       "    <tr style=\"text-align: right;\">\n",
       "      <th></th>\n",
       "      <th>A03210_4y</th>\n",
       "      <th>income_per_capita_3y</th>\n",
       "      <th>median_rent_4y</th>\n",
       "      <th>N18450_5y</th>\n",
       "      <th>zri_2y</th>\n",
       "      <th>zri_3y</th>\n",
       "      <th>housing_built_2005_or_later_4y</th>\n",
       "      <th>A02300_5y</th>\n",
       "      <th>housing_built_2005_or_later_5y</th>\n",
       "      <th>SCHF_3y</th>\n",
       "      <th>SCHF_4y</th>\n",
       "      <th>zri_1y</th>\n",
       "      <th>A19300_5y</th>\n",
       "      <th>owner_occupied_housing_units_upper_value_quartile_5y</th>\n",
       "      <th>owner_occupied_housing_units_median_value_5y</th>\n",
       "      <th>median_rent_5y</th>\n",
       "      <th>percent_income_spent_on_rent_3y</th>\n",
       "      <th>median_rent_3y</th>\n",
       "      <th>A07260_3y</th>\n",
       "      <th>ZRI+3</th>\n",
       "    </tr>\n",
       "    <tr>\n",
       "      <th>zip_year</th>\n",
       "      <th></th>\n",
       "      <th></th>\n",
       "      <th></th>\n",
       "      <th></th>\n",
       "      <th></th>\n",
       "      <th></th>\n",
       "      <th></th>\n",
       "      <th></th>\n",
       "      <th></th>\n",
       "      <th></th>\n",
       "      <th></th>\n",
       "      <th></th>\n",
       "      <th></th>\n",
       "      <th></th>\n",
       "      <th></th>\n",
       "      <th></th>\n",
       "      <th></th>\n",
       "      <th></th>\n",
       "      <th></th>\n",
       "      <th></th>\n",
       "    </tr>\n",
       "  </thead>\n",
       "  <tbody>\n",
       "    <tr>\n",
       "      <td>1001_2015</td>\n",
       "      <td>958.0</td>\n",
       "      <td>30044.0</td>\n",
       "      <td>800.0</td>\n",
       "      <td>190.0</td>\n",
       "      <td>1380.166667</td>\n",
       "      <td>1333.583333</td>\n",
       "      <td>59</td>\n",
       "      <td>5500.0</td>\n",
       "      <td>63</td>\n",
       "      <td>0.0</td>\n",
       "      <td>0.0</td>\n",
       "      <td>1421.833333</td>\n",
       "      <td>16302.0</td>\n",
       "      <td>265700.0</td>\n",
       "      <td>213000.0</td>\n",
       "      <td>802.0</td>\n",
       "      <td>31.5</td>\n",
       "      <td>809.0</td>\n",
       "      <td>126.0</td>\n",
       "      <td>1338.500000</td>\n",
       "    </tr>\n",
       "    <tr>\n",
       "      <td>1007_2015</td>\n",
       "      <td>940.0</td>\n",
       "      <td>34278.0</td>\n",
       "      <td>755.0</td>\n",
       "      <td>110.0</td>\n",
       "      <td>1527.250000</td>\n",
       "      <td>1599.375000</td>\n",
       "      <td>43</td>\n",
       "      <td>3936.0</td>\n",
       "      <td>15</td>\n",
       "      <td>50.0</td>\n",
       "      <td>50.0</td>\n",
       "      <td>1490.125000</td>\n",
       "      <td>20527.0</td>\n",
       "      <td>321500.0</td>\n",
       "      <td>260000.0</td>\n",
       "      <td>743.0</td>\n",
       "      <td>33.4</td>\n",
       "      <td>778.0</td>\n",
       "      <td>507.0</td>\n",
       "      <td>1504.500000</td>\n",
       "    </tr>\n",
       "    <tr>\n",
       "      <td>1013_2015</td>\n",
       "      <td>921.0</td>\n",
       "      <td>21477.0</td>\n",
       "      <td>730.0</td>\n",
       "      <td>100.0</td>\n",
       "      <td>1159.083333</td>\n",
       "      <td>1108.416667</td>\n",
       "      <td>84</td>\n",
       "      <td>7435.0</td>\n",
       "      <td>10</td>\n",
       "      <td>0.0</td>\n",
       "      <td>0.0</td>\n",
       "      <td>1226.416667</td>\n",
       "      <td>9581.0</td>\n",
       "      <td>208900.0</td>\n",
       "      <td>179800.0</td>\n",
       "      <td>689.0</td>\n",
       "      <td>30.9</td>\n",
       "      <td>731.0</td>\n",
       "      <td>43.0</td>\n",
       "      <td>1208.916667</td>\n",
       "    </tr>\n",
       "    <tr>\n",
       "      <td>1020_2015</td>\n",
       "      <td>1399.0</td>\n",
       "      <td>28032.0</td>\n",
       "      <td>710.0</td>\n",
       "      <td>190.0</td>\n",
       "      <td>1177.833333</td>\n",
       "      <td>1128.833333</td>\n",
       "      <td>16</td>\n",
       "      <td>9981.0</td>\n",
       "      <td>0</td>\n",
       "      <td>0.0</td>\n",
       "      <td>0.0</td>\n",
       "      <td>1243.750000</td>\n",
       "      <td>19001.0</td>\n",
       "      <td>230300.0</td>\n",
       "      <td>181400.0</td>\n",
       "      <td>699.0</td>\n",
       "      <td>28.9</td>\n",
       "      <td>718.0</td>\n",
       "      <td>62.0</td>\n",
       "      <td>1205.250000</td>\n",
       "    </tr>\n",
       "    <tr>\n",
       "      <td>1028_2015</td>\n",
       "      <td>971.0</td>\n",
       "      <td>38300.0</td>\n",
       "      <td>678.0</td>\n",
       "      <td>190.0</td>\n",
       "      <td>1554.500000</td>\n",
       "      <td>1567.833333</td>\n",
       "      <td>55</td>\n",
       "      <td>4260.0</td>\n",
       "      <td>39</td>\n",
       "      <td>0.0</td>\n",
       "      <td>0.0</td>\n",
       "      <td>1565.916667</td>\n",
       "      <td>23286.0</td>\n",
       "      <td>351100.0</td>\n",
       "      <td>256300.0</td>\n",
       "      <td>826.0</td>\n",
       "      <td>33.1</td>\n",
       "      <td>675.0</td>\n",
       "      <td>122.0</td>\n",
       "      <td>1483.666667</td>\n",
       "    </tr>\n",
       "  </tbody>\n",
       "</table>\n",
       "</div>"
      ],
      "text/plain": [
       "           A03210_4y  income_per_capita_3y  median_rent_4y  N18450_5y  \\\n",
       "zip_year                                                                \n",
       "1001_2015      958.0               30044.0           800.0      190.0   \n",
       "1007_2015      940.0               34278.0           755.0      110.0   \n",
       "1013_2015      921.0               21477.0           730.0      100.0   \n",
       "1020_2015     1399.0               28032.0           710.0      190.0   \n",
       "1028_2015      971.0               38300.0           678.0      190.0   \n",
       "\n",
       "                zri_2y       zri_3y  housing_built_2005_or_later_4y  \\\n",
       "zip_year                                                              \n",
       "1001_2015  1380.166667  1333.583333                              59   \n",
       "1007_2015  1527.250000  1599.375000                              43   \n",
       "1013_2015  1159.083333  1108.416667                              84   \n",
       "1020_2015  1177.833333  1128.833333                              16   \n",
       "1028_2015  1554.500000  1567.833333                              55   \n",
       "\n",
       "           A02300_5y  housing_built_2005_or_later_5y  SCHF_3y  SCHF_4y  \\\n",
       "zip_year                                                                 \n",
       "1001_2015     5500.0                              63      0.0      0.0   \n",
       "1007_2015     3936.0                              15     50.0     50.0   \n",
       "1013_2015     7435.0                              10      0.0      0.0   \n",
       "1020_2015     9981.0                               0      0.0      0.0   \n",
       "1028_2015     4260.0                              39      0.0      0.0   \n",
       "\n",
       "                zri_1y  A19300_5y  \\\n",
       "zip_year                            \n",
       "1001_2015  1421.833333    16302.0   \n",
       "1007_2015  1490.125000    20527.0   \n",
       "1013_2015  1226.416667     9581.0   \n",
       "1020_2015  1243.750000    19001.0   \n",
       "1028_2015  1565.916667    23286.0   \n",
       "\n",
       "           owner_occupied_housing_units_upper_value_quartile_5y  \\\n",
       "zip_year                                                          \n",
       "1001_2015                                           265700.0      \n",
       "1007_2015                                           321500.0      \n",
       "1013_2015                                           208900.0      \n",
       "1020_2015                                           230300.0      \n",
       "1028_2015                                           351100.0      \n",
       "\n",
       "           owner_occupied_housing_units_median_value_5y  median_rent_5y  \\\n",
       "zip_year                                                                  \n",
       "1001_2015                                      213000.0           802.0   \n",
       "1007_2015                                      260000.0           743.0   \n",
       "1013_2015                                      179800.0           689.0   \n",
       "1020_2015                                      181400.0           699.0   \n",
       "1028_2015                                      256300.0           826.0   \n",
       "\n",
       "           percent_income_spent_on_rent_3y  median_rent_3y  A07260_3y  \\\n",
       "zip_year                                                                \n",
       "1001_2015                             31.5           809.0      126.0   \n",
       "1007_2015                             33.4           778.0      507.0   \n",
       "1013_2015                             30.9           731.0       43.0   \n",
       "1020_2015                             28.9           718.0       62.0   \n",
       "1028_2015                             33.1           675.0      122.0   \n",
       "\n",
       "                 ZRI+3  \n",
       "zip_year                \n",
       "1001_2015  1338.500000  \n",
       "1007_2015  1504.500000  \n",
       "1013_2015  1208.916667  \n",
       "1020_2015  1205.250000  \n",
       "1028_2015  1483.666667  "
      ]
     },
     "execution_count": 1970,
     "metadata": {},
     "output_type": "execute_result"
    }
   ],
   "source": [
    "full_train.head()"
   ]
  },
  {
   "cell_type": "code",
   "execution_count": 1971,
   "metadata": {},
   "outputs": [
    {
     "name": "stderr",
     "output_type": "stream",
     "text": [
      "/opt/anaconda3/lib/python3.7/site-packages/ipykernel_launcher.py:2: SettingWithCopyWarning: \n",
      "A value is trying to be set on a copy of a slice from a DataFrame.\n",
      "Try using .loc[row_indexer,col_indexer] = value instead\n",
      "\n",
      "See the caveats in the documentation: http://pandas.pydata.org/pandas-docs/stable/user_guide/indexing.html#returning-a-view-versus-a-copy\n",
      "  \n",
      "/opt/anaconda3/lib/python3.7/site-packages/ipykernel_launcher.py:3: SettingWithCopyWarning: \n",
      "A value is trying to be set on a copy of a slice from a DataFrame.\n",
      "Try using .loc[row_indexer,col_indexer] = value instead\n",
      "\n",
      "See the caveats in the documentation: http://pandas.pydata.org/pandas-docs/stable/user_guide/indexing.html#returning-a-view-versus-a-copy\n",
      "  This is separate from the ipykernel package so we can avoid doing imports until\n"
     ]
    }
   ],
   "source": [
    "census_x_test = total[total['year'] == '2016']\n",
    "census_x_test['zip'] = [str(i) for i in census_x_test.zip]\n",
    "census_x_test['zip_year'] = census_x_test.zip + '_' + census_x_test.year\n",
    "census_x_test = census_x_test.drop(['zip','year'], axis = 1).set_index('zip_year')"
   ]
  },
  {
   "cell_type": "code",
   "execution_count": 1972,
   "metadata": {},
   "outputs": [],
   "source": [
    "full_test = pd.concat([census_x_test.drop(['zri_1y','zri_2y','zri_3y','ZRI+3'], axis = 1), irs_test], join = 'inner', axis = 1)[full_top_features+['ZRI+3']]\n"
   ]
  },
  {
   "cell_type": "code",
   "execution_count": 1973,
   "metadata": {},
   "outputs": [],
   "source": [
    "full_x_train = full_train.iloc[:,:-1]\n",
    "full_x_test = full_test.iloc[:,:-1]\n",
    "\n",
    "full_y_train = full_train.iloc[:,-1]\n",
    "full_y_test = full_test.iloc[:,-1]"
   ]
  },
  {
   "cell_type": "markdown",
   "metadata": {},
   "source": [
    "#### Log Everything"
   ]
  },
  {
   "cell_type": "code",
   "execution_count": 1974,
   "metadata": {},
   "outputs": [],
   "source": [
    "full_x_train = np.log(full_x_train+1)\n",
    "full_x_test = np.log(full_x_test+1)\n",
    "\n",
    "full_y_train = np.log(full_y_train)\n",
    "full_y_test = np.log(full_y_test)"
   ]
  },
  {
   "cell_type": "code",
   "execution_count": 1975,
   "metadata": {},
   "outputs": [
    {
     "data": {
      "text/plain": [
       "GradientBoostingRegressor(alpha=0.9, criterion='friedman_mse', init=None,\n",
       "                          learning_rate=0.1, loss='ls', max_depth=3,\n",
       "                          max_features=None, max_leaf_nodes=None,\n",
       "                          min_impurity_decrease=0.0, min_impurity_split=None,\n",
       "                          min_samples_leaf=1, min_samples_split=2,\n",
       "                          min_weight_fraction_leaf=0.0, n_estimators=100,\n",
       "                          n_iter_no_change=None, presort='auto',\n",
       "                          random_state=None, subsample=1.0, tol=0.0001,\n",
       "                          validation_fraction=0.1, verbose=0, warm_start=False)"
      ]
     },
     "execution_count": 1975,
     "metadata": {},
     "output_type": "execute_result"
    }
   ],
   "source": [
    "full_model_ols = LinearRegression()\n",
    "full_model_ridge = Ridge()\n",
    "full_model_gradient = GradientBoostingRegressor()\n",
    "\n",
    "full_model_ols.fit(full_x_train, full_y_train)\n",
    "full_model_ridge.fit(full_x_train, full_y_train)\n",
    "full_model_gradient.fit(full_x_train, full_y_train)"
   ]
  },
  {
   "cell_type": "markdown",
   "metadata": {},
   "source": [
    "### R^2"
   ]
  },
  {
   "cell_type": "code",
   "execution_count": 1976,
   "metadata": {},
   "outputs": [
    {
     "name": "stdout",
     "output_type": "stream",
     "text": [
      "Simple Linear Test Score: 0.9923\n",
      "Ridge Test Score: 0.9921\n",
      "Gradient Regressor Test Score: 0.9921\n"
     ]
    }
   ],
   "source": [
    "print('Simple Linear Test Score: %.4f'%full_model_ols.score(full_x_test, full_y_test))\n",
    "print('Ridge Test Score: %.4f'%full_model_ridge.score(full_x_test, full_y_test))\n",
    "print('Gradient Regressor Test Score: %.4f'%full_model_gradient.score(full_x_test, full_y_test))"
   ]
  },
  {
   "cell_type": "markdown",
   "metadata": {},
   "source": [
    "### RMSE"
   ]
  },
  {
   "cell_type": "code",
   "execution_count": 2044,
   "metadata": {},
   "outputs": [
    {
     "name": "stdout",
     "output_type": "stream",
     "text": [
      "Simple Linear RMSE Score: 49.61277\n",
      "Ridge RMSE Score: 50.37211\n",
      "Gradient Regressor RMSE Score: 49.64466\n"
     ]
    }
   ],
   "source": [
    "print('Simple Linear RMSE Score: %.5f' % sqrt(mean_squared_error(np.exp(full_model_ols.predict(full_x_test)), np.exp(full_y_test))))\n",
    "print('Ridge RMSE Score: %.5f' % sqrt(mean_squared_error(np.exp(full_model_ridge.predict(full_x_test)), np.exp(full_y_test))))\n",
    "print('Gradient Regressor RMSE Score: %.5f' % sqrt(mean_squared_error(np.exp(full_model_gradient.predict(full_x_test)), np.exp(full_y_test))))\n"
   ]
  },
  {
   "cell_type": "markdown",
   "metadata": {},
   "source": [
    "### Top Features"
   ]
  },
  {
   "cell_type": "code",
   "execution_count": 2009,
   "metadata": {},
   "outputs": [],
   "source": [
    "full_top = [i[0] for i in sorted(list(zip(full_x_train,full_model_gradient.feature_importances_)), key = lambda x: x[1], reverse = True)][:10]"
   ]
  },
  {
   "cell_type": "code",
   "execution_count": 2010,
   "metadata": {},
   "outputs": [
    {
     "data": {
      "text/plain": [
       "['zri_1y',\n",
       " 'zri_2y',\n",
       " 'median_rent_5y',\n",
       " 'median_rent_4y',\n",
       " 'zri_3y',\n",
       " 'owner_occupied_housing_units_upper_value_quartile_5y',\n",
       " 'income_per_capita_3y',\n",
       " 'owner_occupied_housing_units_median_value_5y',\n",
       " 'A03210_4y',\n",
       " 'N18450_5y']"
      ]
     },
     "execution_count": 2010,
     "metadata": {},
     "output_type": "execute_result"
    }
   ],
   "source": [
    "full_top"
   ]
  },
  {
   "cell_type": "markdown",
   "metadata": {},
   "source": [
    "## Model with just top 10 most important features"
   ]
  },
  {
   "cell_type": "code",
   "execution_count": 2011,
   "metadata": {},
   "outputs": [],
   "source": [
    "top_full_x_train = full_x_train[full_top]\n",
    "top_full_x_test = full_x_test[full_top]"
   ]
  },
  {
   "cell_type": "code",
   "execution_count": 2012,
   "metadata": {},
   "outputs": [],
   "source": [
    "top_full_y_train = full_y_train.copy()\n",
    "top_full_y_test = full_y_test.copy()"
   ]
  },
  {
   "cell_type": "code",
   "execution_count": 2013,
   "metadata": {},
   "outputs": [
    {
     "data": {
      "text/plain": [
       "GradientBoostingRegressor(alpha=0.9, criterion='friedman_mse', init=None,\n",
       "                          learning_rate=0.1, loss='ls', max_depth=3,\n",
       "                          max_features=None, max_leaf_nodes=None,\n",
       "                          min_impurity_decrease=0.0, min_impurity_split=None,\n",
       "                          min_samples_leaf=1, min_samples_split=2,\n",
       "                          min_weight_fraction_leaf=0.0, n_estimators=100,\n",
       "                          n_iter_no_change=None, presort='auto',\n",
       "                          random_state=None, subsample=1.0, tol=0.0001,\n",
       "                          validation_fraction=0.1, verbose=0, warm_start=False)"
      ]
     },
     "execution_count": 2013,
     "metadata": {},
     "output_type": "execute_result"
    }
   ],
   "source": [
    "top_full_model_ols = LinearRegression()\n",
    "top_full_model_ridge = Ridge()\n",
    "top_full_model_gradient = GradientBoostingRegressor()\n",
    "\n",
    "top_full_model_ols.fit(top_full_x_train, top_full_y_train)\n",
    "top_full_model_ridge.fit(top_full_x_train, top_full_y_train)\n",
    "top_full_model_gradient.fit(top_full_x_train, top_full_y_train)"
   ]
  },
  {
   "cell_type": "markdown",
   "metadata": {},
   "source": [
    "### R^2"
   ]
  },
  {
   "cell_type": "code",
   "execution_count": 2021,
   "metadata": {},
   "outputs": [
    {
     "name": "stdout",
     "output_type": "stream",
     "text": [
      "Simple Linear Test Score: 0.9924\n",
      "Ridge Test Score: 0.9923\n",
      "Gradient Regressor Test Score: 0.9920\n"
     ]
    }
   ],
   "source": [
    "print('Simple Linear Test Score: %.4f'%top_full_model_ols.score(top_full_x_test, top_full_y_test))\n",
    "print('Ridge Test Score: %.4f'%top_full_model_ridge.score(top_full_x_test, top_full_y_test))\n",
    "print('Gradient Regressor Test Score: %.4f'%top_full_model_gradient.score(top_full_x_test, top_full_y_test))"
   ]
  },
  {
   "cell_type": "markdown",
   "metadata": {},
   "source": [
    "### RMSE"
   ]
  },
  {
   "cell_type": "code",
   "execution_count": 2041,
   "metadata": {},
   "outputs": [
    {
     "name": "stdout",
     "output_type": "stream",
     "text": [
      "Simple Linear RMSE Score: 48.19237\n",
      "Ridge RMSE Score: 48.78454\n",
      "Gradient Regressor RMSE Score: 49.60003\n"
     ]
    }
   ],
   "source": [
    "print('Simple Linear RMSE Score: %.5f' % sqrt(mean_squared_error(np.exp(top_full_model_ols.predict(top_full_x_test)), np.exp(top_full_y_test))))\n",
    "print('Ridge RMSE Score: %.5f' % sqrt(mean_squared_error(np.exp(top_full_model_ridge.predict(top_full_x_test)), np.exp(top_full_y_test))))\n",
    "print('Gradient Regressor RMSE Score: %.5f' % sqrt(mean_squared_error(np.exp(top_full_model_gradient.predict(top_full_x_test)), np.exp(top_full_y_test))))\n"
   ]
  },
  {
   "cell_type": "markdown",
   "metadata": {},
   "source": [
    "## Voting Regressor (Census)"
   ]
  },
  {
   "cell_type": "code",
   "execution_count": 1374,
   "metadata": {
    "collapsed": true
   },
   "outputs": [
    {
     "data": {
      "text/plain": [
       "VotingRegressor(estimators=[('ols',\n",
       "                             LinearRegression(copy_X=True, fit_intercept=True,\n",
       "                                              n_jobs=None, normalize=False)),\n",
       "                            ('rg',\n",
       "                             Ridge(alpha=1.0, copy_X=True, fit_intercept=True,\n",
       "                                   max_iter=None, normalize=False,\n",
       "                                   random_state=None, solver='auto',\n",
       "                                   tol=0.001)),\n",
       "                            ('gr',\n",
       "                             GradientBoostingRegressor(alpha=0.9,\n",
       "                                                       criterion='friedman_mse',\n",
       "                                                       init=None,\n",
       "                                                       learning_rate=0.1,\n",
       "                                                       loss='ls', max_depth=3,\n",
       "                                                       max_features=None,\n",
       "                                                       max_leaf_nodes=None,\n",
       "                                                       min_impurity_decrease=0.0,\n",
       "                                                       min_impurity_split=None,\n",
       "                                                       min_samples_leaf=1,\n",
       "                                                       min_samples_split=2,\n",
       "                                                       min_weight_fraction_leaf=0.0,\n",
       "                                                       n_estimators=100,\n",
       "                                                       n_iter_no_change=None,\n",
       "                                                       presort='auto',\n",
       "                                                       random_state=None,\n",
       "                                                       subsample=1.0,\n",
       "                                                       tol=0.0001,\n",
       "                                                       validation_fraction=0.1,\n",
       "                                                       verbose=0,\n",
       "                                                       warm_start=False))],\n",
       "                n_jobs=None, weights=None)"
      ]
     },
     "execution_count": 1374,
     "metadata": {},
     "output_type": "execute_result"
    }
   ],
   "source": [
    "from sklearn.ensemble import VotingRegressor\n",
    "\n",
    "VR = VotingRegressor([('ols',model_ols),('rg', model_ridge),('gr',model_gradient)])\n",
    "\n",
    "VR.fit(x_train, y_train)"
   ]
  },
  {
   "cell_type": "markdown",
   "metadata": {},
   "source": [
    "### Train Score"
   ]
  },
  {
   "cell_type": "code",
   "execution_count": 1464,
   "metadata": {},
   "outputs": [
    {
     "name": "stdout",
     "output_type": "stream",
     "text": [
      "Voting Regressor Train Score: 0.9941\n"
     ]
    }
   ],
   "source": [
    "print('Voting Regressor Train Score: %.4f'%VR.score(x_train, y_train))"
   ]
  },
  {
   "cell_type": "markdown",
   "metadata": {},
   "source": [
    "### Test Score"
   ]
  },
  {
   "cell_type": "code",
   "execution_count": 1465,
   "metadata": {},
   "outputs": [
    {
     "name": "stdout",
     "output_type": "stream",
     "text": [
      "Voting Regressor Test Score: 0.9924\n"
     ]
    }
   ],
   "source": [
    "print('Voting Regressor Test Score: %.4f'%VR.score(x_test, y_test))"
   ]
  },
  {
   "cell_type": "markdown",
   "metadata": {},
   "source": [
    "### Kaggle Score"
   ]
  },
  {
   "cell_type": "code",
   "execution_count": 1466,
   "metadata": {},
   "outputs": [
    {
     "name": "stdout",
     "output_type": "stream",
     "text": [
      "Voting Regressor Kaggle Score: 0.03147\n"
     ]
    }
   ],
   "source": [
    "print('Voting Regressor Kaggle Score: %.5f'  %sqrt(mean_squared_error(VR.predict(x_test), y_test)))"
   ]
  },
  {
   "cell_type": "markdown",
   "metadata": {},
   "source": [
    "### RMSE"
   ]
  },
  {
   "cell_type": "code",
   "execution_count": 1893,
   "metadata": {},
   "outputs": [
    {
     "name": "stdout",
     "output_type": "stream",
     "text": [
      "Voting Regressor Kaggle Score: 49.02019\n"
     ]
    }
   ],
   "source": [
    "print('Voting Regressor Kaggle Score: %.5f'  %sqrt(mean_squared_error(np.exp(VR.predict(x_test)), np.exp(y_test))))"
   ]
  },
  {
   "cell_type": "markdown",
   "metadata": {},
   "source": [
    "### Accuracy"
   ]
  },
  {
   "cell_type": "code",
   "execution_count": 1452,
   "metadata": {},
   "outputs": [],
   "source": [
    "VR_prd = pd.Series(np.exp(VR.predict(x_test)), index = y_test.index)"
   ]
  },
  {
   "cell_type": "code",
   "execution_count": 1471,
   "metadata": {},
   "outputs": [
    {
     "name": "stdout",
     "output_type": "stream",
     "text": [
      "Average Accuracy for VR Regressor is: 97.65\n"
     ]
    }
   ],
   "source": [
    "print(\"Average Accuracy for VR Regressor is: %.2f\" %((1 - np.abs(np.exp(y_test)/VR_prd - 1).mean())*100))"
   ]
  },
  {
   "cell_type": "markdown",
   "metadata": {},
   "source": [
    "## Voting Regressor (IRS)"
   ]
  },
  {
   "cell_type": "code",
   "execution_count": 1472,
   "metadata": {
    "collapsed": true
   },
   "outputs": [
    {
     "data": {
      "text/plain": [
       "VotingRegressor(estimators=[('ols',\n",
       "                             LinearRegression(copy_X=True, fit_intercept=True,\n",
       "                                              n_jobs=None, normalize=False)),\n",
       "                            ('rg',\n",
       "                             Ridge(alpha=1.0, copy_X=True, fit_intercept=True,\n",
       "                                   max_iter=None, normalize=False,\n",
       "                                   random_state=None, solver='auto',\n",
       "                                   tol=0.001)),\n",
       "                            ('gr',\n",
       "                             GradientBoostingRegressor(alpha=0.9,\n",
       "                                                       criterion='friedman_mse',\n",
       "                                                       init=None,\n",
       "                                                       learning_rate=0.1,\n",
       "                                                       loss='ls', max_depth=3,\n",
       "                                                       max_features=None,\n",
       "                                                       max_leaf_nodes=None,\n",
       "                                                       min_impurity_decrease=0.0,\n",
       "                                                       min_impurity_split=None,\n",
       "                                                       min_samples_leaf=1,\n",
       "                                                       min_samples_split=2,\n",
       "                                                       min_weight_fraction_leaf=0.0,\n",
       "                                                       n_estimators=100,\n",
       "                                                       n_iter_no_change=None,\n",
       "                                                       presort='auto',\n",
       "                                                       random_state=None,\n",
       "                                                       subsample=1.0,\n",
       "                                                       tol=0.0001,\n",
       "                                                       validation_fraction=0.1,\n",
       "                                                       verbose=0,\n",
       "                                                       warm_start=False))],\n",
       "                n_jobs=None, weights=None)"
      ]
     },
     "execution_count": 1472,
     "metadata": {},
     "output_type": "execute_result"
    }
   ],
   "source": [
    "from sklearn.ensemble import VotingRegressor\n",
    "\n",
    "irs_VR = VotingRegressor([('ols',irs_model_ols),('rg', irs_model_ridge),('gr',irs_model_gradient)])\n",
    "\n",
    "irs_VR.fit(irs_x_train, irs_y_train)"
   ]
  },
  {
   "cell_type": "code",
   "execution_count": 1477,
   "metadata": {},
   "outputs": [
    {
     "name": "stdout",
     "output_type": "stream",
     "text": [
      "Voting Regressor Train Score: 0.9951\n"
     ]
    }
   ],
   "source": [
    "print('Voting Regressor Train Score: %.4f'%irs_VR.score(irs_x_train, irs_y_train))"
   ]
  },
  {
   "cell_type": "code",
   "execution_count": 1478,
   "metadata": {},
   "outputs": [
    {
     "name": "stdout",
     "output_type": "stream",
     "text": [
      "Voting Regressor Test Score: 0.9921\n"
     ]
    }
   ],
   "source": [
    "print('Voting Regressor Test Score: %.4f'%irs_VR.score(irs_x_test, irs_y_test))"
   ]
  },
  {
   "cell_type": "code",
   "execution_count": 1479,
   "metadata": {},
   "outputs": [
    {
     "name": "stdout",
     "output_type": "stream",
     "text": [
      "Voting Regressor Kaggle Score: 0.03206\n"
     ]
    }
   ],
   "source": [
    "print('Voting Regressor Kaggle Score: %.5f'  %sqrt(mean_squared_error(irs_VR.predict(irs_x_test), irs_y_test)))"
   ]
  },
  {
   "cell_type": "code",
   "execution_count": 2037,
   "metadata": {},
   "outputs": [
    {
     "name": "stdout",
     "output_type": "stream",
     "text": [
      "Average RMSE: 50.68215\n"
     ]
    }
   ],
   "source": [
    "print('Average RMSE: %.5f'  %sqrt(mean_squared_error(np.exp(irs_VR.predict(irs_x_test)), np.exp(irs_y_test))))"
   ]
  },
  {
   "cell_type": "code",
   "execution_count": 1558,
   "metadata": {},
   "outputs": [
    {
     "name": "stdout",
     "output_type": "stream",
     "text": [
      "Average Accuracy for VR Regressor is: 97.61\n"
     ]
    }
   ],
   "source": [
    "irs_VR_prd = pd.Series(np.exp(irs_VR.predict(irs_x_test)), index = irs_y_test.index)\n",
    "\n",
    "\n",
    "print(\"Average Accuracy for VR Regressor is: %.2f\" %((1 - np.abs(np.exp(irs_y_test)/irs_VR_prd - 1).mean())*100))\n"
   ]
  },
  {
   "cell_type": "markdown",
   "metadata": {},
   "source": [
    "## Average of 2 Voting Regressors"
   ]
  },
  {
   "cell_type": "code",
   "execution_count": 1898,
   "metadata": {},
   "outputs": [],
   "source": [
    "VR_together = pd.concat([VR_prd, irs_VR_prd], join = 'inner',axis = 1)"
   ]
  },
  {
   "cell_type": "code",
   "execution_count": 1899,
   "metadata": {},
   "outputs": [],
   "source": [
    "VR_together.columns = ['census', 'irs']"
   ]
  },
  {
   "cell_type": "code",
   "execution_count": 1900,
   "metadata": {},
   "outputs": [],
   "source": [
    "VR_together['average'] = (VR_together.census + VR_together.irs)/2"
   ]
  },
  {
   "cell_type": "code",
   "execution_count": 1904,
   "metadata": {},
   "outputs": [],
   "source": [
    "VR_together = pd.concat([VR_together.average,np.exp(y_test)], join = 'inner', axis = 1)"
   ]
  },
  {
   "cell_type": "code",
   "execution_count": 1909,
   "metadata": {},
   "outputs": [
    {
     "name": "stdout",
     "output_type": "stream",
     "text": [
      "Average RMSE: 48.424\n"
     ]
    }
   ],
   "source": [
    "print(\"Average RMSE: %.3f\" %sqrt(mean_squared_error(VR_together.average, VR_together['ZRI+3'])))"
   ]
  },
  {
   "cell_type": "code",
   "execution_count": 1910,
   "metadata": {},
   "outputs": [
    {
     "data": {
      "text/plain": [
       "97.69578632070164"
      ]
     },
     "execution_count": 1910,
     "metadata": {},
     "output_type": "execute_result"
    }
   ],
   "source": [
    "(1 - np.abs(np.exp(y_test)/VR_together.average - 1)).mean()*100"
   ]
  },
  {
   "cell_type": "markdown",
   "metadata": {},
   "source": [
    "## Voting Regressor for Combined Census and IRS"
   ]
  },
  {
   "cell_type": "code",
   "execution_count": 2038,
   "metadata": {
    "collapsed": true
   },
   "outputs": [
    {
     "data": {
      "text/plain": [
       "VotingRegressor(estimators=[('ols',\n",
       "                             LinearRegression(copy_X=True, fit_intercept=True,\n",
       "                                              n_jobs=None, normalize=False)),\n",
       "                            ('rg',\n",
       "                             Ridge(alpha=1.0, copy_X=True, fit_intercept=True,\n",
       "                                   max_iter=None, normalize=False,\n",
       "                                   random_state=None, solver='auto',\n",
       "                                   tol=0.001)),\n",
       "                            ('gr',\n",
       "                             GradientBoostingRegressor(alpha=0.9,\n",
       "                                                       criterion='friedman_mse',\n",
       "                                                       init=None,\n",
       "                                                       learning_rate=0.1,\n",
       "                                                       loss='ls', max_depth=3,\n",
       "                                                       max_features=None,\n",
       "                                                       max_leaf_nodes=None,\n",
       "                                                       min_impurity_decrease=0.0,\n",
       "                                                       min_impurity_split=None,\n",
       "                                                       min_samples_leaf=1,\n",
       "                                                       min_samples_split=2,\n",
       "                                                       min_weight_fraction_leaf=0.0,\n",
       "                                                       n_estimators=100,\n",
       "                                                       n_iter_no_change=None,\n",
       "                                                       presort='auto',\n",
       "                                                       random_state=None,\n",
       "                                                       subsample=1.0,\n",
       "                                                       tol=0.0001,\n",
       "                                                       validation_fraction=0.1,\n",
       "                                                       verbose=0,\n",
       "                                                       warm_start=False))],\n",
       "                n_jobs=None, weights=None)"
      ]
     },
     "execution_count": 2038,
     "metadata": {},
     "output_type": "execute_result"
    }
   ],
   "source": [
    "from sklearn.ensemble import VotingRegressor\n",
    "\n",
    "full_VR = VotingRegressor([('ols',full_model_ols),('rg', full_model_ridge),('gr', full_model_gradient)])\n",
    "\n",
    "full_VR.fit(full_x_train, full_y_train)"
   ]
  },
  {
   "cell_type": "markdown",
   "metadata": {},
   "source": [
    "### R^2"
   ]
  },
  {
   "cell_type": "code",
   "execution_count": 2039,
   "metadata": {},
   "outputs": [
    {
     "name": "stdout",
     "output_type": "stream",
     "text": [
      "Voting Regressor Test Score: 0.9923\n"
     ]
    }
   ],
   "source": [
    "print('Voting Regressor Test Score: %.4f'%full_VR.score(full_x_test, full_y_test))"
   ]
  },
  {
   "cell_type": "markdown",
   "metadata": {},
   "source": [
    "### RMSE"
   ]
  },
  {
   "cell_type": "code",
   "execution_count": 2036,
   "metadata": {},
   "outputs": [
    {
     "name": "stdout",
     "output_type": "stream",
     "text": [
      "Average RMSE: 49.23186\n"
     ]
    }
   ],
   "source": [
    "print('Average RMSE: %.5f'  %sqrt(mean_squared_error(np.exp(full_VR.predict(full_x_test)), np.exp(full_y_test))))\n"
   ]
  },
  {
   "cell_type": "markdown",
   "metadata": {},
   "source": [
    "## Voting Regressor for Top 10"
   ]
  },
  {
   "cell_type": "code",
   "execution_count": 2032,
   "metadata": {
    "collapsed": true
   },
   "outputs": [
    {
     "data": {
      "text/plain": [
       "VotingRegressor(estimators=[('ols',\n",
       "                             LinearRegression(copy_X=True, fit_intercept=True,\n",
       "                                              n_jobs=None, normalize=False)),\n",
       "                            ('rg',\n",
       "                             Ridge(alpha=1.0, copy_X=True, fit_intercept=True,\n",
       "                                   max_iter=None, normalize=False,\n",
       "                                   random_state=None, solver='auto',\n",
       "                                   tol=0.001)),\n",
       "                            ('gr',\n",
       "                             GradientBoostingRegressor(alpha=0.9,\n",
       "                                                       criterion='friedman_mse',\n",
       "                                                       init=None,\n",
       "                                                       learning_rate=0.1,\n",
       "                                                       loss='ls', max_depth=3,\n",
       "                                                       max_features=None,\n",
       "                                                       max_leaf_nodes=None,\n",
       "                                                       min_impurity_decrease=0.0,\n",
       "                                                       min_impurity_split=None,\n",
       "                                                       min_samples_leaf=1,\n",
       "                                                       min_samples_split=2,\n",
       "                                                       min_weight_fraction_leaf=0.0,\n",
       "                                                       n_estimators=100,\n",
       "                                                       n_iter_no_change=None,\n",
       "                                                       presort='auto',\n",
       "                                                       random_state=None,\n",
       "                                                       subsample=1.0,\n",
       "                                                       tol=0.0001,\n",
       "                                                       validation_fraction=0.1,\n",
       "                                                       verbose=0,\n",
       "                                                       warm_start=False))],\n",
       "                n_jobs=None, weights=None)"
      ]
     },
     "execution_count": 2032,
     "metadata": {},
     "output_type": "execute_result"
    }
   ],
   "source": [
    "from sklearn.ensemble import VotingRegressor\n",
    "\n",
    "top_full_VR = VotingRegressor([('ols',top_full_model_ols),('rg', top_full_model_ridge),('gr', top_full_model_gradient)])\n",
    "\n",
    "top_full_VR.fit(top_full_x_train, top_full_y_train)\n"
   ]
  },
  {
   "cell_type": "markdown",
   "metadata": {},
   "source": [
    "### R^2"
   ]
  },
  {
   "cell_type": "code",
   "execution_count": 2033,
   "metadata": {},
   "outputs": [
    {
     "name": "stdout",
     "output_type": "stream",
     "text": [
      "Voting Regressor Test Score: 0.9924\n"
     ]
    }
   ],
   "source": [
    "print('Voting Regressor Test Score: %.4f'%top_full_VR.score(top_full_x_test, top_full_y_test))"
   ]
  },
  {
   "cell_type": "markdown",
   "metadata": {},
   "source": [
    "### RMSE"
   ]
  },
  {
   "cell_type": "code",
   "execution_count": 2043,
   "metadata": {},
   "outputs": [
    {
     "name": "stdout",
     "output_type": "stream",
     "text": [
      "Average RMSE: 48.34092\n"
     ]
    }
   ],
   "source": [
    "print('Average RMSE: %.5f'  %sqrt(mean_squared_error(np.exp(top_full_VR.predict(top_full_x_test)), np.exp(top_full_y_test))))\n"
   ]
  },
  {
   "cell_type": "markdown",
   "metadata": {},
   "source": [
    "# Second Level Model (based on census and irs predictions)"
   ]
  },
  {
   "cell_type": "code",
   "execution_count": 1457,
   "metadata": {},
   "outputs": [],
   "source": [
    "together = pd.concat([together,np.exp(y_test)], join = 'inner', axis = 1)"
   ]
  },
  {
   "cell_type": "code",
   "execution_count": 1458,
   "metadata": {},
   "outputs": [],
   "source": [
    "from sklearn.model_selection import train_test_split\n",
    "X_train, X_test, Y_train, Y_test = train_test_split(together.iloc[:,:2], together.iloc[:,3], test_size=0.20, random_state=42)"
   ]
  },
  {
   "cell_type": "code",
   "execution_count": 1459,
   "metadata": {},
   "outputs": [],
   "source": [
    "X_train = np.log(X_train)\n",
    "X_test = np.log(X_test)\n",
    "Y_train = np.log(Y_train)\n",
    "Y_test = np.log(Y_test)"
   ]
  },
  {
   "cell_type": "code",
   "execution_count": 1460,
   "metadata": {},
   "outputs": [
    {
     "data": {
      "text/plain": [
       "GradientBoostingRegressor(alpha=0.9, criterion='friedman_mse', init=None,\n",
       "                          learning_rate=0.1, loss='ls', max_depth=3,\n",
       "                          max_features=None, max_leaf_nodes=None,\n",
       "                          min_impurity_decrease=0.0, min_impurity_split=None,\n",
       "                          min_samples_leaf=1, min_samples_split=2,\n",
       "                          min_weight_fraction_leaf=0.0, n_estimators=100,\n",
       "                          n_iter_no_change=None, presort='auto',\n",
       "                          random_state=None, subsample=1.0, tol=0.0001,\n",
       "                          validation_fraction=0.1, verbose=0, warm_start=False)"
      ]
     },
     "execution_count": 1460,
     "metadata": {},
     "output_type": "execute_result"
    }
   ],
   "source": [
    "second_model_ols = LinearRegression()\n",
    "second_model_ridge = Ridge()\n",
    "second_model_gradient = GradientBoostingRegressor()\n",
    "\n",
    "second_model_ols.fit(X_train, Y_train)\n",
    "second_model_ridge.fit(X_train, Y_train)\n",
    "second_model_gradient.fit(X_train, Y_train)"
   ]
  },
  {
   "cell_type": "code",
   "execution_count": 1461,
   "metadata": {},
   "outputs": [
    {
     "name": "stdout",
     "output_type": "stream",
     "text": [
      "0.9928272033748813\n",
      "0.9928261802322604\n",
      "0.9935607575883438\n"
     ]
    }
   ],
   "source": [
    "print(second_model_ols.score(X_train, Y_train))\n",
    "print(second_model_ridge.score(X_train, Y_train))\n",
    "print(second_model_gradient.score(X_train, Y_train))"
   ]
  },
  {
   "cell_type": "code",
   "execution_count": 1462,
   "metadata": {},
   "outputs": [
    {
     "name": "stdout",
     "output_type": "stream",
     "text": [
      "0.9923927436413895\n",
      "0.9923827091879923\n",
      "0.9922117275494151\n"
     ]
    }
   ],
   "source": [
    "print(second_model_ols.score(X_test, Y_test))\n",
    "print(second_model_ridge.score(X_test, Y_test))\n",
    "print(second_model_gradient.score(X_test, Y_test))"
   ]
  },
  {
   "cell_type": "code",
   "execution_count": 1463,
   "metadata": {},
   "outputs": [
    {
     "name": "stdout",
     "output_type": "stream",
     "text": [
      "0.03123234217610667\n",
      "0.0312529341074772\n",
      "0.03160174729959855\n"
     ]
    }
   ],
   "source": [
    "print(sqrt(mean_squared_error(second_model_ols.predict(X_test), Y_test)))\n",
    "print(sqrt(mean_squared_error(second_model_ridge.predict(X_test), Y_test)))\n",
    "print(sqrt(mean_squared_error(second_model_gradient.predict(X_test), Y_test)))"
   ]
  },
  {
   "cell_type": "code",
   "execution_count": 1484,
   "metadata": {},
   "outputs": [
    {
     "data": {
      "text/plain": [
       "97.71715692029895"
      ]
     },
     "execution_count": 1484,
     "metadata": {},
     "output_type": "execute_result"
    }
   ],
   "source": [
    "(1 - np.abs(np.exp(Y_test)/pd.Series(np.exp(second_model_ols.predict(X_test)), index = Y_test.index) - 1).mean())*100\n",
    "\n"
   ]
  },
  {
   "cell_type": "markdown",
   "metadata": {},
   "source": [
    "# Second Level Model (based on Voting Regressors of Census and IRS)"
   ]
  },
  {
   "cell_type": "code",
   "execution_count": 1594,
   "metadata": {},
   "outputs": [],
   "source": [
    "VR_together = pd.concat([VR_together,np.exp(y_test)], join = 'inner', axis = 1)"
   ]
  },
  {
   "cell_type": "code",
   "execution_count": 1595,
   "metadata": {},
   "outputs": [
    {
     "data": {
      "text/plain": [
       "GradientBoostingRegressor(alpha=0.9, criterion='friedman_mse', init=None,\n",
       "                          learning_rate=0.1, loss='ls', max_depth=3,\n",
       "                          max_features=None, max_leaf_nodes=None,\n",
       "                          min_impurity_decrease=0.0, min_impurity_split=None,\n",
       "                          min_samples_leaf=1, min_samples_split=2,\n",
       "                          min_weight_fraction_leaf=0.0, n_estimators=100,\n",
       "                          n_iter_no_change=None, presort='auto',\n",
       "                          random_state=None, subsample=1.0, tol=0.0001,\n",
       "                          validation_fraction=0.1, verbose=0, warm_start=False)"
      ]
     },
     "execution_count": 1595,
     "metadata": {},
     "output_type": "execute_result"
    }
   ],
   "source": [
    "from sklearn.model_selection import train_test_split\n",
    "X_train, X_test, Y_train, Y_test = train_test_split(VR_together.iloc[:,:2], VR_together.iloc[:,3], test_size=0.20, random_state=42)\n",
    "\n",
    "X_train = np.log(X_train)\n",
    "X_test = np.log(X_test)\n",
    "Y_train = np.log(Y_train)\n",
    "Y_test = np.log(Y_test)\n",
    "\n",
    "second_model_ols = LinearRegression()\n",
    "second_model_ridge = Ridge()\n",
    "second_model_gradient = GradientBoostingRegressor()\n",
    "\n",
    "second_model_ols.fit(X_train, Y_train)\n",
    "second_model_ridge.fit(X_train, Y_train)\n",
    "second_model_gradient.fit(X_train, Y_train)"
   ]
  },
  {
   "cell_type": "code",
   "execution_count": 1596,
   "metadata": {},
   "outputs": [
    {
     "name": "stdout",
     "output_type": "stream",
     "text": [
      "0.9928287381021246\n",
      "0.992826410275961\n",
      "0.993618028628102\n"
     ]
    }
   ],
   "source": [
    "print(second_model_ols.score(X_train, Y_train))\n",
    "print(second_model_ridge.score(X_train, Y_train))\n",
    "print(second_model_gradient.score(X_train, Y_train))"
   ]
  },
  {
   "cell_type": "code",
   "execution_count": 1597,
   "metadata": {},
   "outputs": [
    {
     "name": "stdout",
     "output_type": "stream",
     "text": [
      "0.9924471754108709\n",
      "0.9924333781323569\n",
      "0.9920866483413247\n"
     ]
    }
   ],
   "source": [
    "print(second_model_ols.score(X_test, Y_test))\n",
    "print(second_model_ridge.score(X_test, Y_test))\n",
    "print(second_model_gradient.score(X_test, Y_test))"
   ]
  },
  {
   "cell_type": "code",
   "execution_count": 1598,
   "metadata": {},
   "outputs": [
    {
     "name": "stdout",
     "output_type": "stream",
     "text": [
      "0.031120404078258723\n",
      "0.031148816029516177\n",
      "0.031854497675436674\n"
     ]
    }
   ],
   "source": [
    "print(sqrt(mean_squared_error(second_model_ols.predict(X_test), Y_test)))\n",
    "print(sqrt(mean_squared_error(second_model_ridge.predict(X_test), Y_test)))\n",
    "print(sqrt(mean_squared_error(second_model_gradient.predict(X_test), Y_test)))"
   ]
  },
  {
   "cell_type": "code",
   "execution_count": 1600,
   "metadata": {},
   "outputs": [
    {
     "data": {
      "text/plain": [
       "97.73532606189075"
      ]
     },
     "execution_count": 1600,
     "metadata": {},
     "output_type": "execute_result"
    }
   ],
   "source": [
    "(1 - np.abs(np.exp(Y_test)/pd.Series(np.exp(second_model_ols.predict(X_test)), index = Y_test.index) - 1).mean())*100"
   ]
  },
  {
   "cell_type": "code",
   "execution_count": null,
   "metadata": {},
   "outputs": [],
   "source": []
  },
  {
   "cell_type": "code",
   "execution_count": null,
   "metadata": {},
   "outputs": [],
   "source": []
  },
  {
   "cell_type": "code",
   "execution_count": null,
   "metadata": {},
   "outputs": [],
   "source": []
  },
  {
   "cell_type": "code",
   "execution_count": null,
   "metadata": {},
   "outputs": [],
   "source": []
  },
  {
   "cell_type": "code",
   "execution_count": null,
   "metadata": {},
   "outputs": [],
   "source": []
  }
 ],
 "metadata": {
  "kernelspec": {
   "display_name": "Python 3",
   "language": "python",
   "name": "python3"
  },
  "language_info": {
   "codemirror_mode": {
    "name": "ipython",
    "version": 3
   },
   "file_extension": ".py",
   "mimetype": "text/x-python",
   "name": "python",
   "nbconvert_exporter": "python",
   "pygments_lexer": "ipython3",
   "version": "3.7.4"
  }
 },
 "nbformat": 4,
 "nbformat_minor": 2
}
