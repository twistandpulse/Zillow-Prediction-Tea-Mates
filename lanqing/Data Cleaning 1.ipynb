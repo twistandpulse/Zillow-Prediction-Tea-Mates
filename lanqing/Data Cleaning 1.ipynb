{
 "cells": [
  {
   "cell_type": "markdown",
   "metadata": {},
   "source": [
    "## Data Cleaning"
   ]
  },
  {
   "cell_type": "markdown",
   "metadata": {},
   "source": [
    "### Load Data Sets"
   ]
  },
  {
   "cell_type": "code",
   "execution_count": 100,
   "metadata": {},
   "outputs": [],
   "source": [
    "import glob, os\n",
    "import numpy as np\n",
    "import pandas as pd\n",
    "import re"
   ]
  },
  {
   "cell_type": "code",
   "execution_count": 101,
   "metadata": {},
   "outputs": [],
   "source": [
    "zillow_raw = pd.read_csv('data/original_data/zillow.csv')"
   ]
  },
  {
   "cell_type": "code",
   "execution_count": 102,
   "metadata": {},
   "outputs": [],
   "source": [
    "raw_2011 = pd.read_csv('data/original_data/zip_codes_2011.csv')\n",
    "raw_2012 = pd.read_csv('data/original_data/zip_codes_2012.csv')\n",
    "raw_2013 = pd.read_csv('data/original_data/zip_codes_2013.csv')\n",
    "raw_2014 = pd.read_csv('data/original_data/zip_codes_2014.csv')\n",
    "raw_2015 = pd.read_csv('data/original_data/zip_codes_2015.csv')\n",
    "raw_2016 = pd.read_csv('data/original_data/zip_codes_2016.csv')\n",
    "raw_2017 = pd.read_csv('data/original_data/zip_codes_2017.csv')"
   ]
  },
  {
   "cell_type": "code",
   "execution_count": 103,
   "metadata": {},
   "outputs": [
    {
     "data": {
      "text/plain": [
       "(13181, 120)"
      ]
     },
     "execution_count": 103,
     "metadata": {},
     "output_type": "execute_result"
    }
   ],
   "source": [
    "zillow_raw.shape"
   ]
  },
  {
   "cell_type": "code",
   "execution_count": 104,
   "metadata": {},
   "outputs": [
    {
     "data": {
      "text/plain": [
       "(33120, 252)"
      ]
     },
     "execution_count": 104,
     "metadata": {},
     "output_type": "execute_result"
    }
   ],
   "source": [
    "raw_2017.shape"
   ]
  },
  {
   "cell_type": "code",
   "execution_count": 105,
   "metadata": {},
   "outputs": [
    {
     "data": {
      "text/html": [
       "<div>\n",
       "<style scoped>\n",
       "    .dataframe tbody tr th:only-of-type {\n",
       "        vertical-align: middle;\n",
       "    }\n",
       "\n",
       "    .dataframe tbody tr th {\n",
       "        vertical-align: top;\n",
       "    }\n",
       "\n",
       "    .dataframe thead th {\n",
       "        text-align: right;\n",
       "    }\n",
       "</style>\n",
       "<table border=\"1\" class=\"dataframe\">\n",
       "  <thead>\n",
       "    <tr style=\"text-align: right;\">\n",
       "      <th></th>\n",
       "      <th>RegionID</th>\n",
       "      <th>RegionName</th>\n",
       "      <th>City</th>\n",
       "      <th>State</th>\n",
       "      <th>Metro</th>\n",
       "      <th>CountyName</th>\n",
       "      <th>SizeRank</th>\n",
       "      <th>2010-09</th>\n",
       "      <th>2010-10</th>\n",
       "      <th>2010-11</th>\n",
       "      <th>...</th>\n",
       "      <th>2019-04</th>\n",
       "      <th>2019-05</th>\n",
       "      <th>2019-06</th>\n",
       "      <th>2019-07</th>\n",
       "      <th>2019-08</th>\n",
       "      <th>2019-09</th>\n",
       "      <th>2019-10</th>\n",
       "      <th>2019-11</th>\n",
       "      <th>2019-12</th>\n",
       "      <th>2020-01</th>\n",
       "    </tr>\n",
       "  </thead>\n",
       "  <tbody>\n",
       "    <tr>\n",
       "      <td>0</td>\n",
       "      <td>61639</td>\n",
       "      <td>10025</td>\n",
       "      <td>New York</td>\n",
       "      <td>NY</td>\n",
       "      <td>New York-Newark-Jersey City</td>\n",
       "      <td>New York County</td>\n",
       "      <td>1</td>\n",
       "      <td>3031.0</td>\n",
       "      <td>3058.0</td>\n",
       "      <td>3031.0</td>\n",
       "      <td>...</td>\n",
       "      <td>3785.0</td>\n",
       "      <td>3788.0</td>\n",
       "      <td>3786.0</td>\n",
       "      <td>3784.0</td>\n",
       "      <td>3766.0</td>\n",
       "      <td>3779.0</td>\n",
       "      <td>3843.0</td>\n",
       "      <td>3873.0</td>\n",
       "      <td>3835.0</td>\n",
       "      <td>NaN</td>\n",
       "    </tr>\n",
       "    <tr>\n",
       "      <td>1</td>\n",
       "      <td>84654</td>\n",
       "      <td>60657</td>\n",
       "      <td>Chicago</td>\n",
       "      <td>IL</td>\n",
       "      <td>Chicago-Naperville-Elgin</td>\n",
       "      <td>Cook County</td>\n",
       "      <td>2</td>\n",
       "      <td>1790.0</td>\n",
       "      <td>1787.0</td>\n",
       "      <td>1784.0</td>\n",
       "      <td>...</td>\n",
       "      <td>2039.0</td>\n",
       "      <td>2070.0</td>\n",
       "      <td>2105.0</td>\n",
       "      <td>2140.0</td>\n",
       "      <td>2168.0</td>\n",
       "      <td>2185.0</td>\n",
       "      <td>2125.0</td>\n",
       "      <td>NaN</td>\n",
       "      <td>2053.0</td>\n",
       "      <td>1996.0</td>\n",
       "    </tr>\n",
       "  </tbody>\n",
       "</table>\n",
       "<p>2 rows × 120 columns</p>\n",
       "</div>"
      ],
      "text/plain": [
       "   RegionID  RegionName      City State                        Metro  \\\n",
       "0     61639       10025  New York    NY  New York-Newark-Jersey City   \n",
       "1     84654       60657   Chicago    IL     Chicago-Naperville-Elgin   \n",
       "\n",
       "        CountyName  SizeRank  2010-09  2010-10  2010-11  ...  2019-04  \\\n",
       "0  New York County         1   3031.0   3058.0   3031.0  ...   3785.0   \n",
       "1      Cook County         2   1790.0   1787.0   1784.0  ...   2039.0   \n",
       "\n",
       "   2019-05  2019-06  2019-07  2019-08  2019-09  2019-10  2019-11  2019-12  \\\n",
       "0   3788.0   3786.0   3784.0   3766.0   3779.0   3843.0   3873.0   3835.0   \n",
       "1   2070.0   2105.0   2140.0   2168.0   2185.0   2125.0      NaN   2053.0   \n",
       "\n",
       "   2020-01  \n",
       "0      NaN  \n",
       "1   1996.0  \n",
       "\n",
       "[2 rows x 120 columns]"
      ]
     },
     "execution_count": 105,
     "metadata": {},
     "output_type": "execute_result"
    }
   ],
   "source": [
    "zillow_raw.head(2)"
   ]
  },
  {
   "cell_type": "markdown",
   "metadata": {},
   "source": [
    "### Check Missingness for Zillow Data"
   ]
  },
  {
   "cell_type": "code",
   "execution_count": 106,
   "metadata": {},
   "outputs": [
    {
     "data": {
      "text/plain": [
       "2010-10       3851\n",
       "2010-11       2742\n",
       "2010-12       2595\n",
       "2011-01       2588\n",
       "2011-03       2572\n",
       "              ... \n",
       "CountyName       0\n",
       "State            0\n",
       "City             0\n",
       "RegionName       0\n",
       "RegionID         0\n",
       "Length: 120, dtype: int64"
      ]
     },
     "execution_count": 106,
     "metadata": {},
     "output_type": "execute_result"
    }
   ],
   "source": [
    "# check how many data missing in each columns\n",
    "df_missing = zillow_raw.isna().sum().sort_values(ascending=False)\n",
    "df_missing"
   ]
  },
  {
   "cell_type": "code",
   "execution_count": 107,
   "metadata": {},
   "outputs": [
    {
     "data": {
      "text/plain": [
       "2010-10       0.292163\n",
       "2010-11       0.208027\n",
       "2010-12       0.196874\n",
       "2011-01       0.196343\n",
       "2011-03       0.195129\n",
       "                ...   \n",
       "CountyName    0.000000\n",
       "State         0.000000\n",
       "City          0.000000\n",
       "RegionName    0.000000\n",
       "RegionID      0.000000\n",
       "Length: 120, dtype: float64"
      ]
     },
     "execution_count": 107,
     "metadata": {},
     "output_type": "execute_result"
    }
   ],
   "source": [
    "# check the percentage of data \n",
    "df_missing/len(zillow_raw)"
   ]
  },
  {
   "cell_type": "code",
   "execution_count": 108,
   "metadata": {},
   "outputs": [],
   "source": [
    "# use forward and backward method to impute missing value\n",
    "#zillow = zillow_raw.ffill(axis = 1).bfill(axis = 1).copy()"
   ]
  },
  {
   "cell_type": "code",
   "execution_count": 109,
   "metadata": {},
   "outputs": [],
   "source": [
    "zillow = zillow_raw.copy()"
   ]
  },
  {
   "cell_type": "code",
   "execution_count": 110,
   "metadata": {},
   "outputs": [
    {
     "data": {
      "text/plain": [
       "142971"
      ]
     },
     "execution_count": 110,
     "metadata": {},
     "output_type": "execute_result"
    }
   ],
   "source": [
    "zillow.isnull().sum().sum()"
   ]
  },
  {
   "cell_type": "markdown",
   "metadata": {},
   "source": [
    "### Get Median Rent of Each Year for Zillow Data"
   ]
  },
  {
   "cell_type": "code",
   "execution_count": 111,
   "metadata": {},
   "outputs": [],
   "source": [
    "zillow[\"2010\"] = zillow[[\"2010-09\", \"2010-10\", \"2010-11\"]].median(axis=1)"
   ]
  },
  {
   "cell_type": "code",
   "execution_count": 112,
   "metadata": {},
   "outputs": [],
   "source": [
    "zillow[\"2011\"] = zillow[[\"2011-01\",\"2011-02\",\"2011-03\",\"2011-04\",\"2011-05\",\"2011-06\",\"2011-07\",\n",
    "                         \"2011-08\",\"2011-09\",\"2011-10\",\"2011-11\",\"2011-12\"]].median(axis=1)"
   ]
  },
  {
   "cell_type": "code",
   "execution_count": 113,
   "metadata": {},
   "outputs": [],
   "source": [
    "zillow[\"2012\"] = zillow[[\"2012-01\",\"2012-02\",\"2012-03\",\"2012-04\",\"2012-05\",\"2012-06\",\"2012-07\",\n",
    "                         \"2012-08\",\"2012-09\",\"2012-10\",\"2012-11\",\"2012-12\"]].median(axis=1)"
   ]
  },
  {
   "cell_type": "code",
   "execution_count": 114,
   "metadata": {},
   "outputs": [],
   "source": [
    "zillow[\"2013\"] = zillow[[\"2013-01\",\"2013-02\",\"2013-03\",\"2013-04\",\"2013-05\",\"2013-06\",\"2013-07\",\n",
    "                         \"2013-08\",\"2013-09\",\"2013-10\",\"2013-11\",\"2013-12\"]].median(axis=1)"
   ]
  },
  {
   "cell_type": "code",
   "execution_count": 115,
   "metadata": {},
   "outputs": [],
   "source": [
    "zillow[\"2014\"] = zillow[[\"2014-01\",\"2014-02\",\"2014-03\",\"2014-04\",\"2014-05\",\"2014-06\",\"2014-07\",\n",
    "                         \"2014-08\",\"2014-09\",\"2014-10\",\"2014-11\",\"2014-12\"]].median(axis=1)"
   ]
  },
  {
   "cell_type": "code",
   "execution_count": 116,
   "metadata": {},
   "outputs": [],
   "source": [
    "zillow[\"2015\"] = zillow[[\"2015-01\",\"2015-02\",\"2015-03\",\"2015-04\",\"2015-05\",\"2015-06\",\"2015-07\",\n",
    "                         \"2015-08\",\"2015-09\",\"2015-10\",\"2015-11\",\"2015-12\"]].median(axis=1)"
   ]
  },
  {
   "cell_type": "code",
   "execution_count": 117,
   "metadata": {},
   "outputs": [],
   "source": [
    "zillow[\"2016\"] = zillow[[\"2016-01\",\"2016-02\",\"2016-03\",\"2016-04\",\"2016-05\",\"2016-06\",\"2016-07\",\n",
    "                        \"2016-08\",\"2016-09\",\"2016-10\",\"2016-11\",\"2016-12\"]].median(axis=1)"
   ]
  },
  {
   "cell_type": "code",
   "execution_count": 118,
   "metadata": {},
   "outputs": [],
   "source": [
    "zillow[\"2017\"] = zillow[[\"2017-01\",\"2017-02\",\"2017-03\",\"2017-04\",\"2017-05\",\"2017-06\",\"2017-07\",\n",
    "                         \"2017-08\",\"2017-09\",\"2017-10\",\"2017-11\",\"2017-12\"]].median(axis=1)"
   ]
  },
  {
   "cell_type": "code",
   "execution_count": 119,
   "metadata": {},
   "outputs": [],
   "source": [
    "zillow[\"2018\"] = zillow[[\"2018-01\",\"2018-02\",\"2018-03\",\"2018-04\",\"2018-05\",\"2018-06\",\"2018-07\",\n",
    "                        \"2018-08\",\"2018-09\",\"2018-10\",\"2018-11\",\"2018-12\"]].median(axis=1)"
   ]
  },
  {
   "cell_type": "code",
   "execution_count": 120,
   "metadata": {},
   "outputs": [],
   "source": [
    "zillow[\"2019\"] = zillow[[\"2019-01\",\"2019-02\",\"2019-03\",\"2019-04\",\"2019-05\",\"2019-06\",\"2019-07\",\n",
    "                         \"2019-08\",\"2019-09\",\"2019-10\",\"2019-11\",\"2019-12\"]].median(axis=1)"
   ]
  },
  {
   "cell_type": "code",
   "execution_count": 121,
   "metadata": {},
   "outputs": [],
   "source": [
    "zillow_median = zillow[['RegionName','CountyName','State','Metro','CountyName','SizeRank','2010','2011','2012','2013','2014','2015','2016','2017','2018','2019']].copy()"
   ]
  },
  {
   "cell_type": "code",
   "execution_count": 122,
   "metadata": {},
   "outputs": [],
   "source": [
    "zillow_median = zillow_median.rename(columns={\"RegionName\": \"zipcode\"})"
   ]
  },
  {
   "cell_type": "code",
   "execution_count": 123,
   "metadata": {},
   "outputs": [
    {
     "data": {
      "text/html": [
       "<div>\n",
       "<style scoped>\n",
       "    .dataframe tbody tr th:only-of-type {\n",
       "        vertical-align: middle;\n",
       "    }\n",
       "\n",
       "    .dataframe tbody tr th {\n",
       "        vertical-align: top;\n",
       "    }\n",
       "\n",
       "    .dataframe thead th {\n",
       "        text-align: right;\n",
       "    }\n",
       "</style>\n",
       "<table border=\"1\" class=\"dataframe\">\n",
       "  <thead>\n",
       "    <tr style=\"text-align: right;\">\n",
       "      <th></th>\n",
       "      <th>zipcode</th>\n",
       "      <th>CountyName</th>\n",
       "      <th>State</th>\n",
       "      <th>Metro</th>\n",
       "      <th>CountyName</th>\n",
       "      <th>SizeRank</th>\n",
       "      <th>2010</th>\n",
       "      <th>2011</th>\n",
       "      <th>2012</th>\n",
       "      <th>2013</th>\n",
       "      <th>2014</th>\n",
       "      <th>2015</th>\n",
       "      <th>2016</th>\n",
       "      <th>2017</th>\n",
       "      <th>2018</th>\n",
       "      <th>2019</th>\n",
       "    </tr>\n",
       "  </thead>\n",
       "  <tbody>\n",
       "    <tr>\n",
       "      <td>0</td>\n",
       "      <td>10025</td>\n",
       "      <td>New York County</td>\n",
       "      <td>NY</td>\n",
       "      <td>New York-Newark-Jersey City</td>\n",
       "      <td>New York County</td>\n",
       "      <td>1</td>\n",
       "      <td>3031.0</td>\n",
       "      <td>2869.5</td>\n",
       "      <td>2929.0</td>\n",
       "      <td>3149.0</td>\n",
       "      <td>3276.0</td>\n",
       "      <td>3802.0</td>\n",
       "      <td>4051.0</td>\n",
       "      <td>3988.0</td>\n",
       "      <td>3552.0</td>\n",
       "      <td>3786.0</td>\n",
       "    </tr>\n",
       "    <tr>\n",
       "      <td>1</td>\n",
       "      <td>60657</td>\n",
       "      <td>Cook County</td>\n",
       "      <td>IL</td>\n",
       "      <td>Chicago-Naperville-Elgin</td>\n",
       "      <td>Cook County</td>\n",
       "      <td>2</td>\n",
       "      <td>1787.0</td>\n",
       "      <td>1773.5</td>\n",
       "      <td>1882.0</td>\n",
       "      <td>1966.0</td>\n",
       "      <td>2003.5</td>\n",
       "      <td>2075.0</td>\n",
       "      <td>2143.0</td>\n",
       "      <td>2121.5</td>\n",
       "      <td>2091.0</td>\n",
       "      <td>2070.0</td>\n",
       "    </tr>\n",
       "    <tr>\n",
       "      <td>2</td>\n",
       "      <td>10023</td>\n",
       "      <td>New York County</td>\n",
       "      <td>NY</td>\n",
       "      <td>New York-Newark-Jersey City</td>\n",
       "      <td>New York County</td>\n",
       "      <td>3</td>\n",
       "      <td>3304.0</td>\n",
       "      <td>3024.0</td>\n",
       "      <td>3067.0</td>\n",
       "      <td>3208.0</td>\n",
       "      <td>3334.5</td>\n",
       "      <td>4012.0</td>\n",
       "      <td>4691.5</td>\n",
       "      <td>3997.0</td>\n",
       "      <td>3854.5</td>\n",
       "      <td>3929.0</td>\n",
       "    </tr>\n",
       "    <tr>\n",
       "      <td>3</td>\n",
       "      <td>77494</td>\n",
       "      <td>Harris County</td>\n",
       "      <td>TX</td>\n",
       "      <td>Houston-The Woodlands-Sugar Land</td>\n",
       "      <td>Harris County</td>\n",
       "      <td>4</td>\n",
       "      <td>1549.0</td>\n",
       "      <td>1591.0</td>\n",
       "      <td>1623.5</td>\n",
       "      <td>1780.0</td>\n",
       "      <td>1944.5</td>\n",
       "      <td>1918.5</td>\n",
       "      <td>1826.5</td>\n",
       "      <td>1763.0</td>\n",
       "      <td>1789.5</td>\n",
       "      <td>1764.5</td>\n",
       "    </tr>\n",
       "    <tr>\n",
       "      <td>4</td>\n",
       "      <td>60614</td>\n",
       "      <td>Cook County</td>\n",
       "      <td>IL</td>\n",
       "      <td>Chicago-Naperville-Elgin</td>\n",
       "      <td>Cook County</td>\n",
       "      <td>5</td>\n",
       "      <td>1922.0</td>\n",
       "      <td>1882.0</td>\n",
       "      <td>2016.5</td>\n",
       "      <td>2138.0</td>\n",
       "      <td>2197.5</td>\n",
       "      <td>2270.0</td>\n",
       "      <td>2349.0</td>\n",
       "      <td>2332.5</td>\n",
       "      <td>2309.0</td>\n",
       "      <td>2321.5</td>\n",
       "    </tr>\n",
       "  </tbody>\n",
       "</table>\n",
       "</div>"
      ],
      "text/plain": [
       "   zipcode       CountyName State                             Metro  \\\n",
       "0    10025  New York County    NY       New York-Newark-Jersey City   \n",
       "1    60657      Cook County    IL          Chicago-Naperville-Elgin   \n",
       "2    10023  New York County    NY       New York-Newark-Jersey City   \n",
       "3    77494    Harris County    TX  Houston-The Woodlands-Sugar Land   \n",
       "4    60614      Cook County    IL          Chicago-Naperville-Elgin   \n",
       "\n",
       "        CountyName  SizeRank    2010    2011    2012    2013    2014    2015  \\\n",
       "0  New York County         1  3031.0  2869.5  2929.0  3149.0  3276.0  3802.0   \n",
       "1      Cook County         2  1787.0  1773.5  1882.0  1966.0  2003.5  2075.0   \n",
       "2  New York County         3  3304.0  3024.0  3067.0  3208.0  3334.5  4012.0   \n",
       "3    Harris County         4  1549.0  1591.0  1623.5  1780.0  1944.5  1918.5   \n",
       "4      Cook County         5  1922.0  1882.0  2016.5  2138.0  2197.5  2270.0   \n",
       "\n",
       "     2016    2017    2018    2019  \n",
       "0  4051.0  3988.0  3552.0  3786.0  \n",
       "1  2143.0  2121.5  2091.0  2070.0  \n",
       "2  4691.5  3997.0  3854.5  3929.0  \n",
       "3  1826.5  1763.0  1789.5  1764.5  \n",
       "4  2349.0  2332.5  2309.0  2321.5  "
      ]
     },
     "execution_count": 123,
     "metadata": {},
     "output_type": "execute_result"
    }
   ],
   "source": [
    "zillow_median.head()"
   ]
  },
  {
   "cell_type": "code",
   "execution_count": 124,
   "metadata": {},
   "outputs": [
    {
     "data": {
      "text/plain": [
       "2010          1760\n",
       "2012          1250\n",
       "Metro         1238\n",
       "2011          1227\n",
       "2013          1225\n",
       "2014           299\n",
       "2015           265\n",
       "2016           222\n",
       "2017           199\n",
       "2018           159\n",
       "2019            23\n",
       "SizeRank         0\n",
       "CountyName       0\n",
       "State            0\n",
       "CountyName       0\n",
       "zipcode          0\n",
       "dtype: int64"
      ]
     },
     "execution_count": 124,
     "metadata": {},
     "output_type": "execute_result"
    }
   ],
   "source": [
    "col_missing = zillow_median.isna().sum().sort_values(ascending=False)\n",
    "col_missing"
   ]
  },
  {
   "cell_type": "code",
   "execution_count": 125,
   "metadata": {},
   "outputs": [
    {
     "data": {
      "text/html": [
       "<div>\n",
       "<style scoped>\n",
       "    .dataframe tbody tr th:only-of-type {\n",
       "        vertical-align: middle;\n",
       "    }\n",
       "\n",
       "    .dataframe tbody tr th {\n",
       "        vertical-align: top;\n",
       "    }\n",
       "\n",
       "    .dataframe thead th {\n",
       "        text-align: right;\n",
       "    }\n",
       "</style>\n",
       "<table border=\"1\" class=\"dataframe\">\n",
       "  <thead>\n",
       "    <tr style=\"text-align: right;\">\n",
       "      <th></th>\n",
       "      <th>zipcode</th>\n",
       "      <th>CountyName</th>\n",
       "      <th>State</th>\n",
       "      <th>Metro</th>\n",
       "      <th>CountyName</th>\n",
       "      <th>SizeRank</th>\n",
       "      <th>2010</th>\n",
       "      <th>2011</th>\n",
       "      <th>2012</th>\n",
       "      <th>2013</th>\n",
       "      <th>2014</th>\n",
       "      <th>2015</th>\n",
       "      <th>2016</th>\n",
       "      <th>2017</th>\n",
       "      <th>2018</th>\n",
       "      <th>2019</th>\n",
       "    </tr>\n",
       "  </thead>\n",
       "  <tbody>\n",
       "    <tr>\n",
       "      <td>72</td>\n",
       "      <td>10024</td>\n",
       "      <td>New York County</td>\n",
       "      <td>NY</td>\n",
       "      <td>New York-Newark-Jersey City</td>\n",
       "      <td>New York County</td>\n",
       "      <td>73</td>\n",
       "      <td>3526.0</td>\n",
       "      <td>3223.0</td>\n",
       "      <td>3220.0</td>\n",
       "      <td>3376.5</td>\n",
       "      <td>3521.5</td>\n",
       "      <td>4385.0</td>\n",
       "      <td>5132.0</td>\n",
       "      <td>4377.0</td>\n",
       "      <td>NaN</td>\n",
       "      <td>4119.5</td>\n",
       "    </tr>\n",
       "    <tr>\n",
       "      <td>125</td>\n",
       "      <td>10452</td>\n",
       "      <td>Bronx County</td>\n",
       "      <td>NY</td>\n",
       "      <td>New York-Newark-Jersey City</td>\n",
       "      <td>Bronx County</td>\n",
       "      <td>126</td>\n",
       "      <td>NaN</td>\n",
       "      <td>NaN</td>\n",
       "      <td>1363.5</td>\n",
       "      <td>1402.5</td>\n",
       "      <td>1410.0</td>\n",
       "      <td>1492.0</td>\n",
       "      <td>1542.5</td>\n",
       "      <td>1696.0</td>\n",
       "      <td>1651.5</td>\n",
       "      <td>1742.0</td>\n",
       "    </tr>\n",
       "    <tr>\n",
       "      <td>310</td>\n",
       "      <td>58103</td>\n",
       "      <td>Cass County</td>\n",
       "      <td>ND</td>\n",
       "      <td>Fargo</td>\n",
       "      <td>Cass County</td>\n",
       "      <td>311</td>\n",
       "      <td>NaN</td>\n",
       "      <td>718.5</td>\n",
       "      <td>768.5</td>\n",
       "      <td>854.0</td>\n",
       "      <td>888.0</td>\n",
       "      <td>1099.0</td>\n",
       "      <td>1055.0</td>\n",
       "      <td>944.5</td>\n",
       "      <td>934.0</td>\n",
       "      <td>911.5</td>\n",
       "    </tr>\n",
       "    <tr>\n",
       "      <td>313</td>\n",
       "      <td>55901</td>\n",
       "      <td>Olmsted County</td>\n",
       "      <td>MN</td>\n",
       "      <td>Rochester</td>\n",
       "      <td>Olmsted County</td>\n",
       "      <td>314</td>\n",
       "      <td>NaN</td>\n",
       "      <td>1030.0</td>\n",
       "      <td>1081.5</td>\n",
       "      <td>1134.0</td>\n",
       "      <td>1094.0</td>\n",
       "      <td>1116.0</td>\n",
       "      <td>1182.5</td>\n",
       "      <td>1197.5</td>\n",
       "      <td>1166.5</td>\n",
       "      <td>1140.5</td>\n",
       "    </tr>\n",
       "    <tr>\n",
       "      <td>441</td>\n",
       "      <td>83646</td>\n",
       "      <td>Ada County</td>\n",
       "      <td>ID</td>\n",
       "      <td>Boise City</td>\n",
       "      <td>Ada County</td>\n",
       "      <td>442</td>\n",
       "      <td>NaN</td>\n",
       "      <td>925.0</td>\n",
       "      <td>992.0</td>\n",
       "      <td>1091.0</td>\n",
       "      <td>1125.5</td>\n",
       "      <td>1159.5</td>\n",
       "      <td>1316.5</td>\n",
       "      <td>1387.0</td>\n",
       "      <td>1408.5</td>\n",
       "      <td>1421.0</td>\n",
       "    </tr>\n",
       "  </tbody>\n",
       "</table>\n",
       "</div>"
      ],
      "text/plain": [
       "     zipcode       CountyName State                        Metro  \\\n",
       "72     10024  New York County    NY  New York-Newark-Jersey City   \n",
       "125    10452     Bronx County    NY  New York-Newark-Jersey City   \n",
       "310    58103      Cass County    ND                        Fargo   \n",
       "313    55901   Olmsted County    MN                    Rochester   \n",
       "441    83646       Ada County    ID                   Boise City   \n",
       "\n",
       "          CountyName  SizeRank    2010    2011    2012    2013    2014  \\\n",
       "72   New York County        73  3526.0  3223.0  3220.0  3376.5  3521.5   \n",
       "125     Bronx County       126     NaN     NaN  1363.5  1402.5  1410.0   \n",
       "310      Cass County       311     NaN   718.5   768.5   854.0   888.0   \n",
       "313   Olmsted County       314     NaN  1030.0  1081.5  1134.0  1094.0   \n",
       "441       Ada County       442     NaN   925.0   992.0  1091.0  1125.5   \n",
       "\n",
       "       2015    2016    2017    2018    2019  \n",
       "72   4385.0  5132.0  4377.0     NaN  4119.5  \n",
       "125  1492.0  1542.5  1696.0  1651.5  1742.0  \n",
       "310  1099.0  1055.0   944.5   934.0   911.5  \n",
       "313  1116.0  1182.5  1197.5  1166.5  1140.5  \n",
       "441  1159.5  1316.5  1387.0  1408.5  1421.0  "
      ]
     },
     "execution_count": 125,
     "metadata": {},
     "output_type": "execute_result"
    }
   ],
   "source": [
    "row_missing = zillow_median[zillow_median.isnull().any(axis=1)]\n",
    "row_missing.head(5)"
   ]
  },
  {
   "cell_type": "code",
   "execution_count": 126,
   "metadata": {},
   "outputs": [],
   "source": [
    "zillow_median.to_csv('data/zillow_median.csv', index=False)"
   ]
  },
  {
   "cell_type": "markdown",
   "metadata": {},
   "source": [
    "### Handling Missingness for Census Data"
   ]
  },
  {
   "cell_type": "code",
   "execution_count": 174,
   "metadata": {},
   "outputs": [
    {
     "data": {
      "text/plain": [
       "pop_widowed                          33120\n",
       "pop_separated                        33120\n",
       "pop_now_married                      33120\n",
       "pop_never_married                    33120\n",
       "pop_15_and_over                      33120\n",
       "speak_spanish_at_home_low_english    33120\n",
       "speak_spanish_at_home                33120\n",
       "speak_only_english_at_home           33120\n",
       "pop_5_years_over                     33120\n",
       "pop_divorced                         33120\n",
       "dtype: int64"
      ]
     },
     "execution_count": 174,
     "metadata": {},
     "output_type": "execute_result"
    }
   ],
   "source": [
    "# check how many data missing in each columns\n",
    "df_missing = raw_2017.isna().sum().sort_values(ascending=False).nlargest(10)\n",
    "df_missing"
   ]
  },
  {
   "cell_type": "code",
   "execution_count": 175,
   "metadata": {},
   "outputs": [
    {
     "data": {
      "text/plain": [
       "pop_widowed                          100.0\n",
       "pop_separated                        100.0\n",
       "pop_now_married                      100.0\n",
       "pop_never_married                    100.0\n",
       "pop_15_and_over                      100.0\n",
       "speak_spanish_at_home_low_english    100.0\n",
       "speak_spanish_at_home                100.0\n",
       "speak_only_english_at_home           100.0\n",
       "pop_5_years_over                     100.0\n",
       "pop_divorced                         100.0\n",
       "dtype: float64"
      ]
     },
     "execution_count": 175,
     "metadata": {},
     "output_type": "execute_result"
    }
   ],
   "source": [
    "# check the percentage of data \n",
    "df_missing/len(raw_2017)*100"
   ]
  },
  {
   "cell_type": "code",
   "execution_count": 176,
   "metadata": {},
   "outputs": [],
   "source": [
    "# remove the columns that have 100% missingness\n",
    "impute_2017 = raw_2017.drop(columns=['associates_degree','bachelors_degree','high_school_diploma','less_one_year_college','masters_degree','one_year_more_college', 'pop_25_years_over','aggregate_travel_time_to_work'])"
   ]
  },
  {
   "cell_type": "code",
   "execution_count": 177,
   "metadata": {},
   "outputs": [],
   "source": [
    "impute_2017.fillna(0, inplace=True)"
   ]
  },
  {
   "cell_type": "code",
   "execution_count": 178,
   "metadata": {},
   "outputs": [
    {
     "data": {
      "text/plain": [
       "0"
      ]
     },
     "execution_count": 178,
     "metadata": {},
     "output_type": "execute_result"
    }
   ],
   "source": [
    "impute_2017.isnull().sum().sum()"
   ]
  },
  {
   "cell_type": "code",
   "execution_count": 179,
   "metadata": {},
   "outputs": [],
   "source": [
    "impute_2017 = impute_2017.rename(columns={\"geo_id\": \"zipcode\"})"
   ]
  },
  {
   "cell_type": "code",
   "execution_count": 180,
   "metadata": {},
   "outputs": [],
   "source": [
    "impute_2017 = pd.merge(impute_2017, zillow_median[['zipcode','2017']], how='inner', on=['zipcode'])\n",
    "impute_2017 = impute_2017.rename(columns={\"2017\": \"rent\"})"
   ]
  },
  {
   "cell_type": "code",
   "execution_count": 181,
   "metadata": {},
   "outputs": [
    {
     "data": {
      "text/plain": [
       "(13162, 245)"
      ]
     },
     "execution_count": 181,
     "metadata": {},
     "output_type": "execute_result"
    }
   ],
   "source": [
    "impute_2017.shape"
   ]
  },
  {
   "cell_type": "code",
   "execution_count": 14,
   "metadata": {},
   "outputs": [],
   "source": [
    "raw_2017.to_csv('data/imputed_data/2017_imputed.csv', index=False)"
   ]
  },
  {
   "cell_type": "markdown",
   "metadata": {},
   "source": [
    "### Row Bind Census Data"
   ]
  },
  {
   "cell_type": "code",
   "execution_count": 4,
   "metadata": {},
   "outputs": [],
   "source": [
    "raw_2011 = pd.read_csv('data/imputed_data/2011_imputed.csv')\n",
    "raw_2012 = pd.read_csv('data/imputed_data/2012_imputed.csv')\n",
    "raw_2013 = pd.read_csv('data/imputed_data/2013_imputed.csv')\n",
    "raw_2014 = pd.read_csv('data/imputed_data/2014_imputed.csv')\n",
    "raw_2015 = pd.read_csv('data/imputed_data/2015_imputed.csv')\n",
    "raw_2016 = pd.read_csv('data/imputed_data/2016_imputed.csv')\n",
    "raw_2017 = pd.read_csv('data/imputed_data/2017_imputed.csv')"
   ]
  },
  {
   "cell_type": "code",
   "execution_count": 5,
   "metadata": {},
   "outputs": [],
   "source": [
    "cols = raw_2015.drop(columns=['geoid']).columns"
   ]
  },
  {
   "cell_type": "code",
   "execution_count": 6,
   "metadata": {},
   "outputs": [],
   "source": [
    "raw_2011 = raw_2011[cols]\n",
    "raw_2012 = raw_2012[cols]\n",
    "raw_2013 = raw_2013[cols]\n",
    "raw_2014 = raw_2014[cols]\n",
    "raw_2015 = raw_2015[cols]\n",
    "raw_2016 = raw_2016[cols]\n",
    "raw_2017 = raw_2017[cols]"
   ]
  },
  {
   "cell_type": "markdown",
   "metadata": {},
   "source": [
    "#### Train Data"
   ]
  },
  {
   "cell_type": "code",
   "execution_count": 264,
   "metadata": {},
   "outputs": [],
   "source": [
    "train = pd.concat([raw_2011, raw_2012, raw_2013, raw_2014, raw_2015, raw_2016])"
   ]
  },
  {
   "cell_type": "code",
   "execution_count": 265,
   "metadata": {},
   "outputs": [],
   "source": [
    "train['do_date'] = train['do_date'].apply(str)\n",
    "train['year'] = train['do_date'].str[4:]\n",
    "train = train.drop(columns=['do_date'])"
   ]
  },
  {
   "cell_type": "code",
   "execution_count": 283,
   "metadata": {},
   "outputs": [],
   "source": [
    "cols = list(train.columns.values)"
   ]
  },
  {
   "cell_type": "code",
   "execution_count": 291,
   "metadata": {},
   "outputs": [
    {
     "data": {
      "text/html": [
       "<div>\n",
       "<style scoped>\n",
       "    .dataframe tbody tr th:only-of-type {\n",
       "        vertical-align: middle;\n",
       "    }\n",
       "\n",
       "    .dataframe tbody tr th {\n",
       "        vertical-align: top;\n",
       "    }\n",
       "\n",
       "    .dataframe thead th {\n",
       "        text-align: right;\n",
       "    }\n",
       "</style>\n",
       "<table border=\"1\" class=\"dataframe\">\n",
       "  <thead>\n",
       "    <tr style=\"text-align: right;\">\n",
       "      <th></th>\n",
       "      <th>zipcode</th>\n",
       "      <th>year</th>\n",
       "      <th>nonfamily_households</th>\n",
       "      <th>family_households</th>\n",
       "      <th>median_year_structure_built</th>\n",
       "      <th>rent_burden_not_computed</th>\n",
       "      <th>rent_over_50_percent</th>\n",
       "      <th>rent_40_to_50_percent</th>\n",
       "      <th>rent_35_to_40_percent</th>\n",
       "      <th>rent_30_to_35_percent</th>\n",
       "      <th>...</th>\n",
       "      <th>commute_35_44_mins</th>\n",
       "      <th>commute_60_more_mins</th>\n",
       "      <th>commute_less_10_mins</th>\n",
       "      <th>commuters_16_over</th>\n",
       "      <th>hispanic_any_race</th>\n",
       "      <th>pop_5_years_over</th>\n",
       "      <th>speak_only_english_at_home</th>\n",
       "      <th>speak_spanish_at_home</th>\n",
       "      <th>speak_spanish_at_home_low_english</th>\n",
       "      <th>rent</th>\n",
       "    </tr>\n",
       "  </thead>\n",
       "  <tbody>\n",
       "    <tr>\n",
       "      <td>12394</td>\n",
       "      <td>1001</td>\n",
       "      <td>2011</td>\n",
       "      <td>2887</td>\n",
       "      <td>4129</td>\n",
       "      <td>1963.0</td>\n",
       "      <td>83</td>\n",
       "      <td>405</td>\n",
       "      <td>113</td>\n",
       "      <td>105</td>\n",
       "      <td>207</td>\n",
       "      <td>...</td>\n",
       "      <td>333</td>\n",
       "      <td>418</td>\n",
       "      <td>1567</td>\n",
       "      <td>8353</td>\n",
       "      <td>656</td>\n",
       "      <td>15977.0</td>\n",
       "      <td>14482.0</td>\n",
       "      <td>333.0</td>\n",
       "      <td>72.0</td>\n",
       "      <td>1255.33</td>\n",
       "    </tr>\n",
       "    <tr>\n",
       "      <td>8841</td>\n",
       "      <td>1001</td>\n",
       "      <td>2012</td>\n",
       "      <td>2822</td>\n",
       "      <td>4196</td>\n",
       "      <td>1964.0</td>\n",
       "      <td>87</td>\n",
       "      <td>382</td>\n",
       "      <td>30</td>\n",
       "      <td>81</td>\n",
       "      <td>236</td>\n",
       "      <td>...</td>\n",
       "      <td>509</td>\n",
       "      <td>337</td>\n",
       "      <td>1683</td>\n",
       "      <td>8807</td>\n",
       "      <td>811</td>\n",
       "      <td>16531.0</td>\n",
       "      <td>14315.0</td>\n",
       "      <td>427.0</td>\n",
       "      <td>111.0</td>\n",
       "      <td>1294.42</td>\n",
       "    </tr>\n",
       "    <tr>\n",
       "      <td>11460</td>\n",
       "      <td>1001</td>\n",
       "      <td>2013</td>\n",
       "      <td>2971</td>\n",
       "      <td>4085</td>\n",
       "      <td>1967.0</td>\n",
       "      <td>82</td>\n",
       "      <td>550</td>\n",
       "      <td>25</td>\n",
       "      <td>91</td>\n",
       "      <td>289</td>\n",
       "      <td>...</td>\n",
       "      <td>471</td>\n",
       "      <td>364</td>\n",
       "      <td>1431</td>\n",
       "      <td>8568</td>\n",
       "      <td>919</td>\n",
       "      <td>16270.0</td>\n",
       "      <td>14149.0</td>\n",
       "      <td>414.0</td>\n",
       "      <td>89.0</td>\n",
       "      <td>1196.58</td>\n",
       "    </tr>\n",
       "    <tr>\n",
       "      <td>3490</td>\n",
       "      <td>1001</td>\n",
       "      <td>2014</td>\n",
       "      <td>2832</td>\n",
       "      <td>4168</td>\n",
       "      <td>1967.0</td>\n",
       "      <td>49</td>\n",
       "      <td>600</td>\n",
       "      <td>30</td>\n",
       "      <td>110</td>\n",
       "      <td>216</td>\n",
       "      <td>...</td>\n",
       "      <td>427</td>\n",
       "      <td>347</td>\n",
       "      <td>1364</td>\n",
       "      <td>8432</td>\n",
       "      <td>1013</td>\n",
       "      <td>16134.0</td>\n",
       "      <td>13910.0</td>\n",
       "      <td>700.0</td>\n",
       "      <td>169.0</td>\n",
       "      <td>1226.58</td>\n",
       "    </tr>\n",
       "    <tr>\n",
       "      <td>8071</td>\n",
       "      <td>1001</td>\n",
       "      <td>2015</td>\n",
       "      <td>3023</td>\n",
       "      <td>4080</td>\n",
       "      <td>1969.0</td>\n",
       "      <td>78</td>\n",
       "      <td>757</td>\n",
       "      <td>43</td>\n",
       "      <td>112</td>\n",
       "      <td>178</td>\n",
       "      <td>...</td>\n",
       "      <td>332</td>\n",
       "      <td>309</td>\n",
       "      <td>1232</td>\n",
       "      <td>8555</td>\n",
       "      <td>1118</td>\n",
       "      <td>16527.0</td>\n",
       "      <td>14032.0</td>\n",
       "      <td>658.0</td>\n",
       "      <td>169.0</td>\n",
       "      <td>1332.50</td>\n",
       "    </tr>\n",
       "    <tr>\n",
       "      <td>8739</td>\n",
       "      <td>1001</td>\n",
       "      <td>2016</td>\n",
       "      <td>3247</td>\n",
       "      <td>3943</td>\n",
       "      <td>1969.0</td>\n",
       "      <td>113</td>\n",
       "      <td>768</td>\n",
       "      <td>50</td>\n",
       "      <td>98</td>\n",
       "      <td>220</td>\n",
       "      <td>...</td>\n",
       "      <td>292</td>\n",
       "      <td>221</td>\n",
       "      <td>1299</td>\n",
       "      <td>8395</td>\n",
       "      <td>1314</td>\n",
       "      <td>0.0</td>\n",
       "      <td>0.0</td>\n",
       "      <td>0.0</td>\n",
       "      <td>0.0</td>\n",
       "      <td>1376.75</td>\n",
       "    </tr>\n",
       "  </tbody>\n",
       "</table>\n",
       "<p>6 rows × 239 columns</p>\n",
       "</div>"
      ],
      "text/plain": [
       "       zipcode  year  nonfamily_households  family_households  \\\n",
       "12394     1001  2011                  2887               4129   \n",
       "8841      1001  2012                  2822               4196   \n",
       "11460     1001  2013                  2971               4085   \n",
       "3490      1001  2014                  2832               4168   \n",
       "8071      1001  2015                  3023               4080   \n",
       "8739      1001  2016                  3247               3943   \n",
       "\n",
       "       median_year_structure_built  rent_burden_not_computed  \\\n",
       "12394                       1963.0                        83   \n",
       "8841                        1964.0                        87   \n",
       "11460                       1967.0                        82   \n",
       "3490                        1967.0                        49   \n",
       "8071                        1969.0                        78   \n",
       "8739                        1969.0                       113   \n",
       "\n",
       "       rent_over_50_percent  rent_40_to_50_percent  rent_35_to_40_percent  \\\n",
       "12394                   405                    113                    105   \n",
       "8841                    382                     30                     81   \n",
       "11460                   550                     25                     91   \n",
       "3490                    600                     30                    110   \n",
       "8071                    757                     43                    112   \n",
       "8739                    768                     50                     98   \n",
       "\n",
       "       rent_30_to_35_percent  ...  commute_35_44_mins  commute_60_more_mins  \\\n",
       "12394                    207  ...                 333                   418   \n",
       "8841                     236  ...                 509                   337   \n",
       "11460                    289  ...                 471                   364   \n",
       "3490                     216  ...                 427                   347   \n",
       "8071                     178  ...                 332                   309   \n",
       "8739                     220  ...                 292                   221   \n",
       "\n",
       "       commute_less_10_mins  commuters_16_over  hispanic_any_race  \\\n",
       "12394                  1567               8353                656   \n",
       "8841                   1683               8807                811   \n",
       "11460                  1431               8568                919   \n",
       "3490                   1364               8432               1013   \n",
       "8071                   1232               8555               1118   \n",
       "8739                   1299               8395               1314   \n",
       "\n",
       "       pop_5_years_over  speak_only_english_at_home  speak_spanish_at_home  \\\n",
       "12394           15977.0                     14482.0                  333.0   \n",
       "8841            16531.0                     14315.0                  427.0   \n",
       "11460           16270.0                     14149.0                  414.0   \n",
       "3490            16134.0                     13910.0                  700.0   \n",
       "8071            16527.0                     14032.0                  658.0   \n",
       "8739                0.0                         0.0                    0.0   \n",
       "\n",
       "       speak_spanish_at_home_low_english     rent  \n",
       "12394                               72.0  1255.33  \n",
       "8841                               111.0  1294.42  \n",
       "11460                               89.0  1196.58  \n",
       "3490                               169.0  1226.58  \n",
       "8071                               169.0  1332.50  \n",
       "8739                                 0.0  1376.75  \n",
       "\n",
       "[6 rows x 239 columns]"
      ]
     },
     "execution_count": 291,
     "metadata": {},
     "output_type": "execute_result"
    }
   ],
   "source": [
    "train = train.sort_values(by=['zipcode','year'])\n",
    "train.head(6)"
   ]
  },
  {
   "cell_type": "code",
   "execution_count": 292,
   "metadata": {},
   "outputs": [],
   "source": [
    "train.to_csv('data/train.csv', index=False)"
   ]
  },
  {
   "cell_type": "markdown",
   "metadata": {},
   "source": [
    "#### Test Data"
   ]
  },
  {
   "cell_type": "code",
   "execution_count": 267,
   "metadata": {},
   "outputs": [],
   "source": [
    "raw_2017['do_date'] = raw_2017['do_date'].apply(str)\n",
    "raw_2017['year'] = raw_2017['do_date'].str[4:]\n",
    "raw_2017 = raw_2017.drop(columns=['do_date'])"
   ]
  },
  {
   "cell_type": "code",
   "execution_count": 290,
   "metadata": {},
   "outputs": [
    {
     "data": {
      "text/html": [
       "<div>\n",
       "<style scoped>\n",
       "    .dataframe tbody tr th:only-of-type {\n",
       "        vertical-align: middle;\n",
       "    }\n",
       "\n",
       "    .dataframe tbody tr th {\n",
       "        vertical-align: top;\n",
       "    }\n",
       "\n",
       "    .dataframe thead th {\n",
       "        text-align: right;\n",
       "    }\n",
       "</style>\n",
       "<table border=\"1\" class=\"dataframe\">\n",
       "  <thead>\n",
       "    <tr style=\"text-align: right;\">\n",
       "      <th></th>\n",
       "      <th>zipcode</th>\n",
       "      <th>year</th>\n",
       "      <th>nonfamily_households</th>\n",
       "      <th>family_households</th>\n",
       "      <th>median_year_structure_built</th>\n",
       "      <th>rent_burden_not_computed</th>\n",
       "      <th>rent_over_50_percent</th>\n",
       "      <th>rent_40_to_50_percent</th>\n",
       "      <th>rent_35_to_40_percent</th>\n",
       "      <th>rent_30_to_35_percent</th>\n",
       "      <th>...</th>\n",
       "      <th>commute_35_44_mins</th>\n",
       "      <th>commute_60_more_mins</th>\n",
       "      <th>commute_less_10_mins</th>\n",
       "      <th>commuters_16_over</th>\n",
       "      <th>hispanic_any_race</th>\n",
       "      <th>pop_5_years_over</th>\n",
       "      <th>speak_only_english_at_home</th>\n",
       "      <th>speak_spanish_at_home</th>\n",
       "      <th>speak_spanish_at_home_low_english</th>\n",
       "      <th>rent</th>\n",
       "    </tr>\n",
       "  </thead>\n",
       "  <tbody>\n",
       "    <tr>\n",
       "      <td>9914</td>\n",
       "      <td>1001</td>\n",
       "      <td>2017</td>\n",
       "      <td>3410</td>\n",
       "      <td>4050</td>\n",
       "      <td>1968.0</td>\n",
       "      <td>93</td>\n",
       "      <td>750</td>\n",
       "      <td>53</td>\n",
       "      <td>133</td>\n",
       "      <td>220</td>\n",
       "      <td>...</td>\n",
       "      <td>168</td>\n",
       "      <td>262</td>\n",
       "      <td>1246</td>\n",
       "      <td>8409</td>\n",
       "      <td>1152</td>\n",
       "      <td>0.0</td>\n",
       "      <td>0.0</td>\n",
       "      <td>0.0</td>\n",
       "      <td>0.0</td>\n",
       "      <td>1430.0</td>\n",
       "    </tr>\n",
       "    <tr>\n",
       "      <td>2141</td>\n",
       "      <td>1002</td>\n",
       "      <td>2017</td>\n",
       "      <td>4989</td>\n",
       "      <td>4987</td>\n",
       "      <td>1971.0</td>\n",
       "      <td>688</td>\n",
       "      <td>2175</td>\n",
       "      <td>433</td>\n",
       "      <td>183</td>\n",
       "      <td>206</td>\n",
       "      <td>...</td>\n",
       "      <td>720</td>\n",
       "      <td>455</td>\n",
       "      <td>2891</td>\n",
       "      <td>13592</td>\n",
       "      <td>1921</td>\n",
       "      <td>0.0</td>\n",
       "      <td>0.0</td>\n",
       "      <td>0.0</td>\n",
       "      <td>0.0</td>\n",
       "      <td>1907.5</td>\n",
       "    </tr>\n",
       "    <tr>\n",
       "      <td>1875</td>\n",
       "      <td>1005</td>\n",
       "      <td>2017</td>\n",
       "      <td>687</td>\n",
       "      <td>1098</td>\n",
       "      <td>1961.0</td>\n",
       "      <td>47</td>\n",
       "      <td>39</td>\n",
       "      <td>98</td>\n",
       "      <td>16</td>\n",
       "      <td>0</td>\n",
       "      <td>...</td>\n",
       "      <td>178</td>\n",
       "      <td>360</td>\n",
       "      <td>333</td>\n",
       "      <td>2204</td>\n",
       "      <td>87</td>\n",
       "      <td>0.0</td>\n",
       "      <td>0.0</td>\n",
       "      <td>0.0</td>\n",
       "      <td>0.0</td>\n",
       "      <td>1284.0</td>\n",
       "    </tr>\n",
       "    <tr>\n",
       "      <td>11117</td>\n",
       "      <td>1007</td>\n",
       "      <td>2017</td>\n",
       "      <td>1393</td>\n",
       "      <td>4165</td>\n",
       "      <td>1983.0</td>\n",
       "      <td>69</td>\n",
       "      <td>169</td>\n",
       "      <td>147</td>\n",
       "      <td>118</td>\n",
       "      <td>88</td>\n",
       "      <td>...</td>\n",
       "      <td>942</td>\n",
       "      <td>523</td>\n",
       "      <td>1154</td>\n",
       "      <td>8139</td>\n",
       "      <td>193</td>\n",
       "      <td>0.0</td>\n",
       "      <td>0.0</td>\n",
       "      <td>0.0</td>\n",
       "      <td>0.0</td>\n",
       "      <td>1476.0</td>\n",
       "    </tr>\n",
       "    <tr>\n",
       "      <td>8069</td>\n",
       "      <td>1010</td>\n",
       "      <td>2017</td>\n",
       "      <td>425</td>\n",
       "      <td>1040</td>\n",
       "      <td>1976.0</td>\n",
       "      <td>14</td>\n",
       "      <td>53</td>\n",
       "      <td>22</td>\n",
       "      <td>6</td>\n",
       "      <td>34</td>\n",
       "      <td>...</td>\n",
       "      <td>238</td>\n",
       "      <td>301</td>\n",
       "      <td>89</td>\n",
       "      <td>1882</td>\n",
       "      <td>93</td>\n",
       "      <td>0.0</td>\n",
       "      <td>0.0</td>\n",
       "      <td>0.0</td>\n",
       "      <td>0.0</td>\n",
       "      <td>1382.0</td>\n",
       "    </tr>\n",
       "  </tbody>\n",
       "</table>\n",
       "<p>5 rows × 239 columns</p>\n",
       "</div>"
      ],
      "text/plain": [
       "       zipcode  year  nonfamily_households  family_households  \\\n",
       "9914      1001  2017                  3410               4050   \n",
       "2141      1002  2017                  4989               4987   \n",
       "1875      1005  2017                   687               1098   \n",
       "11117     1007  2017                  1393               4165   \n",
       "8069      1010  2017                   425               1040   \n",
       "\n",
       "       median_year_structure_built  rent_burden_not_computed  \\\n",
       "9914                        1968.0                        93   \n",
       "2141                        1971.0                       688   \n",
       "1875                        1961.0                        47   \n",
       "11117                       1983.0                        69   \n",
       "8069                        1976.0                        14   \n",
       "\n",
       "       rent_over_50_percent  rent_40_to_50_percent  rent_35_to_40_percent  \\\n",
       "9914                    750                     53                    133   \n",
       "2141                   2175                    433                    183   \n",
       "1875                     39                     98                     16   \n",
       "11117                   169                    147                    118   \n",
       "8069                     53                     22                      6   \n",
       "\n",
       "       rent_30_to_35_percent  ...  commute_35_44_mins  commute_60_more_mins  \\\n",
       "9914                     220  ...                 168                   262   \n",
       "2141                     206  ...                 720                   455   \n",
       "1875                       0  ...                 178                   360   \n",
       "11117                     88  ...                 942                   523   \n",
       "8069                      34  ...                 238                   301   \n",
       "\n",
       "       commute_less_10_mins  commuters_16_over  hispanic_any_race  \\\n",
       "9914                   1246               8409               1152   \n",
       "2141                   2891              13592               1921   \n",
       "1875                    333               2204                 87   \n",
       "11117                  1154               8139                193   \n",
       "8069                     89               1882                 93   \n",
       "\n",
       "       pop_5_years_over  speak_only_english_at_home  speak_spanish_at_home  \\\n",
       "9914                0.0                         0.0                    0.0   \n",
       "2141                0.0                         0.0                    0.0   \n",
       "1875                0.0                         0.0                    0.0   \n",
       "11117               0.0                         0.0                    0.0   \n",
       "8069                0.0                         0.0                    0.0   \n",
       "\n",
       "       speak_spanish_at_home_low_english    rent  \n",
       "9914                                 0.0  1430.0  \n",
       "2141                                 0.0  1907.5  \n",
       "1875                                 0.0  1284.0  \n",
       "11117                                0.0  1476.0  \n",
       "8069                                 0.0  1382.0  \n",
       "\n",
       "[5 rows x 239 columns]"
      ]
     },
     "execution_count": 290,
     "metadata": {},
     "output_type": "execute_result"
    }
   ],
   "source": [
    "raw_2017 = raw_2017.sort_values(by=['zipcode','year'])\n",
    "raw_2017.head()"
   ]
  },
  {
   "cell_type": "code",
   "execution_count": 293,
   "metadata": {},
   "outputs": [],
   "source": [
    "raw_2017.to_csv('data/test.csv', index=False)"
   ]
  },
  {
   "cell_type": "markdown",
   "metadata": {},
   "source": [
    "### Check Missingness for Train and Test Data"
   ]
  },
  {
   "cell_type": "code",
   "execution_count": 71,
   "metadata": {},
   "outputs": [],
   "source": [
    "train = pd.read_csv('data/model_data/train.csv')\n",
    "test = pd.read_csv('data/model_data/test.csv')"
   ]
  },
  {
   "cell_type": "code",
   "execution_count": 72,
   "metadata": {},
   "outputs": [
    {
     "data": {
      "text/plain": [
       "(78972, 239)"
      ]
     },
     "execution_count": 72,
     "metadata": {},
     "output_type": "execute_result"
    }
   ],
   "source": [
    "train.shape"
   ]
  },
  {
   "cell_type": "code",
   "execution_count": 73,
   "metadata": {},
   "outputs": [
    {
     "data": {
      "text/plain": [
       "(13162, 239)"
      ]
     },
     "execution_count": 73,
     "metadata": {},
     "output_type": "execute_result"
    }
   ],
   "source": [
    "test.shape"
   ]
  },
  {
   "cell_type": "code",
   "execution_count": 74,
   "metadata": {},
   "outputs": [
    {
     "data": {
      "text/plain": [
       "rent                                                 263\n",
       "owner_occupied_housing_units_upper_value_quartile      0\n",
       "mobile_homes                                           0\n",
       "dwellings_50_or_more_units                             0\n",
       "dwellings_20_to_49_units                               0\n",
       "dwellings_10_to_19_units                               0\n",
       "dwellings_5_to_9_units                                 0\n",
       "dwellings_3_to_4_units                                 0\n",
       "dwellings_2_units                                      0\n",
       "dwellings_1_units_attached                             0\n",
       "dtype: int64"
      ]
     },
     "execution_count": 74,
     "metadata": {},
     "output_type": "execute_result"
    }
   ],
   "source": [
    "# check how many data missing in each columns\n",
    "df_missing = train.isna().sum().sort_values(ascending=False).nlargest(10)\n",
    "df_missing"
   ]
  },
  {
   "cell_type": "code",
   "execution_count": 87,
   "metadata": {},
   "outputs": [
    {
     "data": {
      "text/plain": [
       "rent                                                 198\n",
       "owner_occupied_housing_units_upper_value_quartile      0\n",
       "mobile_homes                                           0\n",
       "dwellings_50_or_more_units                             0\n",
       "dwellings_20_to_49_units                               0\n",
       "dwellings_10_to_19_units                               0\n",
       "dwellings_5_to_9_units                                 0\n",
       "dwellings_3_to_4_units                                 0\n",
       "dwellings_2_units                                      0\n",
       "dwellings_1_units_attached                             0\n",
       "dtype: int64"
      ]
     },
     "execution_count": 87,
     "metadata": {},
     "output_type": "execute_result"
    }
   ],
   "source": [
    "df_missing = test.isna().sum().sort_values(ascending=False).nlargest(10)\n",
    "df_missing"
   ]
  },
  {
   "cell_type": "code",
   "execution_count": 142,
   "metadata": {},
   "outputs": [],
   "source": [
    "# Drop any NAs in the training data sets \n",
    "new_train = train.dropna(axis=0)"
   ]
  },
  {
   "cell_type": "code",
   "execution_count": 143,
   "metadata": {},
   "outputs": [],
   "source": [
    "zipcode_missing = new_train.zipcode.unique()"
   ]
  },
  {
   "cell_type": "code",
   "execution_count": 154,
   "metadata": {},
   "outputs": [],
   "source": [
    "# Make sure the test data contain only the zipcode that appear in training set \n",
    "new_test = test[test.zipcode == zipcode_missing]"
   ]
  },
  {
   "cell_type": "code",
   "execution_count": null,
   "metadata": {},
   "outputs": [],
   "source": []
  }
 ],
 "metadata": {
  "kernelspec": {
   "display_name": "Python 3",
   "language": "python",
   "name": "python3"
  },
  "language_info": {
   "codemirror_mode": {
    "name": "ipython",
    "version": 3
   },
   "file_extension": ".py",
   "mimetype": "text/x-python",
   "name": "python",
   "nbconvert_exporter": "python",
   "pygments_lexer": "ipython3",
   "version": "3.7.4"
  }
 },
 "nbformat": 4,
 "nbformat_minor": 2
}
