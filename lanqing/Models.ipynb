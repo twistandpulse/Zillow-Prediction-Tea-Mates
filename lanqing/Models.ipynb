{
 "cells": [
  {
   "cell_type": "code",
   "execution_count": 128,
   "metadata": {},
   "outputs": [],
   "source": [
    "import numpy as np\n",
    "import pandas as pd\n",
    "import matplotlib.pyplot as plt\n",
    "import stat\n",
    "%matplotlib inline\n",
    "import matplotlib.gridspec as gridspec\n",
    "import matplotlib as mpl"
   ]
  },
  {
   "cell_type": "code",
   "execution_count": 129,
   "metadata": {},
   "outputs": [],
   "source": [
    "train = pd.read_csv('data/train.csv').dropna(axis=0)\n",
    "test = pd.read_csv('data/test.csv').dropna(axis=0)"
   ]
  },
  {
   "cell_type": "code",
   "execution_count": 130,
   "metadata": {},
   "outputs": [],
   "source": [
    "x_train = train.drop(columns=['logRent'])\n",
    "x_test = test.drop(columns=['logRent'])"
   ]
  },
  {
   "cell_type": "code",
   "execution_count": 131,
   "metadata": {},
   "outputs": [],
   "source": [
    "y_train = train.logRent\n",
    "y_test = test.logRent"
   ]
  },
  {
   "cell_type": "code",
   "execution_count": 132,
   "metadata": {},
   "outputs": [
    {
     "data": {
      "text/html": [
       "<div>\n",
       "<style scoped>\n",
       "    .dataframe tbody tr th:only-of-type {\n",
       "        vertical-align: middle;\n",
       "    }\n",
       "\n",
       "    .dataframe tbody tr th {\n",
       "        vertical-align: top;\n",
       "    }\n",
       "\n",
       "    .dataframe thead th {\n",
       "        text-align: right;\n",
       "    }\n",
       "</style>\n",
       "<table border=\"1\" class=\"dataframe\">\n",
       "  <thead>\n",
       "    <tr style=\"text-align: right;\">\n",
       "      <th></th>\n",
       "      <th>zipcode</th>\n",
       "      <th>year</th>\n",
       "      <th>nonfamily_households</th>\n",
       "      <th>family_households</th>\n",
       "      <th>median_year_structure_built</th>\n",
       "      <th>rent_burden_not_computed</th>\n",
       "      <th>rent_over_50_percent</th>\n",
       "      <th>rent_40_to_50_percent</th>\n",
       "      <th>rent_35_to_40_percent</th>\n",
       "      <th>rent_30_to_35_percent</th>\n",
       "      <th>...</th>\n",
       "      <th>workers_16_and_over</th>\n",
       "      <th>commute_35_44_mins</th>\n",
       "      <th>commute_60_more_mins</th>\n",
       "      <th>commute_less_10_mins</th>\n",
       "      <th>commuters_16_over</th>\n",
       "      <th>hispanic_any_race</th>\n",
       "      <th>pop_5_years_over</th>\n",
       "      <th>speak_only_english_at_home</th>\n",
       "      <th>speak_spanish_at_home</th>\n",
       "      <th>speak_spanish_at_home_low_english</th>\n",
       "    </tr>\n",
       "  </thead>\n",
       "  <tbody>\n",
       "    <tr>\n",
       "      <td>0</td>\n",
       "      <td>-1.61987</td>\n",
       "      <td>-1.460364</td>\n",
       "      <td>0.158471</td>\n",
       "      <td>-0.198491</td>\n",
       "      <td>-0.176142</td>\n",
       "      <td>-0.528499</td>\n",
       "      <td>-0.306055</td>\n",
       "      <td>-0.425499</td>\n",
       "      <td>-0.315687</td>\n",
       "      <td>-0.087063</td>\n",
       "      <td>...</td>\n",
       "      <td>-0.084909</td>\n",
       "      <td>-0.371999</td>\n",
       "      <td>-0.301785</td>\n",
       "      <td>0.513761</td>\n",
       "      <td>-0.054378</td>\n",
       "      <td>-0.383211</td>\n",
       "      <td>0.030503</td>\n",
       "      <td>0.222105</td>\n",
       "      <td>-0.327087</td>\n",
       "      <td>-0.320742</td>\n",
       "    </tr>\n",
       "    <tr>\n",
       "      <td>1</td>\n",
       "      <td>-1.61987</td>\n",
       "      <td>-0.875045</td>\n",
       "      <td>0.130731</td>\n",
       "      <td>-0.180991</td>\n",
       "      <td>-0.158605</td>\n",
       "      <td>-0.507122</td>\n",
       "      <td>-0.331409</td>\n",
       "      <td>-0.707710</td>\n",
       "      <td>-0.428569</td>\n",
       "      <td>0.015281</td>\n",
       "      <td>...</td>\n",
       "      <td>-0.025237</td>\n",
       "      <td>-0.100543</td>\n",
       "      <td>-0.378111</td>\n",
       "      <td>0.636904</td>\n",
       "      <td>0.008004</td>\n",
       "      <td>-0.363406</td>\n",
       "      <td>0.066625</td>\n",
       "      <td>0.207152</td>\n",
       "      <td>-0.310458</td>\n",
       "      <td>-0.306629</td>\n",
       "    </tr>\n",
       "    <tr>\n",
       "      <td>2</td>\n",
       "      <td>-1.61987</td>\n",
       "      <td>-0.289726</td>\n",
       "      <td>0.194320</td>\n",
       "      <td>-0.209984</td>\n",
       "      <td>-0.105996</td>\n",
       "      <td>-0.533843</td>\n",
       "      <td>-0.146213</td>\n",
       "      <td>-0.724711</td>\n",
       "      <td>-0.381535</td>\n",
       "      <td>0.202323</td>\n",
       "      <td>...</td>\n",
       "      <td>-0.055929</td>\n",
       "      <td>-0.159153</td>\n",
       "      <td>-0.352669</td>\n",
       "      <td>0.369386</td>\n",
       "      <td>-0.024836</td>\n",
       "      <td>-0.349607</td>\n",
       "      <td>0.049607</td>\n",
       "      <td>0.192289</td>\n",
       "      <td>-0.312758</td>\n",
       "      <td>-0.314590</td>\n",
       "    </tr>\n",
       "    <tr>\n",
       "      <td>3</td>\n",
       "      <td>-1.61987</td>\n",
       "      <td>0.295593</td>\n",
       "      <td>0.134999</td>\n",
       "      <td>-0.188305</td>\n",
       "      <td>-0.105996</td>\n",
       "      <td>-0.710207</td>\n",
       "      <td>-0.091095</td>\n",
       "      <td>-0.707710</td>\n",
       "      <td>-0.292170</td>\n",
       "      <td>-0.055301</td>\n",
       "      <td>...</td>\n",
       "      <td>-0.072527</td>\n",
       "      <td>-0.227017</td>\n",
       "      <td>-0.368688</td>\n",
       "      <td>0.298260</td>\n",
       "      <td>-0.043523</td>\n",
       "      <td>-0.337596</td>\n",
       "      <td>0.040740</td>\n",
       "      <td>0.170890</td>\n",
       "      <td>-0.262162</td>\n",
       "      <td>-0.285642</td>\n",
       "    </tr>\n",
       "    <tr>\n",
       "      <td>4</td>\n",
       "      <td>-1.61987</td>\n",
       "      <td>0.880912</td>\n",
       "      <td>0.216513</td>\n",
       "      <td>-0.211290</td>\n",
       "      <td>-0.070923</td>\n",
       "      <td>-0.555221</td>\n",
       "      <td>0.081976</td>\n",
       "      <td>-0.663508</td>\n",
       "      <td>-0.282763</td>\n",
       "      <td>-0.189407</td>\n",
       "      <td>...</td>\n",
       "      <td>-0.051846</td>\n",
       "      <td>-0.373541</td>\n",
       "      <td>-0.404495</td>\n",
       "      <td>0.158132</td>\n",
       "      <td>-0.026622</td>\n",
       "      <td>-0.324180</td>\n",
       "      <td>0.066364</td>\n",
       "      <td>0.181813</td>\n",
       "      <td>-0.269592</td>\n",
       "      <td>-0.285642</td>\n",
       "    </tr>\n",
       "  </tbody>\n",
       "</table>\n",
       "<p>5 rows × 238 columns</p>\n",
       "</div>"
      ],
      "text/plain": [
       "   zipcode      year  nonfamily_households  family_households  \\\n",
       "0 -1.61987 -1.460364              0.158471          -0.198491   \n",
       "1 -1.61987 -0.875045              0.130731          -0.180991   \n",
       "2 -1.61987 -0.289726              0.194320          -0.209984   \n",
       "3 -1.61987  0.295593              0.134999          -0.188305   \n",
       "4 -1.61987  0.880912              0.216513          -0.211290   \n",
       "\n",
       "   median_year_structure_built  rent_burden_not_computed  \\\n",
       "0                    -0.176142                 -0.528499   \n",
       "1                    -0.158605                 -0.507122   \n",
       "2                    -0.105996                 -0.533843   \n",
       "3                    -0.105996                 -0.710207   \n",
       "4                    -0.070923                 -0.555221   \n",
       "\n",
       "   rent_over_50_percent  rent_40_to_50_percent  rent_35_to_40_percent  \\\n",
       "0             -0.306055              -0.425499              -0.315687   \n",
       "1             -0.331409              -0.707710              -0.428569   \n",
       "2             -0.146213              -0.724711              -0.381535   \n",
       "3             -0.091095              -0.707710              -0.292170   \n",
       "4              0.081976              -0.663508              -0.282763   \n",
       "\n",
       "   rent_30_to_35_percent  ...  workers_16_and_over  commute_35_44_mins  \\\n",
       "0              -0.087063  ...            -0.084909           -0.371999   \n",
       "1               0.015281  ...            -0.025237           -0.100543   \n",
       "2               0.202323  ...            -0.055929           -0.159153   \n",
       "3              -0.055301  ...            -0.072527           -0.227017   \n",
       "4              -0.189407  ...            -0.051846           -0.373541   \n",
       "\n",
       "   commute_60_more_mins  commute_less_10_mins  commuters_16_over  \\\n",
       "0             -0.301785              0.513761          -0.054378   \n",
       "1             -0.378111              0.636904           0.008004   \n",
       "2             -0.352669              0.369386          -0.024836   \n",
       "3             -0.368688              0.298260          -0.043523   \n",
       "4             -0.404495              0.158132          -0.026622   \n",
       "\n",
       "   hispanic_any_race  pop_5_years_over  speak_only_english_at_home  \\\n",
       "0          -0.383211          0.030503                    0.222105   \n",
       "1          -0.363406          0.066625                    0.207152   \n",
       "2          -0.349607          0.049607                    0.192289   \n",
       "3          -0.337596          0.040740                    0.170890   \n",
       "4          -0.324180          0.066364                    0.181813   \n",
       "\n",
       "   speak_spanish_at_home  speak_spanish_at_home_low_english  \n",
       "0              -0.327087                          -0.320742  \n",
       "1              -0.310458                          -0.306629  \n",
       "2              -0.312758                          -0.314590  \n",
       "3              -0.262162                          -0.285642  \n",
       "4              -0.269592                          -0.285642  \n",
       "\n",
       "[5 rows x 238 columns]"
      ]
     },
     "execution_count": 132,
     "metadata": {},
     "output_type": "execute_result"
    }
   ],
   "source": [
    "x_train.head()"
   ]
  },
  {
   "cell_type": "markdown",
   "metadata": {},
   "source": [
    "### Models"
   ]
  },
  {
   "cell_type": "code",
   "execution_count": 100,
   "metadata": {},
   "outputs": [],
   "source": [
    "import warnings\n",
    "warnings.filterwarnings('ignore')"
   ]
  },
  {
   "cell_type": "code",
   "execution_count": 101,
   "metadata": {},
   "outputs": [],
   "source": [
    "from sklearn.linear_model import Ridge, Lasso, LassoCV, ElasticNet, LinearRegression\n",
    "import sklearn.model_selection as ms\n",
    "from sklearn.metrics import mean_squared_error\n",
    "from sklearn.model_selection import GridSearchCV\n",
    "from xgboost import XGBRegressor\n",
    "from sklearn.ensemble import GradientBoostingRegressor\n",
    "from sklearn.ensemble import RandomForestRegressor\n",
    "from sklearn import tree\n",
    "from sklearn.model_selection import KFold, cross_val_score\n",
    "from sklearn import svm"
   ]
  },
  {
   "cell_type": "code",
   "execution_count": 102,
   "metadata": {},
   "outputs": [],
   "source": [
    "ridge = Ridge()\n",
    "lasso = Lasso()\n",
    "net = ElasticNet()\n",
    "xgb = XGBRegressor()\n",
    "lm  = LinearRegression()\n",
    "gb  = GradientBoostingRegressor()\n",
    "rforest = RandomForestRegressor()"
   ]
  },
  {
   "cell_type": "code",
   "execution_count": 103,
   "metadata": {},
   "outputs": [],
   "source": [
    "kf = KFold(n_splits = 5, shuffle = True, random_state = 42)"
   ]
  },
  {
   "cell_type": "markdown",
   "metadata": {},
   "source": [
    "### Lasso "
   ]
  },
  {
   "cell_type": "code",
   "execution_count": 104,
   "metadata": {},
   "outputs": [],
   "source": [
    "lasso = Lasso()\n",
    "\n",
    "lasso = lasso.set_params(random_state=40)"
   ]
  },
  {
   "cell_type": "code",
   "execution_count": 105,
   "metadata": {},
   "outputs": [
    {
     "data": {
      "text/plain": [
       "Lasso(alpha=1.0, copy_X=True, fit_intercept=True, max_iter=1000,\n",
       "      normalize=False, positive=False, precompute=False, random_state=40,\n",
       "      selection='cyclic', tol=0.0001, warm_start=False)"
      ]
     },
     "execution_count": 105,
     "metadata": {},
     "output_type": "execute_result"
    }
   ],
   "source": [
    "lasso.fit(x_train, y_train)"
   ]
  },
  {
   "cell_type": "code",
   "execution_count": 106,
   "metadata": {},
   "outputs": [
    {
     "name": "stdout",
     "output_type": "stream",
     "text": [
      "The train set R^2 is: 0.00000\n",
      "The test set R^2 is is: -0.01552\n"
     ]
    }
   ],
   "source": [
    "print(\"The train set R^2 is: %.5f\" % lasso.score(x_train, y_train))\n",
    "print(\"The test set R^2 is is: %.5f\" % lasso.score(x_test, y_test))"
   ]
  },
  {
   "cell_type": "code",
   "execution_count": 107,
   "metadata": {},
   "outputs": [
    {
     "name": "stdout",
     "output_type": "stream",
     "text": [
      "Mean Absolute Error (MAE): $ 455.47\n",
      "Mean Squared Error (MSE): 0.14644906955627407\n",
      "Root Mean Square Error (RMSE): 0.38268664669187774\n",
      "Mean Absolute Percent Error (MAPE): 31.59 %.\n"
     ]
    }
   ],
   "source": [
    "# Initial prediction\n",
    "lasso_pred = lasso.predict(x_test)\n",
    "\n",
    "# Print out MAE, MSE, and RMSE\n",
    "errors = abs(np.expm1(lasso_pred) - np.expm1(y_test))\n",
    "\n",
    "print('Mean Absolute Error (MAE): $', round(np.mean(errors), 2))\n",
    "print('Mean Squared Error (MSE):', mean_squared_error(y_test, lasso_pred))\n",
    "print('Root Mean Square Error (RMSE):', np.sqrt(mean_squared_error(y_test, lasso_pred)))\n",
    "\n",
    "# Calculate mean absolute percentage error (MAPE)\n",
    "mape = 100 * (errors / np.expm1(y_test))\n",
    "print('Mean Absolute Percent Error (MAPE):', round(np.mean(mape), 2), '%.')"
   ]
  },
  {
   "cell_type": "markdown",
   "metadata": {},
   "source": [
    "### Ridge"
   ]
  },
  {
   "cell_type": "code",
   "execution_count": 108,
   "metadata": {},
   "outputs": [],
   "source": [
    "ridge = Ridge()\n",
    "\n",
    "ridge = ridge.set_params(random_state=40)"
   ]
  },
  {
   "cell_type": "code",
   "execution_count": 109,
   "metadata": {},
   "outputs": [
    {
     "data": {
      "text/plain": [
       "Ridge(alpha=1.0, copy_X=True, fit_intercept=True, max_iter=None,\n",
       "      normalize=False, random_state=40, solver='auto', tol=0.001)"
      ]
     },
     "execution_count": 109,
     "metadata": {},
     "output_type": "execute_result"
    }
   ],
   "source": [
    "ridge.fit(x_train, y_train)"
   ]
  },
  {
   "cell_type": "code",
   "execution_count": 110,
   "metadata": {},
   "outputs": [
    {
     "name": "stdout",
     "output_type": "stream",
     "text": [
      "The train set R^2 is: 0.07394\n",
      "The test set R^2 is is: 0.23820\n"
     ]
    }
   ],
   "source": [
    "print(\"The train set R^2 is: %.5f\" % ridge.score(x_train, y_train))\n",
    "print(\"The test set R^2 is is: %.5f\" % ridge.score(x_test, y_test))"
   ]
  },
  {
   "cell_type": "code",
   "execution_count": 111,
   "metadata": {},
   "outputs": [
    {
     "name": "stdout",
     "output_type": "stream",
     "text": [
      "Mean Absolute Error (MAE): $ 393.39\n",
      "Mean Squared Error (MSE): 0.10985940353270253\n",
      "Root Mean Square Error (RMSE): 0.33145045411449137\n",
      "Mean Absolute Percent Error (MAPE): 27.88 %.\n"
     ]
    }
   ],
   "source": [
    "# Initial prediction\n",
    "ridge_pred = ridge.predict(x_test)\n",
    "\n",
    "# Print out MAE, MSE, and RMSE\n",
    "errors = abs(np.expm1(ridge_pred) - np.expm1(y_test))\n",
    "\n",
    "print('Mean Absolute Error (MAE): $', round(np.mean(errors), 2))\n",
    "print('Mean Squared Error (MSE):', mean_squared_error(y_test, ridge_pred))\n",
    "print('Root Mean Square Error (RMSE):', np.sqrt(mean_squared_error(y_test, ridge_pred)))\n",
    "\n",
    "# Calculate mean absolute percentage error (MAPE)\n",
    "mape = 100 * (errors / np.expm1(y_test))\n",
    "print('Mean Absolute Percent Error (MAPE):', round(np.mean(mape), 2), '%.')"
   ]
  },
  {
   "cell_type": "markdown",
   "metadata": {},
   "source": [
    "### E-Net"
   ]
  },
  {
   "cell_type": "code",
   "execution_count": 112,
   "metadata": {},
   "outputs": [
    {
     "data": {
      "text/plain": [
       "ElasticNet(alpha=1.0, copy_X=True, fit_intercept=True, l1_ratio=0.5,\n",
       "           max_iter=1000, normalize=True, positive=False, precompute=False,\n",
       "           random_state=12, selection='cyclic', tol=0.0001, warm_start=False)"
      ]
     },
     "execution_count": 112,
     "metadata": {},
     "output_type": "execute_result"
    }
   ],
   "source": [
    "net = ElasticNet()\n",
    "\n",
    "net.set_params(random_state=12, normalize=True)"
   ]
  },
  {
   "cell_type": "code",
   "execution_count": 113,
   "metadata": {},
   "outputs": [
    {
     "data": {
      "text/plain": [
       "ElasticNet(alpha=1.0, copy_X=True, fit_intercept=True, l1_ratio=0.5,\n",
       "           max_iter=1000, normalize=True, positive=False, precompute=False,\n",
       "           random_state=12, selection='cyclic', tol=0.0001, warm_start=False)"
      ]
     },
     "execution_count": 113,
     "metadata": {},
     "output_type": "execute_result"
    }
   ],
   "source": [
    "net.fit(x_train, y_train)"
   ]
  },
  {
   "cell_type": "code",
   "execution_count": 114,
   "metadata": {},
   "outputs": [
    {
     "name": "stdout",
     "output_type": "stream",
     "text": [
      "The train set R^2 is: 0.00000\n",
      "The test set R^2 is is: -0.01552\n"
     ]
    }
   ],
   "source": [
    "print(\"The train set R^2 is: %.5f\" % net.score(x_train, y_train))\n",
    "print(\"The test set R^2 is is: %.5f\" % net.score(x_test, y_test))"
   ]
  },
  {
   "cell_type": "code",
   "execution_count": 115,
   "metadata": {
    "scrolled": true
   },
   "outputs": [
    {
     "name": "stdout",
     "output_type": "stream",
     "text": [
      "Mean Absolute Error (MAE): $ 393.39\n",
      "Mean Squared Error (MSE): 0.10985940353270253\n",
      "Root Mean Square Error (RMSE): 0.33145045411449137\n",
      "Mean Absolute Percent Error (MAPE): 27.88 %.\n"
     ]
    }
   ],
   "source": [
    "# Initial prediction\n",
    "net_pred = net.predict(x_test)\n",
    "\n",
    "# Print out MAE, MSE, and RMSE\n",
    "errors = abs(np.expm1(ridge_pred) - np.expm1(y_test))\n",
    "\n",
    "print('Mean Absolute Error (MAE): $', round(np.mean(errors), 2))\n",
    "print('Mean Squared Error (MSE):', mean_squared_error(y_test, ridge_pred))\n",
    "print('Root Mean Square Error (RMSE):', np.sqrt(mean_squared_error(y_test, ridge_pred)))\n",
    "\n",
    "# Calculate mean absolute percentage error (MAPE)\n",
    "mape = 100 * (errors / np.expm1(y_test))\n",
    "print('Mean Absolute Percent Error (MAPE):', round(np.mean(mape), 2), '%.')"
   ]
  },
  {
   "cell_type": "markdown",
   "metadata": {},
   "source": [
    "### Random Forest "
   ]
  },
  {
   "cell_type": "code",
   "execution_count": 116,
   "metadata": {},
   "outputs": [
    {
     "data": {
      "text/plain": [
       "RandomForestRegressor(bootstrap=True, criterion='mse', max_depth=None,\n",
       "                      max_features='auto', max_leaf_nodes=None,\n",
       "                      min_impurity_decrease=0.0, min_impurity_split=None,\n",
       "                      min_samples_leaf=1, min_samples_split=2,\n",
       "                      min_weight_fraction_leaf=0.0, n_estimators=10,\n",
       "                      n_jobs=None, oob_score=False, random_state=52, verbose=0,\n",
       "                      warm_start=False)"
      ]
     },
     "execution_count": 116,
     "metadata": {},
     "output_type": "execute_result"
    }
   ],
   "source": [
    "rforest = RandomForestRegressor()\n",
    "\n",
    "rforest.set_params(random_state=52)\n",
    "\n",
    "# Train the model on training data\n",
    "rforest.fit(x_train, y_train)"
   ]
  },
  {
   "cell_type": "code",
   "execution_count": 117,
   "metadata": {},
   "outputs": [
    {
     "name": "stdout",
     "output_type": "stream",
     "text": [
      "The train set R^2 is: 0.84839\n",
      "The test set R^2 is is: -0.04346\n"
     ]
    }
   ],
   "source": [
    "print(\"The train set R^2 is: %.5f\" % rforest.score(x_train, y_train))\n",
    "print(\"The test set R^2 is is: %.5f\" % rforest.score(x_test, y_test))"
   ]
  },
  {
   "cell_type": "code",
   "execution_count": 118,
   "metadata": {},
   "outputs": [
    {
     "name": "stdout",
     "output_type": "stream",
     "text": [
      "Mean Absolute Error (MAE): $ 463.54\n",
      "Mean Squared Error (MSE): 0.1504774950852752\n",
      "Root Mean Square Error (RMSE): 0.3879142883231748\n",
      "Mean Absolute Percent Error (MAPE): 34.05 %.\n"
     ]
    }
   ],
   "source": [
    "# Initial prediction\n",
    "rforest_pred = rforest.predict(x_test)\n",
    "\n",
    "# Calculate the absolute errors\n",
    "errors = abs(np.expm1(rforest_pred) - np.expm1(y_test))\n",
    "\n",
    "# Print out MAE, MSE, and RMSE\n",
    "print('Mean Absolute Error (MAE): $', round(np.mean(errors), 2))\n",
    "print('Mean Squared Error (MSE):', mean_squared_error(y_test, rforest_pred))\n",
    "print('Root Mean Square Error (RMSE):', np.sqrt(mean_squared_error(y_test, rforest_pred)))\n",
    "\n",
    "# Calculate mean absolute percentage error (MAPE)\n",
    "mape = 100 * (errors / np.expm1(y_test))\n",
    "print('Mean Absolute Percent Error (MAPE):', round(np.mean(mape), 2), '%.')"
   ]
  },
  {
   "cell_type": "markdown",
   "metadata": {},
   "source": [
    "### Gredien Boosting "
   ]
  },
  {
   "cell_type": "code",
   "execution_count": 119,
   "metadata": {},
   "outputs": [
    {
     "data": {
      "text/plain": [
       "GradientBoostingRegressor(alpha=0.9, criterion='friedman_mse', init=None,\n",
       "                          learning_rate=0.1, loss='ls', max_depth=3,\n",
       "                          max_features=None, max_leaf_nodes=None,\n",
       "                          min_impurity_decrease=0.0, min_impurity_split=None,\n",
       "                          min_samples_leaf=1, min_samples_split=2,\n",
       "                          min_weight_fraction_leaf=0.0, n_estimators=100,\n",
       "                          n_iter_no_change=None, presort='auto',\n",
       "                          random_state=42, subsample=1.0, tol=0.0001,\n",
       "                          validation_fraction=0.1, verbose=0, warm_start=False)"
      ]
     },
     "execution_count": 119,
     "metadata": {},
     "output_type": "execute_result"
    }
   ],
   "source": [
    "gbm = GradientBoostingRegressor()\n",
    "\n",
    "gbm.set_params(random_state=42)"
   ]
  },
  {
   "cell_type": "code",
   "execution_count": 120,
   "metadata": {},
   "outputs": [
    {
     "data": {
      "text/plain": [
       "GradientBoostingRegressor(alpha=0.9, criterion='friedman_mse', init=None,\n",
       "                          learning_rate=0.1, loss='ls', max_depth=3,\n",
       "                          max_features=None, max_leaf_nodes=None,\n",
       "                          min_impurity_decrease=0.0, min_impurity_split=None,\n",
       "                          min_samples_leaf=1, min_samples_split=2,\n",
       "                          min_weight_fraction_leaf=0.0, n_estimators=100,\n",
       "                          n_iter_no_change=None, presort='auto',\n",
       "                          random_state=42, subsample=1.0, tol=0.0001,\n",
       "                          validation_fraction=0.1, verbose=0, warm_start=False)"
      ]
     },
     "execution_count": 120,
     "metadata": {},
     "output_type": "execute_result"
    }
   ],
   "source": [
    "# Train model on training data\n",
    "gbm.fit(x_train, y_train)"
   ]
  },
  {
   "cell_type": "code",
   "execution_count": 121,
   "metadata": {},
   "outputs": [
    {
     "name": "stdout",
     "output_type": "stream",
     "text": [
      "The train set R^2 is: 0.10248\n",
      "The test set R^2 is is: 0.27184\n"
     ]
    }
   ],
   "source": [
    "print(\"The train set R^2 is: %.5f\" % gbm.score(x_train, y_train))\n",
    "print(\"The test set R^2 is is: %.5f\" % gbm.score(x_test, y_test))"
   ]
  },
  {
   "cell_type": "code",
   "execution_count": 122,
   "metadata": {},
   "outputs": [
    {
     "name": "stdout",
     "output_type": "stream",
     "text": [
      "Mean Absolute Error (MAE): $ 382.82\n",
      "Mean Squared Error (MSE): 0.1050084746572659\n",
      "Root Mean Square Error (RMSE): 0.3240501113366047\n",
      "Mean Absolute Percent Error (MAPE): 26.95 %.\n"
     ]
    }
   ],
   "source": [
    "# Initial prediction\n",
    "gbm_pred = gbm.predict(x_test)\n",
    "\n",
    "# Calculate the absolute errors\n",
    "errors = abs(np.expm1(gbm_pred) - np.expm1(y_test))\n",
    "\n",
    "# Print out MAE, MSE, and RMSE\n",
    "print('Mean Absolute Error (MAE): $', round(np.mean(errors), 2))\n",
    "print('Mean Squared Error (MSE):', mean_squared_error(y_test, gbm_pred))\n",
    "print('Root Mean Square Error (RMSE):', np.sqrt(mean_squared_error(y_test, gbm_pred)))\n",
    "\n",
    "# Calculate mean absolute percentage error (MAPE)\n",
    "mape = 100 * (errors / np.expm1(y_test))\n",
    "print('Mean Absolute Percent Error (MAPE):', round(np.mean(mape), 2), '%.')"
   ]
  },
  {
   "cell_type": "markdown",
   "metadata": {},
   "source": [
    "### XGboost"
   ]
  },
  {
   "cell_type": "code",
   "execution_count": 123,
   "metadata": {},
   "outputs": [
    {
     "data": {
      "text/plain": [
       "XGBRegressor(base_score=0.5, booster='gbtree', colsample_bylevel=1,\n",
       "             colsample_bynode=1, colsample_bytree=1, gamma=0,\n",
       "             importance_type='gain', learning_rate=0.1, max_delta_step=0,\n",
       "             max_depth=3, min_child_weight=1, missing=None, n_estimators=100,\n",
       "             n_jobs=1, nthread=None, objective='reg:linear', random_state=22,\n",
       "             reg_alpha=0, reg_lambda=1, scale_pos_weight=1, seed=None,\n",
       "             silent=None, subsample=1, verbosity=1)"
      ]
     },
     "execution_count": 123,
     "metadata": {},
     "output_type": "execute_result"
    }
   ],
   "source": [
    "xgb = XGBRegressor()\n",
    "\n",
    "xgb.set_params(random_state=22)"
   ]
  },
  {
   "cell_type": "code",
   "execution_count": 124,
   "metadata": {},
   "outputs": [
    {
     "name": "stdout",
     "output_type": "stream",
     "text": [
      "[16:42:26] WARNING: src/objective/regression_obj.cu:152: reg:linear is now deprecated in favor of reg:squarederror.\n"
     ]
    },
    {
     "data": {
      "text/plain": [
       "XGBRegressor(base_score=0.5, booster='gbtree', colsample_bylevel=1,\n",
       "             colsample_bynode=1, colsample_bytree=1, gamma=0,\n",
       "             importance_type='gain', learning_rate=0.1, max_delta_step=0,\n",
       "             max_depth=3, min_child_weight=1, missing=None, n_estimators=100,\n",
       "             n_jobs=1, nthread=None, objective='reg:linear', random_state=22,\n",
       "             reg_alpha=0, reg_lambda=1, scale_pos_weight=1, seed=None,\n",
       "             silent=None, subsample=1, verbosity=1)"
      ]
     },
     "execution_count": 124,
     "metadata": {},
     "output_type": "execute_result"
    }
   ],
   "source": [
    "xgb.fit(x_train, y_train)"
   ]
  },
  {
   "cell_type": "code",
   "execution_count": 125,
   "metadata": {},
   "outputs": [
    {
     "name": "stdout",
     "output_type": "stream",
     "text": [
      "The train set R^2 is: 0.10134\n",
      "The test set R^2 is is: 0.27225\n"
     ]
    }
   ],
   "source": [
    "print(\"The train set R^2 is: %.5f\" % xgb.score(x_train, y_train))\n",
    "print(\"The test set R^2 is is: %.5f\" % xgb.score(x_test, y_test))"
   ]
  },
  {
   "cell_type": "code",
   "execution_count": 126,
   "metadata": {},
   "outputs": [
    {
     "name": "stdout",
     "output_type": "stream",
     "text": [
      "Mean Absolute Error (MAE): $ 382.64\n",
      "Mean Squared Error (MSE): 0.10494866683939943\n",
      "Root Mean Square Error (RMSE): 0.3239578164505364\n",
      "Mean Absolute Percent Error (MAPE): 26.94 %.\n"
     ]
    }
   ],
   "source": [
    "# Initial prediction\n",
    "xgb_pred = xgb.predict(x_test)\n",
    "\n",
    "# Calculate the absolute errors\n",
    "errors = abs(np.expm1(xgb_pred) - np.expm1(y_test))\n",
    "\n",
    "# Print out MAE, MSE, and RMSE\n",
    "print('Mean Absolute Error (MAE): $', round(np.mean(errors), 2))\n",
    "print('Mean Squared Error (MSE):', mean_squared_error(y_test, xgb_pred))\n",
    "print('Root Mean Square Error (RMSE):', np.sqrt(mean_squared_error(y_test, xgb_pred)))\n",
    "\n",
    "# Calculate mean absolute percentage error (MAPE)\n",
    "mape = 100 * (errors / np.expm1(y_test))\n",
    "print('Mean Absolute Percent Error (MAPE):', round(np.mean(mape), 2), '%.')"
   ]
  },
  {
   "cell_type": "code",
   "execution_count": null,
   "metadata": {},
   "outputs": [],
   "source": []
  }
 ],
 "metadata": {
  "kernelspec": {
   "display_name": "Python 3",
   "language": "python",
   "name": "python3"
  },
  "language_info": {
   "codemirror_mode": {
    "name": "ipython",
    "version": 3
   },
   "file_extension": ".py",
   "mimetype": "text/x-python",
   "name": "python",
   "nbconvert_exporter": "python",
   "pygments_lexer": "ipython3",
   "version": "3.7.4"
  }
 },
 "nbformat": 4,
 "nbformat_minor": 2
}
